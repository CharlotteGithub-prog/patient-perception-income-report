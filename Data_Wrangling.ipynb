{
 "cells": [
  {
   "cell_type": "code",
   "execution_count": 1,
   "id": "03b6e5d0",
   "metadata": {
    "vscode": {
     "languageId": "r"
    }
   },
   "outputs": [
    {
     "name": "stderr",
     "output_type": "stream",
     "text": [
      "Warning message in system(\"timedatectl\", intern = TRUE):\n",
      "“running command 'timedatectl' had status 1”\n",
      "── \u001b[1mAttaching packages\u001b[22m ─────────────────────────────────────── tidyverse 1.3.2 ──\n",
      "\u001b[32m✔\u001b[39m \u001b[34mggplot2\u001b[39m 3.4.3      \u001b[32m✔\u001b[39m \u001b[34mpurrr  \u001b[39m 1.0.1 \n",
      "\u001b[32m✔\u001b[39m \u001b[34mtibble \u001b[39m 3.2.1      \u001b[32m✔\u001b[39m \u001b[34mdplyr  \u001b[39m 1.0.10\n",
      "\u001b[32m✔\u001b[39m \u001b[34mtidyr  \u001b[39m 1.3.0      \u001b[32m✔\u001b[39m \u001b[34mstringr\u001b[39m 1.5.0 \n",
      "\u001b[32m✔\u001b[39m \u001b[34mreadr  \u001b[39m 2.1.4      \u001b[32m✔\u001b[39m \u001b[34mforcats\u001b[39m 1.0.0 \n",
      "Warning message:\n",
      "“package ‘ggplot2’ was built under R version 4.2.3”\n",
      "Warning message:\n",
      "“package ‘tibble’ was built under R version 4.2.3”\n",
      "Warning message:\n",
      "“package ‘tidyr’ was built under R version 4.2.3”\n",
      "Warning message:\n",
      "“package ‘readr’ was built under R version 4.2.3”\n",
      "Warning message:\n",
      "“package ‘purrr’ was built under R version 4.2.3”\n",
      "Warning message:\n",
      "“package ‘stringr’ was built under R version 4.2.3”\n",
      "Warning message:\n",
      "“package ‘forcats’ was built under R version 4.2.3”\n",
      "── \u001b[1mConflicts\u001b[22m ────────────────────────────────────────── tidyverse_conflicts() ──\n",
      "\u001b[31m✖\u001b[39m \u001b[34mdplyr\u001b[39m::\u001b[32mfilter()\u001b[39m masks \u001b[34mstats\u001b[39m::filter()\n",
      "\u001b[31m✖\u001b[39m \u001b[34mdplyr\u001b[39m::\u001b[32mlag()\u001b[39m    masks \u001b[34mstats\u001b[39m::lag()\n"
     ]
    }
   ],
   "source": [
    "#Load the tidyverse collection of packages\n",
    "library(tidyverse)"
   ]
  },
  {
   "cell_type": "code",
   "execution_count": 2,
   "id": "05a2f50c",
   "metadata": {
    "vscode": {
     "languageId": "r"
    }
   },
   "outputs": [
    {
     "name": "stdout",
     "output_type": "stream",
     "text": [
      "[1] \"/home/jovyan/ReportNov-23\"\n"
     ]
    },
    {
     "data": {
      "text/html": [
       "<style>\n",
       ".list-inline {list-style: none; margin:0; padding: 0}\n",
       ".list-inline>li {display: inline-block}\n",
       ".list-inline>li:not(:last-child)::after {content: \"\\00b7\"; padding: 0 .5ex}\n",
       "</style>\n",
       "<ol class=list-inline><li>'Archive'</li><li>'Boxplot_QuestionThemes.png'</li><li>'data'</li><li>'Data_Wrangling.ipynb'</li><li>'descriptive_statistics.ipynb'</li><li>'figures'</li><li>'geometry'</li><li>'presenting_regression.ipynb'</li><li>'Regression_Analysis.ipynb'</li></ol>\n"
      ],
      "text/latex": [
       "\\begin{enumerate*}\n",
       "\\item 'Archive'\n",
       "\\item 'Boxplot\\_QuestionThemes.png'\n",
       "\\item 'data'\n",
       "\\item 'Data\\_Wrangling.ipynb'\n",
       "\\item 'descriptive\\_statistics.ipynb'\n",
       "\\item 'figures'\n",
       "\\item 'geometry'\n",
       "\\item 'presenting\\_regression.ipynb'\n",
       "\\item 'Regression\\_Analysis.ipynb'\n",
       "\\end{enumerate*}\n"
      ],
      "text/markdown": [
       "1. 'Archive'\n",
       "2. 'Boxplot_QuestionThemes.png'\n",
       "3. 'data'\n",
       "4. 'Data_Wrangling.ipynb'\n",
       "5. 'descriptive_statistics.ipynb'\n",
       "6. 'figures'\n",
       "7. 'geometry'\n",
       "8. 'presenting_regression.ipynb'\n",
       "9. 'Regression_Analysis.ipynb'\n",
       "\n",
       "\n"
      ],
      "text/plain": [
       "[1] \"Archive\"                      \"Boxplot_QuestionThemes.png\"  \n",
       "[3] \"data\"                         \"Data_Wrangling.ipynb\"        \n",
       "[5] \"descriptive_statistics.ipynb\" \"figures\"                     \n",
       "[7] \"geometry\"                     \"presenting_regression.ipynb\" \n",
       "[9] \"Regression_Analysis.ipynb\"   "
      ]
     },
     "metadata": {},
     "output_type": "display_data"
    }
   ],
   "source": [
    "# Print current working directory\n",
    "current_directory <- getwd()\n",
    "print(current_directory)\n",
    "\n",
    "list.files()"
   ]
  },
  {
   "cell_type": "code",
   "execution_count": 3,
   "id": "e87d4b66",
   "metadata": {
    "vscode": {
     "languageId": "r"
    }
   },
   "outputs": [
    {
     "name": "stderr",
     "output_type": "stream",
     "text": [
      "\u001b[1mRows: \u001b[22m\u001b[34m20861\u001b[39m \u001b[1mColumns: \u001b[22m\u001b[34m9\u001b[39m\n",
      "\u001b[36m──\u001b[39m \u001b[1mColumn specification\u001b[22m \u001b[36m────────────────────────────────────────────────────────\u001b[39m\n",
      "\u001b[1mDelimiter:\u001b[22m \",\"\n",
      "\u001b[31mchr\u001b[39m (4): GP Practice, Question Number, Questionnaire \n",
      "Section, Question Text\n",
      "\u001b[32mdbl\u001b[39m (5): GP Practice No, Number of Responses, % Positive, % Neutral, % Negative\n",
      "\n",
      "\u001b[36mℹ\u001b[39m Use `spec()` to retrieve the full column specification for this data.\n",
      "\u001b[36mℹ\u001b[39m Specify the column types or set `show_col_types = FALSE` to quiet this message.\n"
     ]
    }
   ],
   "source": [
    "original_question_data <- read_csv('../data/opinion_by_practice.csv')"
   ]
  },
  {
   "cell_type": "code",
   "execution_count": 4,
   "id": "74386178",
   "metadata": {
    "vscode": {
     "languageId": "r"
    }
   },
   "outputs": [
    {
     "data": {
      "text/html": [
       "<table class=\"dataframe\">\n",
       "<caption>A tibble: 6 × 9</caption>\n",
       "<thead>\n",
       "\t<tr><th scope=col>GP Practice</th><th scope=col>GP Practice No</th><th scope=col>Question Number</th><th scope=col>Questionnaire \n",
       "Section</th><th scope=col>Question Text</th><th scope=col>Number of Responses</th><th scope=col>% Positive</th><th scope=col>% Neutral</th><th scope=col>% Negative</th></tr>\n",
       "\t<tr><th scope=col>&lt;chr&gt;</th><th scope=col>&lt;dbl&gt;</th><th scope=col>&lt;chr&gt;</th><th scope=col>&lt;chr&gt;</th><th scope=col>&lt;chr&gt;</th><th scope=col>&lt;dbl&gt;</th><th scope=col>&lt;dbl&gt;</th><th scope=col>&lt;dbl&gt;</th><th scope=col>&lt;dbl&gt;</th></tr>\n",
       "</thead>\n",
       "<tbody>\n",
       "\t<tr><td>Abbey Medical Centre - Paisley (87625)                            </td><td>87625</td><td>3</td><td>The GP Practice</td><td>How easy is it for you to contact your GP practice in the way that you want?</td><td>109</td><td>72.70</td><td>0</td><td>27.30</td></tr>\n",
       "\t<tr><td>Abercromby Practice - Glasgow (46555)                             </td><td>46555</td><td>3</td><td>The GP Practice</td><td>How easy is it for you to contact your GP practice in the way that you want?</td><td>104</td><td>73.31</td><td>0</td><td>26.69</td></tr>\n",
       "\t<tr><td>Aberfeldy And Kinloch Rannoch Medical Practice - Aberfeldy (10036)</td><td>10036</td><td>3</td><td>The GP Practice</td><td>How easy is it for you to contact your GP practice in the way that you want?</td><td>126</td><td>98.37</td><td>0</td><td> 1.63</td></tr>\n",
       "\t<tr><td><span style=white-space:pre-wrap>Aberfoyle &amp; Buchlyvie Medical Centres - Buchlyvie (25968)         </span></td><td>25968</td><td>3</td><td>The GP Practice</td><td>How easy is it for you to contact your GP practice in the way that you want?</td><td>115</td><td>96.95</td><td>0</td><td> 3.05</td></tr>\n",
       "\t<tr><td>Aberlour Health Centre - Aberlour (33004)                         </td><td>33004</td><td>3</td><td>The GP Practice</td><td>How easy is it for you to contact your GP practice in the way that you want?</td><td>127</td><td>59.41</td><td>0</td><td>40.59</td></tr>\n",
       "\t<tr><td>Abingdon Medical Practice - Glasgow (40070)                       </td><td>40070</td><td>3</td><td>The GP Practice</td><td>How easy is it for you to contact your GP practice in the way that you want?</td><td>118</td><td>90.66</td><td>0</td><td> 9.34</td></tr>\n",
       "</tbody>\n",
       "</table>\n"
      ],
      "text/latex": [
       "A tibble: 6 × 9\n",
       "\\begin{tabular}{lllllllll}\n",
       " GP Practice & GP Practice No & Question Number & Questionnaire \n",
       "Section & Question Text & Number of Responses & \\% Positive & \\% Neutral & \\% Negative\\\\\n",
       " <chr> & <dbl> & <chr> & <chr> & <chr> & <dbl> & <dbl> & <dbl> & <dbl>\\\\\n",
       "\\hline\n",
       "\t Abbey Medical Centre - Paisley (87625)                             & 87625 & 3 & The GP Practice & How easy is it for you to contact your GP practice in the way that you want? & 109 & 72.70 & 0 & 27.30\\\\\n",
       "\t Abercromby Practice - Glasgow (46555)                              & 46555 & 3 & The GP Practice & How easy is it for you to contact your GP practice in the way that you want? & 104 & 73.31 & 0 & 26.69\\\\\n",
       "\t Aberfeldy And Kinloch Rannoch Medical Practice - Aberfeldy (10036) & 10036 & 3 & The GP Practice & How easy is it for you to contact your GP practice in the way that you want? & 126 & 98.37 & 0 &  1.63\\\\\n",
       "\t Aberfoyle \\& Buchlyvie Medical Centres - Buchlyvie (25968)          & 25968 & 3 & The GP Practice & How easy is it for you to contact your GP practice in the way that you want? & 115 & 96.95 & 0 &  3.05\\\\\n",
       "\t Aberlour Health Centre - Aberlour (33004)                          & 33004 & 3 & The GP Practice & How easy is it for you to contact your GP practice in the way that you want? & 127 & 59.41 & 0 & 40.59\\\\\n",
       "\t Abingdon Medical Practice - Glasgow (40070)                        & 40070 & 3 & The GP Practice & How easy is it for you to contact your GP practice in the way that you want? & 118 & 90.66 & 0 &  9.34\\\\\n",
       "\\end{tabular}\n"
      ],
      "text/markdown": [
       "\n",
       "A tibble: 6 × 9\n",
       "\n",
       "| GP Practice &lt;chr&gt; | GP Practice No &lt;dbl&gt; | Question Number &lt;chr&gt; | Questionnaire \n",
       "Section &lt;chr&gt; | Question Text &lt;chr&gt; | Number of Responses &lt;dbl&gt; | % Positive &lt;dbl&gt; | % Neutral &lt;dbl&gt; | % Negative &lt;dbl&gt; |\n",
       "|---|---|---|---|---|---|---|---|---|\n",
       "| Abbey Medical Centre - Paisley (87625)                             | 87625 | 3 | The GP Practice | How easy is it for you to contact your GP practice in the way that you want? | 109 | 72.70 | 0 | 27.30 |\n",
       "| Abercromby Practice - Glasgow (46555)                              | 46555 | 3 | The GP Practice | How easy is it for you to contact your GP practice in the way that you want? | 104 | 73.31 | 0 | 26.69 |\n",
       "| Aberfeldy And Kinloch Rannoch Medical Practice - Aberfeldy (10036) | 10036 | 3 | The GP Practice | How easy is it for you to contact your GP practice in the way that you want? | 126 | 98.37 | 0 |  1.63 |\n",
       "| Aberfoyle &amp; Buchlyvie Medical Centres - Buchlyvie (25968)          | 25968 | 3 | The GP Practice | How easy is it for you to contact your GP practice in the way that you want? | 115 | 96.95 | 0 |  3.05 |\n",
       "| Aberlour Health Centre - Aberlour (33004)                          | 33004 | 3 | The GP Practice | How easy is it for you to contact your GP practice in the way that you want? | 127 | 59.41 | 0 | 40.59 |\n",
       "| Abingdon Medical Practice - Glasgow (40070)                        | 40070 | 3 | The GP Practice | How easy is it for you to contact your GP practice in the way that you want? | 118 | 90.66 | 0 |  9.34 |\n",
       "\n"
      ],
      "text/plain": [
       "  GP Practice                                                       \n",
       "1 Abbey Medical Centre - Paisley (87625)                            \n",
       "2 Abercromby Practice - Glasgow (46555)                             \n",
       "3 Aberfeldy And Kinloch Rannoch Medical Practice - Aberfeldy (10036)\n",
       "4 Aberfoyle & Buchlyvie Medical Centres - Buchlyvie (25968)         \n",
       "5 Aberlour Health Centre - Aberlour (33004)                         \n",
       "6 Abingdon Medical Practice - Glasgow (40070)                       \n",
       "  GP Practice No Question Number Questionnaire \\nSection\n",
       "1 87625          3               The GP Practice        \n",
       "2 46555          3               The GP Practice        \n",
       "3 10036          3               The GP Practice        \n",
       "4 25968          3               The GP Practice        \n",
       "5 33004          3               The GP Practice        \n",
       "6 40070          3               The GP Practice        \n",
       "  Question Text                                                               \n",
       "1 How easy is it for you to contact your GP practice in the way that you want?\n",
       "2 How easy is it for you to contact your GP practice in the way that you want?\n",
       "3 How easy is it for you to contact your GP practice in the way that you want?\n",
       "4 How easy is it for you to contact your GP practice in the way that you want?\n",
       "5 How easy is it for you to contact your GP practice in the way that you want?\n",
       "6 How easy is it for you to contact your GP practice in the way that you want?\n",
       "  Number of Responses % Positive % Neutral % Negative\n",
       "1 109                 72.70      0         27.30     \n",
       "2 104                 73.31      0         26.69     \n",
       "3 126                 98.37      0          1.63     \n",
       "4 115                 96.95      0          3.05     \n",
       "5 127                 59.41      0         40.59     \n",
       "6 118                 90.66      0          9.34     "
      ]
     },
     "metadata": {},
     "output_type": "display_data"
    },
    {
     "data": {
      "text/html": [
       "<style>\n",
       ".list-inline {list-style: none; margin:0; padding: 0}\n",
       ".list-inline>li {display: inline-block}\n",
       ".list-inline>li:not(:last-child)::after {content: \"\\00b7\"; padding: 0 .5ex}\n",
       "</style>\n",
       "<ol class=list-inline><li>20861</li><li>9</li></ol>\n"
      ],
      "text/latex": [
       "\\begin{enumerate*}\n",
       "\\item 20861\n",
       "\\item 9\n",
       "\\end{enumerate*}\n"
      ],
      "text/markdown": [
       "1. 20861\n",
       "2. 9\n",
       "\n",
       "\n"
      ],
      "text/plain": [
       "[1] 20861     9"
      ]
     },
     "metadata": {},
     "output_type": "display_data"
    }
   ],
   "source": [
    "head(original_question_data)\n",
    "dim(original_question_data)"
   ]
  },
  {
   "cell_type": "code",
   "execution_count": 5,
   "id": "c8651da7",
   "metadata": {
    "vscode": {
     "languageId": "r"
    }
   },
   "outputs": [
    {
     "data": {
      "text/html": [
       "<style>\n",
       ".list-inline {list-style: none; margin:0; padding: 0}\n",
       ".list-inline>li {display: inline-block}\n",
       ".list-inline>li:not(:last-child)::after {content: \"\\00b7\"; padding: 0 .5ex}\n",
       "</style>\n",
       "<ol class=list-inline><li>'GP Practice'</li><li>'GP Practice No'</li><li>'Question Number'</li><li>'Questionnaire \\nSection'</li><li>'Question Text'</li><li>'Number of Responses'</li><li>'% Positive'</li><li>'% Neutral'</li><li>'% Negative'</li></ol>\n"
      ],
      "text/latex": [
       "\\begin{enumerate*}\n",
       "\\item 'GP Practice'\n",
       "\\item 'GP Practice No'\n",
       "\\item 'Question Number'\n",
       "\\item 'Questionnaire \\textbackslash{}nSection'\n",
       "\\item 'Question Text'\n",
       "\\item 'Number of Responses'\n",
       "\\item '\\% Positive'\n",
       "\\item '\\% Neutral'\n",
       "\\item '\\% Negative'\n",
       "\\end{enumerate*}\n"
      ],
      "text/markdown": [
       "1. 'GP Practice'\n",
       "2. 'GP Practice No'\n",
       "3. 'Question Number'\n",
       "4. 'Questionnaire \\nSection'\n",
       "5. 'Question Text'\n",
       "6. 'Number of Responses'\n",
       "7. '% Positive'\n",
       "8. '% Neutral'\n",
       "9. '% Negative'\n",
       "\n",
       "\n"
      ],
      "text/plain": [
       "[1] \"GP Practice\"             \"GP Practice No\"         \n",
       "[3] \"Question Number\"         \"Questionnaire \\nSection\"\n",
       "[5] \"Question Text\"           \"Number of Responses\"    \n",
       "[7] \"% Positive\"              \"% Neutral\"              \n",
       "[9] \"% Negative\"             "
      ]
     },
     "metadata": {},
     "output_type": "display_data"
    }
   ],
   "source": [
    "colnames(original_question_data)"
   ]
  },
  {
   "cell_type": "code",
   "execution_count": 6,
   "id": "800bfd5c",
   "metadata": {
    "vscode": {
     "languageId": "r"
    }
   },
   "outputs": [
    {
     "name": "stdout",
     "output_type": "stream",
     "text": [
      " [1] \"How easy is it for you to contact your GP practice in the way that you want?\"                                              \n",
      " [2] \"If you ask to make an appointment with a doctor 3 or more working days in advance, does your GP practice allow you to?\"    \n",
      " [3] \"The last time you needed to see or speak to a doctor or nurse from your GP practice quite urgently, how long did you wait?\"\n",
      " [4] \"Overall, how would you rate the care provided by your GP practice?\"                                                        \n",
      " [5] \"Experience of your GP Practice: I was given the opportunity to involve the people that matter to me\"                       \n",
      " [6] \"Experience of your GP Practice: I was listened to\"                                                                         \n",
      " [7] \"Experience of your GP Practice: I was given enough time\"                                                                   \n",
      " [8] \"Experience of your GP Practice: I was treated with compassion and understanding\"                                           \n",
      " [9] \"Experience of your GP Practice: I knew the healthcare professional well\"                                                   \n",
      "[10] \"Experience of your GP Practice: I had a chance to ask about the benefits and risks of the treatment\"                       \n",
      "[11] \"Experience of your GP Practice: I was able to ask questions if I wanted to\"                                                \n",
      "[12] \"Experience of your GP Practice: I understood the information I was given\"                                                  \n",
      "[13] \"Experience of your GP Practice: The health professional checked I understood what I had been told\"                         \n",
      "[14] \"Experience of your GP Practice: Staff helped me to feel in control of my treatment/care\"                                   \n",
      "[15] \"Experience of your GP Practice: I was involved in decisions about my care and treatment\"                                   \n",
      "[16] \"Experience of your GP Practice: I felt able to make an informed choice about my treatment and care\"                        \n",
      "[17] \"Overall, how would you rate the quality of information provided by the receptionist at your GP practice?\"                  \n",
      "[18] \"Overall, how would you rate the arrangements for getting to speak to a Doctor at your GP practice?\"                        \n",
      "[19] \"Overall, how would you rate the arrangements for getting to speak to a Nurse at your GP practice?\"                         \n",
      "[20] \"Overall, how would you rate the arrangements for getting to speak to a Pharmacist / Chemist at your GP practice?\"          \n",
      "[21] \"Overall, how would you rate the arrangements for getting to speak to a Physiotherapist at your GP practice?\"               \n",
      "[22] \"Overall, how would you rate the arrangements for getting to speak to a Mental Health Professional at your GP practice?\"    \n",
      "[23] \"Overall, how would you rate the arrangements for getting to speak to another Healthcare Professional at your GP practice?\" \n"
     ]
    }
   ],
   "source": [
    "# List all unique Questions in 'Question Text'\n",
    "unique_questions <- unique(original_question_data$`Question Text`)\n",
    "\n",
    "# Print the unique values\n",
    "print(unique_questions)"
   ]
  },
  {
   "cell_type": "code",
   "execution_count": 7,
   "id": "5b8e8a93",
   "metadata": {
    "vscode": {
     "languageId": "r"
    }
   },
   "outputs": [],
   "source": [
    "selected_data <- original_question_data %>%\n",
    "  select(`GP Practice`, `GP Practice No`, `Question Text`, `Number of Responses`, `% Positive`)"
   ]
  },
  {
   "cell_type": "code",
   "execution_count": 8,
   "id": "c4c8fbd2",
   "metadata": {
    "vscode": {
     "languageId": "r"
    }
   },
   "outputs": [
    {
     "data": {
      "text/html": [
       "<table class=\"dataframe\">\n",
       "<caption>A tibble: 6 × 5</caption>\n",
       "<thead>\n",
       "\t<tr><th scope=col>GP Practice</th><th scope=col>GP Practice No</th><th scope=col>Question Text</th><th scope=col>Number of Responses</th><th scope=col>% Positive</th></tr>\n",
       "\t<tr><th scope=col>&lt;chr&gt;</th><th scope=col>&lt;dbl&gt;</th><th scope=col>&lt;chr&gt;</th><th scope=col>&lt;dbl&gt;</th><th scope=col>&lt;dbl&gt;</th></tr>\n",
       "</thead>\n",
       "<tbody>\n",
       "\t<tr><td>Abbey Medical Centre - Paisley (87625)                            </td><td>87625</td><td>Overall, how would you rate the care provided by your GP practice?</td><td>109</td><td>73.31</td></tr>\n",
       "\t<tr><td>Abercromby Practice - Glasgow (46555)                             </td><td>46555</td><td>Overall, how would you rate the care provided by your GP practice?</td><td>101</td><td>78.51</td></tr>\n",
       "\t<tr><td>Aberfeldy And Kinloch Rannoch Medical Practice - Aberfeldy (10036)</td><td>10036</td><td>Overall, how would you rate the care provided by your GP practice?</td><td>126</td><td>87.11</td></tr>\n",
       "\t<tr><td><span style=white-space:pre-wrap>Aberfoyle &amp; Buchlyvie Medical Centres - Buchlyvie (25968)         </span></td><td>25968</td><td>Overall, how would you rate the care provided by your GP practice?</td><td>113</td><td>81.81</td></tr>\n",
       "\t<tr><td>Aberlour Health Centre - Aberlour (33004)                         </td><td>33004</td><td>Overall, how would you rate the care provided by your GP practice?</td><td>126</td><td>25.34</td></tr>\n",
       "\t<tr><td>Abingdon Medical Practice - Glasgow (40070)                       </td><td>40070</td><td>Overall, how would you rate the care provided by your GP practice?</td><td>117</td><td>73.95</td></tr>\n",
       "</tbody>\n",
       "</table>\n"
      ],
      "text/latex": [
       "A tibble: 6 × 5\n",
       "\\begin{tabular}{lllll}\n",
       " GP Practice & GP Practice No & Question Text & Number of Responses & \\% Positive\\\\\n",
       " <chr> & <dbl> & <chr> & <dbl> & <dbl>\\\\\n",
       "\\hline\n",
       "\t Abbey Medical Centre - Paisley (87625)                             & 87625 & Overall, how would you rate the care provided by your GP practice? & 109 & 73.31\\\\\n",
       "\t Abercromby Practice - Glasgow (46555)                              & 46555 & Overall, how would you rate the care provided by your GP practice? & 101 & 78.51\\\\\n",
       "\t Aberfeldy And Kinloch Rannoch Medical Practice - Aberfeldy (10036) & 10036 & Overall, how would you rate the care provided by your GP practice? & 126 & 87.11\\\\\n",
       "\t Aberfoyle \\& Buchlyvie Medical Centres - Buchlyvie (25968)          & 25968 & Overall, how would you rate the care provided by your GP practice? & 113 & 81.81\\\\\n",
       "\t Aberlour Health Centre - Aberlour (33004)                          & 33004 & Overall, how would you rate the care provided by your GP practice? & 126 & 25.34\\\\\n",
       "\t Abingdon Medical Practice - Glasgow (40070)                        & 40070 & Overall, how would you rate the care provided by your GP practice? & 117 & 73.95\\\\\n",
       "\\end{tabular}\n"
      ],
      "text/markdown": [
       "\n",
       "A tibble: 6 × 5\n",
       "\n",
       "| GP Practice &lt;chr&gt; | GP Practice No &lt;dbl&gt; | Question Text &lt;chr&gt; | Number of Responses &lt;dbl&gt; | % Positive &lt;dbl&gt; |\n",
       "|---|---|---|---|---|\n",
       "| Abbey Medical Centre - Paisley (87625)                             | 87625 | Overall, how would you rate the care provided by your GP practice? | 109 | 73.31 |\n",
       "| Abercromby Practice - Glasgow (46555)                              | 46555 | Overall, how would you rate the care provided by your GP practice? | 101 | 78.51 |\n",
       "| Aberfeldy And Kinloch Rannoch Medical Practice - Aberfeldy (10036) | 10036 | Overall, how would you rate the care provided by your GP practice? | 126 | 87.11 |\n",
       "| Aberfoyle &amp; Buchlyvie Medical Centres - Buchlyvie (25968)          | 25968 | Overall, how would you rate the care provided by your GP practice? | 113 | 81.81 |\n",
       "| Aberlour Health Centre - Aberlour (33004)                          | 33004 | Overall, how would you rate the care provided by your GP practice? | 126 | 25.34 |\n",
       "| Abingdon Medical Practice - Glasgow (40070)                        | 40070 | Overall, how would you rate the care provided by your GP practice? | 117 | 73.95 |\n",
       "\n"
      ],
      "text/plain": [
       "  GP Practice                                                       \n",
       "1 Abbey Medical Centre - Paisley (87625)                            \n",
       "2 Abercromby Practice - Glasgow (46555)                             \n",
       "3 Aberfeldy And Kinloch Rannoch Medical Practice - Aberfeldy (10036)\n",
       "4 Aberfoyle & Buchlyvie Medical Centres - Buchlyvie (25968)         \n",
       "5 Aberlour Health Centre - Aberlour (33004)                         \n",
       "6 Abingdon Medical Practice - Glasgow (40070)                       \n",
       "  GP Practice No\n",
       "1 87625         \n",
       "2 46555         \n",
       "3 10036         \n",
       "4 25968         \n",
       "5 33004         \n",
       "6 40070         \n",
       "  Question Text                                                     \n",
       "1 Overall, how would you rate the care provided by your GP practice?\n",
       "2 Overall, how would you rate the care provided by your GP practice?\n",
       "3 Overall, how would you rate the care provided by your GP practice?\n",
       "4 Overall, how would you rate the care provided by your GP practice?\n",
       "5 Overall, how would you rate the care provided by your GP practice?\n",
       "6 Overall, how would you rate the care provided by your GP practice?\n",
       "  Number of Responses % Positive\n",
       "1 109                 73.31     \n",
       "2 101                 78.51     \n",
       "3 126                 87.11     \n",
       "4 113                 81.81     \n",
       "5 126                 25.34     \n",
       "6 117                 73.95     "
      ]
     },
     "metadata": {},
     "output_type": "display_data"
    },
    {
     "data": {
      "text/html": [
       "<table class=\"dataframe\">\n",
       "<caption>A tibble: 6 × 5</caption>\n",
       "<thead>\n",
       "\t<tr><th scope=col>GP Practice</th><th scope=col>GP Practice No</th><th scope=col>Question Text</th><th scope=col>Number of Responses</th><th scope=col>% Positive</th></tr>\n",
       "\t<tr><th scope=col>&lt;chr&gt;</th><th scope=col>&lt;dbl&gt;</th><th scope=col>&lt;chr&gt;</th><th scope=col>&lt;dbl&gt;</th><th scope=col>&lt;dbl&gt;</th></tr>\n",
       "</thead>\n",
       "<tbody>\n",
       "\t<tr><td>Abbey Medical Centre - Paisley (87625)                            </td><td>87625</td><td>The last time you needed to see or speak to a doctor or nurse from your GP practice quite urgently, how long did you wait?</td><td> 85</td><td>97.44</td></tr>\n",
       "\t<tr><td>Abercromby Practice - Glasgow (46555)                             </td><td>46555</td><td>The last time you needed to see or speak to a doctor or nurse from your GP practice quite urgently, how long did you wait?</td><td> 84</td><td>93.93</td></tr>\n",
       "\t<tr><td>Aberfeldy And Kinloch Rannoch Medical Practice - Aberfeldy (10036)</td><td>10036</td><td>The last time you needed to see or speak to a doctor or nurse from your GP practice quite urgently, how long did you wait?</td><td> 99</td><td>95.03</td></tr>\n",
       "\t<tr><td><span style=white-space:pre-wrap>Aberfoyle &amp; Buchlyvie Medical Centres - Buchlyvie (25968)         </span></td><td>25968</td><td>The last time you needed to see or speak to a doctor or nurse from your GP practice quite urgently, how long did you wait?</td><td> 87</td><td>92.53</td></tr>\n",
       "\t<tr><td>Aberlour Health Centre - Aberlour (33004)                         </td><td>33004</td><td>The last time you needed to see or speak to a doctor or nurse from your GP practice quite urgently, how long did you wait?</td><td>108</td><td>53.32</td></tr>\n",
       "\t<tr><td>Abingdon Medical Practice - Glasgow (40070)                       </td><td>40070</td><td>The last time you needed to see or speak to a doctor or nurse from your GP practice quite urgently, how long did you wait?</td><td> 81</td><td>70.04</td></tr>\n",
       "</tbody>\n",
       "</table>\n"
      ],
      "text/latex": [
       "A tibble: 6 × 5\n",
       "\\begin{tabular}{lllll}\n",
       " GP Practice & GP Practice No & Question Text & Number of Responses & \\% Positive\\\\\n",
       " <chr> & <dbl> & <chr> & <dbl> & <dbl>\\\\\n",
       "\\hline\n",
       "\t Abbey Medical Centre - Paisley (87625)                             & 87625 & The last time you needed to see or speak to a doctor or nurse from your GP practice quite urgently, how long did you wait? &  85 & 97.44\\\\\n",
       "\t Abercromby Practice - Glasgow (46555)                              & 46555 & The last time you needed to see or speak to a doctor or nurse from your GP practice quite urgently, how long did you wait? &  84 & 93.93\\\\\n",
       "\t Aberfeldy And Kinloch Rannoch Medical Practice - Aberfeldy (10036) & 10036 & The last time you needed to see or speak to a doctor or nurse from your GP practice quite urgently, how long did you wait? &  99 & 95.03\\\\\n",
       "\t Aberfoyle \\& Buchlyvie Medical Centres - Buchlyvie (25968)          & 25968 & The last time you needed to see or speak to a doctor or nurse from your GP practice quite urgently, how long did you wait? &  87 & 92.53\\\\\n",
       "\t Aberlour Health Centre - Aberlour (33004)                          & 33004 & The last time you needed to see or speak to a doctor or nurse from your GP practice quite urgently, how long did you wait? & 108 & 53.32\\\\\n",
       "\t Abingdon Medical Practice - Glasgow (40070)                        & 40070 & The last time you needed to see or speak to a doctor or nurse from your GP practice quite urgently, how long did you wait? &  81 & 70.04\\\\\n",
       "\\end{tabular}\n"
      ],
      "text/markdown": [
       "\n",
       "A tibble: 6 × 5\n",
       "\n",
       "| GP Practice &lt;chr&gt; | GP Practice No &lt;dbl&gt; | Question Text &lt;chr&gt; | Number of Responses &lt;dbl&gt; | % Positive &lt;dbl&gt; |\n",
       "|---|---|---|---|---|\n",
       "| Abbey Medical Centre - Paisley (87625)                             | 87625 | The last time you needed to see or speak to a doctor or nurse from your GP practice quite urgently, how long did you wait? |  85 | 97.44 |\n",
       "| Abercromby Practice - Glasgow (46555)                              | 46555 | The last time you needed to see or speak to a doctor or nurse from your GP practice quite urgently, how long did you wait? |  84 | 93.93 |\n",
       "| Aberfeldy And Kinloch Rannoch Medical Practice - Aberfeldy (10036) | 10036 | The last time you needed to see or speak to a doctor or nurse from your GP practice quite urgently, how long did you wait? |  99 | 95.03 |\n",
       "| Aberfoyle &amp; Buchlyvie Medical Centres - Buchlyvie (25968)          | 25968 | The last time you needed to see or speak to a doctor or nurse from your GP practice quite urgently, how long did you wait? |  87 | 92.53 |\n",
       "| Aberlour Health Centre - Aberlour (33004)                          | 33004 | The last time you needed to see or speak to a doctor or nurse from your GP practice quite urgently, how long did you wait? | 108 | 53.32 |\n",
       "| Abingdon Medical Practice - Glasgow (40070)                        | 40070 | The last time you needed to see or speak to a doctor or nurse from your GP practice quite urgently, how long did you wait? |  81 | 70.04 |\n",
       "\n"
      ],
      "text/plain": [
       "  GP Practice                                                       \n",
       "1 Abbey Medical Centre - Paisley (87625)                            \n",
       "2 Abercromby Practice - Glasgow (46555)                             \n",
       "3 Aberfeldy And Kinloch Rannoch Medical Practice - Aberfeldy (10036)\n",
       "4 Aberfoyle & Buchlyvie Medical Centres - Buchlyvie (25968)         \n",
       "5 Aberlour Health Centre - Aberlour (33004)                         \n",
       "6 Abingdon Medical Practice - Glasgow (40070)                       \n",
       "  GP Practice No\n",
       "1 87625         \n",
       "2 46555         \n",
       "3 10036         \n",
       "4 25968         \n",
       "5 33004         \n",
       "6 40070         \n",
       "  Question Text                                                                                                             \n",
       "1 The last time you needed to see or speak to a doctor or nurse from your GP practice quite urgently, how long did you wait?\n",
       "2 The last time you needed to see or speak to a doctor or nurse from your GP practice quite urgently, how long did you wait?\n",
       "3 The last time you needed to see or speak to a doctor or nurse from your GP practice quite urgently, how long did you wait?\n",
       "4 The last time you needed to see or speak to a doctor or nurse from your GP practice quite urgently, how long did you wait?\n",
       "5 The last time you needed to see or speak to a doctor or nurse from your GP practice quite urgently, how long did you wait?\n",
       "6 The last time you needed to see or speak to a doctor or nurse from your GP practice quite urgently, how long did you wait?\n",
       "  Number of Responses % Positive\n",
       "1  85                 97.44     \n",
       "2  84                 93.93     \n",
       "3  99                 95.03     \n",
       "4  87                 92.53     \n",
       "5 108                 53.32     \n",
       "6  81                 70.04     "
      ]
     },
     "metadata": {},
     "output_type": "display_data"
    },
    {
     "ename": "ERROR",
     "evalue": "Error in head(filtered_data_q4): object 'filtered_data_q4' not found\n",
     "output_type": "error",
     "traceback": [
      "Error in head(filtered_data_q4): object 'filtered_data_q4' not found\nTraceback:\n",
      "1. head(filtered_data_q4)"
     ]
    }
   ],
   "source": [
    "filtered_data_q1 <- selected_data %>%\n",
    "  filter(\n",
    "    tolower(trimws(`Question Text`)) %in% tolower(trimws(\n",
    "      \"Overall, how would you rate the care provided by your GP practice?\"\n",
    "    ))\n",
    "  )\n",
    "\n",
    "filtered_data_q2 <- selected_data %>%\n",
    "  filter(\n",
    "    tolower(trimws(`Question Text`)) %in% tolower(trimws(\n",
    "      \"The last time you needed to see or speak to a doctor or nurse from your GP practice quite urgently, how long did you wait?\"\n",
    "    ))\n",
    "  )\n",
    "\n",
    "\n",
    "filtered_data_q3 <- selected_data %>%\n",
    "  filter(\n",
    "    tolower(trimws(`Question Text`)) %in% tolower(trimws(\n",
    "      \"Experience of your GP Practice: I was listened to\"\n",
    "    ))\n",
    "  )\n",
    "\n",
    "head(filtered_data_q1)\n",
    "head(filtered_data_q2)\n",
    "head(filtered_data_q4)"
   ]
  },
  {
   "cell_type": "code",
   "execution_count": 9,
   "id": "3086ae4c",
   "metadata": {
    "vscode": {
     "languageId": "r"
    }
   },
   "outputs": [
    {
     "data": {
      "text/html": [
       "<table class=\"dataframe\">\n",
       "<caption>A tibble: 6 × 4</caption>\n",
       "<thead>\n",
       "\t<tr><th scope=col>GP Practice</th><th scope=col>GP Practice No</th><th scope=col>q1_responses</th><th scope=col>q1_positive</th></tr>\n",
       "\t<tr><th scope=col>&lt;chr&gt;</th><th scope=col>&lt;dbl&gt;</th><th scope=col>&lt;dbl&gt;</th><th scope=col>&lt;dbl&gt;</th></tr>\n",
       "</thead>\n",
       "<tbody>\n",
       "\t<tr><td>Abbey Medical Centre - Paisley (87625)                            </td><td>87625</td><td>109</td><td>73.31</td></tr>\n",
       "\t<tr><td>Abercromby Practice - Glasgow (46555)                             </td><td>46555</td><td>101</td><td>78.51</td></tr>\n",
       "\t<tr><td>Aberfeldy And Kinloch Rannoch Medical Practice - Aberfeldy (10036)</td><td>10036</td><td>126</td><td>87.11</td></tr>\n",
       "\t<tr><td><span style=white-space:pre-wrap>Aberfoyle &amp; Buchlyvie Medical Centres - Buchlyvie (25968)         </span></td><td>25968</td><td>113</td><td>81.81</td></tr>\n",
       "\t<tr><td>Aberlour Health Centre - Aberlour (33004)                         </td><td>33004</td><td>126</td><td>25.34</td></tr>\n",
       "\t<tr><td>Abingdon Medical Practice - Glasgow (40070)                       </td><td>40070</td><td>117</td><td>73.95</td></tr>\n",
       "</tbody>\n",
       "</table>\n"
      ],
      "text/latex": [
       "A tibble: 6 × 4\n",
       "\\begin{tabular}{llll}\n",
       " GP Practice & GP Practice No & q1\\_responses & q1\\_positive\\\\\n",
       " <chr> & <dbl> & <dbl> & <dbl>\\\\\n",
       "\\hline\n",
       "\t Abbey Medical Centre - Paisley (87625)                             & 87625 & 109 & 73.31\\\\\n",
       "\t Abercromby Practice - Glasgow (46555)                              & 46555 & 101 & 78.51\\\\\n",
       "\t Aberfeldy And Kinloch Rannoch Medical Practice - Aberfeldy (10036) & 10036 & 126 & 87.11\\\\\n",
       "\t Aberfoyle \\& Buchlyvie Medical Centres - Buchlyvie (25968)          & 25968 & 113 & 81.81\\\\\n",
       "\t Aberlour Health Centre - Aberlour (33004)                          & 33004 & 126 & 25.34\\\\\n",
       "\t Abingdon Medical Practice - Glasgow (40070)                        & 40070 & 117 & 73.95\\\\\n",
       "\\end{tabular}\n"
      ],
      "text/markdown": [
       "\n",
       "A tibble: 6 × 4\n",
       "\n",
       "| GP Practice &lt;chr&gt; | GP Practice No &lt;dbl&gt; | q1_responses &lt;dbl&gt; | q1_positive &lt;dbl&gt; |\n",
       "|---|---|---|---|\n",
       "| Abbey Medical Centre - Paisley (87625)                             | 87625 | 109 | 73.31 |\n",
       "| Abercromby Practice - Glasgow (46555)                              | 46555 | 101 | 78.51 |\n",
       "| Aberfeldy And Kinloch Rannoch Medical Practice - Aberfeldy (10036) | 10036 | 126 | 87.11 |\n",
       "| Aberfoyle &amp; Buchlyvie Medical Centres - Buchlyvie (25968)          | 25968 | 113 | 81.81 |\n",
       "| Aberlour Health Centre - Aberlour (33004)                          | 33004 | 126 | 25.34 |\n",
       "| Abingdon Medical Practice - Glasgow (40070)                        | 40070 | 117 | 73.95 |\n",
       "\n"
      ],
      "text/plain": [
       "  GP Practice                                                       \n",
       "1 Abbey Medical Centre - Paisley (87625)                            \n",
       "2 Abercromby Practice - Glasgow (46555)                             \n",
       "3 Aberfeldy And Kinloch Rannoch Medical Practice - Aberfeldy (10036)\n",
       "4 Aberfoyle & Buchlyvie Medical Centres - Buchlyvie (25968)         \n",
       "5 Aberlour Health Centre - Aberlour (33004)                         \n",
       "6 Abingdon Medical Practice - Glasgow (40070)                       \n",
       "  GP Practice No q1_responses q1_positive\n",
       "1 87625          109          73.31      \n",
       "2 46555          101          78.51      \n",
       "3 10036          126          87.11      \n",
       "4 25968          113          81.81      \n",
       "5 33004          126          25.34      \n",
       "6 40070          117          73.95      "
      ]
     },
     "metadata": {},
     "output_type": "display_data"
    },
    {
     "data": {
      "text/html": [
       "<table class=\"dataframe\">\n",
       "<caption>A tibble: 6 × 3</caption>\n",
       "<thead>\n",
       "\t<tr><th scope=col>GP Practice</th><th scope=col>q2_responses</th><th scope=col>q2_positive</th></tr>\n",
       "\t<tr><th scope=col>&lt;chr&gt;</th><th scope=col>&lt;dbl&gt;</th><th scope=col>&lt;dbl&gt;</th></tr>\n",
       "</thead>\n",
       "<tbody>\n",
       "\t<tr><td>Abbey Medical Centre - Paisley (87625)                            </td><td> 85</td><td>97.44</td></tr>\n",
       "\t<tr><td>Abercromby Practice - Glasgow (46555)                             </td><td> 84</td><td>93.93</td></tr>\n",
       "\t<tr><td>Aberfeldy And Kinloch Rannoch Medical Practice - Aberfeldy (10036)</td><td> 99</td><td>95.03</td></tr>\n",
       "\t<tr><td><span style=white-space:pre-wrap>Aberfoyle &amp; Buchlyvie Medical Centres - Buchlyvie (25968)         </span></td><td> 87</td><td>92.53</td></tr>\n",
       "\t<tr><td>Aberlour Health Centre - Aberlour (33004)                         </td><td>108</td><td>53.32</td></tr>\n",
       "\t<tr><td>Abingdon Medical Practice - Glasgow (40070)                       </td><td> 81</td><td>70.04</td></tr>\n",
       "</tbody>\n",
       "</table>\n"
      ],
      "text/latex": [
       "A tibble: 6 × 3\n",
       "\\begin{tabular}{lll}\n",
       " GP Practice & q2\\_responses & q2\\_positive\\\\\n",
       " <chr> & <dbl> & <dbl>\\\\\n",
       "\\hline\n",
       "\t Abbey Medical Centre - Paisley (87625)                             &  85 & 97.44\\\\\n",
       "\t Abercromby Practice - Glasgow (46555)                              &  84 & 93.93\\\\\n",
       "\t Aberfeldy And Kinloch Rannoch Medical Practice - Aberfeldy (10036) &  99 & 95.03\\\\\n",
       "\t Aberfoyle \\& Buchlyvie Medical Centres - Buchlyvie (25968)          &  87 & 92.53\\\\\n",
       "\t Aberlour Health Centre - Aberlour (33004)                          & 108 & 53.32\\\\\n",
       "\t Abingdon Medical Practice - Glasgow (40070)                        &  81 & 70.04\\\\\n",
       "\\end{tabular}\n"
      ],
      "text/markdown": [
       "\n",
       "A tibble: 6 × 3\n",
       "\n",
       "| GP Practice &lt;chr&gt; | q2_responses &lt;dbl&gt; | q2_positive &lt;dbl&gt; |\n",
       "|---|---|---|\n",
       "| Abbey Medical Centre - Paisley (87625)                             |  85 | 97.44 |\n",
       "| Abercromby Practice - Glasgow (46555)                              |  84 | 93.93 |\n",
       "| Aberfeldy And Kinloch Rannoch Medical Practice - Aberfeldy (10036) |  99 | 95.03 |\n",
       "| Aberfoyle &amp; Buchlyvie Medical Centres - Buchlyvie (25968)          |  87 | 92.53 |\n",
       "| Aberlour Health Centre - Aberlour (33004)                          | 108 | 53.32 |\n",
       "| Abingdon Medical Practice - Glasgow (40070)                        |  81 | 70.04 |\n",
       "\n"
      ],
      "text/plain": [
       "  GP Practice                                                       \n",
       "1 Abbey Medical Centre - Paisley (87625)                            \n",
       "2 Abercromby Practice - Glasgow (46555)                             \n",
       "3 Aberfeldy And Kinloch Rannoch Medical Practice - Aberfeldy (10036)\n",
       "4 Aberfoyle & Buchlyvie Medical Centres - Buchlyvie (25968)         \n",
       "5 Aberlour Health Centre - Aberlour (33004)                         \n",
       "6 Abingdon Medical Practice - Glasgow (40070)                       \n",
       "  q2_responses q2_positive\n",
       "1  85          97.44      \n",
       "2  84          93.93      \n",
       "3  99          95.03      \n",
       "4  87          92.53      \n",
       "5 108          53.32      \n",
       "6  81          70.04      "
      ]
     },
     "metadata": {},
     "output_type": "display_data"
    },
    {
     "data": {
      "text/html": [
       "<table class=\"dataframe\">\n",
       "<caption>A tibble: 6 × 3</caption>\n",
       "<thead>\n",
       "\t<tr><th scope=col>GP Practice</th><th scope=col>q3_responses</th><th scope=col>q3_positive</th></tr>\n",
       "\t<tr><th scope=col>&lt;chr&gt;</th><th scope=col>&lt;dbl&gt;</th><th scope=col>&lt;dbl&gt;</th></tr>\n",
       "</thead>\n",
       "<tbody>\n",
       "\t<tr><td>Abbey Medical Centre - Paisley (87625)                            </td><td> 99</td><td>91.45</td></tr>\n",
       "\t<tr><td>Abercromby Practice - Glasgow (46555)                             </td><td> 84</td><td>87.44</td></tr>\n",
       "\t<tr><td>Aberfeldy And Kinloch Rannoch Medical Practice - Aberfeldy (10036)</td><td>115</td><td>98.06</td></tr>\n",
       "\t<tr><td><span style=white-space:pre-wrap>Aberfoyle &amp; Buchlyvie Medical Centres - Buchlyvie (25968)         </span></td><td>105</td><td>94.82</td></tr>\n",
       "\t<tr><td>Aberlour Health Centre - Aberlour (33004)                         </td><td>106</td><td>67.33</td></tr>\n",
       "\t<tr><td>Abingdon Medical Practice - Glasgow (40070)                       </td><td>108</td><td>88.54</td></tr>\n",
       "</tbody>\n",
       "</table>\n"
      ],
      "text/latex": [
       "A tibble: 6 × 3\n",
       "\\begin{tabular}{lll}\n",
       " GP Practice & q3\\_responses & q3\\_positive\\\\\n",
       " <chr> & <dbl> & <dbl>\\\\\n",
       "\\hline\n",
       "\t Abbey Medical Centre - Paisley (87625)                             &  99 & 91.45\\\\\n",
       "\t Abercromby Practice - Glasgow (46555)                              &  84 & 87.44\\\\\n",
       "\t Aberfeldy And Kinloch Rannoch Medical Practice - Aberfeldy (10036) & 115 & 98.06\\\\\n",
       "\t Aberfoyle \\& Buchlyvie Medical Centres - Buchlyvie (25968)          & 105 & 94.82\\\\\n",
       "\t Aberlour Health Centre - Aberlour (33004)                          & 106 & 67.33\\\\\n",
       "\t Abingdon Medical Practice - Glasgow (40070)                        & 108 & 88.54\\\\\n",
       "\\end{tabular}\n"
      ],
      "text/markdown": [
       "\n",
       "A tibble: 6 × 3\n",
       "\n",
       "| GP Practice &lt;chr&gt; | q3_responses &lt;dbl&gt; | q3_positive &lt;dbl&gt; |\n",
       "|---|---|---|\n",
       "| Abbey Medical Centre - Paisley (87625)                             |  99 | 91.45 |\n",
       "| Abercromby Practice - Glasgow (46555)                              |  84 | 87.44 |\n",
       "| Aberfeldy And Kinloch Rannoch Medical Practice - Aberfeldy (10036) | 115 | 98.06 |\n",
       "| Aberfoyle &amp; Buchlyvie Medical Centres - Buchlyvie (25968)          | 105 | 94.82 |\n",
       "| Aberlour Health Centre - Aberlour (33004)                          | 106 | 67.33 |\n",
       "| Abingdon Medical Practice - Glasgow (40070)                        | 108 | 88.54 |\n",
       "\n"
      ],
      "text/plain": [
       "  GP Practice                                                       \n",
       "1 Abbey Medical Centre - Paisley (87625)                            \n",
       "2 Abercromby Practice - Glasgow (46555)                             \n",
       "3 Aberfeldy And Kinloch Rannoch Medical Practice - Aberfeldy (10036)\n",
       "4 Aberfoyle & Buchlyvie Medical Centres - Buchlyvie (25968)         \n",
       "5 Aberlour Health Centre - Aberlour (33004)                         \n",
       "6 Abingdon Medical Practice - Glasgow (40070)                       \n",
       "  q3_responses q3_positive\n",
       "1  99          91.45      \n",
       "2  84          87.44      \n",
       "3 115          98.06      \n",
       "4 105          94.82      \n",
       "5 106          67.33      \n",
       "6 108          88.54      "
      ]
     },
     "metadata": {},
     "output_type": "display_data"
    }
   ],
   "source": [
    "#Rename columns and drop unneeded colummns\n",
    "\n",
    "# q1\n",
    "filtered_data_q1 <- filtered_data_q1 %>%\n",
    "  rename(q1_positive = \"% Positive\", q1_responses = \"Number of Responses\") %>%\n",
    "  select(-\"Question Text\")\n",
    "\n",
    "# q2\n",
    "filtered_data_q2 <- filtered_data_q2 %>%\n",
    "  rename(q2_positive = \"% Positive\", q2_responses = \"Number of Responses\") %>%\n",
    "  select(-c(\"Question Text\", \"GP Practice No\"))\n",
    "\n",
    "# q3\n",
    "filtered_data_q3 <- filtered_data_q3 %>%\n",
    "  rename(q3_positive = \"% Positive\", q3_responses = \"Number of Responses\") %>%\n",
    "  select(-c(\"Question Text\", \"GP Practice No\"))\n",
    "\n",
    "head(filtered_data_q1)\n",
    "head(filtered_data_q2)\n",
    "head(filtered_data_q3)"
   ]
  },
  {
   "cell_type": "code",
   "execution_count": 10,
   "id": "24c5dd49",
   "metadata": {
    "vscode": {
     "languageId": "r"
    }
   },
   "outputs": [
    {
     "data": {
      "text/html": [
       "<style>\n",
       ".list-inline {list-style: none; margin:0; padding: 0}\n",
       ".list-inline>li {display: inline-block}\n",
       ".list-inline>li:not(:last-child)::after {content: \"\\00b7\"; padding: 0 .5ex}\n",
       "</style>\n",
       "<ol class=list-inline><li>907</li><li>4</li></ol>\n"
      ],
      "text/latex": [
       "\\begin{enumerate*}\n",
       "\\item 907\n",
       "\\item 4\n",
       "\\end{enumerate*}\n"
      ],
      "text/markdown": [
       "1. 907\n",
       "2. 4\n",
       "\n",
       "\n"
      ],
      "text/plain": [
       "[1] 907   4"
      ]
     },
     "metadata": {},
     "output_type": "display_data"
    },
    {
     "data": {
      "text/html": [
       "<style>\n",
       ".list-inline {list-style: none; margin:0; padding: 0}\n",
       ".list-inline>li {display: inline-block}\n",
       ".list-inline>li:not(:last-child)::after {content: \"\\00b7\"; padding: 0 .5ex}\n",
       "</style>\n",
       "<ol class=list-inline><li>907</li><li>3</li></ol>\n"
      ],
      "text/latex": [
       "\\begin{enumerate*}\n",
       "\\item 907\n",
       "\\item 3\n",
       "\\end{enumerate*}\n"
      ],
      "text/markdown": [
       "1. 907\n",
       "2. 3\n",
       "\n",
       "\n"
      ],
      "text/plain": [
       "[1] 907   3"
      ]
     },
     "metadata": {},
     "output_type": "display_data"
    },
    {
     "data": {
      "text/html": [
       "<style>\n",
       ".list-inline {list-style: none; margin:0; padding: 0}\n",
       ".list-inline>li {display: inline-block}\n",
       ".list-inline>li:not(:last-child)::after {content: \"\\00b7\"; padding: 0 .5ex}\n",
       "</style>\n",
       "<ol class=list-inline><li>907</li><li>3</li></ol>\n"
      ],
      "text/latex": [
       "\\begin{enumerate*}\n",
       "\\item 907\n",
       "\\item 3\n",
       "\\end{enumerate*}\n"
      ],
      "text/markdown": [
       "1. 907\n",
       "2. 3\n",
       "\n",
       "\n"
      ],
      "text/plain": [
       "[1] 907   3"
      ]
     },
     "metadata": {},
     "output_type": "display_data"
    }
   ],
   "source": [
    "# Check all question dataframes match in dimensions\n",
    "dim(filtered_data_q1)\n",
    "dim(filtered_data_q2)\n",
    "dim(filtered_data_q3)"
   ]
  },
  {
   "cell_type": "code",
   "execution_count": 11,
   "id": "8d29245c",
   "metadata": {
    "vscode": {
     "languageId": "r"
    }
   },
   "outputs": [
    {
     "data": {
      "text/html": [
       "0"
      ],
      "text/latex": [
       "0"
      ],
      "text/markdown": [
       "0"
      ],
      "text/plain": [
       "[1] 0"
      ]
     },
     "metadata": {},
     "output_type": "display_data"
    }
   ],
   "source": [
    "# Check for duplicate GP Practice rows\n",
    "dupes <- duplicated(filtered_data_q1$\"GP Practice\")\n",
    "sum(dupes)"
   ]
  },
  {
   "cell_type": "code",
   "execution_count": 12,
   "id": "685bb4a6",
   "metadata": {
    "vscode": {
     "languageId": "r"
    }
   },
   "outputs": [
    {
     "name": "stdout",
     "output_type": "stream",
     "text": [
      "Q1 Responses: 162 34 0 \n",
      "Q2 Responses: 133 20 0 \n",
      "Q3 Responses: 143 32 0 \n"
     ]
    }
   ],
   "source": [
    "# Function to find max, min responses, and count below threshold\n",
    "max_min_responses <- function(data, response_col, threshold) {\n",
    "  max_response <- max(data[[response_col]])\n",
    "  min_response <- min(data[[response_col]])\n",
    "  below_threshold <- sum(data[[response_col]] < threshold)\n",
    "  \n",
    "  return(c(Maximum = max_response, Minimum = min_response, BelowThreshold = below_threshold))\n",
    "}\n",
    "\n",
    "threshold <- 20  # Set from original survey data threshold\n",
    "\n",
    "cat(\"Q1 Responses:\", max_min_responses(filtered_data_q1, \"q1_responses\", threshold), \"\\n\")\n",
    "cat(\"Q2 Responses:\", max_min_responses(filtered_data_q2, \"q2_responses\", threshold), \"\\n\")\n",
    "cat(\"Q3 Responses:\", max_min_responses(filtered_data_q3, \"q3_responses\", threshold), \"\\n\")"
   ]
  },
  {
   "cell_type": "code",
   "execution_count": 13,
   "id": "4e1bcd71",
   "metadata": {
    "vscode": {
     "languageId": "r"
    }
   },
   "outputs": [
    {
     "data": {
      "text/html": [
       "<style>\n",
       ".list-inline {list-style: none; margin:0; padding: 0}\n",
       ".list-inline>li {display: inline-block}\n",
       ".list-inline>li:not(:last-child)::after {content: \"\\00b7\"; padding: 0 .5ex}\n",
       "</style>\n",
       "<ol class=list-inline><li>907</li><li>8</li></ol>\n"
      ],
      "text/latex": [
       "\\begin{enumerate*}\n",
       "\\item 907\n",
       "\\item 8\n",
       "\\end{enumerate*}\n"
      ],
      "text/markdown": [
       "1. 907\n",
       "2. 8\n",
       "\n",
       "\n"
      ],
      "text/plain": [
       "[1] 907   8"
      ]
     },
     "metadata": {},
     "output_type": "display_data"
    },
    {
     "data": {
      "text/html": [
       "<table class=\"dataframe\">\n",
       "<caption>A tibble: 6 × 8</caption>\n",
       "<thead>\n",
       "\t<tr><th scope=col>GP Practice</th><th scope=col>GP Practice No</th><th scope=col>q1_responses</th><th scope=col>q1_positive</th><th scope=col>q2_responses</th><th scope=col>q2_positive</th><th scope=col>q3_responses</th><th scope=col>q3_positive</th></tr>\n",
       "\t<tr><th scope=col>&lt;chr&gt;</th><th scope=col>&lt;dbl&gt;</th><th scope=col>&lt;dbl&gt;</th><th scope=col>&lt;dbl&gt;</th><th scope=col>&lt;dbl&gt;</th><th scope=col>&lt;dbl&gt;</th><th scope=col>&lt;dbl&gt;</th><th scope=col>&lt;dbl&gt;</th></tr>\n",
       "</thead>\n",
       "<tbody>\n",
       "\t<tr><td>Abbey Medical Centre - Paisley (87625)                            </td><td>87625</td><td>109</td><td>73.31</td><td> 85</td><td>97.44</td><td> 99</td><td>91.45</td></tr>\n",
       "\t<tr><td>Abercromby Practice - Glasgow (46555)                             </td><td>46555</td><td>101</td><td>78.51</td><td> 84</td><td>93.93</td><td> 84</td><td>87.44</td></tr>\n",
       "\t<tr><td>Aberfeldy And Kinloch Rannoch Medical Practice - Aberfeldy (10036)</td><td>10036</td><td>126</td><td>87.11</td><td> 99</td><td>95.03</td><td>115</td><td>98.06</td></tr>\n",
       "\t<tr><td><span style=white-space:pre-wrap>Aberfoyle &amp; Buchlyvie Medical Centres - Buchlyvie (25968)         </span></td><td>25968</td><td>113</td><td>81.81</td><td> 87</td><td>92.53</td><td>105</td><td>94.82</td></tr>\n",
       "\t<tr><td>Aberlour Health Centre - Aberlour (33004)                         </td><td>33004</td><td>126</td><td>25.34</td><td>108</td><td>53.32</td><td>106</td><td>67.33</td></tr>\n",
       "\t<tr><td>Abingdon Medical Practice - Glasgow (40070)                       </td><td>40070</td><td>117</td><td>73.95</td><td> 81</td><td>70.04</td><td>108</td><td>88.54</td></tr>\n",
       "</tbody>\n",
       "</table>\n"
      ],
      "text/latex": [
       "A tibble: 6 × 8\n",
       "\\begin{tabular}{llllllll}\n",
       " GP Practice & GP Practice No & q1\\_responses & q1\\_positive & q2\\_responses & q2\\_positive & q3\\_responses & q3\\_positive\\\\\n",
       " <chr> & <dbl> & <dbl> & <dbl> & <dbl> & <dbl> & <dbl> & <dbl>\\\\\n",
       "\\hline\n",
       "\t Abbey Medical Centre - Paisley (87625)                             & 87625 & 109 & 73.31 &  85 & 97.44 &  99 & 91.45\\\\\n",
       "\t Abercromby Practice - Glasgow (46555)                              & 46555 & 101 & 78.51 &  84 & 93.93 &  84 & 87.44\\\\\n",
       "\t Aberfeldy And Kinloch Rannoch Medical Practice - Aberfeldy (10036) & 10036 & 126 & 87.11 &  99 & 95.03 & 115 & 98.06\\\\\n",
       "\t Aberfoyle \\& Buchlyvie Medical Centres - Buchlyvie (25968)          & 25968 & 113 & 81.81 &  87 & 92.53 & 105 & 94.82\\\\\n",
       "\t Aberlour Health Centre - Aberlour (33004)                          & 33004 & 126 & 25.34 & 108 & 53.32 & 106 & 67.33\\\\\n",
       "\t Abingdon Medical Practice - Glasgow (40070)                        & 40070 & 117 & 73.95 &  81 & 70.04 & 108 & 88.54\\\\\n",
       "\\end{tabular}\n"
      ],
      "text/markdown": [
       "\n",
       "A tibble: 6 × 8\n",
       "\n",
       "| GP Practice &lt;chr&gt; | GP Practice No &lt;dbl&gt; | q1_responses &lt;dbl&gt; | q1_positive &lt;dbl&gt; | q2_responses &lt;dbl&gt; | q2_positive &lt;dbl&gt; | q3_responses &lt;dbl&gt; | q3_positive &lt;dbl&gt; |\n",
       "|---|---|---|---|---|---|---|---|\n",
       "| Abbey Medical Centre - Paisley (87625)                             | 87625 | 109 | 73.31 |  85 | 97.44 |  99 | 91.45 |\n",
       "| Abercromby Practice - Glasgow (46555)                              | 46555 | 101 | 78.51 |  84 | 93.93 |  84 | 87.44 |\n",
       "| Aberfeldy And Kinloch Rannoch Medical Practice - Aberfeldy (10036) | 10036 | 126 | 87.11 |  99 | 95.03 | 115 | 98.06 |\n",
       "| Aberfoyle &amp; Buchlyvie Medical Centres - Buchlyvie (25968)          | 25968 | 113 | 81.81 |  87 | 92.53 | 105 | 94.82 |\n",
       "| Aberlour Health Centre - Aberlour (33004)                          | 33004 | 126 | 25.34 | 108 | 53.32 | 106 | 67.33 |\n",
       "| Abingdon Medical Practice - Glasgow (40070)                        | 40070 | 117 | 73.95 |  81 | 70.04 | 108 | 88.54 |\n",
       "\n"
      ],
      "text/plain": [
       "  GP Practice                                                       \n",
       "1 Abbey Medical Centre - Paisley (87625)                            \n",
       "2 Abercromby Practice - Glasgow (46555)                             \n",
       "3 Aberfeldy And Kinloch Rannoch Medical Practice - Aberfeldy (10036)\n",
       "4 Aberfoyle & Buchlyvie Medical Centres - Buchlyvie (25968)         \n",
       "5 Aberlour Health Centre - Aberlour (33004)                         \n",
       "6 Abingdon Medical Practice - Glasgow (40070)                       \n",
       "  GP Practice No q1_responses q1_positive q2_responses q2_positive q3_responses\n",
       "1 87625          109          73.31        85          97.44        99         \n",
       "2 46555          101          78.51        84          93.93        84         \n",
       "3 10036          126          87.11        99          95.03       115         \n",
       "4 25968          113          81.81        87          92.53       105         \n",
       "5 33004          126          25.34       108          53.32       106         \n",
       "6 40070          117          73.95        81          70.04       108         \n",
       "  q3_positive\n",
       "1 91.45      \n",
       "2 87.44      \n",
       "3 98.06      \n",
       "4 94.82      \n",
       "5 67.33      \n",
       "6 88.54      "
      ]
     },
     "metadata": {},
     "output_type": "display_data"
    }
   ],
   "source": [
    "# Merge all questions into one master dataset\n",
    "master_data <- filtered_data_q1 %>%\n",
    "    full_join(filtered_data_q2, by = \"GP Practice\") %>%\n",
    "    full_join(filtered_data_q3, by = \"GP Practice\")\n",
    "\n",
    "dim(master_data)\n",
    "head(master_data)"
   ]
  },
  {
   "cell_type": "code",
   "execution_count": 14,
   "id": "60338171",
   "metadata": {
    "vscode": {
     "languageId": "r"
    }
   },
   "outputs": [
    {
     "data": {
      "text/html": [
       "<table class=\"dataframe\">\n",
       "<caption>A tibble: 6 × 5</caption>\n",
       "<thead>\n",
       "\t<tr><th scope=col>gp_practice</th><th scope=col>gp_number</th><th scope=col>q1_positive</th><th scope=col>q2_positive</th><th scope=col>q3_positive</th></tr>\n",
       "\t<tr><th scope=col>&lt;chr&gt;</th><th scope=col>&lt;dbl&gt;</th><th scope=col>&lt;dbl&gt;</th><th scope=col>&lt;dbl&gt;</th><th scope=col>&lt;dbl&gt;</th></tr>\n",
       "</thead>\n",
       "<tbody>\n",
       "\t<tr><td>Abbey Medical Centre - Paisley (87625)                            </td><td>87625</td><td>73.31</td><td>97.44</td><td>91.45</td></tr>\n",
       "\t<tr><td>Abercromby Practice - Glasgow (46555)                             </td><td>46555</td><td>78.51</td><td>93.93</td><td>87.44</td></tr>\n",
       "\t<tr><td>Aberfeldy And Kinloch Rannoch Medical Practice - Aberfeldy (10036)</td><td>10036</td><td>87.11</td><td>95.03</td><td>98.06</td></tr>\n",
       "\t<tr><td><span style=white-space:pre-wrap>Aberfoyle &amp; Buchlyvie Medical Centres - Buchlyvie (25968)         </span></td><td>25968</td><td>81.81</td><td>92.53</td><td>94.82</td></tr>\n",
       "\t<tr><td>Aberlour Health Centre - Aberlour (33004)                         </td><td>33004</td><td>25.34</td><td>53.32</td><td>67.33</td></tr>\n",
       "\t<tr><td>Abingdon Medical Practice - Glasgow (40070)                       </td><td>40070</td><td>73.95</td><td>70.04</td><td>88.54</td></tr>\n",
       "</tbody>\n",
       "</table>\n"
      ],
      "text/latex": [
       "A tibble: 6 × 5\n",
       "\\begin{tabular}{lllll}\n",
       " gp\\_practice & gp\\_number & q1\\_positive & q2\\_positive & q3\\_positive\\\\\n",
       " <chr> & <dbl> & <dbl> & <dbl> & <dbl>\\\\\n",
       "\\hline\n",
       "\t Abbey Medical Centre - Paisley (87625)                             & 87625 & 73.31 & 97.44 & 91.45\\\\\n",
       "\t Abercromby Practice - Glasgow (46555)                              & 46555 & 78.51 & 93.93 & 87.44\\\\\n",
       "\t Aberfeldy And Kinloch Rannoch Medical Practice - Aberfeldy (10036) & 10036 & 87.11 & 95.03 & 98.06\\\\\n",
       "\t Aberfoyle \\& Buchlyvie Medical Centres - Buchlyvie (25968)          & 25968 & 81.81 & 92.53 & 94.82\\\\\n",
       "\t Aberlour Health Centre - Aberlour (33004)                          & 33004 & 25.34 & 53.32 & 67.33\\\\\n",
       "\t Abingdon Medical Practice - Glasgow (40070)                        & 40070 & 73.95 & 70.04 & 88.54\\\\\n",
       "\\end{tabular}\n"
      ],
      "text/markdown": [
       "\n",
       "A tibble: 6 × 5\n",
       "\n",
       "| gp_practice &lt;chr&gt; | gp_number &lt;dbl&gt; | q1_positive &lt;dbl&gt; | q2_positive &lt;dbl&gt; | q3_positive &lt;dbl&gt; |\n",
       "|---|---|---|---|---|\n",
       "| Abbey Medical Centre - Paisley (87625)                             | 87625 | 73.31 | 97.44 | 91.45 |\n",
       "| Abercromby Practice - Glasgow (46555)                              | 46555 | 78.51 | 93.93 | 87.44 |\n",
       "| Aberfeldy And Kinloch Rannoch Medical Practice - Aberfeldy (10036) | 10036 | 87.11 | 95.03 | 98.06 |\n",
       "| Aberfoyle &amp; Buchlyvie Medical Centres - Buchlyvie (25968)          | 25968 | 81.81 | 92.53 | 94.82 |\n",
       "| Aberlour Health Centre - Aberlour (33004)                          | 33004 | 25.34 | 53.32 | 67.33 |\n",
       "| Abingdon Medical Practice - Glasgow (40070)                        | 40070 | 73.95 | 70.04 | 88.54 |\n",
       "\n"
      ],
      "text/plain": [
       "  gp_practice                                                        gp_number\n",
       "1 Abbey Medical Centre - Paisley (87625)                             87625    \n",
       "2 Abercromby Practice - Glasgow (46555)                              46555    \n",
       "3 Aberfeldy And Kinloch Rannoch Medical Practice - Aberfeldy (10036) 10036    \n",
       "4 Aberfoyle & Buchlyvie Medical Centres - Buchlyvie (25968)          25968    \n",
       "5 Aberlour Health Centre - Aberlour (33004)                          33004    \n",
       "6 Abingdon Medical Practice - Glasgow (40070)                        40070    \n",
       "  q1_positive q2_positive q3_positive\n",
       "1 73.31       97.44       91.45      \n",
       "2 78.51       93.93       87.44      \n",
       "3 87.11       95.03       98.06      \n",
       "4 81.81       92.53       94.82      \n",
       "5 25.34       53.32       67.33      \n",
       "6 73.95       70.04       88.54      "
      ]
     },
     "metadata": {},
     "output_type": "display_data"
    }
   ],
   "source": [
    "master_data <- master_data %>%\n",
    "  rename(gp_practice = \"GP Practice\", gp_number = \"GP Practice No\") %>%\n",
    "  select(gp_practice, gp_number, q1_positive, q2_positive, q3_positive)\n",
    "\n",
    "head(master_data)"
   ]
  },
  {
   "cell_type": "code",
   "execution_count": 15,
   "id": "3664efcd",
   "metadata": {
    "vscode": {
     "languageId": "r"
    }
   },
   "outputs": [
    {
     "data": {
      "text/plain": [
       "   Min. 1st Qu.  Median    Mean 3rd Qu.    Max. \n",
       "  53.16   82.52   87.86   86.90   92.51  100.00 "
      ]
     },
     "metadata": {},
     "output_type": "display_data"
    }
   ],
   "source": [
    "summary(master_data$q3_positive)"
   ]
  },
  {
   "cell_type": "code",
   "execution_count": 17,
   "id": "d697e934",
   "metadata": {
    "vscode": {
     "languageId": "r"
    }
   },
   "outputs": [
    {
     "name": "stderr",
     "output_type": "stream",
     "text": [
      "\u001b[1mRows: \u001b[22m\u001b[34m6976\u001b[39m \u001b[1mColumns: \u001b[22m\u001b[34m49\u001b[39m\n",
      "\u001b[36m──\u001b[39m \u001b[1mColumn specification\u001b[22m \u001b[36m────────────────────────────────────────────────────────\u001b[39m\n",
      "\u001b[1mDelimiter:\u001b[22m \",\"\n",
      "\u001b[31mchr\u001b[39m (16): Data_Zone, Intermediate_Zone, Council_area, income_rate, employmen...\n",
      "\u001b[32mdbl\u001b[39m (33): Total_population, Working_Age_population, SIMD2020v2_Rank, SIMD_20...\n",
      "\n",
      "\u001b[36mℹ\u001b[39m Use `spec()` to retrieve the full column specification for this data.\n",
      "\u001b[36mℹ\u001b[39m Specify the column types or set `show_col_types = FALSE` to quiet this message.\n"
     ]
    },
    {
     "data": {
      "text/html": [
       "<style>\n",
       ".list-inline {list-style: none; margin:0; padding: 0}\n",
       ".list-inline>li {display: inline-block}\n",
       ".list-inline>li:not(:last-child)::after {content: \"\\00b7\"; padding: 0 .5ex}\n",
       "</style>\n",
       "<ol class=list-inline><li>6976</li><li>49</li></ol>\n"
      ],
      "text/latex": [
       "\\begin{enumerate*}\n",
       "\\item 6976\n",
       "\\item 49\n",
       "\\end{enumerate*}\n"
      ],
      "text/markdown": [
       "1. 6976\n",
       "2. 49\n",
       "\n",
       "\n"
      ],
      "text/plain": [
       "[1] 6976   49"
      ]
     },
     "metadata": {},
     "output_type": "display_data"
    },
    {
     "data": {
      "text/html": [
       "<table class=\"dataframe\">\n",
       "<caption>A tibble: 6 × 49</caption>\n",
       "<thead>\n",
       "\t<tr><th scope=col>Data_Zone</th><th scope=col>Intermediate_Zone</th><th scope=col>Council_area</th><th scope=col>Total_population</th><th scope=col>Working_Age_population</th><th scope=col>SIMD2020v2_Rank</th><th scope=col>SIMD_2020v2_Percentile</th><th scope=col>SIMD2020v2_Vigintile</th><th scope=col>SIMD2020v2_Decile</th><th scope=col>SIMD2020v2_Quintile</th><th scope=col>⋯</th><th scope=col>drive_petrol</th><th scope=col>drive_GP</th><th scope=col>drive_post</th><th scope=col>drive_primary</th><th scope=col>drive_retail</th><th scope=col>drive_secondary</th><th scope=col>PT_GP</th><th scope=col>PT_post</th><th scope=col>PT_retail</th><th scope=col>broadband</th></tr>\n",
       "\t<tr><th scope=col>&lt;chr&gt;</th><th scope=col>&lt;chr&gt;</th><th scope=col>&lt;chr&gt;</th><th scope=col>&lt;dbl&gt;</th><th scope=col>&lt;dbl&gt;</th><th scope=col>&lt;dbl&gt;</th><th scope=col>&lt;dbl&gt;</th><th scope=col>&lt;dbl&gt;</th><th scope=col>&lt;dbl&gt;</th><th scope=col>&lt;dbl&gt;</th><th scope=col>⋯</th><th scope=col>&lt;dbl&gt;</th><th scope=col>&lt;dbl&gt;</th><th scope=col>&lt;dbl&gt;</th><th scope=col>&lt;dbl&gt;</th><th scope=col>&lt;dbl&gt;</th><th scope=col>&lt;dbl&gt;</th><th scope=col>&lt;dbl&gt;</th><th scope=col>&lt;dbl&gt;</th><th scope=col>&lt;dbl&gt;</th><th scope=col>&lt;chr&gt;</th></tr>\n",
       "</thead>\n",
       "<tbody>\n",
       "\t<tr><td>S01006506</td><td>Culter</td><td>Aberdeen City</td><td>894</td><td>580</td><td>4691</td><td>68</td><td>14</td><td>7</td><td>4</td><td>⋯</td><td>2.540103</td><td>3.074295</td><td>1.616239</td><td>2.615747</td><td>1.544260</td><td> 9.930833</td><td>8.863589</td><td>5.856135</td><td>6.023406</td><td>11%</td></tr>\n",
       "\t<tr><td>S01006507</td><td>Culter</td><td>Aberdeen City</td><td>793</td><td>470</td><td>4862</td><td>70</td><td>14</td><td>7</td><td>4</td><td>⋯</td><td>3.915072</td><td>4.309812</td><td>2.555858</td><td>3.646697</td><td>2.849656</td><td>11.042816</td><td>9.978272</td><td>7.515000</td><td>7.926029</td><td>1% </td></tr>\n",
       "\t<tr><td>S01006508</td><td>Culter</td><td>Aberdeen City</td><td>624</td><td>461</td><td>5686</td><td>82</td><td>17</td><td>9</td><td>5</td><td>⋯</td><td>3.323025</td><td>3.784549</td><td>1.440991</td><td>3.247325</td><td>2.062255</td><td>10.616768</td><td>8.620700</td><td>4.321493</td><td>5.770910</td><td>1% </td></tr>\n",
       "\t<tr><td>S01006509</td><td>Culter</td><td>Aberdeen City</td><td>537</td><td>307</td><td>4332</td><td>63</td><td>13</td><td>7</td><td>4</td><td>⋯</td><td>2.622991</td><td>2.778026</td><td>2.620681</td><td>1.936908</td><td>2.160142</td><td>10.036471</td><td>7.935112</td><td>8.433328</td><td>8.329819</td><td>11%</td></tr>\n",
       "\t<tr><td>S01006510</td><td>Culter</td><td>Aberdeen City</td><td>663</td><td>415</td><td>3913</td><td>57</td><td>12</td><td>6</td><td>3</td><td>⋯</td><td>2.115004</td><td>2.358335</td><td>2.408416</td><td>1.845672</td><td>1.784635</td><td> 9.650000</td><td>5.568964</td><td>6.966429</td><td>6.632609</td><td>0% </td></tr>\n",
       "\t<tr><td>S01006511</td><td>Culter</td><td>Aberdeen City</td><td>759</td><td>453</td><td>6253</td><td>90</td><td>18</td><td>9</td><td>5</td><td>⋯</td><td>1.516911</td><td>1.769581</td><td>3.227433</td><td>2.517457</td><td>2.593053</td><td> 8.614008</td><td>4.934953</td><td>7.668555</td><td>7.340100</td><td>5% </td></tr>\n",
       "</tbody>\n",
       "</table>\n"
      ],
      "text/latex": [
       "A tibble: 6 × 49\n",
       "\\begin{tabular}{lllllllllllllllllllll}\n",
       " Data\\_Zone & Intermediate\\_Zone & Council\\_area & Total\\_population & Working\\_Age\\_population & SIMD2020v2\\_Rank & SIMD\\_2020v2\\_Percentile & SIMD2020v2\\_Vigintile & SIMD2020v2\\_Decile & SIMD2020v2\\_Quintile & ⋯ & drive\\_petrol & drive\\_GP & drive\\_post & drive\\_primary & drive\\_retail & drive\\_secondary & PT\\_GP & PT\\_post & PT\\_retail & broadband\\\\\n",
       " <chr> & <chr> & <chr> & <dbl> & <dbl> & <dbl> & <dbl> & <dbl> & <dbl> & <dbl> & ⋯ & <dbl> & <dbl> & <dbl> & <dbl> & <dbl> & <dbl> & <dbl> & <dbl> & <dbl> & <chr>\\\\\n",
       "\\hline\n",
       "\t S01006506 & Culter & Aberdeen City & 894 & 580 & 4691 & 68 & 14 & 7 & 4 & ⋯ & 2.540103 & 3.074295 & 1.616239 & 2.615747 & 1.544260 &  9.930833 & 8.863589 & 5.856135 & 6.023406 & 11\\%\\\\\n",
       "\t S01006507 & Culter & Aberdeen City & 793 & 470 & 4862 & 70 & 14 & 7 & 4 & ⋯ & 3.915072 & 4.309812 & 2.555858 & 3.646697 & 2.849656 & 11.042816 & 9.978272 & 7.515000 & 7.926029 & 1\\% \\\\\n",
       "\t S01006508 & Culter & Aberdeen City & 624 & 461 & 5686 & 82 & 17 & 9 & 5 & ⋯ & 3.323025 & 3.784549 & 1.440991 & 3.247325 & 2.062255 & 10.616768 & 8.620700 & 4.321493 & 5.770910 & 1\\% \\\\\n",
       "\t S01006509 & Culter & Aberdeen City & 537 & 307 & 4332 & 63 & 13 & 7 & 4 & ⋯ & 2.622991 & 2.778026 & 2.620681 & 1.936908 & 2.160142 & 10.036471 & 7.935112 & 8.433328 & 8.329819 & 11\\%\\\\\n",
       "\t S01006510 & Culter & Aberdeen City & 663 & 415 & 3913 & 57 & 12 & 6 & 3 & ⋯ & 2.115004 & 2.358335 & 2.408416 & 1.845672 & 1.784635 &  9.650000 & 5.568964 & 6.966429 & 6.632609 & 0\\% \\\\\n",
       "\t S01006511 & Culter & Aberdeen City & 759 & 453 & 6253 & 90 & 18 & 9 & 5 & ⋯ & 1.516911 & 1.769581 & 3.227433 & 2.517457 & 2.593053 &  8.614008 & 4.934953 & 7.668555 & 7.340100 & 5\\% \\\\\n",
       "\\end{tabular}\n"
      ],
      "text/markdown": [
       "\n",
       "A tibble: 6 × 49\n",
       "\n",
       "| Data_Zone &lt;chr&gt; | Intermediate_Zone &lt;chr&gt; | Council_area &lt;chr&gt; | Total_population &lt;dbl&gt; | Working_Age_population &lt;dbl&gt; | SIMD2020v2_Rank &lt;dbl&gt; | SIMD_2020v2_Percentile &lt;dbl&gt; | SIMD2020v2_Vigintile &lt;dbl&gt; | SIMD2020v2_Decile &lt;dbl&gt; | SIMD2020v2_Quintile &lt;dbl&gt; | ⋯ ⋯ | drive_petrol &lt;dbl&gt; | drive_GP &lt;dbl&gt; | drive_post &lt;dbl&gt; | drive_primary &lt;dbl&gt; | drive_retail &lt;dbl&gt; | drive_secondary &lt;dbl&gt; | PT_GP &lt;dbl&gt; | PT_post &lt;dbl&gt; | PT_retail &lt;dbl&gt; | broadband &lt;chr&gt; |\n",
       "|---|---|---|---|---|---|---|---|---|---|---|---|---|---|---|---|---|---|---|---|---|\n",
       "| S01006506 | Culter | Aberdeen City | 894 | 580 | 4691 | 68 | 14 | 7 | 4 | ⋯ | 2.540103 | 3.074295 | 1.616239 | 2.615747 | 1.544260 |  9.930833 | 8.863589 | 5.856135 | 6.023406 | 11% |\n",
       "| S01006507 | Culter | Aberdeen City | 793 | 470 | 4862 | 70 | 14 | 7 | 4 | ⋯ | 3.915072 | 4.309812 | 2.555858 | 3.646697 | 2.849656 | 11.042816 | 9.978272 | 7.515000 | 7.926029 | 1%  |\n",
       "| S01006508 | Culter | Aberdeen City | 624 | 461 | 5686 | 82 | 17 | 9 | 5 | ⋯ | 3.323025 | 3.784549 | 1.440991 | 3.247325 | 2.062255 | 10.616768 | 8.620700 | 4.321493 | 5.770910 | 1%  |\n",
       "| S01006509 | Culter | Aberdeen City | 537 | 307 | 4332 | 63 | 13 | 7 | 4 | ⋯ | 2.622991 | 2.778026 | 2.620681 | 1.936908 | 2.160142 | 10.036471 | 7.935112 | 8.433328 | 8.329819 | 11% |\n",
       "| S01006510 | Culter | Aberdeen City | 663 | 415 | 3913 | 57 | 12 | 6 | 3 | ⋯ | 2.115004 | 2.358335 | 2.408416 | 1.845672 | 1.784635 |  9.650000 | 5.568964 | 6.966429 | 6.632609 | 0%  |\n",
       "| S01006511 | Culter | Aberdeen City | 759 | 453 | 6253 | 90 | 18 | 9 | 5 | ⋯ | 1.516911 | 1.769581 | 3.227433 | 2.517457 | 2.593053 |  8.614008 | 4.934953 | 7.668555 | 7.340100 | 5%  |\n",
       "\n"
      ],
      "text/plain": [
       "  Data_Zone Intermediate_Zone Council_area  Total_population\n",
       "1 S01006506 Culter            Aberdeen City 894             \n",
       "2 S01006507 Culter            Aberdeen City 793             \n",
       "3 S01006508 Culter            Aberdeen City 624             \n",
       "4 S01006509 Culter            Aberdeen City 537             \n",
       "5 S01006510 Culter            Aberdeen City 663             \n",
       "6 S01006511 Culter            Aberdeen City 759             \n",
       "  Working_Age_population SIMD2020v2_Rank SIMD_2020v2_Percentile\n",
       "1 580                    4691            68                    \n",
       "2 470                    4862            70                    \n",
       "3 461                    5686            82                    \n",
       "4 307                    4332            63                    \n",
       "5 415                    3913            57                    \n",
       "6 453                    6253            90                    \n",
       "  SIMD2020v2_Vigintile SIMD2020v2_Decile SIMD2020v2_Quintile ⋯ drive_petrol\n",
       "1 14                   7                 4                   ⋯ 2.540103    \n",
       "2 14                   7                 4                   ⋯ 3.915072    \n",
       "3 17                   9                 5                   ⋯ 3.323025    \n",
       "4 13                   7                 4                   ⋯ 2.622991    \n",
       "5 12                   6                 3                   ⋯ 2.115004    \n",
       "6 18                   9                 5                   ⋯ 1.516911    \n",
       "  drive_GP drive_post drive_primary drive_retail drive_secondary PT_GP   \n",
       "1 3.074295 1.616239   2.615747      1.544260      9.930833       8.863589\n",
       "2 4.309812 2.555858   3.646697      2.849656     11.042816       9.978272\n",
       "3 3.784549 1.440991   3.247325      2.062255     10.616768       8.620700\n",
       "4 2.778026 2.620681   1.936908      2.160142     10.036471       7.935112\n",
       "5 2.358335 2.408416   1.845672      1.784635      9.650000       5.568964\n",
       "6 1.769581 3.227433   2.517457      2.593053      8.614008       4.934953\n",
       "  PT_post  PT_retail broadband\n",
       "1 5.856135 6.023406  11%      \n",
       "2 7.515000 7.926029  1%       \n",
       "3 4.321493 5.770910  1%       \n",
       "4 8.433328 8.329819  11%      \n",
       "5 6.966429 6.632609  0%       \n",
       "6 7.668555 7.340100  5%       "
      ]
     },
     "metadata": {},
     "output_type": "display_data"
    }
   ],
   "source": [
    "simd <- read_csv('../data/simd2020.csv')\n",
    "\n",
    "dim(simd)\n",
    "head(simd)"
   ]
  },
  {
   "cell_type": "code",
   "execution_count": 18,
   "id": "6693bfc2",
   "metadata": {
    "vscode": {
     "languageId": "r"
    }
   },
   "outputs": [
    {
     "data": {
      "text/html": [
       "<style>\n",
       ".list-inline {list-style: none; margin:0; padding: 0}\n",
       ".list-inline>li {display: inline-block}\n",
       ".list-inline>li:not(:last-child)::after {content: \"\\00b7\"; padding: 0 .5ex}\n",
       "</style>\n",
       "<ol class=list-inline><li>'Data_Zone'</li><li>'Intermediate_Zone'</li><li>'Council_area'</li><li>'Total_population'</li><li>'Working_Age_population'</li><li>'SIMD2020v2_Rank'</li><li>'SIMD_2020v2_Percentile'</li><li>'SIMD2020v2_Vigintile'</li><li>'SIMD2020v2_Decile'</li><li>'SIMD2020v2_Quintile'</li><li>'SIMD2020v2_Income_Domain_Rank'</li><li>'SIMD2020_Employment_Domain_Rank'</li><li>'SIMD2020_Health_Domain_Rank'</li><li>'SIMD2020_Education_Domain_Rank'</li><li>'SIMD2020_Access_Domain_Rank'</li><li>'SIMD2020_Crime_Domain_Rank'</li><li>'SIMD2020_Housing_Domain_Rank'</li><li>'income_rate'</li><li>'income_count'</li><li>'employment_rate'</li><li>'employment_count'</li><li>'CIF'</li><li>'ALCOHOL'</li><li>'DRUG'</li><li>'SMR'</li><li>'DEPRESS'</li><li>'LBWT'</li><li>'EMERG'</li><li>'Attendance'</li><li>'Attainment'</li><li>'no_qualifications'</li><li>'not_participating'</li><li>'University'</li><li>'crime_count'</li><li>'crime_rate'</li><li>'overcrowded_count'</li><li>'nocentralheating_count'</li><li>'overcrowded_rate'</li><li>'nocentralheating_rate'</li><li>'drive_petrol'</li><li>'drive_GP'</li><li>'drive_post'</li><li>'drive_primary'</li><li>'drive_retail'</li><li>'drive_secondary'</li><li>'PT_GP'</li><li>'PT_post'</li><li>'PT_retail'</li><li>'broadband'</li></ol>\n"
      ],
      "text/latex": [
       "\\begin{enumerate*}\n",
       "\\item 'Data\\_Zone'\n",
       "\\item 'Intermediate\\_Zone'\n",
       "\\item 'Council\\_area'\n",
       "\\item 'Total\\_population'\n",
       "\\item 'Working\\_Age\\_population'\n",
       "\\item 'SIMD2020v2\\_Rank'\n",
       "\\item 'SIMD\\_2020v2\\_Percentile'\n",
       "\\item 'SIMD2020v2\\_Vigintile'\n",
       "\\item 'SIMD2020v2\\_Decile'\n",
       "\\item 'SIMD2020v2\\_Quintile'\n",
       "\\item 'SIMD2020v2\\_Income\\_Domain\\_Rank'\n",
       "\\item 'SIMD2020\\_Employment\\_Domain\\_Rank'\n",
       "\\item 'SIMD2020\\_Health\\_Domain\\_Rank'\n",
       "\\item 'SIMD2020\\_Education\\_Domain\\_Rank'\n",
       "\\item 'SIMD2020\\_Access\\_Domain\\_Rank'\n",
       "\\item 'SIMD2020\\_Crime\\_Domain\\_Rank'\n",
       "\\item 'SIMD2020\\_Housing\\_Domain\\_Rank'\n",
       "\\item 'income\\_rate'\n",
       "\\item 'income\\_count'\n",
       "\\item 'employment\\_rate'\n",
       "\\item 'employment\\_count'\n",
       "\\item 'CIF'\n",
       "\\item 'ALCOHOL'\n",
       "\\item 'DRUG'\n",
       "\\item 'SMR'\n",
       "\\item 'DEPRESS'\n",
       "\\item 'LBWT'\n",
       "\\item 'EMERG'\n",
       "\\item 'Attendance'\n",
       "\\item 'Attainment'\n",
       "\\item 'no\\_qualifications'\n",
       "\\item 'not\\_participating'\n",
       "\\item 'University'\n",
       "\\item 'crime\\_count'\n",
       "\\item 'crime\\_rate'\n",
       "\\item 'overcrowded\\_count'\n",
       "\\item 'nocentralheating\\_count'\n",
       "\\item 'overcrowded\\_rate'\n",
       "\\item 'nocentralheating\\_rate'\n",
       "\\item 'drive\\_petrol'\n",
       "\\item 'drive\\_GP'\n",
       "\\item 'drive\\_post'\n",
       "\\item 'drive\\_primary'\n",
       "\\item 'drive\\_retail'\n",
       "\\item 'drive\\_secondary'\n",
       "\\item 'PT\\_GP'\n",
       "\\item 'PT\\_post'\n",
       "\\item 'PT\\_retail'\n",
       "\\item 'broadband'\n",
       "\\end{enumerate*}\n"
      ],
      "text/markdown": [
       "1. 'Data_Zone'\n",
       "2. 'Intermediate_Zone'\n",
       "3. 'Council_area'\n",
       "4. 'Total_population'\n",
       "5. 'Working_Age_population'\n",
       "6. 'SIMD2020v2_Rank'\n",
       "7. 'SIMD_2020v2_Percentile'\n",
       "8. 'SIMD2020v2_Vigintile'\n",
       "9. 'SIMD2020v2_Decile'\n",
       "10. 'SIMD2020v2_Quintile'\n",
       "11. 'SIMD2020v2_Income_Domain_Rank'\n",
       "12. 'SIMD2020_Employment_Domain_Rank'\n",
       "13. 'SIMD2020_Health_Domain_Rank'\n",
       "14. 'SIMD2020_Education_Domain_Rank'\n",
       "15. 'SIMD2020_Access_Domain_Rank'\n",
       "16. 'SIMD2020_Crime_Domain_Rank'\n",
       "17. 'SIMD2020_Housing_Domain_Rank'\n",
       "18. 'income_rate'\n",
       "19. 'income_count'\n",
       "20. 'employment_rate'\n",
       "21. 'employment_count'\n",
       "22. 'CIF'\n",
       "23. 'ALCOHOL'\n",
       "24. 'DRUG'\n",
       "25. 'SMR'\n",
       "26. 'DEPRESS'\n",
       "27. 'LBWT'\n",
       "28. 'EMERG'\n",
       "29. 'Attendance'\n",
       "30. 'Attainment'\n",
       "31. 'no_qualifications'\n",
       "32. 'not_participating'\n",
       "33. 'University'\n",
       "34. 'crime_count'\n",
       "35. 'crime_rate'\n",
       "36. 'overcrowded_count'\n",
       "37. 'nocentralheating_count'\n",
       "38. 'overcrowded_rate'\n",
       "39. 'nocentralheating_rate'\n",
       "40. 'drive_petrol'\n",
       "41. 'drive_GP'\n",
       "42. 'drive_post'\n",
       "43. 'drive_primary'\n",
       "44. 'drive_retail'\n",
       "45. 'drive_secondary'\n",
       "46. 'PT_GP'\n",
       "47. 'PT_post'\n",
       "48. 'PT_retail'\n",
       "49. 'broadband'\n",
       "\n",
       "\n"
      ],
      "text/plain": [
       " [1] \"Data_Zone\"                       \"Intermediate_Zone\"              \n",
       " [3] \"Council_area\"                    \"Total_population\"               \n",
       " [5] \"Working_Age_population\"          \"SIMD2020v2_Rank\"                \n",
       " [7] \"SIMD_2020v2_Percentile\"          \"SIMD2020v2_Vigintile\"           \n",
       " [9] \"SIMD2020v2_Decile\"               \"SIMD2020v2_Quintile\"            \n",
       "[11] \"SIMD2020v2_Income_Domain_Rank\"   \"SIMD2020_Employment_Domain_Rank\"\n",
       "[13] \"SIMD2020_Health_Domain_Rank\"     \"SIMD2020_Education_Domain_Rank\" \n",
       "[15] \"SIMD2020_Access_Domain_Rank\"     \"SIMD2020_Crime_Domain_Rank\"     \n",
       "[17] \"SIMD2020_Housing_Domain_Rank\"    \"income_rate\"                    \n",
       "[19] \"income_count\"                    \"employment_rate\"                \n",
       "[21] \"employment_count\"                \"CIF\"                            \n",
       "[23] \"ALCOHOL\"                         \"DRUG\"                           \n",
       "[25] \"SMR\"                             \"DEPRESS\"                        \n",
       "[27] \"LBWT\"                            \"EMERG\"                          \n",
       "[29] \"Attendance\"                      \"Attainment\"                     \n",
       "[31] \"no_qualifications\"               \"not_participating\"              \n",
       "[33] \"University\"                      \"crime_count\"                    \n",
       "[35] \"crime_rate\"                      \"overcrowded_count\"              \n",
       "[37] \"nocentralheating_count\"          \"overcrowded_rate\"               \n",
       "[39] \"nocentralheating_rate\"           \"drive_petrol\"                   \n",
       "[41] \"drive_GP\"                        \"drive_post\"                     \n",
       "[43] \"drive_primary\"                   \"drive_retail\"                   \n",
       "[45] \"drive_secondary\"                 \"PT_GP\"                          \n",
       "[47] \"PT_post\"                         \"PT_retail\"                      \n",
       "[49] \"broadband\"                      "
      ]
     },
     "metadata": {},
     "output_type": "display_data"
    }
   ],
   "source": [
    "colnames(simd)"
   ]
  },
  {
   "cell_type": "code",
   "execution_count": 19,
   "id": "9407dfc9",
   "metadata": {
    "vscode": {
     "languageId": "r"
    }
   },
   "outputs": [
    {
     "data": {
      "text/html": [
       "<table class=\"dataframe\">\n",
       "<caption>A tibble: 6 × 11</caption>\n",
       "<thead>\n",
       "\t<tr><th scope=col>Data_Zone</th><th scope=col>Total_population</th><th scope=col>Working_Age_population</th><th scope=col>SIMD2020v2_Income_Domain_Rank</th><th scope=col>SIMD2020_Employment_Domain_Rank</th><th scope=col>SIMD2020_Health_Domain_Rank</th><th scope=col>SIMD2020_Housing_Domain_Rank</th><th scope=col>SIMD2020_Education_Domain_Rank</th><th scope=col>SIMD2020_Access_Domain_Rank</th><th scope=col>employment_rate</th><th scope=col>CIF</th></tr>\n",
       "\t<tr><th scope=col>&lt;chr&gt;</th><th scope=col>&lt;dbl&gt;</th><th scope=col>&lt;dbl&gt;</th><th scope=col>&lt;dbl&gt;</th><th scope=col>&lt;dbl&gt;</th><th scope=col>&lt;dbl&gt;</th><th scope=col>&lt;dbl&gt;</th><th scope=col>&lt;dbl&gt;</th><th scope=col>&lt;dbl&gt;</th><th scope=col>&lt;chr&gt;</th><th scope=col>&lt;dbl&gt;</th></tr>\n",
       "</thead>\n",
       "<tbody>\n",
       "\t<tr><td>S01006506</td><td>894</td><td>580</td><td>3936</td><td>3220</td><td>5174</td><td>3248.0</td><td>5887</td><td>4724</td><td>8%</td><td>65</td></tr>\n",
       "\t<tr><td>S01006507</td><td>793</td><td>470</td><td>4829</td><td>4481</td><td>5051</td><td>3486.0</td><td>4384</td><td>2148</td><td>5%</td><td>45</td></tr>\n",
       "\t<tr><td>S01006508</td><td>624</td><td>461</td><td>4460</td><td>5110</td><td>5942</td><td>5342.0</td><td>5915</td><td>4200</td><td>4%</td><td>45</td></tr>\n",
       "\t<tr><td>S01006509</td><td>537</td><td>307</td><td>3481</td><td>3229</td><td>3871</td><td>4394.5</td><td>6401</td><td>3982</td><td>8%</td><td>80</td></tr>\n",
       "\t<tr><td>S01006510</td><td>663</td><td>415</td><td>3344</td><td>3448</td><td>3049</td><td>3736.0</td><td>4092</td><td>5588</td><td>8%</td><td>95</td></tr>\n",
       "\t<tr><td>S01006511</td><td>759</td><td>453</td><td>5469</td><td>5346</td><td>5783</td><td>5924.0</td><td>5410</td><td>4974</td><td>4%</td><td>50</td></tr>\n",
       "</tbody>\n",
       "</table>\n"
      ],
      "text/latex": [
       "A tibble: 6 × 11\n",
       "\\begin{tabular}{lllllllllll}\n",
       " Data\\_Zone & Total\\_population & Working\\_Age\\_population & SIMD2020v2\\_Income\\_Domain\\_Rank & SIMD2020\\_Employment\\_Domain\\_Rank & SIMD2020\\_Health\\_Domain\\_Rank & SIMD2020\\_Housing\\_Domain\\_Rank & SIMD2020\\_Education\\_Domain\\_Rank & SIMD2020\\_Access\\_Domain\\_Rank & employment\\_rate & CIF\\\\\n",
       " <chr> & <dbl> & <dbl> & <dbl> & <dbl> & <dbl> & <dbl> & <dbl> & <dbl> & <chr> & <dbl>\\\\\n",
       "\\hline\n",
       "\t S01006506 & 894 & 580 & 3936 & 3220 & 5174 & 3248.0 & 5887 & 4724 & 8\\% & 65\\\\\n",
       "\t S01006507 & 793 & 470 & 4829 & 4481 & 5051 & 3486.0 & 4384 & 2148 & 5\\% & 45\\\\\n",
       "\t S01006508 & 624 & 461 & 4460 & 5110 & 5942 & 5342.0 & 5915 & 4200 & 4\\% & 45\\\\\n",
       "\t S01006509 & 537 & 307 & 3481 & 3229 & 3871 & 4394.5 & 6401 & 3982 & 8\\% & 80\\\\\n",
       "\t S01006510 & 663 & 415 & 3344 & 3448 & 3049 & 3736.0 & 4092 & 5588 & 8\\% & 95\\\\\n",
       "\t S01006511 & 759 & 453 & 5469 & 5346 & 5783 & 5924.0 & 5410 & 4974 & 4\\% & 50\\\\\n",
       "\\end{tabular}\n"
      ],
      "text/markdown": [
       "\n",
       "A tibble: 6 × 11\n",
       "\n",
       "| Data_Zone &lt;chr&gt; | Total_population &lt;dbl&gt; | Working_Age_population &lt;dbl&gt; | SIMD2020v2_Income_Domain_Rank &lt;dbl&gt; | SIMD2020_Employment_Domain_Rank &lt;dbl&gt; | SIMD2020_Health_Domain_Rank &lt;dbl&gt; | SIMD2020_Housing_Domain_Rank &lt;dbl&gt; | SIMD2020_Education_Domain_Rank &lt;dbl&gt; | SIMD2020_Access_Domain_Rank &lt;dbl&gt; | employment_rate &lt;chr&gt; | CIF &lt;dbl&gt; |\n",
       "|---|---|---|---|---|---|---|---|---|---|---|\n",
       "| S01006506 | 894 | 580 | 3936 | 3220 | 5174 | 3248.0 | 5887 | 4724 | 8% | 65 |\n",
       "| S01006507 | 793 | 470 | 4829 | 4481 | 5051 | 3486.0 | 4384 | 2148 | 5% | 45 |\n",
       "| S01006508 | 624 | 461 | 4460 | 5110 | 5942 | 5342.0 | 5915 | 4200 | 4% | 45 |\n",
       "| S01006509 | 537 | 307 | 3481 | 3229 | 3871 | 4394.5 | 6401 | 3982 | 8% | 80 |\n",
       "| S01006510 | 663 | 415 | 3344 | 3448 | 3049 | 3736.0 | 4092 | 5588 | 8% | 95 |\n",
       "| S01006511 | 759 | 453 | 5469 | 5346 | 5783 | 5924.0 | 5410 | 4974 | 4% | 50 |\n",
       "\n"
      ],
      "text/plain": [
       "  Data_Zone Total_population Working_Age_population\n",
       "1 S01006506 894              580                   \n",
       "2 S01006507 793              470                   \n",
       "3 S01006508 624              461                   \n",
       "4 S01006509 537              307                   \n",
       "5 S01006510 663              415                   \n",
       "6 S01006511 759              453                   \n",
       "  SIMD2020v2_Income_Domain_Rank SIMD2020_Employment_Domain_Rank\n",
       "1 3936                          3220                           \n",
       "2 4829                          4481                           \n",
       "3 4460                          5110                           \n",
       "4 3481                          3229                           \n",
       "5 3344                          3448                           \n",
       "6 5469                          5346                           \n",
       "  SIMD2020_Health_Domain_Rank SIMD2020_Housing_Domain_Rank\n",
       "1 5174                        3248.0                      \n",
       "2 5051                        3486.0                      \n",
       "3 5942                        5342.0                      \n",
       "4 3871                        4394.5                      \n",
       "5 3049                        3736.0                      \n",
       "6 5783                        5924.0                      \n",
       "  SIMD2020_Education_Domain_Rank SIMD2020_Access_Domain_Rank employment_rate\n",
       "1 5887                           4724                        8%             \n",
       "2 4384                           2148                        5%             \n",
       "3 5915                           4200                        4%             \n",
       "4 6401                           3982                        8%             \n",
       "5 4092                           5588                        8%             \n",
       "6 5410                           4974                        4%             \n",
       "  CIF\n",
       "1 65 \n",
       "2 45 \n",
       "3 45 \n",
       "4 80 \n",
       "5 95 \n",
       "6 50 "
      ]
     },
     "metadata": {},
     "output_type": "display_data"
    }
   ],
   "source": [
    "simd_selected <- simd %>%\n",
    "    select(Data_Zone,\n",
    "           Total_population,\n",
    "           Working_Age_population,\n",
    "           SIMD2020v2_Income_Domain_Rank,\n",
    "           SIMD2020_Employment_Domain_Rank,\n",
    "           SIMD2020_Health_Domain_Rank,\n",
    "           SIMD2020_Housing_Domain_Rank,\n",
    "           SIMD2020_Education_Domain_Rank,\n",
    "           SIMD2020_Access_Domain_Rank,\n",
    "           employment_rate,\n",
    "           CIF)\n",
    "\n",
    "head(simd_selected)"
   ]
  },
  {
   "cell_type": "code",
   "execution_count": 20,
   "id": "8ee6d586",
   "metadata": {
    "vscode": {
     "languageId": "r"
    }
   },
   "outputs": [
    {
     "data": {
      "text/html": [
       "<table class=\"dataframe\">\n",
       "<caption>A tibble: 6 × 10</caption>\n",
       "<thead>\n",
       "\t<tr><th scope=col>Data_Zone</th><th scope=col>SIMD2020v2_Income_Domain_Rank</th><th scope=col>SIMD2020_Employment_Domain_Rank</th><th scope=col>SIMD2020_Health_Domain_Rank</th><th scope=col>SIMD2020_Housing_Domain_Rank</th><th scope=col>SIMD2020_Education_Domain_Rank</th><th scope=col>SIMD2020_Access_Domain_Rank</th><th scope=col>employment_rate</th><th scope=col>CIF</th><th scope=col>working_age_percentage</th></tr>\n",
       "\t<tr><th scope=col>&lt;chr&gt;</th><th scope=col>&lt;dbl&gt;</th><th scope=col>&lt;dbl&gt;</th><th scope=col>&lt;dbl&gt;</th><th scope=col>&lt;dbl&gt;</th><th scope=col>&lt;dbl&gt;</th><th scope=col>&lt;dbl&gt;</th><th scope=col>&lt;chr&gt;</th><th scope=col>&lt;dbl&gt;</th><th scope=col>&lt;dbl&gt;</th></tr>\n",
       "</thead>\n",
       "<tbody>\n",
       "\t<tr><td>S01006506</td><td>3936</td><td>3220</td><td>5174</td><td>3248.0</td><td>5887</td><td>4724</td><td>8%</td><td>65</td><td>64.88</td></tr>\n",
       "\t<tr><td>S01006507</td><td>4829</td><td>4481</td><td>5051</td><td>3486.0</td><td>4384</td><td>2148</td><td>5%</td><td>45</td><td>59.27</td></tr>\n",
       "\t<tr><td>S01006508</td><td>4460</td><td>5110</td><td>5942</td><td>5342.0</td><td>5915</td><td>4200</td><td>4%</td><td>45</td><td>73.88</td></tr>\n",
       "\t<tr><td>S01006509</td><td>3481</td><td>3229</td><td>3871</td><td>4394.5</td><td>6401</td><td>3982</td><td>8%</td><td>80</td><td>57.17</td></tr>\n",
       "\t<tr><td>S01006510</td><td>3344</td><td>3448</td><td>3049</td><td>3736.0</td><td>4092</td><td>5588</td><td>8%</td><td>95</td><td>62.59</td></tr>\n",
       "\t<tr><td>S01006511</td><td>5469</td><td>5346</td><td>5783</td><td>5924.0</td><td>5410</td><td>4974</td><td>4%</td><td>50</td><td>59.68</td></tr>\n",
       "</tbody>\n",
       "</table>\n"
      ],
      "text/latex": [
       "A tibble: 6 × 10\n",
       "\\begin{tabular}{llllllllll}\n",
       " Data\\_Zone & SIMD2020v2\\_Income\\_Domain\\_Rank & SIMD2020\\_Employment\\_Domain\\_Rank & SIMD2020\\_Health\\_Domain\\_Rank & SIMD2020\\_Housing\\_Domain\\_Rank & SIMD2020\\_Education\\_Domain\\_Rank & SIMD2020\\_Access\\_Domain\\_Rank & employment\\_rate & CIF & working\\_age\\_percentage\\\\\n",
       " <chr> & <dbl> & <dbl> & <dbl> & <dbl> & <dbl> & <dbl> & <chr> & <dbl> & <dbl>\\\\\n",
       "\\hline\n",
       "\t S01006506 & 3936 & 3220 & 5174 & 3248.0 & 5887 & 4724 & 8\\% & 65 & 64.88\\\\\n",
       "\t S01006507 & 4829 & 4481 & 5051 & 3486.0 & 4384 & 2148 & 5\\% & 45 & 59.27\\\\\n",
       "\t S01006508 & 4460 & 5110 & 5942 & 5342.0 & 5915 & 4200 & 4\\% & 45 & 73.88\\\\\n",
       "\t S01006509 & 3481 & 3229 & 3871 & 4394.5 & 6401 & 3982 & 8\\% & 80 & 57.17\\\\\n",
       "\t S01006510 & 3344 & 3448 & 3049 & 3736.0 & 4092 & 5588 & 8\\% & 95 & 62.59\\\\\n",
       "\t S01006511 & 5469 & 5346 & 5783 & 5924.0 & 5410 & 4974 & 4\\% & 50 & 59.68\\\\\n",
       "\\end{tabular}\n"
      ],
      "text/markdown": [
       "\n",
       "A tibble: 6 × 10\n",
       "\n",
       "| Data_Zone &lt;chr&gt; | SIMD2020v2_Income_Domain_Rank &lt;dbl&gt; | SIMD2020_Employment_Domain_Rank &lt;dbl&gt; | SIMD2020_Health_Domain_Rank &lt;dbl&gt; | SIMD2020_Housing_Domain_Rank &lt;dbl&gt; | SIMD2020_Education_Domain_Rank &lt;dbl&gt; | SIMD2020_Access_Domain_Rank &lt;dbl&gt; | employment_rate &lt;chr&gt; | CIF &lt;dbl&gt; | working_age_percentage &lt;dbl&gt; |\n",
       "|---|---|---|---|---|---|---|---|---|---|\n",
       "| S01006506 | 3936 | 3220 | 5174 | 3248.0 | 5887 | 4724 | 8% | 65 | 64.88 |\n",
       "| S01006507 | 4829 | 4481 | 5051 | 3486.0 | 4384 | 2148 | 5% | 45 | 59.27 |\n",
       "| S01006508 | 4460 | 5110 | 5942 | 5342.0 | 5915 | 4200 | 4% | 45 | 73.88 |\n",
       "| S01006509 | 3481 | 3229 | 3871 | 4394.5 | 6401 | 3982 | 8% | 80 | 57.17 |\n",
       "| S01006510 | 3344 | 3448 | 3049 | 3736.0 | 4092 | 5588 | 8% | 95 | 62.59 |\n",
       "| S01006511 | 5469 | 5346 | 5783 | 5924.0 | 5410 | 4974 | 4% | 50 | 59.68 |\n",
       "\n"
      ],
      "text/plain": [
       "  Data_Zone SIMD2020v2_Income_Domain_Rank SIMD2020_Employment_Domain_Rank\n",
       "1 S01006506 3936                          3220                           \n",
       "2 S01006507 4829                          4481                           \n",
       "3 S01006508 4460                          5110                           \n",
       "4 S01006509 3481                          3229                           \n",
       "5 S01006510 3344                          3448                           \n",
       "6 S01006511 5469                          5346                           \n",
       "  SIMD2020_Health_Domain_Rank SIMD2020_Housing_Domain_Rank\n",
       "1 5174                        3248.0                      \n",
       "2 5051                        3486.0                      \n",
       "3 5942                        5342.0                      \n",
       "4 3871                        4394.5                      \n",
       "5 3049                        3736.0                      \n",
       "6 5783                        5924.0                      \n",
       "  SIMD2020_Education_Domain_Rank SIMD2020_Access_Domain_Rank employment_rate\n",
       "1 5887                           4724                        8%             \n",
       "2 4384                           2148                        5%             \n",
       "3 5915                           4200                        4%             \n",
       "4 6401                           3982                        8%             \n",
       "5 4092                           5588                        8%             \n",
       "6 5410                           4974                        4%             \n",
       "  CIF working_age_percentage\n",
       "1 65  64.88                 \n",
       "2 45  59.27                 \n",
       "3 45  73.88                 \n",
       "4 80  57.17                 \n",
       "5 95  62.59                 \n",
       "6 50  59.68                 "
      ]
     },
     "metadata": {},
     "output_type": "display_data"
    }
   ],
   "source": [
    "simd_selected <- simd_selected %>%\n",
    "    # Create working age % as proxy for age distribution\n",
    "    mutate(\n",
    "        working_age_percentage = round(\n",
    "            (Working_Age_population/Total_population)*100,\n",
    "            2\n",
    "        )\n",
    "    ) %>%\n",
    "    select(-Working_Age_population, -Total_population)\n",
    "    \n",
    "\n",
    "head(simd_selected)"
   ]
  },
  {
   "cell_type": "code",
   "execution_count": 21,
   "id": "6c227077",
   "metadata": {
    "vscode": {
     "languageId": "r"
    }
   },
   "outputs": [
    {
     "name": "stderr",
     "output_type": "stream",
     "text": [
      "\u001b[1mRows: \u001b[22m\u001b[34m916\u001b[39m \u001b[1mColumns: \u001b[22m\u001b[34m16\u001b[39m\n",
      "\u001b[36m──\u001b[39m \u001b[1mColumn specification\u001b[22m \u001b[36m────────────────────────────────────────────────────────\u001b[39m\n",
      "\u001b[1mDelimiter:\u001b[22m \",\"\n",
      "\u001b[31mchr\u001b[39m (13): GPPracticeName, AddressLine1, AddressLine2, AddressLine3, AddressL...\n",
      "\u001b[32mdbl\u001b[39m  (3): _id, PracticeCode, PracticeListSize\n",
      "\n",
      "\u001b[36mℹ\u001b[39m Use `spec()` to retrieve the full column specification for this data.\n",
      "\u001b[36mℹ\u001b[39m Specify the column types or set `show_col_types = FALSE` to quiet this message.\n"
     ]
    },
    {
     "data": {
      "text/html": [
       "<style>\n",
       ".list-inline {list-style: none; margin:0; padding: 0}\n",
       ".list-inline>li {display: inline-block}\n",
       ".list-inline>li:not(:last-child)::after {content: \"\\00b7\"; padding: 0 .5ex}\n",
       "</style>\n",
       "<ol class=list-inline><li>916</li><li>16</li></ol>\n"
      ],
      "text/latex": [
       "\\begin{enumerate*}\n",
       "\\item 916\n",
       "\\item 16\n",
       "\\end{enumerate*}\n"
      ],
      "text/markdown": [
       "1. 916\n",
       "2. 16\n",
       "\n",
       "\n"
      ],
      "text/plain": [
       "[1] 916  16"
      ]
     },
     "metadata": {},
     "output_type": "display_data"
    },
    {
     "data": {
      "text/html": [
       "<table class=\"dataframe\">\n",
       "<caption>A tibble: 6 × 16</caption>\n",
       "<thead>\n",
       "\t<tr><th scope=col>_id</th><th scope=col>PracticeCode</th><th scope=col>GPPracticeName</th><th scope=col>PracticeListSize</th><th scope=col>AddressLine1</th><th scope=col>AddressLine2</th><th scope=col>AddressLine3</th><th scope=col>AddressLine4</th><th scope=col>Postcode</th><th scope=col>TelephoneNumber</th><th scope=col>PracticeType</th><th scope=col>Dispensing</th><th scope=col>HB</th><th scope=col>HSCP</th><th scope=col>DataZone</th><th scope=col>GPCluster</th></tr>\n",
       "\t<tr><th scope=col>&lt;dbl&gt;</th><th scope=col>&lt;dbl&gt;</th><th scope=col>&lt;chr&gt;</th><th scope=col>&lt;dbl&gt;</th><th scope=col>&lt;chr&gt;</th><th scope=col>&lt;chr&gt;</th><th scope=col>&lt;chr&gt;</th><th scope=col>&lt;chr&gt;</th><th scope=col>&lt;chr&gt;</th><th scope=col>&lt;chr&gt;</th><th scope=col>&lt;chr&gt;</th><th scope=col>&lt;chr&gt;</th><th scope=col>&lt;chr&gt;</th><th scope=col>&lt;chr&gt;</th><th scope=col>&lt;chr&gt;</th><th scope=col>&lt;chr&gt;</th></tr>\n",
       "</thead>\n",
       "<tbody>\n",
       "\t<tr><td>1</td><td>10002</td><td>Muirhead Medical Centre                       </td><td>8102</td><td>Muirhead Medical Centre                       </td><td>Liff Road            </td><td>Muirhead      </td><td>NA        </td><td>DD2 5NH </td><td>01382   580   264</td><td>17J</td><td>N</td><td>S08000030</td><td>S37000003</td><td>S01007129</td><td>Dundee 4             </td></tr>\n",
       "\t<tr><td>2</td><td>10017</td><td>The Blue Practice                             </td><td>6620</td><td>The Blue Practice                             </td><td>Crieff Medical Centre</td><td>King Street   </td><td>Crieff    </td><td>PH7 3SA </td><td>01764   652   283</td><td>17J</td><td>N</td><td>S08000030</td><td>S37000033</td><td>S01011870</td><td>Strathearn Cluster   </td></tr>\n",
       "\t<tr><td>3</td><td>10036</td><td>Aberfeldy And Kinloch Rannoch Medical Practice</td><td>4758</td><td>Aberfeldy And Kinloch Rannoch Medical Practice</td><td>Taybridge Road       </td><td>Aberfeldy     </td><td>Perthshire</td><td>PH15 2BL</td><td>01887   820   366</td><td>17J</td><td>Y</td><td>S08000030</td><td>S37000033</td><td>S01012014</td><td>North West Perthshire</td></tr>\n",
       "\t<tr><td>4</td><td>10106</td><td>Grove Health Centre                           </td><td>6075</td><td>Grove Health Centre                           </td><td>129 Dundee Road      </td><td>Broughty Ferry</td><td>Dundee    </td><td>DD5 1DU </td><td>01382   778   881</td><td>17J</td><td>N</td><td>S08000030</td><td>S37000007</td><td>S01007758</td><td>Dundee 2             </td></tr>\n",
       "\t<tr><td>5</td><td>10125</td><td>Alyth Health Centre                           </td><td>4385</td><td>Alyth Health Centre                           </td><td>New Alyth Road       </td><td>Alyth         </td><td>NA        </td><td>PH11 8EQ</td><td>01828   632   317</td><td>17J</td><td>N</td><td>S08000030</td><td>S37000033</td><td>S01011975</td><td>Strathmore Cluster   </td></tr>\n",
       "\t<tr><td>6</td><td>10182</td><td>Arbroath Medical Centre                       </td><td>9188</td><td>Arbroath Medical Centre                       </td><td>7 Hill Place         </td><td>Arbroath      </td><td>NA        </td><td>DD11 1AD</td><td>01241   431   144</td><td>17J</td><td>N</td><td>S08000030</td><td>S37000003</td><td>S01007187</td><td>Angus South East     </td></tr>\n",
       "</tbody>\n",
       "</table>\n"
      ],
      "text/latex": [
       "A tibble: 6 × 16\n",
       "\\begin{tabular}{llllllllllllllll}\n",
       " \\_id & PracticeCode & GPPracticeName & PracticeListSize & AddressLine1 & AddressLine2 & AddressLine3 & AddressLine4 & Postcode & TelephoneNumber & PracticeType & Dispensing & HB & HSCP & DataZone & GPCluster\\\\\n",
       " <dbl> & <dbl> & <chr> & <dbl> & <chr> & <chr> & <chr> & <chr> & <chr> & <chr> & <chr> & <chr> & <chr> & <chr> & <chr> & <chr>\\\\\n",
       "\\hline\n",
       "\t 1 & 10002 & Muirhead Medical Centre                        & 8102 & Muirhead Medical Centre                        & Liff Road             & Muirhead       & NA         & DD2 5NH  & 01382   580   264 & 17J & N & S08000030 & S37000003 & S01007129 & Dundee 4             \\\\\n",
       "\t 2 & 10017 & The Blue Practice                              & 6620 & The Blue Practice                              & Crieff Medical Centre & King Street    & Crieff     & PH7 3SA  & 01764   652   283 & 17J & N & S08000030 & S37000033 & S01011870 & Strathearn Cluster   \\\\\n",
       "\t 3 & 10036 & Aberfeldy And Kinloch Rannoch Medical Practice & 4758 & Aberfeldy And Kinloch Rannoch Medical Practice & Taybridge Road        & Aberfeldy      & Perthshire & PH15 2BL & 01887   820   366 & 17J & Y & S08000030 & S37000033 & S01012014 & North West Perthshire\\\\\n",
       "\t 4 & 10106 & Grove Health Centre                            & 6075 & Grove Health Centre                            & 129 Dundee Road       & Broughty Ferry & Dundee     & DD5 1DU  & 01382   778   881 & 17J & N & S08000030 & S37000007 & S01007758 & Dundee 2             \\\\\n",
       "\t 5 & 10125 & Alyth Health Centre                            & 4385 & Alyth Health Centre                            & New Alyth Road        & Alyth          & NA         & PH11 8EQ & 01828   632   317 & 17J & N & S08000030 & S37000033 & S01011975 & Strathmore Cluster   \\\\\n",
       "\t 6 & 10182 & Arbroath Medical Centre                        & 9188 & Arbroath Medical Centre                        & 7 Hill Place          & Arbroath       & NA         & DD11 1AD & 01241   431   144 & 17J & N & S08000030 & S37000003 & S01007187 & Angus South East     \\\\\n",
       "\\end{tabular}\n"
      ],
      "text/markdown": [
       "\n",
       "A tibble: 6 × 16\n",
       "\n",
       "| _id &lt;dbl&gt; | PracticeCode &lt;dbl&gt; | GPPracticeName &lt;chr&gt; | PracticeListSize &lt;dbl&gt; | AddressLine1 &lt;chr&gt; | AddressLine2 &lt;chr&gt; | AddressLine3 &lt;chr&gt; | AddressLine4 &lt;chr&gt; | Postcode &lt;chr&gt; | TelephoneNumber &lt;chr&gt; | PracticeType &lt;chr&gt; | Dispensing &lt;chr&gt; | HB &lt;chr&gt; | HSCP &lt;chr&gt; | DataZone &lt;chr&gt; | GPCluster &lt;chr&gt; |\n",
       "|---|---|---|---|---|---|---|---|---|---|---|---|---|---|---|---|\n",
       "| 1 | 10002 | Muirhead Medical Centre                        | 8102 | Muirhead Medical Centre                        | Liff Road             | Muirhead       | NA         | DD2 5NH  | 01382   580   264 | 17J | N | S08000030 | S37000003 | S01007129 | Dundee 4              |\n",
       "| 2 | 10017 | The Blue Practice                              | 6620 | The Blue Practice                              | Crieff Medical Centre | King Street    | Crieff     | PH7 3SA  | 01764   652   283 | 17J | N | S08000030 | S37000033 | S01011870 | Strathearn Cluster    |\n",
       "| 3 | 10036 | Aberfeldy And Kinloch Rannoch Medical Practice | 4758 | Aberfeldy And Kinloch Rannoch Medical Practice | Taybridge Road        | Aberfeldy      | Perthshire | PH15 2BL | 01887   820   366 | 17J | Y | S08000030 | S37000033 | S01012014 | North West Perthshire |\n",
       "| 4 | 10106 | Grove Health Centre                            | 6075 | Grove Health Centre                            | 129 Dundee Road       | Broughty Ferry | Dundee     | DD5 1DU  | 01382   778   881 | 17J | N | S08000030 | S37000007 | S01007758 | Dundee 2              |\n",
       "| 5 | 10125 | Alyth Health Centre                            | 4385 | Alyth Health Centre                            | New Alyth Road        | Alyth          | NA         | PH11 8EQ | 01828   632   317 | 17J | N | S08000030 | S37000033 | S01011975 | Strathmore Cluster    |\n",
       "| 6 | 10182 | Arbroath Medical Centre                        | 9188 | Arbroath Medical Centre                        | 7 Hill Place          | Arbroath       | NA         | DD11 1AD | 01241   431   144 | 17J | N | S08000030 | S37000003 | S01007187 | Angus South East      |\n",
       "\n"
      ],
      "text/plain": [
       "  _id PracticeCode GPPracticeName                                \n",
       "1 1   10002        Muirhead Medical Centre                       \n",
       "2 2   10017        The Blue Practice                             \n",
       "3 3   10036        Aberfeldy And Kinloch Rannoch Medical Practice\n",
       "4 4   10106        Grove Health Centre                           \n",
       "5 5   10125        Alyth Health Centre                           \n",
       "6 6   10182        Arbroath Medical Centre                       \n",
       "  PracticeListSize AddressLine1                                  \n",
       "1 8102             Muirhead Medical Centre                       \n",
       "2 6620             The Blue Practice                             \n",
       "3 4758             Aberfeldy And Kinloch Rannoch Medical Practice\n",
       "4 6075             Grove Health Centre                           \n",
       "5 4385             Alyth Health Centre                           \n",
       "6 9188             Arbroath Medical Centre                       \n",
       "  AddressLine2          AddressLine3   AddressLine4 Postcode TelephoneNumber  \n",
       "1 Liff Road             Muirhead       NA           DD2 5NH  01382   580   264\n",
       "2 Crieff Medical Centre King Street    Crieff       PH7 3SA  01764   652   283\n",
       "3 Taybridge Road        Aberfeldy      Perthshire   PH15 2BL 01887   820   366\n",
       "4 129 Dundee Road       Broughty Ferry Dundee       DD5 1DU  01382   778   881\n",
       "5 New Alyth Road        Alyth          NA           PH11 8EQ 01828   632   317\n",
       "6 7 Hill Place          Arbroath       NA           DD11 1AD 01241   431   144\n",
       "  PracticeType Dispensing HB        HSCP      DataZone  GPCluster            \n",
       "1 17J          N          S08000030 S37000003 S01007129 Dundee 4             \n",
       "2 17J          N          S08000030 S37000033 S01011870 Strathearn Cluster   \n",
       "3 17J          Y          S08000030 S37000033 S01012014 North West Perthshire\n",
       "4 17J          N          S08000030 S37000007 S01007758 Dundee 2             \n",
       "5 17J          N          S08000030 S37000033 S01011975 Strathmore Cluster   \n",
       "6 17J          N          S08000030 S37000003 S01007187 Angus South East     "
      ]
     },
     "metadata": {},
     "output_type": "display_data"
    },
    {
     "data": {
      "text/html": [
       "<style>\n",
       ".list-inline {list-style: none; margin:0; padding: 0}\n",
       ".list-inline>li {display: inline-block}\n",
       ".list-inline>li:not(:last-child)::after {content: \"\\00b7\"; padding: 0 .5ex}\n",
       "</style>\n",
       "<ol class=list-inline><li>'_id'</li><li>'PracticeCode'</li><li>'GPPracticeName'</li><li>'PracticeListSize'</li><li>'AddressLine1'</li><li>'AddressLine2'</li><li>'AddressLine3'</li><li>'AddressLine4'</li><li>'Postcode'</li><li>'TelephoneNumber'</li><li>'PracticeType'</li><li>'Dispensing'</li><li>'HB'</li><li>'HSCP'</li><li>'DataZone'</li><li>'GPCluster'</li></ol>\n"
      ],
      "text/latex": [
       "\\begin{enumerate*}\n",
       "\\item '\\_id'\n",
       "\\item 'PracticeCode'\n",
       "\\item 'GPPracticeName'\n",
       "\\item 'PracticeListSize'\n",
       "\\item 'AddressLine1'\n",
       "\\item 'AddressLine2'\n",
       "\\item 'AddressLine3'\n",
       "\\item 'AddressLine4'\n",
       "\\item 'Postcode'\n",
       "\\item 'TelephoneNumber'\n",
       "\\item 'PracticeType'\n",
       "\\item 'Dispensing'\n",
       "\\item 'HB'\n",
       "\\item 'HSCP'\n",
       "\\item 'DataZone'\n",
       "\\item 'GPCluster'\n",
       "\\end{enumerate*}\n"
      ],
      "text/markdown": [
       "1. '_id'\n",
       "2. 'PracticeCode'\n",
       "3. 'GPPracticeName'\n",
       "4. 'PracticeListSize'\n",
       "5. 'AddressLine1'\n",
       "6. 'AddressLine2'\n",
       "7. 'AddressLine3'\n",
       "8. 'AddressLine4'\n",
       "9. 'Postcode'\n",
       "10. 'TelephoneNumber'\n",
       "11. 'PracticeType'\n",
       "12. 'Dispensing'\n",
       "13. 'HB'\n",
       "14. 'HSCP'\n",
       "15. 'DataZone'\n",
       "16. 'GPCluster'\n",
       "\n",
       "\n"
      ],
      "text/plain": [
       " [1] \"_id\"              \"PracticeCode\"     \"GPPracticeName\"   \"PracticeListSize\"\n",
       " [5] \"AddressLine1\"     \"AddressLine2\"     \"AddressLine3\"     \"AddressLine4\"    \n",
       " [9] \"Postcode\"         \"TelephoneNumber\"  \"PracticeType\"     \"Dispensing\"      \n",
       "[13] \"HB\"               \"HSCP\"             \"DataZone\"         \"GPCluster\"       "
      ]
     },
     "metadata": {},
     "output_type": "display_data"
    }
   ],
   "source": [
    "# Read in GP Data from Public Health Scotland Website\n",
    "# https://www.opendata.nhs.scot/dataset/gp-practice-contact-details-and-list-sizes/resource/8175c9ac-6953-4636-b151-f3946ef0fb80\n",
    "gp_data <- read_csv('../data/GP_extended_data.csv')\n",
    "\n",
    "dim(gp_data)\n",
    "head(gp_data)\n",
    "colnames(gp_data)"
   ]
  },
  {
   "cell_type": "code",
   "execution_count": 22,
   "id": "5f03ea92",
   "metadata": {
    "vscode": {
     "languageId": "r"
    }
   },
   "outputs": [
    {
     "data": {
      "text/html": [
       "<style>\n",
       ".list-inline {list-style: none; margin:0; padding: 0}\n",
       ".list-inline>li {display: inline-block}\n",
       ".list-inline>li:not(:last-child)::after {content: \"\\00b7\"; padding: 0 .5ex}\n",
       "</style>\n",
       "<ol class=list-inline><li>916</li><li>4</li></ol>\n"
      ],
      "text/latex": [
       "\\begin{enumerate*}\n",
       "\\item 916\n",
       "\\item 4\n",
       "\\end{enumerate*}\n"
      ],
      "text/markdown": [
       "1. 916\n",
       "2. 4\n",
       "\n",
       "\n"
      ],
      "text/plain": [
       "[1] 916   4"
      ]
     },
     "metadata": {},
     "output_type": "display_data"
    },
    {
     "data": {
      "text/html": [
       "<table class=\"dataframe\">\n",
       "<caption>A tibble: 6 × 4</caption>\n",
       "<thead>\n",
       "\t<tr><th scope=col>PracticeCode</th><th scope=col>GPPracticeName</th><th scope=col>PracticeListSize</th><th scope=col>DataZone</th></tr>\n",
       "\t<tr><th scope=col>&lt;dbl&gt;</th><th scope=col>&lt;chr&gt;</th><th scope=col>&lt;dbl&gt;</th><th scope=col>&lt;chr&gt;</th></tr>\n",
       "</thead>\n",
       "<tbody>\n",
       "\t<tr><td>10002</td><td>Muirhead Medical Centre                       </td><td>8102</td><td>S01007129</td></tr>\n",
       "\t<tr><td>10017</td><td>The Blue Practice                             </td><td>6620</td><td>S01011870</td></tr>\n",
       "\t<tr><td>10036</td><td>Aberfeldy And Kinloch Rannoch Medical Practice</td><td>4758</td><td>S01012014</td></tr>\n",
       "\t<tr><td>10106</td><td>Grove Health Centre                           </td><td>6075</td><td>S01007758</td></tr>\n",
       "\t<tr><td>10125</td><td>Alyth Health Centre                           </td><td>4385</td><td>S01011975</td></tr>\n",
       "\t<tr><td>10182</td><td>Arbroath Medical Centre                       </td><td>9188</td><td>S01007187</td></tr>\n",
       "</tbody>\n",
       "</table>\n"
      ],
      "text/latex": [
       "A tibble: 6 × 4\n",
       "\\begin{tabular}{llll}\n",
       " PracticeCode & GPPracticeName & PracticeListSize & DataZone\\\\\n",
       " <dbl> & <chr> & <dbl> & <chr>\\\\\n",
       "\\hline\n",
       "\t 10002 & Muirhead Medical Centre                        & 8102 & S01007129\\\\\n",
       "\t 10017 & The Blue Practice                              & 6620 & S01011870\\\\\n",
       "\t 10036 & Aberfeldy And Kinloch Rannoch Medical Practice & 4758 & S01012014\\\\\n",
       "\t 10106 & Grove Health Centre                            & 6075 & S01007758\\\\\n",
       "\t 10125 & Alyth Health Centre                            & 4385 & S01011975\\\\\n",
       "\t 10182 & Arbroath Medical Centre                        & 9188 & S01007187\\\\\n",
       "\\end{tabular}\n"
      ],
      "text/markdown": [
       "\n",
       "A tibble: 6 × 4\n",
       "\n",
       "| PracticeCode &lt;dbl&gt; | GPPracticeName &lt;chr&gt; | PracticeListSize &lt;dbl&gt; | DataZone &lt;chr&gt; |\n",
       "|---|---|---|---|\n",
       "| 10002 | Muirhead Medical Centre                        | 8102 | S01007129 |\n",
       "| 10017 | The Blue Practice                              | 6620 | S01011870 |\n",
       "| 10036 | Aberfeldy And Kinloch Rannoch Medical Practice | 4758 | S01012014 |\n",
       "| 10106 | Grove Health Centre                            | 6075 | S01007758 |\n",
       "| 10125 | Alyth Health Centre                            | 4385 | S01011975 |\n",
       "| 10182 | Arbroath Medical Centre                        | 9188 | S01007187 |\n",
       "\n"
      ],
      "text/plain": [
       "  PracticeCode GPPracticeName                                 PracticeListSize\n",
       "1 10002        Muirhead Medical Centre                        8102            \n",
       "2 10017        The Blue Practice                              6620            \n",
       "3 10036        Aberfeldy And Kinloch Rannoch Medical Practice 4758            \n",
       "4 10106        Grove Health Centre                            6075            \n",
       "5 10125        Alyth Health Centre                            4385            \n",
       "6 10182        Arbroath Medical Centre                        9188            \n",
       "  DataZone \n",
       "1 S01007129\n",
       "2 S01011870\n",
       "3 S01012014\n",
       "4 S01007758\n",
       "5 S01011975\n",
       "6 S01007187"
      ]
     },
     "metadata": {},
     "output_type": "display_data"
    }
   ],
   "source": [
    "gp_data_selected <- gp_data %>%\n",
    "    select(PracticeCode, GPPracticeName, PracticeListSize, DataZone)\n",
    "\n",
    "dim(gp_data_selected)\n",
    "head(gp_data_selected)"
   ]
  },
  {
   "cell_type": "code",
   "execution_count": 23,
   "id": "b5546d70",
   "metadata": {
    "vscode": {
     "languageId": "r"
    }
   },
   "outputs": [
    {
     "data": {
      "text/html": [
       "<style>\n",
       ".list-inline {list-style: none; margin:0; padding: 0}\n",
       ".list-inline>li {display: inline-block}\n",
       ".list-inline>li:not(:last-child)::after {content: \"\\00b7\"; padding: 0 .5ex}\n",
       "</style>\n",
       "<ol class=list-inline><li>'PracticeCode'</li><li>'GPPracticeName'</li><li>'PracticeListSize'</li><li>'DataZone'</li></ol>\n"
      ],
      "text/latex": [
       "\\begin{enumerate*}\n",
       "\\item 'PracticeCode'\n",
       "\\item 'GPPracticeName'\n",
       "\\item 'PracticeListSize'\n",
       "\\item 'DataZone'\n",
       "\\end{enumerate*}\n"
      ],
      "text/markdown": [
       "1. 'PracticeCode'\n",
       "2. 'GPPracticeName'\n",
       "3. 'PracticeListSize'\n",
       "4. 'DataZone'\n",
       "\n",
       "\n"
      ],
      "text/plain": [
       "[1] \"PracticeCode\"     \"GPPracticeName\"   \"PracticeListSize\" \"DataZone\"        "
      ]
     },
     "metadata": {},
     "output_type": "display_data"
    },
    {
     "data": {
      "text/html": [
       "<style>\n",
       ".list-inline {list-style: none; margin:0; padding: 0}\n",
       ".list-inline>li {display: inline-block}\n",
       ".list-inline>li:not(:last-child)::after {content: \"\\00b7\"; padding: 0 .5ex}\n",
       "</style>\n",
       "<ol class=list-inline><li>'Data_Zone'</li><li>'SIMD2020v2_Income_Domain_Rank'</li><li>'SIMD2020_Employment_Domain_Rank'</li><li>'SIMD2020_Health_Domain_Rank'</li><li>'SIMD2020_Housing_Domain_Rank'</li><li>'SIMD2020_Education_Domain_Rank'</li><li>'SIMD2020_Access_Domain_Rank'</li><li>'employment_rate'</li><li>'CIF'</li><li>'working_age_percentage'</li></ol>\n"
      ],
      "text/latex": [
       "\\begin{enumerate*}\n",
       "\\item 'Data\\_Zone'\n",
       "\\item 'SIMD2020v2\\_Income\\_Domain\\_Rank'\n",
       "\\item 'SIMD2020\\_Employment\\_Domain\\_Rank'\n",
       "\\item 'SIMD2020\\_Health\\_Domain\\_Rank'\n",
       "\\item 'SIMD2020\\_Housing\\_Domain\\_Rank'\n",
       "\\item 'SIMD2020\\_Education\\_Domain\\_Rank'\n",
       "\\item 'SIMD2020\\_Access\\_Domain\\_Rank'\n",
       "\\item 'employment\\_rate'\n",
       "\\item 'CIF'\n",
       "\\item 'working\\_age\\_percentage'\n",
       "\\end{enumerate*}\n"
      ],
      "text/markdown": [
       "1. 'Data_Zone'\n",
       "2. 'SIMD2020v2_Income_Domain_Rank'\n",
       "3. 'SIMD2020_Employment_Domain_Rank'\n",
       "4. 'SIMD2020_Health_Domain_Rank'\n",
       "5. 'SIMD2020_Housing_Domain_Rank'\n",
       "6. 'SIMD2020_Education_Domain_Rank'\n",
       "7. 'SIMD2020_Access_Domain_Rank'\n",
       "8. 'employment_rate'\n",
       "9. 'CIF'\n",
       "10. 'working_age_percentage'\n",
       "\n",
       "\n"
      ],
      "text/plain": [
       " [1] \"Data_Zone\"                       \"SIMD2020v2_Income_Domain_Rank\"  \n",
       " [3] \"SIMD2020_Employment_Domain_Rank\" \"SIMD2020_Health_Domain_Rank\"    \n",
       " [5] \"SIMD2020_Housing_Domain_Rank\"    \"SIMD2020_Education_Domain_Rank\" \n",
       " [7] \"SIMD2020_Access_Domain_Rank\"     \"employment_rate\"                \n",
       " [9] \"CIF\"                             \"working_age_percentage\"         "
      ]
     },
     "metadata": {},
     "output_type": "display_data"
    }
   ],
   "source": [
    "colnames(gp_data_selected)\n",
    "colnames(simd_selected)"
   ]
  },
  {
   "cell_type": "code",
   "execution_count": 24,
   "id": "cbe1342a",
   "metadata": {
    "vscode": {
     "languageId": "r"
    }
   },
   "outputs": [],
   "source": [
    "# Merge SIMD data into GP data\n",
    "simd_gp_data <- gp_data_selected %>%\n",
    "    full_join(simd_selected, by = c(\"DataZone\" = \"Data_Zone\")) %>%\n",
    "    filter(!is.na(PracticeCode))"
   ]
  },
  {
   "cell_type": "code",
   "execution_count": 25,
   "id": "cdc8e07b",
   "metadata": {
    "vscode": {
     "languageId": "r"
    }
   },
   "outputs": [
    {
     "data": {
      "text/html": [
       "<table class=\"dataframe\">\n",
       "<caption>A tibble: 6 × 16</caption>\n",
       "<thead>\n",
       "\t<tr><th scope=col>gp_practice</th><th scope=col>gp_number</th><th scope=col>q1_positive</th><th scope=col>q2_positive</th><th scope=col>q3_positive</th><th scope=col>PracticeListSize</th><th scope=col>DataZone</th><th scope=col>income_rank</th><th scope=col>employment_rank</th><th scope=col>health_rank</th><th scope=col>housing_rank</th><th scope=col>education_rank</th><th scope=col>access_rank</th><th scope=col>employment_rate</th><th scope=col>CIF</th><th scope=col>working_age_percentage</th></tr>\n",
       "\t<tr><th scope=col>&lt;chr&gt;</th><th scope=col>&lt;dbl&gt;</th><th scope=col>&lt;dbl&gt;</th><th scope=col>&lt;dbl&gt;</th><th scope=col>&lt;dbl&gt;</th><th scope=col>&lt;dbl&gt;</th><th scope=col>&lt;chr&gt;</th><th scope=col>&lt;dbl&gt;</th><th scope=col>&lt;dbl&gt;</th><th scope=col>&lt;dbl&gt;</th><th scope=col>&lt;dbl&gt;</th><th scope=col>&lt;dbl&gt;</th><th scope=col>&lt;dbl&gt;</th><th scope=col>&lt;chr&gt;</th><th scope=col>&lt;dbl&gt;</th><th scope=col>&lt;dbl&gt;</th></tr>\n",
       "</thead>\n",
       "<tbody>\n",
       "\t<tr><td>Abbey Medical Centre - Paisley (87625)                            </td><td>87625</td><td>73.31</td><td>97.44</td><td>91.45</td><td>11096</td><td>S01012126</td><td>4547</td><td>4358</td><td>4365</td><td>2335</td><td>4351</td><td>4678</td><td>6% </td><td> 65</td><td>75.30</td></tr>\n",
       "\t<tr><td>Abercromby Practice - Glasgow (46555)                             </td><td>46555</td><td>78.51</td><td>93.93</td><td>87.44</td><td> 3281</td><td>S01010055</td><td> 195</td><td>  69</td><td>  10</td><td> 215</td><td> 416</td><td>5869</td><td>31%</td><td>250</td><td>69.65</td></tr>\n",
       "\t<tr><td>Aberfeldy And Kinloch Rannoch Medical Practice - Aberfeldy (10036)</td><td>10036</td><td>87.11</td><td>95.03</td><td>98.06</td><td> 4758</td><td>S01012014</td><td>3725</td><td>3780</td><td>4372</td><td>3547</td><td>3288</td><td>6676</td><td>7% </td><td> 70</td><td>59.16</td></tr>\n",
       "\t<tr><td><span style=white-space:pre-wrap>Aberfoyle &amp; Buchlyvie Medical Centres - Buchlyvie (25968)         </span></td><td>25968</td><td>81.81</td><td>92.53</td><td>94.82</td><td> 2348</td><td>S01013014</td><td>4669</td><td>5111</td><td>5130</td><td>5314</td><td>5819</td><td>3789</td><td>4% </td><td> 55</td><td>63.15</td></tr>\n",
       "\t<tr><td>Aberlour Health Centre - Aberlour (33004)                         </td><td>33004</td><td>25.34</td><td>53.32</td><td>67.33</td><td> 3319</td><td>S01011052</td><td>5087</td><td>4575</td><td>4416</td><td>2738</td><td>4618</td><td>5033</td><td>5% </td><td> 55</td><td>53.82</td></tr>\n",
       "\t<tr><td>Abingdon Medical Practice - Glasgow (40070)                       </td><td>40070</td><td>73.95</td><td>70.04</td><td>88.54</td><td> 3988</td><td>S01010386</td><td> 987</td><td>1350</td><td> 696</td><td> 172</td><td>1849</td><td>6890</td><td>15%</td><td>195</td><td>81.96</td></tr>\n",
       "</tbody>\n",
       "</table>\n"
      ],
      "text/latex": [
       "A tibble: 6 × 16\n",
       "\\begin{tabular}{llllllllllllllll}\n",
       " gp\\_practice & gp\\_number & q1\\_positive & q2\\_positive & q3\\_positive & PracticeListSize & DataZone & income\\_rank & employment\\_rank & health\\_rank & housing\\_rank & education\\_rank & access\\_rank & employment\\_rate & CIF & working\\_age\\_percentage\\\\\n",
       " <chr> & <dbl> & <dbl> & <dbl> & <dbl> & <dbl> & <chr> & <dbl> & <dbl> & <dbl> & <dbl> & <dbl> & <dbl> & <chr> & <dbl> & <dbl>\\\\\n",
       "\\hline\n",
       "\t Abbey Medical Centre - Paisley (87625)                             & 87625 & 73.31 & 97.44 & 91.45 & 11096 & S01012126 & 4547 & 4358 & 4365 & 2335 & 4351 & 4678 & 6\\%  &  65 & 75.30\\\\\n",
       "\t Abercromby Practice - Glasgow (46555)                              & 46555 & 78.51 & 93.93 & 87.44 &  3281 & S01010055 &  195 &   69 &   10 &  215 &  416 & 5869 & 31\\% & 250 & 69.65\\\\\n",
       "\t Aberfeldy And Kinloch Rannoch Medical Practice - Aberfeldy (10036) & 10036 & 87.11 & 95.03 & 98.06 &  4758 & S01012014 & 3725 & 3780 & 4372 & 3547 & 3288 & 6676 & 7\\%  &  70 & 59.16\\\\\n",
       "\t Aberfoyle \\& Buchlyvie Medical Centres - Buchlyvie (25968)          & 25968 & 81.81 & 92.53 & 94.82 &  2348 & S01013014 & 4669 & 5111 & 5130 & 5314 & 5819 & 3789 & 4\\%  &  55 & 63.15\\\\\n",
       "\t Aberlour Health Centre - Aberlour (33004)                          & 33004 & 25.34 & 53.32 & 67.33 &  3319 & S01011052 & 5087 & 4575 & 4416 & 2738 & 4618 & 5033 & 5\\%  &  55 & 53.82\\\\\n",
       "\t Abingdon Medical Practice - Glasgow (40070)                        & 40070 & 73.95 & 70.04 & 88.54 &  3988 & S01010386 &  987 & 1350 &  696 &  172 & 1849 & 6890 & 15\\% & 195 & 81.96\\\\\n",
       "\\end{tabular}\n"
      ],
      "text/markdown": [
       "\n",
       "A tibble: 6 × 16\n",
       "\n",
       "| gp_practice &lt;chr&gt; | gp_number &lt;dbl&gt; | q1_positive &lt;dbl&gt; | q2_positive &lt;dbl&gt; | q3_positive &lt;dbl&gt; | PracticeListSize &lt;dbl&gt; | DataZone &lt;chr&gt; | income_rank &lt;dbl&gt; | employment_rank &lt;dbl&gt; | health_rank &lt;dbl&gt; | housing_rank &lt;dbl&gt; | education_rank &lt;dbl&gt; | access_rank &lt;dbl&gt; | employment_rate &lt;chr&gt; | CIF &lt;dbl&gt; | working_age_percentage &lt;dbl&gt; |\n",
       "|---|---|---|---|---|---|---|---|---|---|---|---|---|---|---|---|\n",
       "| Abbey Medical Centre - Paisley (87625)                             | 87625 | 73.31 | 97.44 | 91.45 | 11096 | S01012126 | 4547 | 4358 | 4365 | 2335 | 4351 | 4678 | 6%  |  65 | 75.30 |\n",
       "| Abercromby Practice - Glasgow (46555)                              | 46555 | 78.51 | 93.93 | 87.44 |  3281 | S01010055 |  195 |   69 |   10 |  215 |  416 | 5869 | 31% | 250 | 69.65 |\n",
       "| Aberfeldy And Kinloch Rannoch Medical Practice - Aberfeldy (10036) | 10036 | 87.11 | 95.03 | 98.06 |  4758 | S01012014 | 3725 | 3780 | 4372 | 3547 | 3288 | 6676 | 7%  |  70 | 59.16 |\n",
       "| Aberfoyle &amp; Buchlyvie Medical Centres - Buchlyvie (25968)          | 25968 | 81.81 | 92.53 | 94.82 |  2348 | S01013014 | 4669 | 5111 | 5130 | 5314 | 5819 | 3789 | 4%  |  55 | 63.15 |\n",
       "| Aberlour Health Centre - Aberlour (33004)                          | 33004 | 25.34 | 53.32 | 67.33 |  3319 | S01011052 | 5087 | 4575 | 4416 | 2738 | 4618 | 5033 | 5%  |  55 | 53.82 |\n",
       "| Abingdon Medical Practice - Glasgow (40070)                        | 40070 | 73.95 | 70.04 | 88.54 |  3988 | S01010386 |  987 | 1350 |  696 |  172 | 1849 | 6890 | 15% | 195 | 81.96 |\n",
       "\n"
      ],
      "text/plain": [
       "  gp_practice                                                        gp_number\n",
       "1 Abbey Medical Centre - Paisley (87625)                             87625    \n",
       "2 Abercromby Practice - Glasgow (46555)                              46555    \n",
       "3 Aberfeldy And Kinloch Rannoch Medical Practice - Aberfeldy (10036) 10036    \n",
       "4 Aberfoyle & Buchlyvie Medical Centres - Buchlyvie (25968)          25968    \n",
       "5 Aberlour Health Centre - Aberlour (33004)                          33004    \n",
       "6 Abingdon Medical Practice - Glasgow (40070)                        40070    \n",
       "  q1_positive q2_positive q3_positive PracticeListSize DataZone  income_rank\n",
       "1 73.31       97.44       91.45       11096            S01012126 4547       \n",
       "2 78.51       93.93       87.44        3281            S01010055  195       \n",
       "3 87.11       95.03       98.06        4758            S01012014 3725       \n",
       "4 81.81       92.53       94.82        2348            S01013014 4669       \n",
       "5 25.34       53.32       67.33        3319            S01011052 5087       \n",
       "6 73.95       70.04       88.54        3988            S01010386  987       \n",
       "  employment_rank health_rank housing_rank education_rank access_rank\n",
       "1 4358            4365        2335         4351           4678       \n",
       "2   69              10         215          416           5869       \n",
       "3 3780            4372        3547         3288           6676       \n",
       "4 5111            5130        5314         5819           3789       \n",
       "5 4575            4416        2738         4618           5033       \n",
       "6 1350             696         172         1849           6890       \n",
       "  employment_rate CIF working_age_percentage\n",
       "1 6%               65 75.30                 \n",
       "2 31%             250 69.65                 \n",
       "3 7%               70 59.16                 \n",
       "4 4%               55 63.15                 \n",
       "5 5%               55 53.82                 \n",
       "6 15%             195 81.96                 "
      ]
     },
     "metadata": {},
     "output_type": "display_data"
    }
   ],
   "source": [
    "# Merge SIMD and GP data into master (HACE survey) data\n",
    "master_data <- master_data %>%\n",
    "    full_join(simd_gp_data, by = c(\"gp_number\" = \"PracticeCode\")) %>%\n",
    "    select(-\"GPPracticeName\") %>%\n",
    "    rename(\n",
    "        income_rank = SIMD2020v2_Income_Domain_Rank,\n",
    "        employment_rank = SIMD2020_Employment_Domain_Rank,\n",
    "        health_rank = SIMD2020_Health_Domain_Rank,\n",
    "        education_rank = SIMD2020_Education_Domain_Rank,\n",
    "        access_rank = SIMD2020_Access_Domain_Rank,\n",
    "        housing_rank = SIMD2020_Housing_Domain_Rank\n",
    "    ) %>%\n",
    "    filter(!is.na(gp_practice) & !is.na(DataZone)) # 13 practices in survey don't exist in GP Data so are removed\n",
    "\n",
    "head(master_data)"
   ]
  },
  {
   "cell_type": "code",
   "execution_count": 26,
   "id": "5f040634",
   "metadata": {
    "vscode": {
     "languageId": "r"
    }
   },
   "outputs": [
    {
     "data": {
      "text/html": [
       "<style>\n",
       ".list-inline {list-style: none; margin:0; padding: 0}\n",
       ".list-inline>li {display: inline-block}\n",
       ".list-inline>li:not(:last-child)::after {content: \"\\00b7\"; padding: 0 .5ex}\n",
       "</style>\n",
       "<ol class=list-inline><li>894</li><li>16</li></ol>\n"
      ],
      "text/latex": [
       "\\begin{enumerate*}\n",
       "\\item 894\n",
       "\\item 16\n",
       "\\end{enumerate*}\n"
      ],
      "text/markdown": [
       "1. 894\n",
       "2. 16\n",
       "\n",
       "\n"
      ],
      "text/plain": [
       "[1] 894  16"
      ]
     },
     "metadata": {},
     "output_type": "display_data"
    }
   ],
   "source": [
    "dim(master_data)"
   ]
  },
  {
   "cell_type": "code",
   "execution_count": 27,
   "id": "abc02a47",
   "metadata": {
    "vscode": {
     "languageId": "r"
    }
   },
   "outputs": [
    {
     "data": {
      "text/html": [
       "<table class=\"dataframe\">\n",
       "<caption>A tibble: 0 × 16</caption>\n",
       "<thead>\n",
       "\t<tr><th scope=col>gp_practice</th><th scope=col>gp_number</th><th scope=col>q1_positive</th><th scope=col>q2_positive</th><th scope=col>q3_positive</th><th scope=col>PracticeListSize</th><th scope=col>DataZone</th><th scope=col>income_rank</th><th scope=col>employment_rank</th><th scope=col>health_rank</th><th scope=col>housing_rank</th><th scope=col>education_rank</th><th scope=col>access_rank</th><th scope=col>employment_rate</th><th scope=col>CIF</th><th scope=col>working_age_percentage</th></tr>\n",
       "\t<tr><th scope=col>&lt;chr&gt;</th><th scope=col>&lt;dbl&gt;</th><th scope=col>&lt;dbl&gt;</th><th scope=col>&lt;dbl&gt;</th><th scope=col>&lt;dbl&gt;</th><th scope=col>&lt;dbl&gt;</th><th scope=col>&lt;chr&gt;</th><th scope=col>&lt;dbl&gt;</th><th scope=col>&lt;dbl&gt;</th><th scope=col>&lt;dbl&gt;</th><th scope=col>&lt;dbl&gt;</th><th scope=col>&lt;dbl&gt;</th><th scope=col>&lt;dbl&gt;</th><th scope=col>&lt;chr&gt;</th><th scope=col>&lt;dbl&gt;</th><th scope=col>&lt;dbl&gt;</th></tr>\n",
       "</thead>\n",
       "<tbody>\n",
       "</tbody>\n",
       "</table>\n"
      ],
      "text/latex": [
       "A tibble: 0 × 16\n",
       "\\begin{tabular}{llllllllllllllll}\n",
       " gp\\_practice & gp\\_number & q1\\_positive & q2\\_positive & q3\\_positive & PracticeListSize & DataZone & income\\_rank & employment\\_rank & health\\_rank & housing\\_rank & education\\_rank & access\\_rank & employment\\_rate & CIF & working\\_age\\_percentage\\\\\n",
       " <chr> & <dbl> & <dbl> & <dbl> & <dbl> & <dbl> & <chr> & <dbl> & <dbl> & <dbl> & <dbl> & <dbl> & <dbl> & <chr> & <dbl> & <dbl>\\\\\n",
       "\\hline\n",
       "\\end{tabular}\n"
      ],
      "text/markdown": [
       "\n",
       "A tibble: 0 × 16\n",
       "\n",
       "| gp_practice &lt;chr&gt; | gp_number &lt;dbl&gt; | q1_positive &lt;dbl&gt; | q2_positive &lt;dbl&gt; | q3_positive &lt;dbl&gt; | PracticeListSize &lt;dbl&gt; | DataZone &lt;chr&gt; | income_rank &lt;dbl&gt; | employment_rank &lt;dbl&gt; | health_rank &lt;dbl&gt; | housing_rank &lt;dbl&gt; | education_rank &lt;dbl&gt; | access_rank &lt;dbl&gt; | employment_rate &lt;chr&gt; | CIF &lt;dbl&gt; | working_age_percentage &lt;dbl&gt; |\n",
       "|---|---|---|---|---|---|---|---|---|---|---|---|---|---|---|---|\n",
       "\n"
      ],
      "text/plain": [
       "     gp_practice gp_number q1_positive q2_positive q3_positive PracticeListSize\n",
       "     DataZone income_rank employment_rank health_rank housing_rank\n",
       "     education_rank access_rank employment_rate CIF working_age_percentage"
      ]
     },
     "metadata": {},
     "output_type": "display_data"
    }
   ],
   "source": [
    "missing_rows <- master_data %>% filter(rowSums(is.na(.)) > 0)\n",
    "\n",
    "head(missing_rows)"
   ]
  },
  {
   "cell_type": "code",
   "execution_count": 28,
   "id": "135b2c69",
   "metadata": {
    "vscode": {
     "languageId": "r"
    }
   },
   "outputs": [
    {
     "name": "stderr",
     "output_type": "stream",
     "text": [
      "\u001b[1mRows: \u001b[22m\u001b[34m6976\u001b[39m \u001b[1mColumns: \u001b[22m\u001b[34m5\u001b[39m\n",
      "\u001b[36m──\u001b[39m \u001b[1mColumn specification\u001b[22m \u001b[36m────────────────────────────────────────────────────────\u001b[39m\n",
      "\u001b[1mDelimiter:\u001b[22m \",\"\n",
      "\u001b[31mchr\u001b[39m (1): Datazone2011\n",
      "\u001b[32mdbl\u001b[39m (4): UR8_2013_2014, UR6_2013_2014, UR3_2013_2014, UR2_2013_2014\n",
      "\n",
      "\u001b[36mℹ\u001b[39m Use `spec()` to retrieve the full column specification for this data.\n",
      "\u001b[36mℹ\u001b[39m Specify the column types or set `show_col_types = FALSE` to quiet this message.\n"
     ]
    },
    {
     "data": {
      "text/html": [
       "<style>\n",
       ".list-inline {list-style: none; margin:0; padding: 0}\n",
       ".list-inline>li {display: inline-block}\n",
       ".list-inline>li:not(:last-child)::after {content: \"\\00b7\"; padding: 0 .5ex}\n",
       "</style>\n",
       "<ol class=list-inline><li>6976</li><li>5</li></ol>\n"
      ],
      "text/latex": [
       "\\begin{enumerate*}\n",
       "\\item 6976\n",
       "\\item 5\n",
       "\\end{enumerate*}\n"
      ],
      "text/markdown": [
       "1. 6976\n",
       "2. 5\n",
       "\n",
       "\n"
      ],
      "text/plain": [
       "[1] 6976    5"
      ]
     },
     "metadata": {},
     "output_type": "display_data"
    },
    {
     "data": {
      "text/html": [
       "<style>\n",
       ".list-inline {list-style: none; margin:0; padding: 0}\n",
       ".list-inline>li {display: inline-block}\n",
       ".list-inline>li:not(:last-child)::after {content: \"\\00b7\"; padding: 0 .5ex}\n",
       "</style>\n",
       "<ol class=list-inline><li>'Datazone2011'</li><li>'UR8_2013_2014'</li><li>'UR6_2013_2014'</li><li>'UR3_2013_2014'</li><li>'UR2_2013_2014'</li></ol>\n"
      ],
      "text/latex": [
       "\\begin{enumerate*}\n",
       "\\item 'Datazone2011'\n",
       "\\item 'UR8\\_2013\\_2014'\n",
       "\\item 'UR6\\_2013\\_2014'\n",
       "\\item 'UR3\\_2013\\_2014'\n",
       "\\item 'UR2\\_2013\\_2014'\n",
       "\\end{enumerate*}\n"
      ],
      "text/markdown": [
       "1. 'Datazone2011'\n",
       "2. 'UR8_2013_2014'\n",
       "3. 'UR6_2013_2014'\n",
       "4. 'UR3_2013_2014'\n",
       "5. 'UR2_2013_2014'\n",
       "\n",
       "\n"
      ],
      "text/plain": [
       "[1] \"Datazone2011\"  \"UR8_2013_2014\" \"UR6_2013_2014\" \"UR3_2013_2014\"\n",
       "[5] \"UR2_2013_2014\""
      ]
     },
     "metadata": {},
     "output_type": "display_data"
    }
   ],
   "source": [
    "urban_rural <- read_csv('../data/urban_rural.csv')\n",
    "\n",
    "dim(urban_rural)\n",
    "colnames(urban_rural)"
   ]
  },
  {
   "cell_type": "code",
   "execution_count": 29,
   "id": "4fa67681",
   "metadata": {
    "vscode": {
     "languageId": "r"
    }
   },
   "outputs": [],
   "source": [
    "urban_rural <- urban_rural %>%\n",
    "    select(Datazone2011, UR6_2013_2014)"
   ]
  },
  {
   "cell_type": "code",
   "execution_count": 30,
   "id": "6905a08f",
   "metadata": {
    "vscode": {
     "languageId": "r"
    }
   },
   "outputs": [
    {
     "data": {
      "text/html": [
       "<table class=\"dataframe\">\n",
       "<caption>A tibble: 0 × 17</caption>\n",
       "<thead>\n",
       "\t<tr><th scope=col>gp_practice</th><th scope=col>gp_number</th><th scope=col>q1_positive</th><th scope=col>q2_positive</th><th scope=col>q3_positive</th><th scope=col>PracticeListSize</th><th scope=col>DataZone</th><th scope=col>income_rank</th><th scope=col>employment_rank</th><th scope=col>health_rank</th><th scope=col>housing_rank</th><th scope=col>education_rank</th><th scope=col>access_rank</th><th scope=col>employment_rate</th><th scope=col>CIF</th><th scope=col>working_age_percentage</th><th scope=col>urban_rural</th></tr>\n",
       "\t<tr><th scope=col>&lt;chr&gt;</th><th scope=col>&lt;dbl&gt;</th><th scope=col>&lt;dbl&gt;</th><th scope=col>&lt;dbl&gt;</th><th scope=col>&lt;dbl&gt;</th><th scope=col>&lt;dbl&gt;</th><th scope=col>&lt;chr&gt;</th><th scope=col>&lt;dbl&gt;</th><th scope=col>&lt;dbl&gt;</th><th scope=col>&lt;dbl&gt;</th><th scope=col>&lt;dbl&gt;</th><th scope=col>&lt;dbl&gt;</th><th scope=col>&lt;dbl&gt;</th><th scope=col>&lt;chr&gt;</th><th scope=col>&lt;dbl&gt;</th><th scope=col>&lt;dbl&gt;</th><th scope=col>&lt;dbl&gt;</th></tr>\n",
       "</thead>\n",
       "<tbody>\n",
       "</tbody>\n",
       "</table>\n"
      ],
      "text/latex": [
       "A tibble: 0 × 17\n",
       "\\begin{tabular}{lllllllllllllllll}\n",
       " gp\\_practice & gp\\_number & q1\\_positive & q2\\_positive & q3\\_positive & PracticeListSize & DataZone & income\\_rank & employment\\_rank & health\\_rank & housing\\_rank & education\\_rank & access\\_rank & employment\\_rate & CIF & working\\_age\\_percentage & urban\\_rural\\\\\n",
       " <chr> & <dbl> & <dbl> & <dbl> & <dbl> & <dbl> & <chr> & <dbl> & <dbl> & <dbl> & <dbl> & <dbl> & <dbl> & <chr> & <dbl> & <dbl> & <dbl>\\\\\n",
       "\\hline\n",
       "\\end{tabular}\n"
      ],
      "text/markdown": [
       "\n",
       "A tibble: 0 × 17\n",
       "\n",
       "| gp_practice &lt;chr&gt; | gp_number &lt;dbl&gt; | q1_positive &lt;dbl&gt; | q2_positive &lt;dbl&gt; | q3_positive &lt;dbl&gt; | PracticeListSize &lt;dbl&gt; | DataZone &lt;chr&gt; | income_rank &lt;dbl&gt; | employment_rank &lt;dbl&gt; | health_rank &lt;dbl&gt; | housing_rank &lt;dbl&gt; | education_rank &lt;dbl&gt; | access_rank &lt;dbl&gt; | employment_rate &lt;chr&gt; | CIF &lt;dbl&gt; | working_age_percentage &lt;dbl&gt; | urban_rural &lt;dbl&gt; |\n",
       "|---|---|---|---|---|---|---|---|---|---|---|---|---|---|---|---|---|\n",
       "\n"
      ],
      "text/plain": [
       "     gp_practice gp_number q1_positive q2_positive q3_positive PracticeListSize\n",
       "     DataZone income_rank employment_rank health_rank housing_rank\n",
       "     education_rank access_rank employment_rate CIF working_age_percentage\n",
       "     urban_rural"
      ]
     },
     "metadata": {},
     "output_type": "display_data"
    }
   ],
   "source": [
    "# Merge the urban_rural data with the master data\n",
    "master_data <- master_data %>%\n",
    "    full_join(urban_rural, by = c(\"DataZone\" = \"Datazone2011\")) %>%\n",
    "    rename(urban_rural = UR6_2013_2014) %>%\n",
    "    filter(!is.na(gp_practice))\n",
    "\n",
    "unmatched <- master_data %>%\n",
    "    anti_join(urban_rural, by = c(\"DataZone\" = \"Datazone2011\"))\n",
    "\n",
    "head(unmatched)"
   ]
  },
  {
   "cell_type": "code",
   "execution_count": 31,
   "id": "bab66820",
   "metadata": {
    "vscode": {
     "languageId": "r"
    }
   },
   "outputs": [
    {
     "data": {
      "text/html": [
       "<style>\n",
       ".list-inline {list-style: none; margin:0; padding: 0}\n",
       ".list-inline>li {display: inline-block}\n",
       ".list-inline>li:not(:last-child)::after {content: \"\\00b7\"; padding: 0 .5ex}\n",
       "</style>\n",
       "<ol class=list-inline><li>894</li><li>17</li></ol>\n"
      ],
      "text/latex": [
       "\\begin{enumerate*}\n",
       "\\item 894\n",
       "\\item 17\n",
       "\\end{enumerate*}\n"
      ],
      "text/markdown": [
       "1. 894\n",
       "2. 17\n",
       "\n",
       "\n"
      ],
      "text/plain": [
       "[1] 894  17"
      ]
     },
     "metadata": {},
     "output_type": "display_data"
    }
   ],
   "source": [
    "dim(master_data)"
   ]
  },
  {
   "cell_type": "code",
   "execution_count": 32,
   "id": "4e6a5c2d",
   "metadata": {
    "vscode": {
     "languageId": "r"
    }
   },
   "outputs": [
    {
     "data": {
      "text/plain": [
       "   Min. 1st Qu.  Median    Mean 3rd Qu.    Max. \n",
       " 0.0100  0.0500  0.0900  0.1131  0.1600  0.4300 "
      ]
     },
     "metadata": {},
     "output_type": "display_data"
    },
    {
     "data": {
      "text/html": [
       "<table class=\"dataframe\">\n",
       "<caption>A tibble: 6 × 17</caption>\n",
       "<thead>\n",
       "\t<tr><th scope=col>gp_practice</th><th scope=col>gp_number</th><th scope=col>q1_positive</th><th scope=col>q2_positive</th><th scope=col>q3_positive</th><th scope=col>PracticeListSize</th><th scope=col>DataZone</th><th scope=col>income_rank</th><th scope=col>employment_rank</th><th scope=col>health_rank</th><th scope=col>housing_rank</th><th scope=col>education_rank</th><th scope=col>access_rank</th><th scope=col>employment_rate</th><th scope=col>CIF</th><th scope=col>working_age_percentage</th><th scope=col>urban_rural</th></tr>\n",
       "\t<tr><th scope=col>&lt;chr&gt;</th><th scope=col>&lt;dbl&gt;</th><th scope=col>&lt;dbl&gt;</th><th scope=col>&lt;dbl&gt;</th><th scope=col>&lt;dbl&gt;</th><th scope=col>&lt;dbl&gt;</th><th scope=col>&lt;chr&gt;</th><th scope=col>&lt;dbl&gt;</th><th scope=col>&lt;dbl&gt;</th><th scope=col>&lt;dbl&gt;</th><th scope=col>&lt;dbl&gt;</th><th scope=col>&lt;dbl&gt;</th><th scope=col>&lt;dbl&gt;</th><th scope=col>&lt;dbl&gt;</th><th scope=col>&lt;dbl&gt;</th><th scope=col>&lt;dbl&gt;</th><th scope=col>&lt;dbl&gt;</th></tr>\n",
       "</thead>\n",
       "<tbody>\n",
       "\t<tr><td>Abbey Medical Centre - Paisley (87625)                            </td><td>87625</td><td>73.31</td><td>97.44</td><td>91.45</td><td>11096</td><td>S01012126</td><td>4547</td><td>4358</td><td>4365</td><td>2335</td><td>4351</td><td>4678</td><td>0.06</td><td> 65</td><td>75.30</td><td>1</td></tr>\n",
       "\t<tr><td>Abercromby Practice - Glasgow (46555)                             </td><td>46555</td><td>78.51</td><td>93.93</td><td>87.44</td><td> 3281</td><td>S01010055</td><td> 195</td><td>  69</td><td>  10</td><td> 215</td><td> 416</td><td>5869</td><td>0.31</td><td>250</td><td>69.65</td><td>1</td></tr>\n",
       "\t<tr><td>Aberfeldy And Kinloch Rannoch Medical Practice - Aberfeldy (10036)</td><td>10036</td><td>87.11</td><td>95.03</td><td>98.06</td><td> 4758</td><td>S01012014</td><td>3725</td><td>3780</td><td>4372</td><td>3547</td><td>3288</td><td>6676</td><td>0.07</td><td> 70</td><td>59.16</td><td>6</td></tr>\n",
       "\t<tr><td><span style=white-space:pre-wrap>Aberfoyle &amp; Buchlyvie Medical Centres - Buchlyvie (25968)         </span></td><td>25968</td><td>81.81</td><td>92.53</td><td>94.82</td><td> 2348</td><td>S01013014</td><td>4669</td><td>5111</td><td>5130</td><td>5314</td><td>5819</td><td>3789</td><td>0.04</td><td> 55</td><td>63.15</td><td>5</td></tr>\n",
       "\t<tr><td>Aberlour Health Centre - Aberlour (33004)                         </td><td>33004</td><td>25.34</td><td>53.32</td><td>67.33</td><td> 3319</td><td>S01011052</td><td>5087</td><td>4575</td><td>4416</td><td>2738</td><td>4618</td><td>5033</td><td>0.05</td><td> 55</td><td>53.82</td><td>5</td></tr>\n",
       "\t<tr><td>Abingdon Medical Practice - Glasgow (40070)                       </td><td>40070</td><td>73.95</td><td>70.04</td><td>88.54</td><td> 3988</td><td>S01010386</td><td> 987</td><td>1350</td><td> 696</td><td> 172</td><td>1849</td><td>6890</td><td>0.15</td><td>195</td><td>81.96</td><td>1</td></tr>\n",
       "</tbody>\n",
       "</table>\n"
      ],
      "text/latex": [
       "A tibble: 6 × 17\n",
       "\\begin{tabular}{lllllllllllllllll}\n",
       " gp\\_practice & gp\\_number & q1\\_positive & q2\\_positive & q3\\_positive & PracticeListSize & DataZone & income\\_rank & employment\\_rank & health\\_rank & housing\\_rank & education\\_rank & access\\_rank & employment\\_rate & CIF & working\\_age\\_percentage & urban\\_rural\\\\\n",
       " <chr> & <dbl> & <dbl> & <dbl> & <dbl> & <dbl> & <chr> & <dbl> & <dbl> & <dbl> & <dbl> & <dbl> & <dbl> & <dbl> & <dbl> & <dbl> & <dbl>\\\\\n",
       "\\hline\n",
       "\t Abbey Medical Centre - Paisley (87625)                             & 87625 & 73.31 & 97.44 & 91.45 & 11096 & S01012126 & 4547 & 4358 & 4365 & 2335 & 4351 & 4678 & 0.06 &  65 & 75.30 & 1\\\\\n",
       "\t Abercromby Practice - Glasgow (46555)                              & 46555 & 78.51 & 93.93 & 87.44 &  3281 & S01010055 &  195 &   69 &   10 &  215 &  416 & 5869 & 0.31 & 250 & 69.65 & 1\\\\\n",
       "\t Aberfeldy And Kinloch Rannoch Medical Practice - Aberfeldy (10036) & 10036 & 87.11 & 95.03 & 98.06 &  4758 & S01012014 & 3725 & 3780 & 4372 & 3547 & 3288 & 6676 & 0.07 &  70 & 59.16 & 6\\\\\n",
       "\t Aberfoyle \\& Buchlyvie Medical Centres - Buchlyvie (25968)          & 25968 & 81.81 & 92.53 & 94.82 &  2348 & S01013014 & 4669 & 5111 & 5130 & 5314 & 5819 & 3789 & 0.04 &  55 & 63.15 & 5\\\\\n",
       "\t Aberlour Health Centre - Aberlour (33004)                          & 33004 & 25.34 & 53.32 & 67.33 &  3319 & S01011052 & 5087 & 4575 & 4416 & 2738 & 4618 & 5033 & 0.05 &  55 & 53.82 & 5\\\\\n",
       "\t Abingdon Medical Practice - Glasgow (40070)                        & 40070 & 73.95 & 70.04 & 88.54 &  3988 & S01010386 &  987 & 1350 &  696 &  172 & 1849 & 6890 & 0.15 & 195 & 81.96 & 1\\\\\n",
       "\\end{tabular}\n"
      ],
      "text/markdown": [
       "\n",
       "A tibble: 6 × 17\n",
       "\n",
       "| gp_practice &lt;chr&gt; | gp_number &lt;dbl&gt; | q1_positive &lt;dbl&gt; | q2_positive &lt;dbl&gt; | q3_positive &lt;dbl&gt; | PracticeListSize &lt;dbl&gt; | DataZone &lt;chr&gt; | income_rank &lt;dbl&gt; | employment_rank &lt;dbl&gt; | health_rank &lt;dbl&gt; | housing_rank &lt;dbl&gt; | education_rank &lt;dbl&gt; | access_rank &lt;dbl&gt; | employment_rate &lt;dbl&gt; | CIF &lt;dbl&gt; | working_age_percentage &lt;dbl&gt; | urban_rural &lt;dbl&gt; |\n",
       "|---|---|---|---|---|---|---|---|---|---|---|---|---|---|---|---|---|\n",
       "| Abbey Medical Centre - Paisley (87625)                             | 87625 | 73.31 | 97.44 | 91.45 | 11096 | S01012126 | 4547 | 4358 | 4365 | 2335 | 4351 | 4678 | 0.06 |  65 | 75.30 | 1 |\n",
       "| Abercromby Practice - Glasgow (46555)                              | 46555 | 78.51 | 93.93 | 87.44 |  3281 | S01010055 |  195 |   69 |   10 |  215 |  416 | 5869 | 0.31 | 250 | 69.65 | 1 |\n",
       "| Aberfeldy And Kinloch Rannoch Medical Practice - Aberfeldy (10036) | 10036 | 87.11 | 95.03 | 98.06 |  4758 | S01012014 | 3725 | 3780 | 4372 | 3547 | 3288 | 6676 | 0.07 |  70 | 59.16 | 6 |\n",
       "| Aberfoyle &amp; Buchlyvie Medical Centres - Buchlyvie (25968)          | 25968 | 81.81 | 92.53 | 94.82 |  2348 | S01013014 | 4669 | 5111 | 5130 | 5314 | 5819 | 3789 | 0.04 |  55 | 63.15 | 5 |\n",
       "| Aberlour Health Centre - Aberlour (33004)                          | 33004 | 25.34 | 53.32 | 67.33 |  3319 | S01011052 | 5087 | 4575 | 4416 | 2738 | 4618 | 5033 | 0.05 |  55 | 53.82 | 5 |\n",
       "| Abingdon Medical Practice - Glasgow (40070)                        | 40070 | 73.95 | 70.04 | 88.54 |  3988 | S01010386 |  987 | 1350 |  696 |  172 | 1849 | 6890 | 0.15 | 195 | 81.96 | 1 |\n",
       "\n"
      ],
      "text/plain": [
       "  gp_practice                                                        gp_number\n",
       "1 Abbey Medical Centre - Paisley (87625)                             87625    \n",
       "2 Abercromby Practice - Glasgow (46555)                              46555    \n",
       "3 Aberfeldy And Kinloch Rannoch Medical Practice - Aberfeldy (10036) 10036    \n",
       "4 Aberfoyle & Buchlyvie Medical Centres - Buchlyvie (25968)          25968    \n",
       "5 Aberlour Health Centre - Aberlour (33004)                          33004    \n",
       "6 Abingdon Medical Practice - Glasgow (40070)                        40070    \n",
       "  q1_positive q2_positive q3_positive PracticeListSize DataZone  income_rank\n",
       "1 73.31       97.44       91.45       11096            S01012126 4547       \n",
       "2 78.51       93.93       87.44        3281            S01010055  195       \n",
       "3 87.11       95.03       98.06        4758            S01012014 3725       \n",
       "4 81.81       92.53       94.82        2348            S01013014 4669       \n",
       "5 25.34       53.32       67.33        3319            S01011052 5087       \n",
       "6 73.95       70.04       88.54        3988            S01010386  987       \n",
       "  employment_rank health_rank housing_rank education_rank access_rank\n",
       "1 4358            4365        2335         4351           4678       \n",
       "2   69              10         215          416           5869       \n",
       "3 3780            4372        3547         3288           6676       \n",
       "4 5111            5130        5314         5819           3789       \n",
       "5 4575            4416        2738         4618           5033       \n",
       "6 1350             696         172         1849           6890       \n",
       "  employment_rate CIF working_age_percentage urban_rural\n",
       "1 0.06             65 75.30                  1          \n",
       "2 0.31            250 69.65                  1          \n",
       "3 0.07             70 59.16                  6          \n",
       "4 0.04             55 63.15                  5          \n",
       "5 0.05             55 53.82                  5          \n",
       "6 0.15            195 81.96                  1          "
      ]
     },
     "metadata": {},
     "output_type": "display_data"
    }
   ],
   "source": [
    "# Making employment_rate numeric\n",
    "master_data <- master_data %>%\n",
    "  mutate(employment_rate = as.numeric(sub(\"%\", \"\", employment_rate)) / 100)\n",
    "\n",
    "summary(master_data$employment_rate)\n",
    "head(master_data)"
   ]
  },
  {
   "cell_type": "code",
   "execution_count": 33,
   "id": "10e8df30",
   "metadata": {
    "vscode": {
     "languageId": "r"
    }
   },
   "outputs": [
    {
     "data": {
      "text/plain": [
       "   Min. 1st Qu.  Median    Mean 3rd Qu.    Max. \n",
       "  1.000   1.000   2.000   2.568   3.750   6.000 "
      ]
     },
     "metadata": {},
     "output_type": "display_data"
    }
   ],
   "source": [
    "summary(master_data$urban_rural)"
   ]
  },
  {
   "cell_type": "code",
   "execution_count": 34,
   "id": "6cfe9e92",
   "metadata": {
    "vscode": {
     "languageId": "r"
    }
   },
   "outputs": [],
   "source": [
    "# Make urban_rural a binary urban classification (urban=1, rural=0)\n",
    "master_data <- master_data %>%\n",
    "  mutate(urban_location = if_else(urban_rural %in% c(\"1\", \"2\", \"3\"), 1, 0)) %>%\n",
    "  select(-urban_rural)"
   ]
  },
  {
   "cell_type": "code",
   "execution_count": 35,
   "id": "35c718da",
   "metadata": {
    "vscode": {
     "languageId": "r"
    }
   },
   "outputs": [
    {
     "data": {
      "text/html": [
       "<table class=\"dataframe\">\n",
       "<caption>A tibble: 6 × 17</caption>\n",
       "<thead>\n",
       "\t<tr><th scope=col>gp_practice</th><th scope=col>gp_number</th><th scope=col>q1_positive</th><th scope=col>q2_positive</th><th scope=col>q3_positive</th><th scope=col>PracticeListSize</th><th scope=col>DataZone</th><th scope=col>income_rank</th><th scope=col>employment_rank</th><th scope=col>health_rank</th><th scope=col>housing_rank</th><th scope=col>education_rank</th><th scope=col>access_rank</th><th scope=col>employment_rate</th><th scope=col>CIF</th><th scope=col>working_age_percentage</th><th scope=col>urban_location</th></tr>\n",
       "\t<tr><th scope=col>&lt;chr&gt;</th><th scope=col>&lt;dbl&gt;</th><th scope=col>&lt;dbl&gt;</th><th scope=col>&lt;dbl&gt;</th><th scope=col>&lt;dbl&gt;</th><th scope=col>&lt;dbl&gt;</th><th scope=col>&lt;chr&gt;</th><th scope=col>&lt;dbl&gt;</th><th scope=col>&lt;dbl&gt;</th><th scope=col>&lt;dbl&gt;</th><th scope=col>&lt;dbl&gt;</th><th scope=col>&lt;dbl&gt;</th><th scope=col>&lt;dbl&gt;</th><th scope=col>&lt;dbl&gt;</th><th scope=col>&lt;dbl&gt;</th><th scope=col>&lt;dbl&gt;</th><th scope=col>&lt;dbl&gt;</th></tr>\n",
       "</thead>\n",
       "<tbody>\n",
       "\t<tr><td>Abbey Medical Centre - Paisley (87625)                            </td><td>87625</td><td>73.31</td><td>97.44</td><td>91.45</td><td>11096</td><td>S01012126</td><td>4547</td><td>4358</td><td>4365</td><td>2335</td><td>4351</td><td>4678</td><td>0.06</td><td> 65</td><td>75.30</td><td>1</td></tr>\n",
       "\t<tr><td>Abercromby Practice - Glasgow (46555)                             </td><td>46555</td><td>78.51</td><td>93.93</td><td>87.44</td><td> 3281</td><td>S01010055</td><td> 195</td><td>  69</td><td>  10</td><td> 215</td><td> 416</td><td>5869</td><td>0.31</td><td>250</td><td>69.65</td><td>1</td></tr>\n",
       "\t<tr><td>Aberfeldy And Kinloch Rannoch Medical Practice - Aberfeldy (10036)</td><td>10036</td><td>87.11</td><td>95.03</td><td>98.06</td><td> 4758</td><td>S01012014</td><td>3725</td><td>3780</td><td>4372</td><td>3547</td><td>3288</td><td>6676</td><td>0.07</td><td> 70</td><td>59.16</td><td>0</td></tr>\n",
       "\t<tr><td><span style=white-space:pre-wrap>Aberfoyle &amp; Buchlyvie Medical Centres - Buchlyvie (25968)         </span></td><td>25968</td><td>81.81</td><td>92.53</td><td>94.82</td><td> 2348</td><td>S01013014</td><td>4669</td><td>5111</td><td>5130</td><td>5314</td><td>5819</td><td>3789</td><td>0.04</td><td> 55</td><td>63.15</td><td>0</td></tr>\n",
       "\t<tr><td>Aberlour Health Centre - Aberlour (33004)                         </td><td>33004</td><td>25.34</td><td>53.32</td><td>67.33</td><td> 3319</td><td>S01011052</td><td>5087</td><td>4575</td><td>4416</td><td>2738</td><td>4618</td><td>5033</td><td>0.05</td><td> 55</td><td>53.82</td><td>0</td></tr>\n",
       "\t<tr><td>Abingdon Medical Practice - Glasgow (40070)                       </td><td>40070</td><td>73.95</td><td>70.04</td><td>88.54</td><td> 3988</td><td>S01010386</td><td> 987</td><td>1350</td><td> 696</td><td> 172</td><td>1849</td><td>6890</td><td>0.15</td><td>195</td><td>81.96</td><td>1</td></tr>\n",
       "</tbody>\n",
       "</table>\n"
      ],
      "text/latex": [
       "A tibble: 6 × 17\n",
       "\\begin{tabular}{lllllllllllllllll}\n",
       " gp\\_practice & gp\\_number & q1\\_positive & q2\\_positive & q3\\_positive & PracticeListSize & DataZone & income\\_rank & employment\\_rank & health\\_rank & housing\\_rank & education\\_rank & access\\_rank & employment\\_rate & CIF & working\\_age\\_percentage & urban\\_location\\\\\n",
       " <chr> & <dbl> & <dbl> & <dbl> & <dbl> & <dbl> & <chr> & <dbl> & <dbl> & <dbl> & <dbl> & <dbl> & <dbl> & <dbl> & <dbl> & <dbl> & <dbl>\\\\\n",
       "\\hline\n",
       "\t Abbey Medical Centre - Paisley (87625)                             & 87625 & 73.31 & 97.44 & 91.45 & 11096 & S01012126 & 4547 & 4358 & 4365 & 2335 & 4351 & 4678 & 0.06 &  65 & 75.30 & 1\\\\\n",
       "\t Abercromby Practice - Glasgow (46555)                              & 46555 & 78.51 & 93.93 & 87.44 &  3281 & S01010055 &  195 &   69 &   10 &  215 &  416 & 5869 & 0.31 & 250 & 69.65 & 1\\\\\n",
       "\t Aberfeldy And Kinloch Rannoch Medical Practice - Aberfeldy (10036) & 10036 & 87.11 & 95.03 & 98.06 &  4758 & S01012014 & 3725 & 3780 & 4372 & 3547 & 3288 & 6676 & 0.07 &  70 & 59.16 & 0\\\\\n",
       "\t Aberfoyle \\& Buchlyvie Medical Centres - Buchlyvie (25968)          & 25968 & 81.81 & 92.53 & 94.82 &  2348 & S01013014 & 4669 & 5111 & 5130 & 5314 & 5819 & 3789 & 0.04 &  55 & 63.15 & 0\\\\\n",
       "\t Aberlour Health Centre - Aberlour (33004)                          & 33004 & 25.34 & 53.32 & 67.33 &  3319 & S01011052 & 5087 & 4575 & 4416 & 2738 & 4618 & 5033 & 0.05 &  55 & 53.82 & 0\\\\\n",
       "\t Abingdon Medical Practice - Glasgow (40070)                        & 40070 & 73.95 & 70.04 & 88.54 &  3988 & S01010386 &  987 & 1350 &  696 &  172 & 1849 & 6890 & 0.15 & 195 & 81.96 & 1\\\\\n",
       "\\end{tabular}\n"
      ],
      "text/markdown": [
       "\n",
       "A tibble: 6 × 17\n",
       "\n",
       "| gp_practice &lt;chr&gt; | gp_number &lt;dbl&gt; | q1_positive &lt;dbl&gt; | q2_positive &lt;dbl&gt; | q3_positive &lt;dbl&gt; | PracticeListSize &lt;dbl&gt; | DataZone &lt;chr&gt; | income_rank &lt;dbl&gt; | employment_rank &lt;dbl&gt; | health_rank &lt;dbl&gt; | housing_rank &lt;dbl&gt; | education_rank &lt;dbl&gt; | access_rank &lt;dbl&gt; | employment_rate &lt;dbl&gt; | CIF &lt;dbl&gt; | working_age_percentage &lt;dbl&gt; | urban_location &lt;dbl&gt; |\n",
       "|---|---|---|---|---|---|---|---|---|---|---|---|---|---|---|---|---|\n",
       "| Abbey Medical Centre - Paisley (87625)                             | 87625 | 73.31 | 97.44 | 91.45 | 11096 | S01012126 | 4547 | 4358 | 4365 | 2335 | 4351 | 4678 | 0.06 |  65 | 75.30 | 1 |\n",
       "| Abercromby Practice - Glasgow (46555)                              | 46555 | 78.51 | 93.93 | 87.44 |  3281 | S01010055 |  195 |   69 |   10 |  215 |  416 | 5869 | 0.31 | 250 | 69.65 | 1 |\n",
       "| Aberfeldy And Kinloch Rannoch Medical Practice - Aberfeldy (10036) | 10036 | 87.11 | 95.03 | 98.06 |  4758 | S01012014 | 3725 | 3780 | 4372 | 3547 | 3288 | 6676 | 0.07 |  70 | 59.16 | 0 |\n",
       "| Aberfoyle &amp; Buchlyvie Medical Centres - Buchlyvie (25968)          | 25968 | 81.81 | 92.53 | 94.82 |  2348 | S01013014 | 4669 | 5111 | 5130 | 5314 | 5819 | 3789 | 0.04 |  55 | 63.15 | 0 |\n",
       "| Aberlour Health Centre - Aberlour (33004)                          | 33004 | 25.34 | 53.32 | 67.33 |  3319 | S01011052 | 5087 | 4575 | 4416 | 2738 | 4618 | 5033 | 0.05 |  55 | 53.82 | 0 |\n",
       "| Abingdon Medical Practice - Glasgow (40070)                        | 40070 | 73.95 | 70.04 | 88.54 |  3988 | S01010386 |  987 | 1350 |  696 |  172 | 1849 | 6890 | 0.15 | 195 | 81.96 | 1 |\n",
       "\n"
      ],
      "text/plain": [
       "  gp_practice                                                        gp_number\n",
       "1 Abbey Medical Centre - Paisley (87625)                             87625    \n",
       "2 Abercromby Practice - Glasgow (46555)                              46555    \n",
       "3 Aberfeldy And Kinloch Rannoch Medical Practice - Aberfeldy (10036) 10036    \n",
       "4 Aberfoyle & Buchlyvie Medical Centres - Buchlyvie (25968)          25968    \n",
       "5 Aberlour Health Centre - Aberlour (33004)                          33004    \n",
       "6 Abingdon Medical Practice - Glasgow (40070)                        40070    \n",
       "  q1_positive q2_positive q3_positive PracticeListSize DataZone  income_rank\n",
       "1 73.31       97.44       91.45       11096            S01012126 4547       \n",
       "2 78.51       93.93       87.44        3281            S01010055  195       \n",
       "3 87.11       95.03       98.06        4758            S01012014 3725       \n",
       "4 81.81       92.53       94.82        2348            S01013014 4669       \n",
       "5 25.34       53.32       67.33        3319            S01011052 5087       \n",
       "6 73.95       70.04       88.54        3988            S01010386  987       \n",
       "  employment_rank health_rank housing_rank education_rank access_rank\n",
       "1 4358            4365        2335         4351           4678       \n",
       "2   69              10         215          416           5869       \n",
       "3 3780            4372        3547         3288           6676       \n",
       "4 5111            5130        5314         5819           3789       \n",
       "5 4575            4416        2738         4618           5033       \n",
       "6 1350             696         172         1849           6890       \n",
       "  employment_rate CIF working_age_percentage urban_location\n",
       "1 0.06             65 75.30                  1             \n",
       "2 0.31            250 69.65                  1             \n",
       "3 0.07             70 59.16                  0             \n",
       "4 0.04             55 63.15                  0             \n",
       "5 0.05             55 53.82                  0             \n",
       "6 0.15            195 81.96                  1             "
      ]
     },
     "metadata": {},
     "output_type": "display_data"
    }
   ],
   "source": [
    "head(master_data)"
   ]
  },
  {
   "cell_type": "code",
   "execution_count": 36,
   "id": "1c8e0077",
   "metadata": {
    "vscode": {
     "languageId": "r"
    }
   },
   "outputs": [
    {
     "data": {
      "text/html": [
       "<style>\n",
       ".list-inline {list-style: none; margin:0; padding: 0}\n",
       ".list-inline>li {display: inline-block}\n",
       ".list-inline>li:not(:last-child)::after {content: \"\\00b7\"; padding: 0 .5ex}\n",
       "</style>\n",
       "<ol class=list-inline><li>'gp_practice'</li><li>'gp_number'</li><li>'q1_positive'</li><li>'q2_positive'</li><li>'q3_positive'</li><li>'PracticeListSize'</li><li>'DataZone'</li><li>'income_rank'</li><li>'employment_rank'</li><li>'health_rank'</li><li>'housing_rank'</li><li>'education_rank'</li><li>'access_rank'</li><li>'employment_rate'</li><li>'CIF'</li><li>'working_age_percentage'</li><li>'urban_location'</li></ol>\n"
      ],
      "text/latex": [
       "\\begin{enumerate*}\n",
       "\\item 'gp\\_practice'\n",
       "\\item 'gp\\_number'\n",
       "\\item 'q1\\_positive'\n",
       "\\item 'q2\\_positive'\n",
       "\\item 'q3\\_positive'\n",
       "\\item 'PracticeListSize'\n",
       "\\item 'DataZone'\n",
       "\\item 'income\\_rank'\n",
       "\\item 'employment\\_rank'\n",
       "\\item 'health\\_rank'\n",
       "\\item 'housing\\_rank'\n",
       "\\item 'education\\_rank'\n",
       "\\item 'access\\_rank'\n",
       "\\item 'employment\\_rate'\n",
       "\\item 'CIF'\n",
       "\\item 'working\\_age\\_percentage'\n",
       "\\item 'urban\\_location'\n",
       "\\end{enumerate*}\n"
      ],
      "text/markdown": [
       "1. 'gp_practice'\n",
       "2. 'gp_number'\n",
       "3. 'q1_positive'\n",
       "4. 'q2_positive'\n",
       "5. 'q3_positive'\n",
       "6. 'PracticeListSize'\n",
       "7. 'DataZone'\n",
       "8. 'income_rank'\n",
       "9. 'employment_rank'\n",
       "10. 'health_rank'\n",
       "11. 'housing_rank'\n",
       "12. 'education_rank'\n",
       "13. 'access_rank'\n",
       "14. 'employment_rate'\n",
       "15. 'CIF'\n",
       "16. 'working_age_percentage'\n",
       "17. 'urban_location'\n",
       "\n",
       "\n"
      ],
      "text/plain": [
       " [1] \"gp_practice\"            \"gp_number\"              \"q1_positive\"           \n",
       " [4] \"q2_positive\"            \"q3_positive\"            \"PracticeListSize\"      \n",
       " [7] \"DataZone\"               \"income_rank\"            \"employment_rank\"       \n",
       "[10] \"health_rank\"            \"housing_rank\"           \"education_rank\"        \n",
       "[13] \"access_rank\"            \"employment_rate\"        \"CIF\"                   \n",
       "[16] \"working_age_percentage\" \"urban_location\"        "
      ]
     },
     "metadata": {},
     "output_type": "display_data"
    }
   ],
   "source": [
    "colnames(master_data)"
   ]
  },
  {
   "cell_type": "code",
   "execution_count": 37,
   "id": "739c2650",
   "metadata": {
    "vscode": {
     "languageId": "r"
    }
   },
   "outputs": [
    {
     "data": {
      "text/html": [
       "<style>\n",
       ".list-inline {list-style: none; margin:0; padding: 0}\n",
       ".list-inline>li {display: inline-block}\n",
       ".list-inline>li:not(:last-child)::after {content: \"\\00b7\"; padding: 0 .5ex}\n",
       "</style>\n",
       "<ol class=list-inline><li>'gp_practice'</li><li>'gp_number'</li><li>'DataZone'</li><li>'PracticeListSize'</li><li>'q1_positive'</li><li>'q2_positive'</li><li>'q3_positive'</li><li>'income_rank'</li><li>'employment_rank'</li><li>'health_rank'</li><li>'housing_rank'</li><li>'education_rank'</li><li>'access_rank'</li><li>'employment_rate'</li><li>'CIF'</li><li>'working_age_percentage'</li><li>'urban_location'</li></ol>\n"
      ],
      "text/latex": [
       "\\begin{enumerate*}\n",
       "\\item 'gp\\_practice'\n",
       "\\item 'gp\\_number'\n",
       "\\item 'DataZone'\n",
       "\\item 'PracticeListSize'\n",
       "\\item 'q1\\_positive'\n",
       "\\item 'q2\\_positive'\n",
       "\\item 'q3\\_positive'\n",
       "\\item 'income\\_rank'\n",
       "\\item 'employment\\_rank'\n",
       "\\item 'health\\_rank'\n",
       "\\item 'housing\\_rank'\n",
       "\\item 'education\\_rank'\n",
       "\\item 'access\\_rank'\n",
       "\\item 'employment\\_rate'\n",
       "\\item 'CIF'\n",
       "\\item 'working\\_age\\_percentage'\n",
       "\\item 'urban\\_location'\n",
       "\\end{enumerate*}\n"
      ],
      "text/markdown": [
       "1. 'gp_practice'\n",
       "2. 'gp_number'\n",
       "3. 'DataZone'\n",
       "4. 'PracticeListSize'\n",
       "5. 'q1_positive'\n",
       "6. 'q2_positive'\n",
       "7. 'q3_positive'\n",
       "8. 'income_rank'\n",
       "9. 'employment_rank'\n",
       "10. 'health_rank'\n",
       "11. 'housing_rank'\n",
       "12. 'education_rank'\n",
       "13. 'access_rank'\n",
       "14. 'employment_rate'\n",
       "15. 'CIF'\n",
       "16. 'working_age_percentage'\n",
       "17. 'urban_location'\n",
       "\n",
       "\n"
      ],
      "text/plain": [
       " [1] \"gp_practice\"            \"gp_number\"              \"DataZone\"              \n",
       " [4] \"PracticeListSize\"       \"q1_positive\"            \"q2_positive\"           \n",
       " [7] \"q3_positive\"            \"income_rank\"            \"employment_rank\"       \n",
       "[10] \"health_rank\"            \"housing_rank\"           \"education_rank\"        \n",
       "[13] \"access_rank\"            \"employment_rate\"        \"CIF\"                   \n",
       "[16] \"working_age_percentage\" \"urban_location\"        "
      ]
     },
     "metadata": {},
     "output_type": "display_data"
    }
   ],
   "source": [
    "# Reorder columns to have all GP practice first, then all values after\n",
    "master_data <- master_data[, c(1,2,7,6,3,4,5,8,9,10,11,12,13,14,15,16,17)]\n",
    "colnames(master_data)"
   ]
  },
  {
   "cell_type": "code",
   "execution_count": 38,
   "id": "fa6595e1",
   "metadata": {
    "vscode": {
     "languageId": "r"
    }
   },
   "outputs": [
    {
     "name": "stderr",
     "output_type": "stream",
     "text": [
      "\u001b[1mRows: \u001b[22m\u001b[34m6976\u001b[39m \u001b[1mColumns: \u001b[22m\u001b[34m29\u001b[39m\n",
      "\u001b[36m──\u001b[39m \u001b[1mColumn specification\u001b[22m \u001b[36m────────────────────────────────────────────────────────\u001b[39m\n",
      "\u001b[1mDelimiter:\u001b[22m \",\"\n",
      "\u001b[31mchr\u001b[39m  (4): GEO_CODE, GEO_LABEL, GEO_TYPE, GEO_TYP2\n",
      "\u001b[32mdbl\u001b[39m (25): Ethnic group in Scotland [S] : Total\\ Ethnic group (Scotland) - Un...\n",
      "\n",
      "\u001b[36mℹ\u001b[39m Use `spec()` to retrieve the full column specification for this data.\n",
      "\u001b[36mℹ\u001b[39m Specify the column types or set `show_col_types = FALSE` to quiet this message.\n"
     ]
    },
    {
     "data": {
      "text/html": [
       "<style>\n",
       ".list-inline {list-style: none; margin:0; padding: 0}\n",
       ".list-inline>li {display: inline-block}\n",
       ".list-inline>li:not(:last-child)::after {content: \"\\00b7\"; padding: 0 .5ex}\n",
       "</style>\n",
       "<ol class=list-inline><li>'GEO_CODE'</li><li>'GEO_LABEL'</li><li>'GEO_TYPE'</li><li>'GEO_TYP2'</li><li>'Ethnic group in Scotland [S] : Total\\\\ Ethnic group (Scotland) - Unit : Persons'</li><li>'Ethnic group in Scotland [S] : White - Unit : Persons'</li><li>'Ethnic group in Scotland [S] : White\\\\ Scottish - Unit : Persons'</li><li>'Ethnic group in Scotland [S] : White\\\\ Other British - Unit : Persons'</li><li>'Ethnic group in Scotland [S] : White\\\\ Irish - Unit : Persons'</li><li>'Ethnic group in Scotland [S] : White\\\\ Gypsy/Traveller - Unit : Persons'</li><li>'Ethnic group in Scotland [S] : White\\\\ Polish - Unit : Persons'</li><li>'Ethnic group in Scotland [S] : White\\\\ Other White - Unit : Persons'</li><li>'Ethnic group in Scotland [S] : Mixed or multiple ethnic groups\\\\ Any mixed or multiple ethnic groups - Unit : Persons'</li><li>'Ethnic group in Scotland [S] : Asian; Asian Scottish or Asian British - Unit : Persons'</li><li>'Ethnic group in Scotland [S] : Asian; Asian Scottish or Asian British\\\\ Pakistani; Pakistani Scottish or Pakistani British - Unit : Persons'</li><li>'Ethnic group in Scotland [S] : Asian; Asian Scottish or Asian British\\\\ Indian; Indian Scottish or Indian British - Unit : Persons'</li><li>'Ethnic group in Scotland [S] : Asian; Asian Scottish or Asian British\\\\ Bangladeshi; Bangladeshi Scottish or Bangladeshi British - Unit : Persons'</li><li>'Ethnic group in Scotland [S] : Asian; Asian Scottish or Asian British\\\\ Chinese; Chinese Scottish or Chinese British - Unit : Persons'</li><li>'Ethnic group in Scotland [S] : Asian; Asian Scottish or Asian British\\\\ Other Asian - Unit : Persons'</li><li>'Ethnic group in Scotland [S] : African - Unit : Persons'</li><li>'Ethnic group in Scotland [S] : African\\\\ African; African Scottish or African British - Unit : Persons'</li><li>'Ethnic group in Scotland [S] : African\\\\ Other African - Unit : Persons'</li><li>'Ethnic group in Scotland [S] : Caribbean or Black - Unit : Persons'</li><li>'Ethnic group in Scotland [S] : Caribbean or Black\\\\ Caribbean; Caribbean Scottish or Caribbean British - Unit : Persons'</li><li>'Ethnic group in Scotland [S] : Caribbean or Black\\\\ Black; Black Scottish or Black British - Unit : Persons'</li><li>'Ethnic group in Scotland [S] : Caribbean or Black\\\\ Other Caribbean or Black - Unit : Persons'</li><li>'Ethnic group in Scotland [S] : Other ethnic group - Unit : Persons'</li><li>'Ethnic group in Scotland [S] : Other ethnic group\\\\ Arab; Arab Scottish or Arab British - Unit : Persons'</li><li>'Ethnic group in Scotland [S] : Other ethnic group\\\\ Other ethnic group - Unit : Persons'</li></ol>\n"
      ],
      "text/latex": [
       "\\begin{enumerate*}\n",
       "\\item 'GEO\\_CODE'\n",
       "\\item 'GEO\\_LABEL'\n",
       "\\item 'GEO\\_TYPE'\n",
       "\\item 'GEO\\_TYP2'\n",
       "\\item 'Ethnic group in Scotland {[}S{]} : Total\\textbackslash{}\\textbackslash{} Ethnic group (Scotland) - Unit : Persons'\n",
       "\\item 'Ethnic group in Scotland {[}S{]} : White - Unit : Persons'\n",
       "\\item 'Ethnic group in Scotland {[}S{]} : White\\textbackslash{}\\textbackslash{} Scottish - Unit : Persons'\n",
       "\\item 'Ethnic group in Scotland {[}S{]} : White\\textbackslash{}\\textbackslash{} Other British - Unit : Persons'\n",
       "\\item 'Ethnic group in Scotland {[}S{]} : White\\textbackslash{}\\textbackslash{} Irish - Unit : Persons'\n",
       "\\item 'Ethnic group in Scotland {[}S{]} : White\\textbackslash{}\\textbackslash{} Gypsy/Traveller - Unit : Persons'\n",
       "\\item 'Ethnic group in Scotland {[}S{]} : White\\textbackslash{}\\textbackslash{} Polish - Unit : Persons'\n",
       "\\item 'Ethnic group in Scotland {[}S{]} : White\\textbackslash{}\\textbackslash{} Other White - Unit : Persons'\n",
       "\\item 'Ethnic group in Scotland {[}S{]} : Mixed or multiple ethnic groups\\textbackslash{}\\textbackslash{} Any mixed or multiple ethnic groups - Unit : Persons'\n",
       "\\item 'Ethnic group in Scotland {[}S{]} : Asian; Asian Scottish or Asian British - Unit : Persons'\n",
       "\\item 'Ethnic group in Scotland {[}S{]} : Asian; Asian Scottish or Asian British\\textbackslash{}\\textbackslash{} Pakistani; Pakistani Scottish or Pakistani British - Unit : Persons'\n",
       "\\item 'Ethnic group in Scotland {[}S{]} : Asian; Asian Scottish or Asian British\\textbackslash{}\\textbackslash{} Indian; Indian Scottish or Indian British - Unit : Persons'\n",
       "\\item 'Ethnic group in Scotland {[}S{]} : Asian; Asian Scottish or Asian British\\textbackslash{}\\textbackslash{} Bangladeshi; Bangladeshi Scottish or Bangladeshi British - Unit : Persons'\n",
       "\\item 'Ethnic group in Scotland {[}S{]} : Asian; Asian Scottish or Asian British\\textbackslash{}\\textbackslash{} Chinese; Chinese Scottish or Chinese British - Unit : Persons'\n",
       "\\item 'Ethnic group in Scotland {[}S{]} : Asian; Asian Scottish or Asian British\\textbackslash{}\\textbackslash{} Other Asian - Unit : Persons'\n",
       "\\item 'Ethnic group in Scotland {[}S{]} : African - Unit : Persons'\n",
       "\\item 'Ethnic group in Scotland {[}S{]} : African\\textbackslash{}\\textbackslash{} African; African Scottish or African British - Unit : Persons'\n",
       "\\item 'Ethnic group in Scotland {[}S{]} : African\\textbackslash{}\\textbackslash{} Other African - Unit : Persons'\n",
       "\\item 'Ethnic group in Scotland {[}S{]} : Caribbean or Black - Unit : Persons'\n",
       "\\item 'Ethnic group in Scotland {[}S{]} : Caribbean or Black\\textbackslash{}\\textbackslash{} Caribbean; Caribbean Scottish or Caribbean British - Unit : Persons'\n",
       "\\item 'Ethnic group in Scotland {[}S{]} : Caribbean or Black\\textbackslash{}\\textbackslash{} Black; Black Scottish or Black British - Unit : Persons'\n",
       "\\item 'Ethnic group in Scotland {[}S{]} : Caribbean or Black\\textbackslash{}\\textbackslash{} Other Caribbean or Black - Unit : Persons'\n",
       "\\item 'Ethnic group in Scotland {[}S{]} : Other ethnic group - Unit : Persons'\n",
       "\\item 'Ethnic group in Scotland {[}S{]} : Other ethnic group\\textbackslash{}\\textbackslash{} Arab; Arab Scottish or Arab British - Unit : Persons'\n",
       "\\item 'Ethnic group in Scotland {[}S{]} : Other ethnic group\\textbackslash{}\\textbackslash{} Other ethnic group - Unit : Persons'\n",
       "\\end{enumerate*}\n"
      ],
      "text/markdown": [
       "1. 'GEO_CODE'\n",
       "2. 'GEO_LABEL'\n",
       "3. 'GEO_TYPE'\n",
       "4. 'GEO_TYP2'\n",
       "5. 'Ethnic group in Scotland [S] : Total\\\\ Ethnic group (Scotland) - Unit : Persons'\n",
       "6. 'Ethnic group in Scotland [S] : White - Unit : Persons'\n",
       "7. 'Ethnic group in Scotland [S] : White\\\\ Scottish - Unit : Persons'\n",
       "8. 'Ethnic group in Scotland [S] : White\\\\ Other British - Unit : Persons'\n",
       "9. 'Ethnic group in Scotland [S] : White\\\\ Irish - Unit : Persons'\n",
       "10. 'Ethnic group in Scotland [S] : White\\\\ Gypsy/Traveller - Unit : Persons'\n",
       "11. 'Ethnic group in Scotland [S] : White\\\\ Polish - Unit : Persons'\n",
       "12. 'Ethnic group in Scotland [S] : White\\\\ Other White - Unit : Persons'\n",
       "13. 'Ethnic group in Scotland [S] : Mixed or multiple ethnic groups\\\\ Any mixed or multiple ethnic groups - Unit : Persons'\n",
       "14. 'Ethnic group in Scotland [S] : Asian; Asian Scottish or Asian British - Unit : Persons'\n",
       "15. 'Ethnic group in Scotland [S] : Asian; Asian Scottish or Asian British\\\\ Pakistani; Pakistani Scottish or Pakistani British - Unit : Persons'\n",
       "16. 'Ethnic group in Scotland [S] : Asian; Asian Scottish or Asian British\\\\ Indian; Indian Scottish or Indian British - Unit : Persons'\n",
       "17. 'Ethnic group in Scotland [S] : Asian; Asian Scottish or Asian British\\\\ Bangladeshi; Bangladeshi Scottish or Bangladeshi British - Unit : Persons'\n",
       "18. 'Ethnic group in Scotland [S] : Asian; Asian Scottish or Asian British\\\\ Chinese; Chinese Scottish or Chinese British - Unit : Persons'\n",
       "19. 'Ethnic group in Scotland [S] : Asian; Asian Scottish or Asian British\\\\ Other Asian - Unit : Persons'\n",
       "20. 'Ethnic group in Scotland [S] : African - Unit : Persons'\n",
       "21. 'Ethnic group in Scotland [S] : African\\\\ African; African Scottish or African British - Unit : Persons'\n",
       "22. 'Ethnic group in Scotland [S] : African\\\\ Other African - Unit : Persons'\n",
       "23. 'Ethnic group in Scotland [S] : Caribbean or Black - Unit : Persons'\n",
       "24. 'Ethnic group in Scotland [S] : Caribbean or Black\\\\ Caribbean; Caribbean Scottish or Caribbean British - Unit : Persons'\n",
       "25. 'Ethnic group in Scotland [S] : Caribbean or Black\\\\ Black; Black Scottish or Black British - Unit : Persons'\n",
       "26. 'Ethnic group in Scotland [S] : Caribbean or Black\\\\ Other Caribbean or Black - Unit : Persons'\n",
       "27. 'Ethnic group in Scotland [S] : Other ethnic group - Unit : Persons'\n",
       "28. 'Ethnic group in Scotland [S] : Other ethnic group\\\\ Arab; Arab Scottish or Arab British - Unit : Persons'\n",
       "29. 'Ethnic group in Scotland [S] : Other ethnic group\\\\ Other ethnic group - Unit : Persons'\n",
       "\n",
       "\n"
      ],
      "text/plain": [
       " [1] \"GEO_CODE\"                                                                                                                                         \n",
       " [2] \"GEO_LABEL\"                                                                                                                                        \n",
       " [3] \"GEO_TYPE\"                                                                                                                                         \n",
       " [4] \"GEO_TYP2\"                                                                                                                                         \n",
       " [5] \"Ethnic group in Scotland [S] : Total\\\\ Ethnic group (Scotland) - Unit : Persons\"                                                                  \n",
       " [6] \"Ethnic group in Scotland [S] : White - Unit : Persons\"                                                                                            \n",
       " [7] \"Ethnic group in Scotland [S] : White\\\\ Scottish - Unit : Persons\"                                                                                 \n",
       " [8] \"Ethnic group in Scotland [S] : White\\\\ Other British - Unit : Persons\"                                                                            \n",
       " [9] \"Ethnic group in Scotland [S] : White\\\\ Irish - Unit : Persons\"                                                                                    \n",
       "[10] \"Ethnic group in Scotland [S] : White\\\\ Gypsy/Traveller - Unit : Persons\"                                                                          \n",
       "[11] \"Ethnic group in Scotland [S] : White\\\\ Polish - Unit : Persons\"                                                                                   \n",
       "[12] \"Ethnic group in Scotland [S] : White\\\\ Other White - Unit : Persons\"                                                                              \n",
       "[13] \"Ethnic group in Scotland [S] : Mixed or multiple ethnic groups\\\\ Any mixed or multiple ethnic groups - Unit : Persons\"                            \n",
       "[14] \"Ethnic group in Scotland [S] : Asian; Asian Scottish or Asian British - Unit : Persons\"                                                           \n",
       "[15] \"Ethnic group in Scotland [S] : Asian; Asian Scottish or Asian British\\\\ Pakistani; Pakistani Scottish or Pakistani British - Unit : Persons\"      \n",
       "[16] \"Ethnic group in Scotland [S] : Asian; Asian Scottish or Asian British\\\\ Indian; Indian Scottish or Indian British - Unit : Persons\"               \n",
       "[17] \"Ethnic group in Scotland [S] : Asian; Asian Scottish or Asian British\\\\ Bangladeshi; Bangladeshi Scottish or Bangladeshi British - Unit : Persons\"\n",
       "[18] \"Ethnic group in Scotland [S] : Asian; Asian Scottish or Asian British\\\\ Chinese; Chinese Scottish or Chinese British - Unit : Persons\"            \n",
       "[19] \"Ethnic group in Scotland [S] : Asian; Asian Scottish or Asian British\\\\ Other Asian - Unit : Persons\"                                             \n",
       "[20] \"Ethnic group in Scotland [S] : African - Unit : Persons\"                                                                                          \n",
       "[21] \"Ethnic group in Scotland [S] : African\\\\ African; African Scottish or African British - Unit : Persons\"                                           \n",
       "[22] \"Ethnic group in Scotland [S] : African\\\\ Other African - Unit : Persons\"                                                                          \n",
       "[23] \"Ethnic group in Scotland [S] : Caribbean or Black - Unit : Persons\"                                                                               \n",
       "[24] \"Ethnic group in Scotland [S] : Caribbean or Black\\\\ Caribbean; Caribbean Scottish or Caribbean British - Unit : Persons\"                          \n",
       "[25] \"Ethnic group in Scotland [S] : Caribbean or Black\\\\ Black; Black Scottish or Black British - Unit : Persons\"                                      \n",
       "[26] \"Ethnic group in Scotland [S] : Caribbean or Black\\\\ Other Caribbean or Black - Unit : Persons\"                                                    \n",
       "[27] \"Ethnic group in Scotland [S] : Other ethnic group - Unit : Persons\"                                                                               \n",
       "[28] \"Ethnic group in Scotland [S] : Other ethnic group\\\\ Arab; Arab Scottish or Arab British - Unit : Persons\"                                         \n",
       "[29] \"Ethnic group in Scotland [S] : Other ethnic group\\\\ Other ethnic group - Unit : Persons\"                                                          "
      ]
     },
     "metadata": {},
     "output_type": "display_data"
    }
   ],
   "source": [
    "# Add ethnicity confounder data to dataset\n",
    "ethnic_data <- read_csv('../data/Ethnic_Group_Datazones.csv')\n",
    "colnames(ethnic_data)"
   ]
  },
  {
   "cell_type": "code",
   "execution_count": 39,
   "id": "3e028e4d",
   "metadata": {
    "vscode": {
     "languageId": "r"
    }
   },
   "outputs": [
    {
     "data": {
      "text/plain": [
       "   Min. 1st Qu.  Median    Mean 3rd Qu.    Max. \n",
       "   0.00    2.31    3.95    6.84    7.72   87.12 "
      ]
     },
     "metadata": {},
     "output_type": "display_data"
    }
   ],
   "source": [
    "ethnic_data <- ethnic_data %>%\n",
    "    rename(Ethnic_Datazone = \"GEO_CODE\",\n",
    "           white_scottish = \"Ethnic group in Scotland [S] : White\\\\ Scottish - Unit : Persons\",\n",
    "           white_british = \"Ethnic group in Scotland [S] : White\\\\ Other British - Unit : Persons\",\n",
    "           white_irish = \"Ethnic group in Scotland [S] : White\\\\ Irish - Unit : Persons\",\n",
    "           total = \"Ethnic group in Scotland [S] : Total\\\\ Ethnic group (Scotland) - Unit : Persons\"\n",
    "          ) %>%\n",
    "    mutate(\n",
    "        minority_pop = (1 - ((white_scottish + white_british + white_irish) / total )) * 100\n",
    "        )  %>%\n",
    "    mutate(minority_pop = round(minority_pop, 2)) %>%\n",
    "    select(Ethnic_Datazone, minority_pop)\n",
    "\n",
    "summary(ethnic_data$minority_pop)"
   ]
  },
  {
   "cell_type": "code",
   "execution_count": 40,
   "id": "0a60b610",
   "metadata": {
    "vscode": {
     "languageId": "r"
    }
   },
   "outputs": [
    {
     "data": {
      "text/html": [
       "<table class=\"dataframe\">\n",
       "<caption>A tibble: 0 × 18</caption>\n",
       "<thead>\n",
       "\t<tr><th scope=col>gp_practice</th><th scope=col>gp_number</th><th scope=col>DataZone</th><th scope=col>PracticeListSize</th><th scope=col>q1_positive</th><th scope=col>q2_positive</th><th scope=col>q3_positive</th><th scope=col>income_rank</th><th scope=col>employment_rank</th><th scope=col>health_rank</th><th scope=col>housing_rank</th><th scope=col>education_rank</th><th scope=col>access_rank</th><th scope=col>employment_rate</th><th scope=col>CIF</th><th scope=col>working_age_percentage</th><th scope=col>urban_location</th><th scope=col>minority_pop</th></tr>\n",
       "\t<tr><th scope=col>&lt;chr&gt;</th><th scope=col>&lt;dbl&gt;</th><th scope=col>&lt;chr&gt;</th><th scope=col>&lt;dbl&gt;</th><th scope=col>&lt;dbl&gt;</th><th scope=col>&lt;dbl&gt;</th><th scope=col>&lt;dbl&gt;</th><th scope=col>&lt;dbl&gt;</th><th scope=col>&lt;dbl&gt;</th><th scope=col>&lt;dbl&gt;</th><th scope=col>&lt;dbl&gt;</th><th scope=col>&lt;dbl&gt;</th><th scope=col>&lt;dbl&gt;</th><th scope=col>&lt;dbl&gt;</th><th scope=col>&lt;dbl&gt;</th><th scope=col>&lt;dbl&gt;</th><th scope=col>&lt;dbl&gt;</th><th scope=col>&lt;dbl&gt;</th></tr>\n",
       "</thead>\n",
       "<tbody>\n",
       "</tbody>\n",
       "</table>\n"
      ],
      "text/latex": [
       "A tibble: 0 × 18\n",
       "\\begin{tabular}{llllllllllllllllll}\n",
       " gp\\_practice & gp\\_number & DataZone & PracticeListSize & q1\\_positive & q2\\_positive & q3\\_positive & income\\_rank & employment\\_rank & health\\_rank & housing\\_rank & education\\_rank & access\\_rank & employment\\_rate & CIF & working\\_age\\_percentage & urban\\_location & minority\\_pop\\\\\n",
       " <chr> & <dbl> & <chr> & <dbl> & <dbl> & <dbl> & <dbl> & <dbl> & <dbl> & <dbl> & <dbl> & <dbl> & <dbl> & <dbl> & <dbl> & <dbl> & <dbl> & <dbl>\\\\\n",
       "\\hline\n",
       "\\end{tabular}\n"
      ],
      "text/markdown": [
       "\n",
       "A tibble: 0 × 18\n",
       "\n",
       "| gp_practice &lt;chr&gt; | gp_number &lt;dbl&gt; | DataZone &lt;chr&gt; | PracticeListSize &lt;dbl&gt; | q1_positive &lt;dbl&gt; | q2_positive &lt;dbl&gt; | q3_positive &lt;dbl&gt; | income_rank &lt;dbl&gt; | employment_rank &lt;dbl&gt; | health_rank &lt;dbl&gt; | housing_rank &lt;dbl&gt; | education_rank &lt;dbl&gt; | access_rank &lt;dbl&gt; | employment_rate &lt;dbl&gt; | CIF &lt;dbl&gt; | working_age_percentage &lt;dbl&gt; | urban_location &lt;dbl&gt; | minority_pop &lt;dbl&gt; |\n",
       "|---|---|---|---|---|---|---|---|---|---|---|---|---|---|---|---|---|---|\n",
       "\n"
      ],
      "text/plain": [
       "     gp_practice gp_number DataZone PracticeListSize q1_positive q2_positive\n",
       "     q3_positive income_rank employment_rank health_rank housing_rank\n",
       "     education_rank access_rank employment_rate CIF working_age_percentage\n",
       "     urban_location minority_pop"
      ]
     },
     "metadata": {},
     "output_type": "display_data"
    },
    {
     "data": {
      "text/html": [
       "FALSE"
      ],
      "text/latex": [
       "FALSE"
      ],
      "text/markdown": [
       "FALSE"
      ],
      "text/plain": [
       "[1] FALSE"
      ]
     },
     "metadata": {},
     "output_type": "display_data"
    }
   ],
   "source": [
    "master_data <- master_data %>%\n",
    "    full_join(ethnic_data, by = c(\"DataZone\" = \"Ethnic_Datazone\")) %>%\n",
    "    filter(!is.na(gp_practice))\n",
    "\n",
    "unmatched_ethnicity <- master_data %>%\n",
    "    anti_join(ethnic_data, by = c(\"DataZone\" = \"Ethnic_Datazone\"))\n",
    "\n",
    "head(unmatched_ethnicity)\n",
    "any(is.na(ethnic_data$minority_pop))"
   ]
  },
  {
   "cell_type": "code",
   "execution_count": 42,
   "id": "2c22808b",
   "metadata": {
    "vscode": {
     "languageId": "r"
    }
   },
   "outputs": [
    {
     "name": "stderr",
     "output_type": "stream",
     "text": [
      "\u001b[1mRows: \u001b[22m\u001b[34m2748\u001b[39m \u001b[1mColumns: \u001b[22m\u001b[34m17\u001b[39m\n",
      "\u001b[36m──\u001b[39m \u001b[1mColumn specification\u001b[22m \u001b[36m────────────────────────────────────────────────────────\u001b[39m\n",
      "\u001b[1mDelimiter:\u001b[22m \",\"\n",
      "\u001b[31mchr\u001b[39m  (3): HB, HSCP, Sex\n",
      "\u001b[32mdbl\u001b[39m (14): Date, PracticeCode, AllAges, Ages0to4, Ages5to14, Ages15to24, Ages...\n",
      "\n",
      "\u001b[36mℹ\u001b[39m Use `spec()` to retrieve the full column specification for this data.\n",
      "\u001b[36mℹ\u001b[39m Specify the column types or set `show_col_types = FALSE` to quiet this message.\n"
     ]
    },
    {
     "data": {
      "text/html": [
       "<style>\n",
       ".list-inline {list-style: none; margin:0; padding: 0}\n",
       ".list-inline>li {display: inline-block}\n",
       ".list-inline>li:not(:last-child)::after {content: \"\\00b7\"; padding: 0 .5ex}\n",
       "</style>\n",
       "<ol class=list-inline><li>'Date'</li><li>'PracticeCode'</li><li>'HB'</li><li>'HSCP'</li><li>'Sex'</li><li>'AllAges'</li><li>'Ages0to4'</li><li>'Ages5to14'</li><li>'Ages15to24'</li><li>'Ages25to44'</li><li>'Ages45to64'</li><li>'Ages65to74'</li><li>'Ages75to84'</li><li>'Ages85plus'</li><li>'Sex_Type'</li><li>'Total_Female'</li><li>'Total_Male'</li></ol>\n"
      ],
      "text/latex": [
       "\\begin{enumerate*}\n",
       "\\item 'Date'\n",
       "\\item 'PracticeCode'\n",
       "\\item 'HB'\n",
       "\\item 'HSCP'\n",
       "\\item 'Sex'\n",
       "\\item 'AllAges'\n",
       "\\item 'Ages0to4'\n",
       "\\item 'Ages5to14'\n",
       "\\item 'Ages15to24'\n",
       "\\item 'Ages25to44'\n",
       "\\item 'Ages45to64'\n",
       "\\item 'Ages65to74'\n",
       "\\item 'Ages75to84'\n",
       "\\item 'Ages85plus'\n",
       "\\item 'Sex\\_Type'\n",
       "\\item 'Total\\_Female'\n",
       "\\item 'Total\\_Male'\n",
       "\\end{enumerate*}\n"
      ],
      "text/markdown": [
       "1. 'Date'\n",
       "2. 'PracticeCode'\n",
       "3. 'HB'\n",
       "4. 'HSCP'\n",
       "5. 'Sex'\n",
       "6. 'AllAges'\n",
       "7. 'Ages0to4'\n",
       "8. 'Ages5to14'\n",
       "9. 'Ages15to24'\n",
       "10. 'Ages25to44'\n",
       "11. 'Ages45to64'\n",
       "12. 'Ages65to74'\n",
       "13. 'Ages75to84'\n",
       "14. 'Ages85plus'\n",
       "15. 'Sex_Type'\n",
       "16. 'Total_Female'\n",
       "17. 'Total_Male'\n",
       "\n",
       "\n"
      ],
      "text/plain": [
       " [1] \"Date\"         \"PracticeCode\" \"HB\"           \"HSCP\"         \"Sex\"         \n",
       " [6] \"AllAges\"      \"Ages0to4\"     \"Ages5to14\"    \"Ages15to24\"   \"Ages25to44\"  \n",
       "[11] \"Ages45to64\"   \"Ages65to74\"   \"Ages75to84\"   \"Ages85plus\"   \"Sex_Type\"    \n",
       "[16] \"Total_Female\" \"Total_Male\"  "
      ]
     },
     "metadata": {},
     "output_type": "display_data"
    }
   ],
   "source": [
    "# Add age distribution confounder data to dataset\n",
    "GP_population_data <- read_csv('../data/GP_practice_populations_apr22.csv')\n",
    "colnames(GP_population_data)"
   ]
  },
  {
   "cell_type": "code",
   "execution_count": 43,
   "id": "ee9d49ce",
   "metadata": {
    "vscode": {
     "languageId": "r"
    }
   },
   "outputs": [],
   "source": [
    "# Create age_distribution confounder\n",
    "GP_population_data <- GP_population_data %>%\n",
    "    mutate(\n",
    "        age_distribution = if_else(\n",
    "          Sex_Type == 1,\n",
    "          round(((Ages15to24 + Ages25to44 + Ages45to64) / AllAges) * 100, 2),\n",
    "          NA_real_\n",
    "        )\n",
    "      )"
   ]
  },
  {
   "cell_type": "code",
   "execution_count": 44,
   "id": "b0f88a59",
   "metadata": {
    "vscode": {
     "languageId": "r"
    }
   },
   "outputs": [],
   "source": [
    "# Create gender_distribution confounder\n",
    "GP_population_data <- GP_population_data %>%\n",
    "    mutate(\n",
    "        gender_distribution = if_else(\n",
    "          Sex_Type == 1,\n",
    "          round((Total_Female / (Total_Female + Total_Male)) * 100, 2),\n",
    "          NA_real_\n",
    "        )\n",
    "      )"
   ]
  },
  {
   "cell_type": "code",
   "execution_count": 45,
   "id": "3df4c98c",
   "metadata": {
    "vscode": {
     "languageId": "r"
    }
   },
   "outputs": [
    {
     "data": {
      "text/html": [
       "<table class=\"dataframe\">\n",
       "<caption>A tibble: 6 × 19</caption>\n",
       "<thead>\n",
       "\t<tr><th scope=col>Date</th><th scope=col>PracticeCode</th><th scope=col>HB</th><th scope=col>HSCP</th><th scope=col>Sex</th><th scope=col>AllAges</th><th scope=col>Ages0to4</th><th scope=col>Ages5to14</th><th scope=col>Ages15to24</th><th scope=col>Ages25to44</th><th scope=col>Ages45to64</th><th scope=col>Ages65to74</th><th scope=col>Ages75to84</th><th scope=col>Ages85plus</th><th scope=col>Sex_Type</th><th scope=col>Total_Female</th><th scope=col>Total_Male</th><th scope=col>age_distribution</th><th scope=col>gender_distribution</th></tr>\n",
       "\t<tr><th scope=col>&lt;dbl&gt;</th><th scope=col>&lt;dbl&gt;</th><th scope=col>&lt;chr&gt;</th><th scope=col>&lt;chr&gt;</th><th scope=col>&lt;chr&gt;</th><th scope=col>&lt;dbl&gt;</th><th scope=col>&lt;dbl&gt;</th><th scope=col>&lt;dbl&gt;</th><th scope=col>&lt;dbl&gt;</th><th scope=col>&lt;dbl&gt;</th><th scope=col>&lt;dbl&gt;</th><th scope=col>&lt;dbl&gt;</th><th scope=col>&lt;dbl&gt;</th><th scope=col>&lt;dbl&gt;</th><th scope=col>&lt;dbl&gt;</th><th scope=col>&lt;dbl&gt;</th><th scope=col>&lt;dbl&gt;</th><th scope=col>&lt;dbl&gt;</th><th scope=col>&lt;dbl&gt;</th></tr>\n",
       "</thead>\n",
       "<tbody>\n",
       "\t<tr><td>20220401</td><td>10002</td><td>S08000030</td><td>S37000003</td><td>Male  </td><td>4007</td><td>180</td><td>465</td><td>407</td><td> 945</td><td>1154</td><td>471</td><td>288</td><td> 97</td><td>NA</td><td>  NA</td><td>  NA</td><td>   NA</td><td>   NA</td></tr>\n",
       "\t<tr><td>20220401</td><td>10002</td><td>S08000030</td><td>S37000003</td><td>Female</td><td>4095</td><td>193</td><td>409</td><td>397</td><td> 952</td><td>1225</td><td>503</td><td>319</td><td> 97</td><td>NA</td><td>  NA</td><td>  NA</td><td>   NA</td><td>   NA</td></tr>\n",
       "\t<tr><td>20220401</td><td>10002</td><td>S08000030</td><td>S37000003</td><td>All   </td><td>8102</td><td>373</td><td>874</td><td>804</td><td>1897</td><td>2379</td><td>974</td><td>607</td><td>194</td><td> 1</td><td>4095</td><td>4007</td><td>62.70</td><td>50.54</td></tr>\n",
       "\t<tr><td>20220401</td><td>10017</td><td>S08000030</td><td>S37000033</td><td>Male  </td><td>3351</td><td>121</td><td>366</td><td>442</td><td> 681</td><td> 952</td><td>414</td><td>267</td><td>108</td><td>NA</td><td>  NA</td><td>  NA</td><td>   NA</td><td>   NA</td></tr>\n",
       "\t<tr><td>20220401</td><td>10017</td><td>S08000030</td><td>S37000033</td><td>Female</td><td>3269</td><td>107</td><td>313</td><td>359</td><td> 660</td><td> 926</td><td>430</td><td>317</td><td>157</td><td>NA</td><td>  NA</td><td>  NA</td><td>   NA</td><td>   NA</td></tr>\n",
       "\t<tr><td>20220401</td><td>10017</td><td>S08000030</td><td>S37000033</td><td>All   </td><td>6620</td><td>228</td><td>679</td><td>801</td><td>1341</td><td>1878</td><td>844</td><td>584</td><td>265</td><td> 1</td><td>3269</td><td>3351</td><td>60.73</td><td>49.38</td></tr>\n",
       "</tbody>\n",
       "</table>\n"
      ],
      "text/latex": [
       "A tibble: 6 × 19\n",
       "\\begin{tabular}{lllllllllllllllllll}\n",
       " Date & PracticeCode & HB & HSCP & Sex & AllAges & Ages0to4 & Ages5to14 & Ages15to24 & Ages25to44 & Ages45to64 & Ages65to74 & Ages75to84 & Ages85plus & Sex\\_Type & Total\\_Female & Total\\_Male & age\\_distribution & gender\\_distribution\\\\\n",
       " <dbl> & <dbl> & <chr> & <chr> & <chr> & <dbl> & <dbl> & <dbl> & <dbl> & <dbl> & <dbl> & <dbl> & <dbl> & <dbl> & <dbl> & <dbl> & <dbl> & <dbl> & <dbl>\\\\\n",
       "\\hline\n",
       "\t 20220401 & 10002 & S08000030 & S37000003 & Male   & 4007 & 180 & 465 & 407 &  945 & 1154 & 471 & 288 &  97 & NA &   NA &   NA &    NA &    NA\\\\\n",
       "\t 20220401 & 10002 & S08000030 & S37000003 & Female & 4095 & 193 & 409 & 397 &  952 & 1225 & 503 & 319 &  97 & NA &   NA &   NA &    NA &    NA\\\\\n",
       "\t 20220401 & 10002 & S08000030 & S37000003 & All    & 8102 & 373 & 874 & 804 & 1897 & 2379 & 974 & 607 & 194 &  1 & 4095 & 4007 & 62.70 & 50.54\\\\\n",
       "\t 20220401 & 10017 & S08000030 & S37000033 & Male   & 3351 & 121 & 366 & 442 &  681 &  952 & 414 & 267 & 108 & NA &   NA &   NA &    NA &    NA\\\\\n",
       "\t 20220401 & 10017 & S08000030 & S37000033 & Female & 3269 & 107 & 313 & 359 &  660 &  926 & 430 & 317 & 157 & NA &   NA &   NA &    NA &    NA\\\\\n",
       "\t 20220401 & 10017 & S08000030 & S37000033 & All    & 6620 & 228 & 679 & 801 & 1341 & 1878 & 844 & 584 & 265 &  1 & 3269 & 3351 & 60.73 & 49.38\\\\\n",
       "\\end{tabular}\n"
      ],
      "text/markdown": [
       "\n",
       "A tibble: 6 × 19\n",
       "\n",
       "| Date &lt;dbl&gt; | PracticeCode &lt;dbl&gt; | HB &lt;chr&gt; | HSCP &lt;chr&gt; | Sex &lt;chr&gt; | AllAges &lt;dbl&gt; | Ages0to4 &lt;dbl&gt; | Ages5to14 &lt;dbl&gt; | Ages15to24 &lt;dbl&gt; | Ages25to44 &lt;dbl&gt; | Ages45to64 &lt;dbl&gt; | Ages65to74 &lt;dbl&gt; | Ages75to84 &lt;dbl&gt; | Ages85plus &lt;dbl&gt; | Sex_Type &lt;dbl&gt; | Total_Female &lt;dbl&gt; | Total_Male &lt;dbl&gt; | age_distribution &lt;dbl&gt; | gender_distribution &lt;dbl&gt; |\n",
       "|---|---|---|---|---|---|---|---|---|---|---|---|---|---|---|---|---|---|---|\n",
       "| 20220401 | 10002 | S08000030 | S37000003 | Male   | 4007 | 180 | 465 | 407 |  945 | 1154 | 471 | 288 |  97 | NA |   NA |   NA |    NA |    NA |\n",
       "| 20220401 | 10002 | S08000030 | S37000003 | Female | 4095 | 193 | 409 | 397 |  952 | 1225 | 503 | 319 |  97 | NA |   NA |   NA |    NA |    NA |\n",
       "| 20220401 | 10002 | S08000030 | S37000003 | All    | 8102 | 373 | 874 | 804 | 1897 | 2379 | 974 | 607 | 194 |  1 | 4095 | 4007 | 62.70 | 50.54 |\n",
       "| 20220401 | 10017 | S08000030 | S37000033 | Male   | 3351 | 121 | 366 | 442 |  681 |  952 | 414 | 267 | 108 | NA |   NA |   NA |    NA |    NA |\n",
       "| 20220401 | 10017 | S08000030 | S37000033 | Female | 3269 | 107 | 313 | 359 |  660 |  926 | 430 | 317 | 157 | NA |   NA |   NA |    NA |    NA |\n",
       "| 20220401 | 10017 | S08000030 | S37000033 | All    | 6620 | 228 | 679 | 801 | 1341 | 1878 | 844 | 584 | 265 |  1 | 3269 | 3351 | 60.73 | 49.38 |\n",
       "\n"
      ],
      "text/plain": [
       "  Date     PracticeCode HB        HSCP      Sex    AllAges Ages0to4 Ages5to14\n",
       "1 20220401 10002        S08000030 S37000003 Male   4007    180      465      \n",
       "2 20220401 10002        S08000030 S37000003 Female 4095    193      409      \n",
       "3 20220401 10002        S08000030 S37000003 All    8102    373      874      \n",
       "4 20220401 10017        S08000030 S37000033 Male   3351    121      366      \n",
       "5 20220401 10017        S08000030 S37000033 Female 3269    107      313      \n",
       "6 20220401 10017        S08000030 S37000033 All    6620    228      679      \n",
       "  Ages15to24 Ages25to44 Ages45to64 Ages65to74 Ages75to84 Ages85plus Sex_Type\n",
       "1 407         945       1154       471        288         97        NA      \n",
       "2 397         952       1225       503        319         97        NA      \n",
       "3 804        1897       2379       974        607        194         1      \n",
       "4 442         681        952       414        267        108        NA      \n",
       "5 359         660        926       430        317        157        NA      \n",
       "6 801        1341       1878       844        584        265         1      \n",
       "  Total_Female Total_Male age_distribution gender_distribution\n",
       "1   NA           NA          NA               NA              \n",
       "2   NA           NA          NA               NA              \n",
       "3 4095         4007       62.70            50.54              \n",
       "4   NA           NA          NA               NA              \n",
       "5   NA           NA          NA               NA              \n",
       "6 3269         3351       60.73            49.38              "
      ]
     },
     "metadata": {},
     "output_type": "display_data"
    },
    {
     "data": {
      "text/html": [
       "<style>\n",
       ".list-inline {list-style: none; margin:0; padding: 0}\n",
       ".list-inline>li {display: inline-block}\n",
       ".list-inline>li:not(:last-child)::after {content: \"\\00b7\"; padding: 0 .5ex}\n",
       "</style>\n",
       "<ol class=list-inline><li>'Date'</li><li>'PracticeCode'</li><li>'HB'</li><li>'HSCP'</li><li>'Sex'</li><li>'AllAges'</li><li>'Ages0to4'</li><li>'Ages5to14'</li><li>'Ages15to24'</li><li>'Ages25to44'</li><li>'Ages45to64'</li><li>'Ages65to74'</li><li>'Ages75to84'</li><li>'Ages85plus'</li><li>'Sex_Type'</li><li>'Total_Female'</li><li>'Total_Male'</li><li>'age_distribution'</li><li>'gender_distribution'</li></ol>\n"
      ],
      "text/latex": [
       "\\begin{enumerate*}\n",
       "\\item 'Date'\n",
       "\\item 'PracticeCode'\n",
       "\\item 'HB'\n",
       "\\item 'HSCP'\n",
       "\\item 'Sex'\n",
       "\\item 'AllAges'\n",
       "\\item 'Ages0to4'\n",
       "\\item 'Ages5to14'\n",
       "\\item 'Ages15to24'\n",
       "\\item 'Ages25to44'\n",
       "\\item 'Ages45to64'\n",
       "\\item 'Ages65to74'\n",
       "\\item 'Ages75to84'\n",
       "\\item 'Ages85plus'\n",
       "\\item 'Sex\\_Type'\n",
       "\\item 'Total\\_Female'\n",
       "\\item 'Total\\_Male'\n",
       "\\item 'age\\_distribution'\n",
       "\\item 'gender\\_distribution'\n",
       "\\end{enumerate*}\n"
      ],
      "text/markdown": [
       "1. 'Date'\n",
       "2. 'PracticeCode'\n",
       "3. 'HB'\n",
       "4. 'HSCP'\n",
       "5. 'Sex'\n",
       "6. 'AllAges'\n",
       "7. 'Ages0to4'\n",
       "8. 'Ages5to14'\n",
       "9. 'Ages15to24'\n",
       "10. 'Ages25to44'\n",
       "11. 'Ages45to64'\n",
       "12. 'Ages65to74'\n",
       "13. 'Ages75to84'\n",
       "14. 'Ages85plus'\n",
       "15. 'Sex_Type'\n",
       "16. 'Total_Female'\n",
       "17. 'Total_Male'\n",
       "18. 'age_distribution'\n",
       "19. 'gender_distribution'\n",
       "\n",
       "\n"
      ],
      "text/plain": [
       " [1] \"Date\"                \"PracticeCode\"        \"HB\"                 \n",
       " [4] \"HSCP\"                \"Sex\"                 \"AllAges\"            \n",
       " [7] \"Ages0to4\"            \"Ages5to14\"           \"Ages15to24\"         \n",
       "[10] \"Ages25to44\"          \"Ages45to64\"          \"Ages65to74\"         \n",
       "[13] \"Ages75to84\"          \"Ages85plus\"          \"Sex_Type\"           \n",
       "[16] \"Total_Female\"        \"Total_Male\"          \"age_distribution\"   \n",
       "[19] \"gender_distribution\""
      ]
     },
     "metadata": {},
     "output_type": "display_data"
    }
   ],
   "source": [
    "head(GP_population_data)\n",
    "colnames(GP_population_data)"
   ]
  },
  {
   "cell_type": "code",
   "execution_count": 46,
   "id": "19f2d41c",
   "metadata": {
    "vscode": {
     "languageId": "r"
    }
   },
   "outputs": [
    {
     "data": {
      "text/html": [
       "<style>\n",
       ".list-inline {list-style: none; margin:0; padding: 0}\n",
       ".list-inline>li {display: inline-block}\n",
       ".list-inline>li:not(:last-child)::after {content: \"\\00b7\"; padding: 0 .5ex}\n",
       "</style>\n",
       "<ol class=list-inline><li>'GP_PracticeCode'</li><li>'age_distribution'</li><li>'gender_distribution'</li></ol>\n"
      ],
      "text/latex": [
       "\\begin{enumerate*}\n",
       "\\item 'GP\\_PracticeCode'\n",
       "\\item 'age\\_distribution'\n",
       "\\item 'gender\\_distribution'\n",
       "\\end{enumerate*}\n"
      ],
      "text/markdown": [
       "1. 'GP_PracticeCode'\n",
       "2. 'age_distribution'\n",
       "3. 'gender_distribution'\n",
       "\n",
       "\n"
      ],
      "text/plain": [
       "[1] \"GP_PracticeCode\"     \"age_distribution\"    \"gender_distribution\""
      ]
     },
     "metadata": {},
     "output_type": "display_data"
    }
   ],
   "source": [
    "age_gender_confounders <- GP_population_data %>%\n",
    "    rename(GP_PracticeCode = PracticeCode) %>%\n",
    "    select(GP_PracticeCode, age_distribution, gender_distribution) %>%\n",
    "    drop_na()\n",
    "\n",
    "colnames(age_gender_confounders)"
   ]
  },
  {
   "cell_type": "code",
   "execution_count": 47,
   "id": "2f779003",
   "metadata": {
    "vscode": {
     "languageId": "r"
    }
   },
   "outputs": [
    {
     "data": {
      "text/html": [
       "<style>\n",
       ".list-inline {list-style: none; margin:0; padding: 0}\n",
       ".list-inline>li {display: inline-block}\n",
       ".list-inline>li:not(:last-child)::after {content: \"\\00b7\"; padding: 0 .5ex}\n",
       "</style>\n",
       "<ol class=list-inline><li>908</li><li>3</li></ol>\n"
      ],
      "text/latex": [
       "\\begin{enumerate*}\n",
       "\\item 908\n",
       "\\item 3\n",
       "\\end{enumerate*}\n"
      ],
      "text/markdown": [
       "1. 908\n",
       "2. 3\n",
       "\n",
       "\n"
      ],
      "text/plain": [
       "[1] 908   3"
      ]
     },
     "metadata": {},
     "output_type": "display_data"
    },
    {
     "data": {
      "text/html": [
       "<table class=\"dataframe\">\n",
       "<caption>A tibble: 6 × 3</caption>\n",
       "<thead>\n",
       "\t<tr><th scope=col>GP_PracticeCode</th><th scope=col>age_distribution</th><th scope=col>gender_distribution</th></tr>\n",
       "\t<tr><th scope=col>&lt;dbl&gt;</th><th scope=col>&lt;dbl&gt;</th><th scope=col>&lt;dbl&gt;</th></tr>\n",
       "</thead>\n",
       "<tbody>\n",
       "\t<tr><td>10002</td><td>62.70</td><td>50.54</td></tr>\n",
       "\t<tr><td>10017</td><td>60.73</td><td>49.38</td></tr>\n",
       "\t<tr><td>10036</td><td>60.53</td><td>49.52</td></tr>\n",
       "\t<tr><td>10106</td><td>56.28</td><td>52.33</td></tr>\n",
       "\t<tr><td>10125</td><td>58.49</td><td>51.06</td></tr>\n",
       "\t<tr><td>10182</td><td>63.32</td><td>51.00</td></tr>\n",
       "</tbody>\n",
       "</table>\n"
      ],
      "text/latex": [
       "A tibble: 6 × 3\n",
       "\\begin{tabular}{lll}\n",
       " GP\\_PracticeCode & age\\_distribution & gender\\_distribution\\\\\n",
       " <dbl> & <dbl> & <dbl>\\\\\n",
       "\\hline\n",
       "\t 10002 & 62.70 & 50.54\\\\\n",
       "\t 10017 & 60.73 & 49.38\\\\\n",
       "\t 10036 & 60.53 & 49.52\\\\\n",
       "\t 10106 & 56.28 & 52.33\\\\\n",
       "\t 10125 & 58.49 & 51.06\\\\\n",
       "\t 10182 & 63.32 & 51.00\\\\\n",
       "\\end{tabular}\n"
      ],
      "text/markdown": [
       "\n",
       "A tibble: 6 × 3\n",
       "\n",
       "| GP_PracticeCode &lt;dbl&gt; | age_distribution &lt;dbl&gt; | gender_distribution &lt;dbl&gt; |\n",
       "|---|---|---|\n",
       "| 10002 | 62.70 | 50.54 |\n",
       "| 10017 | 60.73 | 49.38 |\n",
       "| 10036 | 60.53 | 49.52 |\n",
       "| 10106 | 56.28 | 52.33 |\n",
       "| 10125 | 58.49 | 51.06 |\n",
       "| 10182 | 63.32 | 51.00 |\n",
       "\n"
      ],
      "text/plain": [
       "  GP_PracticeCode age_distribution gender_distribution\n",
       "1 10002           62.70            50.54              \n",
       "2 10017           60.73            49.38              \n",
       "3 10036           60.53            49.52              \n",
       "4 10106           56.28            52.33              \n",
       "5 10125           58.49            51.06              \n",
       "6 10182           63.32            51.00              "
      ]
     },
     "metadata": {},
     "output_type": "display_data"
    }
   ],
   "source": [
    "dim(age_gender_confounders)\n",
    "head(age_gender_confounders)"
   ]
  },
  {
   "cell_type": "code",
   "execution_count": 48,
   "id": "e5d64924",
   "metadata": {
    "vscode": {
     "languageId": "r"
    }
   },
   "outputs": [
    {
     "data": {
      "text/html": [
       "<style>\n",
       ".list-inline {list-style: none; margin:0; padding: 0}\n",
       ".list-inline>li {display: inline-block}\n",
       ".list-inline>li:not(:last-child)::after {content: \"\\00b7\"; padding: 0 .5ex}\n",
       "</style>\n",
       "<ol class=list-inline><li>'gp_practice'</li><li>'gp_number'</li><li>'DataZone'</li><li>'PracticeListSize'</li><li>'q1_positive'</li><li>'q2_positive'</li><li>'q3_positive'</li><li>'income_rank'</li><li>'employment_rank'</li><li>'health_rank'</li><li>'housing_rank'</li><li>'education_rank'</li><li>'access_rank'</li><li>'employment_rate'</li><li>'CIF'</li><li>'working_age_percentage'</li><li>'urban_location'</li><li>'minority_pop'</li></ol>\n"
      ],
      "text/latex": [
       "\\begin{enumerate*}\n",
       "\\item 'gp\\_practice'\n",
       "\\item 'gp\\_number'\n",
       "\\item 'DataZone'\n",
       "\\item 'PracticeListSize'\n",
       "\\item 'q1\\_positive'\n",
       "\\item 'q2\\_positive'\n",
       "\\item 'q3\\_positive'\n",
       "\\item 'income\\_rank'\n",
       "\\item 'employment\\_rank'\n",
       "\\item 'health\\_rank'\n",
       "\\item 'housing\\_rank'\n",
       "\\item 'education\\_rank'\n",
       "\\item 'access\\_rank'\n",
       "\\item 'employment\\_rate'\n",
       "\\item 'CIF'\n",
       "\\item 'working\\_age\\_percentage'\n",
       "\\item 'urban\\_location'\n",
       "\\item 'minority\\_pop'\n",
       "\\end{enumerate*}\n"
      ],
      "text/markdown": [
       "1. 'gp_practice'\n",
       "2. 'gp_number'\n",
       "3. 'DataZone'\n",
       "4. 'PracticeListSize'\n",
       "5. 'q1_positive'\n",
       "6. 'q2_positive'\n",
       "7. 'q3_positive'\n",
       "8. 'income_rank'\n",
       "9. 'employment_rank'\n",
       "10. 'health_rank'\n",
       "11. 'housing_rank'\n",
       "12. 'education_rank'\n",
       "13. 'access_rank'\n",
       "14. 'employment_rate'\n",
       "15. 'CIF'\n",
       "16. 'working_age_percentage'\n",
       "17. 'urban_location'\n",
       "18. 'minority_pop'\n",
       "\n",
       "\n"
      ],
      "text/plain": [
       " [1] \"gp_practice\"            \"gp_number\"              \"DataZone\"              \n",
       " [4] \"PracticeListSize\"       \"q1_positive\"            \"q2_positive\"           \n",
       " [7] \"q3_positive\"            \"income_rank\"            \"employment_rank\"       \n",
       "[10] \"health_rank\"            \"housing_rank\"           \"education_rank\"        \n",
       "[13] \"access_rank\"            \"employment_rate\"        \"CIF\"                   \n",
       "[16] \"working_age_percentage\" \"urban_location\"         \"minority_pop\"          "
      ]
     },
     "metadata": {},
     "output_type": "display_data"
    }
   ],
   "source": [
    "colnames(master_data)"
   ]
  },
  {
   "cell_type": "code",
   "execution_count": 49,
   "id": "56a67153",
   "metadata": {
    "vscode": {
     "languageId": "r"
    }
   },
   "outputs": [
    {
     "name": "stdout",
     "output_type": "stream",
     "text": [
      "[1] \"No duplicates found in GP_PracticeCode.\"\n"
     ]
    }
   ],
   "source": [
    "# Check for duplicates in GP_PracticeCode column\n",
    "duplicates <- age_gender_confounders[duplicated(age_gender_confounders$GP_PracticeCode), ]\n",
    "\n",
    "# Print duplicates, if any\n",
    "if (nrow(duplicates) > 0) {\n",
    "  print(\"Duplicate rows based on GP_PracticeCode:\")\n",
    "  print(duplicates)\n",
    "} else {\n",
    "  print(\"No duplicates found in GP_PracticeCode.\")\n",
    "}\n"
   ]
  },
  {
   "cell_type": "code",
   "execution_count": 50,
   "id": "f54d5785",
   "metadata": {
    "vscode": {
     "languageId": "r"
    }
   },
   "outputs": [
    {
     "data": {
      "text/html": [
       "<table class=\"dataframe\">\n",
       "<caption>A tibble: 0 × 20</caption>\n",
       "<thead>\n",
       "\t<tr><th scope=col>gp_practice</th><th scope=col>gp_number</th><th scope=col>DataZone</th><th scope=col>PracticeListSize</th><th scope=col>q1_positive</th><th scope=col>q2_positive</th><th scope=col>q3_positive</th><th scope=col>income_rank</th><th scope=col>employment_rank</th><th scope=col>health_rank</th><th scope=col>housing_rank</th><th scope=col>education_rank</th><th scope=col>access_rank</th><th scope=col>employment_rate</th><th scope=col>CIF</th><th scope=col>working_age_percentage</th><th scope=col>urban_location</th><th scope=col>minority_pop</th><th scope=col>age_distribution</th><th scope=col>gender_distribution</th></tr>\n",
       "\t<tr><th scope=col>&lt;chr&gt;</th><th scope=col>&lt;dbl&gt;</th><th scope=col>&lt;chr&gt;</th><th scope=col>&lt;dbl&gt;</th><th scope=col>&lt;dbl&gt;</th><th scope=col>&lt;dbl&gt;</th><th scope=col>&lt;dbl&gt;</th><th scope=col>&lt;dbl&gt;</th><th scope=col>&lt;dbl&gt;</th><th scope=col>&lt;dbl&gt;</th><th scope=col>&lt;dbl&gt;</th><th scope=col>&lt;dbl&gt;</th><th scope=col>&lt;dbl&gt;</th><th scope=col>&lt;dbl&gt;</th><th scope=col>&lt;dbl&gt;</th><th scope=col>&lt;dbl&gt;</th><th scope=col>&lt;dbl&gt;</th><th scope=col>&lt;dbl&gt;</th><th scope=col>&lt;dbl&gt;</th><th scope=col>&lt;dbl&gt;</th></tr>\n",
       "</thead>\n",
       "<tbody>\n",
       "</tbody>\n",
       "</table>\n"
      ],
      "text/latex": [
       "A tibble: 0 × 20\n",
       "\\begin{tabular}{llllllllllllllllllll}\n",
       " gp\\_practice & gp\\_number & DataZone & PracticeListSize & q1\\_positive & q2\\_positive & q3\\_positive & income\\_rank & employment\\_rank & health\\_rank & housing\\_rank & education\\_rank & access\\_rank & employment\\_rate & CIF & working\\_age\\_percentage & urban\\_location & minority\\_pop & age\\_distribution & gender\\_distribution\\\\\n",
       " <chr> & <dbl> & <chr> & <dbl> & <dbl> & <dbl> & <dbl> & <dbl> & <dbl> & <dbl> & <dbl> & <dbl> & <dbl> & <dbl> & <dbl> & <dbl> & <dbl> & <dbl> & <dbl> & <dbl>\\\\\n",
       "\\hline\n",
       "\\end{tabular}\n"
      ],
      "text/markdown": [
       "\n",
       "A tibble: 0 × 20\n",
       "\n",
       "| gp_practice &lt;chr&gt; | gp_number &lt;dbl&gt; | DataZone &lt;chr&gt; | PracticeListSize &lt;dbl&gt; | q1_positive &lt;dbl&gt; | q2_positive &lt;dbl&gt; | q3_positive &lt;dbl&gt; | income_rank &lt;dbl&gt; | employment_rank &lt;dbl&gt; | health_rank &lt;dbl&gt; | housing_rank &lt;dbl&gt; | education_rank &lt;dbl&gt; | access_rank &lt;dbl&gt; | employment_rate &lt;dbl&gt; | CIF &lt;dbl&gt; | working_age_percentage &lt;dbl&gt; | urban_location &lt;dbl&gt; | minority_pop &lt;dbl&gt; | age_distribution &lt;dbl&gt; | gender_distribution &lt;dbl&gt; |\n",
       "|---|---|---|---|---|---|---|---|---|---|---|---|---|---|---|---|---|---|---|---|\n",
       "\n"
      ],
      "text/plain": [
       "     gp_practice gp_number DataZone PracticeListSize q1_positive q2_positive\n",
       "     q3_positive income_rank employment_rank health_rank housing_rank\n",
       "     education_rank access_rank employment_rate CIF working_age_percentage\n",
       "     urban_location minority_pop age_distribution gender_distribution"
      ]
     },
     "metadata": {},
     "output_type": "display_data"
    }
   ],
   "source": [
    "# Merge age_gender_confounders data with the master data\n",
    "master_data <- master_data %>%\n",
    "    full_join(age_gender_confounders, by = c(\"gp_number\" = \"GP_PracticeCode\")) %>%\n",
    "    filter(!is.na(gp_practice))\n",
    "\n",
    "unmatched <- master_data %>%\n",
    "    anti_join(age_gender_confounders, by = c(\"gp_number\" = \"GP_PracticeCode\"))\n",
    "\n",
    "head(unmatched)"
   ]
  },
  {
   "cell_type": "code",
   "execution_count": 51,
   "id": "962e5e0d",
   "metadata": {
    "vscode": {
     "languageId": "r"
    }
   },
   "outputs": [
    {
     "name": "stdout",
     "output_type": "stream",
     "text": [
      "Total NAs in age_distribution column:  0 \n",
      "Total NAs in gender_distribution column:  0 \n"
     ]
    }
   ],
   "source": [
    "# Print total NA's in age_distribution and gender_distribution columns\n",
    "total_na_age <- sum(is.na(master_data$age_distribution))\n",
    "total_na_gender <- sum(is.na(master_data$gender_distribution))\n",
    "\n",
    "cat(\"Total NAs in age_distribution column: \", total_na_age, \"\\n\")\n",
    "cat(\"Total NAs in gender_distribution column: \", total_na_gender, \"\\n\")"
   ]
  },
  {
   "cell_type": "code",
   "execution_count": 53,
   "id": "87ae1899",
   "metadata": {
    "vscode": {
     "languageId": "r"
    }
   },
   "outputs": [
    {
     "name": "stderr",
     "output_type": "stream",
     "text": [
      "\u001b[1mRows: \u001b[22m\u001b[34m32\u001b[39m \u001b[1mColumns: \u001b[22m\u001b[34m2\u001b[39m\n",
      "\u001b[36m──\u001b[39m \u001b[1mColumn specification\u001b[22m \u001b[36m────────────────────────────────────────────────────────\u001b[39m\n",
      "\u001b[1mDelimiter:\u001b[22m \",\"\n",
      "\u001b[31mchr\u001b[39m (1): Area\n",
      "\u001b[32mdbl\u001b[39m (1): Employment_Percentage\n",
      "\n",
      "\u001b[36mℹ\u001b[39m Use `spec()` to retrieve the full column specification for this data.\n",
      "\u001b[36mℹ\u001b[39m Specify the column types or set `show_col_types = FALSE` to quiet this message.\n",
      "\u001b[1mRows: \u001b[22m\u001b[34m6976\u001b[39m \u001b[1mColumns: \u001b[22m\u001b[34m38\u001b[39m\n",
      "\u001b[36m──\u001b[39m \u001b[1mColumn specification\u001b[22m \u001b[36m────────────────────────────────────────────────────────\u001b[39m\n",
      "\u001b[1mDelimiter:\u001b[22m \",\"\n",
      "\u001b[31mchr\u001b[39m (34): DZ2011_Code, DZ2011_Name, IZ2011_Code, IZ2011_Name, MMWard_Code, M...\n",
      "\u001b[32mdbl\u001b[39m  (4): UR2_Code, UR3_Code, UR6_Code, UR8_Code\n",
      "\n",
      "\u001b[36mℹ\u001b[39m Use `spec()` to retrieve the full column specification for this data.\n",
      "\u001b[36mℹ\u001b[39m Specify the column types or set `show_col_types = FALSE` to quiet this message.\n"
     ]
    },
    {
     "data": {
      "text/html": [
       "<style>\n",
       ".list-inline {list-style: none; margin:0; padding: 0}\n",
       ".list-inline>li {display: inline-block}\n",
       ".list-inline>li:not(:last-child)::after {content: \"\\00b7\"; padding: 0 .5ex}\n",
       "</style>\n",
       "<ol class=list-inline><li>'Area'</li><li>'Employment_Percentage'</li></ol>\n"
      ],
      "text/latex": [
       "\\begin{enumerate*}\n",
       "\\item 'Area'\n",
       "\\item 'Employment\\_Percentage'\n",
       "\\end{enumerate*}\n"
      ],
      "text/markdown": [
       "1. 'Area'\n",
       "2. 'Employment_Percentage'\n",
       "\n",
       "\n"
      ],
      "text/plain": [
       "[1] \"Area\"                  \"Employment_Percentage\""
      ]
     },
     "metadata": {},
     "output_type": "display_data"
    },
    {
     "data": {
      "text/html": [
       "<style>\n",
       ".list-inline {list-style: none; margin:0; padding: 0}\n",
       ".list-inline>li {display: inline-block}\n",
       ".list-inline>li:not(:last-child)::after {content: \"\\00b7\"; padding: 0 .5ex}\n",
       "</style>\n",
       "<ol class=list-inline><li>'DZ2011_Code'</li><li>'DZ2011_Name'</li><li>'IZ2011_Code'</li><li>'IZ2011_Name'</li><li>'MMWard_Code'</li><li>'MMWard_Name'</li><li>'LA_Code'</li><li>'LA_Name'</li><li>'SPC_Code'</li><li>'SPC_Name'</li><li>'UKPC_Code'</li><li>'UKPC_Name'</li><li>'HB_Code'</li><li>'HB_Name'</li><li>'HIA_Code'</li><li>'HIA_Name'</li><li>'SPD_Code'</li><li>'SPD_Name'</li><li>'SFRLSO_Code'</li><li>'SFRLSO_Name'</li><li>'SFRSDA_Code'</li><li>'SFRSDA_Name'</li><li>'RRP_Code'</li><li>'RRP_Name'</li><li>'LRP_Code'</li><li>'LRP_Name'</li><li>'TTWA2011_Code'</li><li>'TTWA2011_Name'</li><li>'UR2_Code'</li><li>'UR2_Name'</li><li>'UR3_Code'</li><li>'UR3_Name'</li><li>'UR6_Code'</li><li>'UR6_Name'</li><li>'UR8_Code'</li><li>'UR8_Name'</li><li>'Country_Code'</li><li>'Country_Name'</li></ol>\n"
      ],
      "text/latex": [
       "\\begin{enumerate*}\n",
       "\\item 'DZ2011\\_Code'\n",
       "\\item 'DZ2011\\_Name'\n",
       "\\item 'IZ2011\\_Code'\n",
       "\\item 'IZ2011\\_Name'\n",
       "\\item 'MMWard\\_Code'\n",
       "\\item 'MMWard\\_Name'\n",
       "\\item 'LA\\_Code'\n",
       "\\item 'LA\\_Name'\n",
       "\\item 'SPC\\_Code'\n",
       "\\item 'SPC\\_Name'\n",
       "\\item 'UKPC\\_Code'\n",
       "\\item 'UKPC\\_Name'\n",
       "\\item 'HB\\_Code'\n",
       "\\item 'HB\\_Name'\n",
       "\\item 'HIA\\_Code'\n",
       "\\item 'HIA\\_Name'\n",
       "\\item 'SPD\\_Code'\n",
       "\\item 'SPD\\_Name'\n",
       "\\item 'SFRLSO\\_Code'\n",
       "\\item 'SFRLSO\\_Name'\n",
       "\\item 'SFRSDA\\_Code'\n",
       "\\item 'SFRSDA\\_Name'\n",
       "\\item 'RRP\\_Code'\n",
       "\\item 'RRP\\_Name'\n",
       "\\item 'LRP\\_Code'\n",
       "\\item 'LRP\\_Name'\n",
       "\\item 'TTWA2011\\_Code'\n",
       "\\item 'TTWA2011\\_Name'\n",
       "\\item 'UR2\\_Code'\n",
       "\\item 'UR2\\_Name'\n",
       "\\item 'UR3\\_Code'\n",
       "\\item 'UR3\\_Name'\n",
       "\\item 'UR6\\_Code'\n",
       "\\item 'UR6\\_Name'\n",
       "\\item 'UR8\\_Code'\n",
       "\\item 'UR8\\_Name'\n",
       "\\item 'Country\\_Code'\n",
       "\\item 'Country\\_Name'\n",
       "\\end{enumerate*}\n"
      ],
      "text/markdown": [
       "1. 'DZ2011_Code'\n",
       "2. 'DZ2011_Name'\n",
       "3. 'IZ2011_Code'\n",
       "4. 'IZ2011_Name'\n",
       "5. 'MMWard_Code'\n",
       "6. 'MMWard_Name'\n",
       "7. 'LA_Code'\n",
       "8. 'LA_Name'\n",
       "9. 'SPC_Code'\n",
       "10. 'SPC_Name'\n",
       "11. 'UKPC_Code'\n",
       "12. 'UKPC_Name'\n",
       "13. 'HB_Code'\n",
       "14. 'HB_Name'\n",
       "15. 'HIA_Code'\n",
       "16. 'HIA_Name'\n",
       "17. 'SPD_Code'\n",
       "18. 'SPD_Name'\n",
       "19. 'SFRLSO_Code'\n",
       "20. 'SFRLSO_Name'\n",
       "21. 'SFRSDA_Code'\n",
       "22. 'SFRSDA_Name'\n",
       "23. 'RRP_Code'\n",
       "24. 'RRP_Name'\n",
       "25. 'LRP_Code'\n",
       "26. 'LRP_Name'\n",
       "27. 'TTWA2011_Code'\n",
       "28. 'TTWA2011_Name'\n",
       "29. 'UR2_Code'\n",
       "30. 'UR2_Name'\n",
       "31. 'UR3_Code'\n",
       "32. 'UR3_Name'\n",
       "33. 'UR6_Code'\n",
       "34. 'UR6_Name'\n",
       "35. 'UR8_Code'\n",
       "36. 'UR8_Name'\n",
       "37. 'Country_Code'\n",
       "38. 'Country_Name'\n",
       "\n",
       "\n"
      ],
      "text/plain": [
       " [1] \"DZ2011_Code\"   \"DZ2011_Name\"   \"IZ2011_Code\"   \"IZ2011_Name\"  \n",
       " [5] \"MMWard_Code\"   \"MMWard_Name\"   \"LA_Code\"       \"LA_Name\"      \n",
       " [9] \"SPC_Code\"      \"SPC_Name\"      \"UKPC_Code\"     \"UKPC_Name\"    \n",
       "[13] \"HB_Code\"       \"HB_Name\"       \"HIA_Code\"      \"HIA_Name\"     \n",
       "[17] \"SPD_Code\"      \"SPD_Name\"      \"SFRLSO_Code\"   \"SFRLSO_Name\"  \n",
       "[21] \"SFRSDA_Code\"   \"SFRSDA_Name\"   \"RRP_Code\"      \"RRP_Name\"     \n",
       "[25] \"LRP_Code\"      \"LRP_Name\"      \"TTWA2011_Code\" \"TTWA2011_Name\"\n",
       "[29] \"UR2_Code\"      \"UR2_Name\"      \"UR3_Code\"      \"UR3_Name\"     \n",
       "[33] \"UR6_Code\"      \"UR6_Name\"      \"UR8_Code\"      \"UR8_Name\"     \n",
       "[37] \"Country_Code\"  \"Country_Name\" "
      ]
     },
     "metadata": {},
     "output_type": "display_data"
    }
   ],
   "source": [
    "# Add Employment rates as a confounding variable\n",
    "employment_rate <- read_csv(\n",
    "    '../data/Scottish_Labour_Market_Employment_Rate_Local_Authority_to_2020.csv'\n",
    ")\n",
    "datazone_lookup <- read_csv(\n",
    "    '../data/DataZone2011lookup_2022-05-31.csv'\n",
    ")\n",
    "\n",
    "colnames(employment_rate)\n",
    "colnames(datazone_lookup)"
   ]
  },
  {
   "cell_type": "code",
   "execution_count": 54,
   "id": "d6b55247",
   "metadata": {
    "vscode": {
     "languageId": "r"
    }
   },
   "outputs": [
    {
     "data": {
      "text/html": [
       "<style>\n",
       ".list-inline {list-style: none; margin:0; padding: 0}\n",
       ".list-inline>li {display: inline-block}\n",
       ".list-inline>li:not(:last-child)::after {content: \"\\00b7\"; padding: 0 .5ex}\n",
       "</style>\n",
       "<ol class=list-inline><li>6976</li><li>2</li></ol>\n"
      ],
      "text/latex": [
       "\\begin{enumerate*}\n",
       "\\item 6976\n",
       "\\item 2\n",
       "\\end{enumerate*}\n"
      ],
      "text/markdown": [
       "1. 6976\n",
       "2. 2\n",
       "\n",
       "\n"
      ],
      "text/plain": [
       "[1] 6976    2"
      ]
     },
     "metadata": {},
     "output_type": "display_data"
    }
   ],
   "source": [
    "# Create employment_by_dz with only employment and datazone info\n",
    "datazone_lookup <- datazone_lookup %>%\n",
    "    select(DZ2011_Code, LA_Name)\n",
    "\n",
    "# Match variations in names between datasets\n",
    "datazone_lookup <- datazone_lookup %>%\n",
    "  mutate(LA_Name = case_when(\n",
    "    LA_Name == \"City of Edinburgh\" ~ \"Edinburgh, City of\",\n",
    "    TRUE ~ LA_Name\n",
    "  ))\n",
    "\n",
    "# Merge datasets\n",
    "employment_by_dz <- employment_rate %>%\n",
    "    full_join(datazone_lookup, by = c(\"Area\" = \"LA_Name\")) %>%\n",
    "    select(Employment_Percentage, DZ2011_Code) %>%\n",
    "    rename(employment_percentage = Employment_Percentage)\n",
    "\n",
    "# unique_LA_names <- unique(employment_by_dz$Area)\n",
    "\n",
    "# # Print or view the unique values\n",
    "# print(unique_LA_names)\n",
    "\n",
    "dim(employment_by_dz)"
   ]
  },
  {
   "cell_type": "code",
   "execution_count": 55,
   "id": "588684c7",
   "metadata": {
    "vscode": {
     "languageId": "r"
    }
   },
   "outputs": [
    {
     "data": {
      "text/html": [
       "<style>\n",
       ".list-inline {list-style: none; margin:0; padding: 0}\n",
       ".list-inline>li {display: inline-block}\n",
       ".list-inline>li:not(:last-child)::after {content: \"\\00b7\"; padding: 0 .5ex}\n",
       "</style>\n",
       "<ol class=list-inline><li>'gp_practice'</li><li>'gp_number'</li><li>'DataZone'</li><li>'PracticeListSize'</li><li>'q1_positive'</li><li>'q2_positive'</li><li>'q3_positive'</li><li>'income_rank'</li><li>'employment_rank'</li><li>'health_rank'</li><li>'housing_rank'</li><li>'education_rank'</li><li>'access_rank'</li><li>'employment_rate'</li><li>'CIF'</li><li>'working_age_percentage'</li><li>'urban_location'</li><li>'minority_pop'</li><li>'age_distribution'</li><li>'gender_distribution'</li></ol>\n"
      ],
      "text/latex": [
       "\\begin{enumerate*}\n",
       "\\item 'gp\\_practice'\n",
       "\\item 'gp\\_number'\n",
       "\\item 'DataZone'\n",
       "\\item 'PracticeListSize'\n",
       "\\item 'q1\\_positive'\n",
       "\\item 'q2\\_positive'\n",
       "\\item 'q3\\_positive'\n",
       "\\item 'income\\_rank'\n",
       "\\item 'employment\\_rank'\n",
       "\\item 'health\\_rank'\n",
       "\\item 'housing\\_rank'\n",
       "\\item 'education\\_rank'\n",
       "\\item 'access\\_rank'\n",
       "\\item 'employment\\_rate'\n",
       "\\item 'CIF'\n",
       "\\item 'working\\_age\\_percentage'\n",
       "\\item 'urban\\_location'\n",
       "\\item 'minority\\_pop'\n",
       "\\item 'age\\_distribution'\n",
       "\\item 'gender\\_distribution'\n",
       "\\end{enumerate*}\n"
      ],
      "text/markdown": [
       "1. 'gp_practice'\n",
       "2. 'gp_number'\n",
       "3. 'DataZone'\n",
       "4. 'PracticeListSize'\n",
       "5. 'q1_positive'\n",
       "6. 'q2_positive'\n",
       "7. 'q3_positive'\n",
       "8. 'income_rank'\n",
       "9. 'employment_rank'\n",
       "10. 'health_rank'\n",
       "11. 'housing_rank'\n",
       "12. 'education_rank'\n",
       "13. 'access_rank'\n",
       "14. 'employment_rate'\n",
       "15. 'CIF'\n",
       "16. 'working_age_percentage'\n",
       "17. 'urban_location'\n",
       "18. 'minority_pop'\n",
       "19. 'age_distribution'\n",
       "20. 'gender_distribution'\n",
       "\n",
       "\n"
      ],
      "text/plain": [
       " [1] \"gp_practice\"            \"gp_number\"              \"DataZone\"              \n",
       " [4] \"PracticeListSize\"       \"q1_positive\"            \"q2_positive\"           \n",
       " [7] \"q3_positive\"            \"income_rank\"            \"employment_rank\"       \n",
       "[10] \"health_rank\"            \"housing_rank\"           \"education_rank\"        \n",
       "[13] \"access_rank\"            \"employment_rate\"        \"CIF\"                   \n",
       "[16] \"working_age_percentage\" \"urban_location\"         \"minority_pop\"          \n",
       "[19] \"age_distribution\"       \"gender_distribution\"   "
      ]
     },
     "metadata": {},
     "output_type": "display_data"
    }
   ],
   "source": [
    "colnames(master_data)"
   ]
  },
  {
   "cell_type": "code",
   "execution_count": 56,
   "id": "6c96c2fd",
   "metadata": {
    "vscode": {
     "languageId": "r"
    }
   },
   "outputs": [],
   "source": [
    "# Merge into main dataset\n",
    "master_data <- master_data %>%\n",
    "    full_join(employment_by_dz, by = c(\"DataZone\" = \"DZ2011_Code\")) %>%\n",
    "    filter(!is.na(gp_practice))"
   ]
  },
  {
   "cell_type": "code",
   "execution_count": 57,
   "id": "47dc7d09",
   "metadata": {
    "vscode": {
     "languageId": "r"
    }
   },
   "outputs": [
    {
     "data": {
      "text/html": [
       "<style>\n",
       ".list-inline {list-style: none; margin:0; padding: 0}\n",
       ".list-inline>li {display: inline-block}\n",
       ".list-inline>li:not(:last-child)::after {content: \"\\00b7\"; padding: 0 .5ex}\n",
       "</style>\n",
       "<ol class=list-inline><li>0</li><li>21</li></ol>\n"
      ],
      "text/latex": [
       "\\begin{enumerate*}\n",
       "\\item 0\n",
       "\\item 21\n",
       "\\end{enumerate*}\n"
      ],
      "text/markdown": [
       "1. 0\n",
       "2. 21\n",
       "\n",
       "\n"
      ],
      "text/plain": [
       "[1]  0 21"
      ]
     },
     "metadata": {},
     "output_type": "display_data"
    }
   ],
   "source": [
    "# Check for 'employment_percentage' is NA\n",
    "employment_percentage_NA <- master_data %>%\n",
    "    filter(is.na(master_data$employment_percentage))\n",
    "\n",
    "dim(employment_percentage_NA)"
   ]
  },
  {
   "cell_type": "code",
   "execution_count": 59,
   "id": "55c59113",
   "metadata": {
    "vscode": {
     "languageId": "r"
    }
   },
   "outputs": [
    {
     "data": {
      "text/html": [
       "<table class=\"dataframe\">\n",
       "<caption>A tibble: 6 × 21</caption>\n",
       "<thead>\n",
       "\t<tr><th scope=col>gp_practice</th><th scope=col>gp_number</th><th scope=col>DataZone</th><th scope=col>PracticeListSize</th><th scope=col>q1_positive</th><th scope=col>q2_positive</th><th scope=col>q3_positive</th><th scope=col>income_rank</th><th scope=col>employment_rank</th><th scope=col>health_rank</th><th scope=col>⋯</th><th scope=col>education_rank</th><th scope=col>access_rank</th><th scope=col>employment_rate</th><th scope=col>CIF</th><th scope=col>working_age_percentage</th><th scope=col>urban_location</th><th scope=col>minority_pop</th><th scope=col>age_distribution</th><th scope=col>gender_distribution</th><th scope=col>employment_percentage</th></tr>\n",
       "\t<tr><th scope=col>&lt;chr&gt;</th><th scope=col>&lt;dbl&gt;</th><th scope=col>&lt;chr&gt;</th><th scope=col>&lt;dbl&gt;</th><th scope=col>&lt;dbl&gt;</th><th scope=col>&lt;dbl&gt;</th><th scope=col>&lt;dbl&gt;</th><th scope=col>&lt;dbl&gt;</th><th scope=col>&lt;dbl&gt;</th><th scope=col>&lt;dbl&gt;</th><th scope=col>⋯</th><th scope=col>&lt;dbl&gt;</th><th scope=col>&lt;dbl&gt;</th><th scope=col>&lt;dbl&gt;</th><th scope=col>&lt;dbl&gt;</th><th scope=col>&lt;dbl&gt;</th><th scope=col>&lt;dbl&gt;</th><th scope=col>&lt;dbl&gt;</th><th scope=col>&lt;dbl&gt;</th><th scope=col>&lt;dbl&gt;</th><th scope=col>&lt;dbl&gt;</th></tr>\n",
       "</thead>\n",
       "<tbody>\n",
       "\t<tr><td>Abbey Medical Centre - Paisley (87625)                            </td><td>87625</td><td>S01012126</td><td>11096</td><td>73.31</td><td>97.44</td><td>91.45</td><td>4547</td><td>4358</td><td>4365</td><td>⋯</td><td>4351</td><td>4678</td><td>0.06</td><td> 65</td><td>75.30</td><td>1</td><td> 8.46</td><td>71.12</td><td>50.11</td><td>77.1</td></tr>\n",
       "\t<tr><td>Abercromby Practice - Glasgow (46555)                             </td><td>46555</td><td>S01010055</td><td> 3281</td><td>78.51</td><td>93.93</td><td>87.44</td><td> 195</td><td>  69</td><td>  10</td><td>⋯</td><td> 416</td><td>5869</td><td>0.31</td><td>250</td><td>69.65</td><td>1</td><td> 9.06</td><td>69.95</td><td>48.86</td><td>69.8</td></tr>\n",
       "\t<tr><td>Aberfeldy And Kinloch Rannoch Medical Practice - Aberfeldy (10036)</td><td>10036</td><td>S01012014</td><td> 4758</td><td>87.11</td><td>95.03</td><td>98.06</td><td>3725</td><td>3780</td><td>4372</td><td>⋯</td><td>3288</td><td>6676</td><td>0.07</td><td> 70</td><td>59.16</td><td>0</td><td> 9.93</td><td>60.53</td><td>49.52</td><td>75.3</td></tr>\n",
       "\t<tr><td><span style=white-space:pre-wrap>Aberfoyle &amp; Buchlyvie Medical Centres - Buchlyvie (25968)         </span></td><td>25968</td><td>S01013014</td><td> 2348</td><td>81.81</td><td>92.53</td><td>94.82</td><td>4669</td><td>5111</td><td>5130</td><td>⋯</td><td>5819</td><td>3789</td><td>0.04</td><td> 55</td><td>63.15</td><td>0</td><td> 3.42</td><td>64.95</td><td>51.36</td><td>74.8</td></tr>\n",
       "\t<tr><td>Aberlour Health Centre - Aberlour (33004)                         </td><td>33004</td><td>S01011052</td><td> 3319</td><td>25.34</td><td>53.32</td><td>67.33</td><td>5087</td><td>4575</td><td>4416</td><td>⋯</td><td>4618</td><td>5033</td><td>0.05</td><td> 55</td><td>53.82</td><td>0</td><td> 7.13</td><td>61.22</td><td>49.47</td><td>75.3</td></tr>\n",
       "\t<tr><td>Abingdon Medical Practice - Glasgow (40070)                       </td><td>40070</td><td>S01010386</td><td> 3988</td><td>73.95</td><td>70.04</td><td>88.54</td><td> 987</td><td>1350</td><td> 696</td><td>⋯</td><td>1849</td><td>6890</td><td>0.15</td><td>195</td><td>81.96</td><td>1</td><td>14.25</td><td>82.37</td><td>49.25</td><td>69.8</td></tr>\n",
       "</tbody>\n",
       "</table>\n"
      ],
      "text/latex": [
       "A tibble: 6 × 21\n",
       "\\begin{tabular}{lllllllllllllllllllll}\n",
       " gp\\_practice & gp\\_number & DataZone & PracticeListSize & q1\\_positive & q2\\_positive & q3\\_positive & income\\_rank & employment\\_rank & health\\_rank & ⋯ & education\\_rank & access\\_rank & employment\\_rate & CIF & working\\_age\\_percentage & urban\\_location & minority\\_pop & age\\_distribution & gender\\_distribution & employment\\_percentage\\\\\n",
       " <chr> & <dbl> & <chr> & <dbl> & <dbl> & <dbl> & <dbl> & <dbl> & <dbl> & <dbl> & ⋯ & <dbl> & <dbl> & <dbl> & <dbl> & <dbl> & <dbl> & <dbl> & <dbl> & <dbl> & <dbl>\\\\\n",
       "\\hline\n",
       "\t Abbey Medical Centre - Paisley (87625)                             & 87625 & S01012126 & 11096 & 73.31 & 97.44 & 91.45 & 4547 & 4358 & 4365 & ⋯ & 4351 & 4678 & 0.06 &  65 & 75.30 & 1 &  8.46 & 71.12 & 50.11 & 77.1\\\\\n",
       "\t Abercromby Practice - Glasgow (46555)                              & 46555 & S01010055 &  3281 & 78.51 & 93.93 & 87.44 &  195 &   69 &   10 & ⋯ &  416 & 5869 & 0.31 & 250 & 69.65 & 1 &  9.06 & 69.95 & 48.86 & 69.8\\\\\n",
       "\t Aberfeldy And Kinloch Rannoch Medical Practice - Aberfeldy (10036) & 10036 & S01012014 &  4758 & 87.11 & 95.03 & 98.06 & 3725 & 3780 & 4372 & ⋯ & 3288 & 6676 & 0.07 &  70 & 59.16 & 0 &  9.93 & 60.53 & 49.52 & 75.3\\\\\n",
       "\t Aberfoyle \\& Buchlyvie Medical Centres - Buchlyvie (25968)          & 25968 & S01013014 &  2348 & 81.81 & 92.53 & 94.82 & 4669 & 5111 & 5130 & ⋯ & 5819 & 3789 & 0.04 &  55 & 63.15 & 0 &  3.42 & 64.95 & 51.36 & 74.8\\\\\n",
       "\t Aberlour Health Centre - Aberlour (33004)                          & 33004 & S01011052 &  3319 & 25.34 & 53.32 & 67.33 & 5087 & 4575 & 4416 & ⋯ & 4618 & 5033 & 0.05 &  55 & 53.82 & 0 &  7.13 & 61.22 & 49.47 & 75.3\\\\\n",
       "\t Abingdon Medical Practice - Glasgow (40070)                        & 40070 & S01010386 &  3988 & 73.95 & 70.04 & 88.54 &  987 & 1350 &  696 & ⋯ & 1849 & 6890 & 0.15 & 195 & 81.96 & 1 & 14.25 & 82.37 & 49.25 & 69.8\\\\\n",
       "\\end{tabular}\n"
      ],
      "text/markdown": [
       "\n",
       "A tibble: 6 × 21\n",
       "\n",
       "| gp_practice &lt;chr&gt; | gp_number &lt;dbl&gt; | DataZone &lt;chr&gt; | PracticeListSize &lt;dbl&gt; | q1_positive &lt;dbl&gt; | q2_positive &lt;dbl&gt; | q3_positive &lt;dbl&gt; | income_rank &lt;dbl&gt; | employment_rank &lt;dbl&gt; | health_rank &lt;dbl&gt; | ⋯ ⋯ | education_rank &lt;dbl&gt; | access_rank &lt;dbl&gt; | employment_rate &lt;dbl&gt; | CIF &lt;dbl&gt; | working_age_percentage &lt;dbl&gt; | urban_location &lt;dbl&gt; | minority_pop &lt;dbl&gt; | age_distribution &lt;dbl&gt; | gender_distribution &lt;dbl&gt; | employment_percentage &lt;dbl&gt; |\n",
       "|---|---|---|---|---|---|---|---|---|---|---|---|---|---|---|---|---|---|---|---|---|\n",
       "| Abbey Medical Centre - Paisley (87625)                             | 87625 | S01012126 | 11096 | 73.31 | 97.44 | 91.45 | 4547 | 4358 | 4365 | ⋯ | 4351 | 4678 | 0.06 |  65 | 75.30 | 1 |  8.46 | 71.12 | 50.11 | 77.1 |\n",
       "| Abercromby Practice - Glasgow (46555)                              | 46555 | S01010055 |  3281 | 78.51 | 93.93 | 87.44 |  195 |   69 |   10 | ⋯ |  416 | 5869 | 0.31 | 250 | 69.65 | 1 |  9.06 | 69.95 | 48.86 | 69.8 |\n",
       "| Aberfeldy And Kinloch Rannoch Medical Practice - Aberfeldy (10036) | 10036 | S01012014 |  4758 | 87.11 | 95.03 | 98.06 | 3725 | 3780 | 4372 | ⋯ | 3288 | 6676 | 0.07 |  70 | 59.16 | 0 |  9.93 | 60.53 | 49.52 | 75.3 |\n",
       "| Aberfoyle &amp; Buchlyvie Medical Centres - Buchlyvie (25968)          | 25968 | S01013014 |  2348 | 81.81 | 92.53 | 94.82 | 4669 | 5111 | 5130 | ⋯ | 5819 | 3789 | 0.04 |  55 | 63.15 | 0 |  3.42 | 64.95 | 51.36 | 74.8 |\n",
       "| Aberlour Health Centre - Aberlour (33004)                          | 33004 | S01011052 |  3319 | 25.34 | 53.32 | 67.33 | 5087 | 4575 | 4416 | ⋯ | 4618 | 5033 | 0.05 |  55 | 53.82 | 0 |  7.13 | 61.22 | 49.47 | 75.3 |\n",
       "| Abingdon Medical Practice - Glasgow (40070)                        | 40070 | S01010386 |  3988 | 73.95 | 70.04 | 88.54 |  987 | 1350 |  696 | ⋯ | 1849 | 6890 | 0.15 | 195 | 81.96 | 1 | 14.25 | 82.37 | 49.25 | 69.8 |\n",
       "\n"
      ],
      "text/plain": [
       "  gp_practice                                                        gp_number\n",
       "1 Abbey Medical Centre - Paisley (87625)                             87625    \n",
       "2 Abercromby Practice - Glasgow (46555)                              46555    \n",
       "3 Aberfeldy And Kinloch Rannoch Medical Practice - Aberfeldy (10036) 10036    \n",
       "4 Aberfoyle & Buchlyvie Medical Centres - Buchlyvie (25968)          25968    \n",
       "5 Aberlour Health Centre - Aberlour (33004)                          33004    \n",
       "6 Abingdon Medical Practice - Glasgow (40070)                        40070    \n",
       "  DataZone  PracticeListSize q1_positive q2_positive q3_positive income_rank\n",
       "1 S01012126 11096            73.31       97.44       91.45       4547       \n",
       "2 S01010055  3281            78.51       93.93       87.44        195       \n",
       "3 S01012014  4758            87.11       95.03       98.06       3725       \n",
       "4 S01013014  2348            81.81       92.53       94.82       4669       \n",
       "5 S01011052  3319            25.34       53.32       67.33       5087       \n",
       "6 S01010386  3988            73.95       70.04       88.54        987       \n",
       "  employment_rank health_rank ⋯ education_rank access_rank employment_rate CIF\n",
       "1 4358            4365        ⋯ 4351           4678        0.06             65\n",
       "2   69              10        ⋯  416           5869        0.31            250\n",
       "3 3780            4372        ⋯ 3288           6676        0.07             70\n",
       "4 5111            5130        ⋯ 5819           3789        0.04             55\n",
       "5 4575            4416        ⋯ 4618           5033        0.05             55\n",
       "6 1350             696        ⋯ 1849           6890        0.15            195\n",
       "  working_age_percentage urban_location minority_pop age_distribution\n",
       "1 75.30                  1               8.46        71.12           \n",
       "2 69.65                  1               9.06        69.95           \n",
       "3 59.16                  0               9.93        60.53           \n",
       "4 63.15                  0               3.42        64.95           \n",
       "5 53.82                  0               7.13        61.22           \n",
       "6 81.96                  1              14.25        82.37           \n",
       "  gender_distribution employment_percentage\n",
       "1 50.11               77.1                 \n",
       "2 48.86               69.8                 \n",
       "3 49.52               75.3                 \n",
       "4 51.36               74.8                 \n",
       "5 49.47               75.3                 \n",
       "6 49.25               69.8                 "
      ]
     },
     "metadata": {},
     "output_type": "display_data"
    }
   ],
   "source": [
    "head(master_data)"
   ]
  },
  {
   "cell_type": "code",
   "execution_count": 60,
   "id": "d6017fc1",
   "metadata": {
    "vscode": {
     "languageId": "r"
    }
   },
   "outputs": [],
   "source": [
    "mapping_q_data <- master_data %>%\n",
    "    select(gp_number, q1_positive, q2_positive, q3_positive)\n",
    "\n",
    "write_csv(mapping_q_data, \"../data/map_q_data.csv\")"
   ]
  },
  {
   "cell_type": "code",
   "execution_count": 61,
   "id": "3fedb0b0",
   "metadata": {
    "vscode": {
     "languageId": "r"
    }
   },
   "outputs": [
    {
     "data": {
      "text/html": [
       "<style>\n",
       ".list-inline {list-style: none; margin:0; padding: 0}\n",
       ".list-inline>li {display: inline-block}\n",
       ".list-inline>li:not(:last-child)::after {content: \"\\00b7\"; padding: 0 .5ex}\n",
       "</style>\n",
       "<ol class=list-inline><li>894</li><li>21</li></ol>\n"
      ],
      "text/latex": [
       "\\begin{enumerate*}\n",
       "\\item 894\n",
       "\\item 21\n",
       "\\end{enumerate*}\n"
      ],
      "text/markdown": [
       "1. 894\n",
       "2. 21\n",
       "\n",
       "\n"
      ],
      "text/plain": [
       "[1] 894  21"
      ]
     },
     "metadata": {},
     "output_type": "display_data"
    }
   ],
   "source": [
    "dim(master_data)"
   ]
  },
  {
   "cell_type": "code",
   "execution_count": 62,
   "id": "aa659a8b",
   "metadata": {
    "vscode": {
     "languageId": "r"
    }
   },
   "outputs": [],
   "source": [
    "# Write dataset to file\n",
    "write_csv(master_data, \"../data/master_data.csv\")"
   ]
  }
 ],
 "metadata": {
  "kernelspec": {
   "display_name": "R with Stan",
   "language": "R",
   "name": "ir"
  },
  "language_info": {
   "codemirror_mode": "r",
   "file_extension": ".r",
   "mimetype": "text/x-r-source",
   "name": "R",
   "pygments_lexer": "r",
   "version": "4.2.2"
  }
 },
 "nbformat": 4,
 "nbformat_minor": 5
}
