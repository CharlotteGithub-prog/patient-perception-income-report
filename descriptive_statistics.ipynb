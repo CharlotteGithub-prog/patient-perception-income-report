{
 "cells": [
  {
   "cell_type": "code",
   "execution_count": 1,
   "id": "3f3a8e34",
   "metadata": {
    "vscode": {
     "languageId": "r"
    }
   },
   "outputs": [
    {
     "name": "stderr",
     "output_type": "stream",
     "text": [
      "Warning message in system(\"timedatectl\", intern = TRUE):\n",
      "“running command 'timedatectl' had status 1”\n",
      "── \u001b[1mAttaching packages\u001b[22m ─────────────────────────────────────── tidyverse 1.3.2 ──\n",
      "\u001b[32m✔\u001b[39m \u001b[34mggplot2\u001b[39m 3.4.3      \u001b[32m✔\u001b[39m \u001b[34mpurrr  \u001b[39m 1.0.1 \n",
      "\u001b[32m✔\u001b[39m \u001b[34mtibble \u001b[39m 3.2.1      \u001b[32m✔\u001b[39m \u001b[34mdplyr  \u001b[39m 1.0.10\n",
      "\u001b[32m✔\u001b[39m \u001b[34mtidyr  \u001b[39m 1.3.0      \u001b[32m✔\u001b[39m \u001b[34mstringr\u001b[39m 1.5.0 \n",
      "\u001b[32m✔\u001b[39m \u001b[34mreadr  \u001b[39m 2.1.4      \u001b[32m✔\u001b[39m \u001b[34mforcats\u001b[39m 1.0.0 \n",
      "Warning message:\n",
      "“package ‘ggplot2’ was built under R version 4.2.3”\n",
      "Warning message:\n",
      "“package ‘tibble’ was built under R version 4.2.3”\n",
      "Warning message:\n",
      "“package ‘tidyr’ was built under R version 4.2.3”\n",
      "Warning message:\n",
      "“package ‘readr’ was built under R version 4.2.3”\n",
      "Warning message:\n",
      "“package ‘purrr’ was built under R version 4.2.3”\n",
      "Warning message:\n",
      "“package ‘stringr’ was built under R version 4.2.3”\n",
      "Warning message:\n",
      "“package ‘forcats’ was built under R version 4.2.3”\n",
      "── \u001b[1mConflicts\u001b[22m ────────────────────────────────────────── tidyverse_conflicts() ──\n",
      "\u001b[31m✖\u001b[39m \u001b[34mdplyr\u001b[39m::\u001b[32mfilter()\u001b[39m masks \u001b[34mstats\u001b[39m::filter()\n",
      "\u001b[31m✖\u001b[39m \u001b[34mdplyr\u001b[39m::\u001b[32mlag()\u001b[39m    masks \u001b[34mstats\u001b[39m::lag()\n",
      "Warning message:\n",
      "“package ‘knitr’ was built under R version 4.2.3”\n",
      "Updating HTML index of packages in '.Library'\n",
      "\n",
      "Making 'packages.html' ...\n",
      " done\n",
      "\n",
      "Updating HTML index of packages in '.Library'\n",
      "\n",
      "Making 'packages.html' ...\n",
      " done\n",
      "\n",
      "Loading required package: viridisLite\n",
      "\n",
      "Warning message:\n",
      "“package ‘viridisLite’ was built under R version 4.2.3”\n",
      "Updating HTML index of packages in '.Library'\n",
      "\n",
      "Making 'packages.html' ...\n",
      " done\n",
      "\n",
      "\n",
      "Attaching package: ‘table1’\n",
      "\n",
      "\n",
      "The following objects are masked from ‘package:base’:\n",
      "\n",
      "    units, units<-\n",
      "\n",
      "\n",
      "Warning message:\n",
      "“package ‘reshape2’ was built under R version 4.2.3”\n",
      "\n",
      "Attaching package: ‘reshape2’\n",
      "\n",
      "\n",
      "The following object is masked from ‘package:tidyr’:\n",
      "\n",
      "    smiths\n",
      "\n",
      "\n"
     ]
    }
   ],
   "source": [
    "# Load the tidyverse collection of packages\n",
    "library(tidyverse)\n",
    "library(knitr)    # for descriptive tables\n",
    "install.packages(\"skimr\")   # for nice summary plots\n",
    "library(skimr)\n",
    "install.packages(\"viridis\")   # for colorblind-friendly palette\n",
    "library(viridis)\n",
    "install.packages(\"table1\")\n",
    "library(table1)    # for nice 'Table 1' for papers\n",
    "library(ggplot2)\n",
    "library(reshape2)\n",
    "library(tidyr)\n",
    "install.packages(\"expss\")"
   ]
  },
  {
   "cell_type": "code",
   "execution_count": 2,
   "id": "a4a0feab",
   "metadata": {
    "vscode": {
     "languageId": "r"
    }
   },
   "outputs": [
    {
     "name": "stderr",
     "output_type": "stream",
     "text": [
      "\u001b[1mRows: \u001b[22m\u001b[34m893\u001b[39m \u001b[1mColumns: \u001b[22m\u001b[34m11\u001b[39m\n",
      "\u001b[36m──\u001b[39m \u001b[1mColumn specification\u001b[22m \u001b[36m────────────────────────────────────────────────────────\u001b[39m\n",
      "\u001b[1mDelimiter:\u001b[22m \",\"\n",
      "\u001b[31mchr\u001b[39m (2): urban_rural, DataZone\n",
      "\u001b[32mdbl\u001b[39m (9): q1_positive, q2_positive, q3_positive, income_quintile, age_distrib...\n",
      "\n",
      "\u001b[36mℹ\u001b[39m Use `spec()` to retrieve the full column specification for this data.\n",
      "\u001b[36mℹ\u001b[39m Specify the column types or set `show_col_types = FALSE` to quiet this message.\n",
      "Warning message:\n",
      "“Unknown levels in `f`: 1, 0”\n"
     ]
    },
    {
     "data": {
      "text/html": [
       "<style>\n",
       ".list-inline {list-style: none; margin:0; padding: 0}\n",
       ".list-inline>li {display: inline-block}\n",
       ".list-inline>li:not(:last-child)::after {content: \"\\00b7\"; padding: 0 .5ex}\n",
       "</style>\n",
       "<ol class=list-inline><li>893</li><li>11</li></ol>\n"
      ],
      "text/latex": [
       "\\begin{enumerate*}\n",
       "\\item 893\n",
       "\\item 11\n",
       "\\end{enumerate*}\n"
      ],
      "text/markdown": [
       "1. 893\n",
       "2. 11\n",
       "\n",
       "\n"
      ],
      "text/plain": [
       "[1] 893  11"
      ]
     },
     "metadata": {},
     "output_type": "display_data"
    },
    {
     "data": {
      "text/html": [
       "<table class=\"dataframe\">\n",
       "<caption>A tibble: 6 × 11</caption>\n",
       "<thead>\n",
       "\t<tr><th scope=col>q1_positive</th><th scope=col>q2_positive</th><th scope=col>q3_positive</th><th scope=col>income_quintile</th><th scope=col>age_distribution</th><th scope=col>minority_pop</th><th scope=col>employment_percentage</th><th scope=col>gender_distribution</th><th scope=col>urban_rural</th><th scope=col>employment_rate</th><th scope=col>DataZone</th></tr>\n",
       "\t<tr><th scope=col>&lt;dbl&gt;</th><th scope=col>&lt;dbl&gt;</th><th scope=col>&lt;dbl&gt;</th><th scope=col>&lt;dbl&gt;</th><th scope=col>&lt;dbl&gt;</th><th scope=col>&lt;dbl&gt;</th><th scope=col>&lt;dbl&gt;</th><th scope=col>&lt;dbl&gt;</th><th scope=col>&lt;fct&gt;</th><th scope=col>&lt;dbl&gt;</th><th scope=col>&lt;chr&gt;</th></tr>\n",
       "</thead>\n",
       "<tbody>\n",
       "\t<tr><td>73.31</td><td>97.44</td><td>91.45</td><td>4</td><td>71.12</td><td> 8.46</td><td>77.1</td><td>50.11</td><td>Urban</td><td>0.06</td><td>S01012126</td></tr>\n",
       "\t<tr><td>78.51</td><td>93.93</td><td>87.44</td><td>1</td><td>69.95</td><td> 9.06</td><td>69.8</td><td>48.86</td><td>Urban</td><td>0.31</td><td>S01010055</td></tr>\n",
       "\t<tr><td>87.11</td><td>95.03</td><td>98.06</td><td>3</td><td>60.53</td><td> 9.93</td><td>75.3</td><td>49.52</td><td>Rural</td><td>0.07</td><td>S01012014</td></tr>\n",
       "\t<tr><td>81.81</td><td>92.53</td><td>94.82</td><td>4</td><td>64.95</td><td> 3.42</td><td>74.8</td><td>51.36</td><td>Rural</td><td>0.04</td><td>S01013014</td></tr>\n",
       "\t<tr><td>25.34</td><td>53.32</td><td>67.33</td><td>4</td><td>61.22</td><td> 7.13</td><td>75.3</td><td>49.47</td><td>Rural</td><td>0.05</td><td>S01011052</td></tr>\n",
       "\t<tr><td>73.95</td><td>70.04</td><td>88.54</td><td>1</td><td>82.37</td><td>14.25</td><td>69.8</td><td>49.25</td><td>Urban</td><td>0.15</td><td>S01010386</td></tr>\n",
       "</tbody>\n",
       "</table>\n"
      ],
      "text/latex": [
       "A tibble: 6 × 11\n",
       "\\begin{tabular}{lllllllllll}\n",
       " q1\\_positive & q2\\_positive & q3\\_positive & income\\_quintile & age\\_distribution & minority\\_pop & employment\\_percentage & gender\\_distribution & urban\\_rural & employment\\_rate & DataZone\\\\\n",
       " <dbl> & <dbl> & <dbl> & <dbl> & <dbl> & <dbl> & <dbl> & <dbl> & <fct> & <dbl> & <chr>\\\\\n",
       "\\hline\n",
       "\t 73.31 & 97.44 & 91.45 & 4 & 71.12 &  8.46 & 77.1 & 50.11 & Urban & 0.06 & S01012126\\\\\n",
       "\t 78.51 & 93.93 & 87.44 & 1 & 69.95 &  9.06 & 69.8 & 48.86 & Urban & 0.31 & S01010055\\\\\n",
       "\t 87.11 & 95.03 & 98.06 & 3 & 60.53 &  9.93 & 75.3 & 49.52 & Rural & 0.07 & S01012014\\\\\n",
       "\t 81.81 & 92.53 & 94.82 & 4 & 64.95 &  3.42 & 74.8 & 51.36 & Rural & 0.04 & S01013014\\\\\n",
       "\t 25.34 & 53.32 & 67.33 & 4 & 61.22 &  7.13 & 75.3 & 49.47 & Rural & 0.05 & S01011052\\\\\n",
       "\t 73.95 & 70.04 & 88.54 & 1 & 82.37 & 14.25 & 69.8 & 49.25 & Urban & 0.15 & S01010386\\\\\n",
       "\\end{tabular}\n"
      ],
      "text/markdown": [
       "\n",
       "A tibble: 6 × 11\n",
       "\n",
       "| q1_positive &lt;dbl&gt; | q2_positive &lt;dbl&gt; | q3_positive &lt;dbl&gt; | income_quintile &lt;dbl&gt; | age_distribution &lt;dbl&gt; | minority_pop &lt;dbl&gt; | employment_percentage &lt;dbl&gt; | gender_distribution &lt;dbl&gt; | urban_rural &lt;fct&gt; | employment_rate &lt;dbl&gt; | DataZone &lt;chr&gt; |\n",
       "|---|---|---|---|---|---|---|---|---|---|---|\n",
       "| 73.31 | 97.44 | 91.45 | 4 | 71.12 |  8.46 | 77.1 | 50.11 | Urban | 0.06 | S01012126 |\n",
       "| 78.51 | 93.93 | 87.44 | 1 | 69.95 |  9.06 | 69.8 | 48.86 | Urban | 0.31 | S01010055 |\n",
       "| 87.11 | 95.03 | 98.06 | 3 | 60.53 |  9.93 | 75.3 | 49.52 | Rural | 0.07 | S01012014 |\n",
       "| 81.81 | 92.53 | 94.82 | 4 | 64.95 |  3.42 | 74.8 | 51.36 | Rural | 0.04 | S01013014 |\n",
       "| 25.34 | 53.32 | 67.33 | 4 | 61.22 |  7.13 | 75.3 | 49.47 | Rural | 0.05 | S01011052 |\n",
       "| 73.95 | 70.04 | 88.54 | 1 | 82.37 | 14.25 | 69.8 | 49.25 | Urban | 0.15 | S01010386 |\n",
       "\n"
      ],
      "text/plain": [
       "  q1_positive q2_positive q3_positive income_quintile age_distribution\n",
       "1 73.31       97.44       91.45       4               71.12           \n",
       "2 78.51       93.93       87.44       1               69.95           \n",
       "3 87.11       95.03       98.06       3               60.53           \n",
       "4 81.81       92.53       94.82       4               64.95           \n",
       "5 25.34       53.32       67.33       4               61.22           \n",
       "6 73.95       70.04       88.54       1               82.37           \n",
       "  minority_pop employment_percentage gender_distribution urban_rural\n",
       "1  8.46        77.1                  50.11               Urban      \n",
       "2  9.06        69.8                  48.86               Urban      \n",
       "3  9.93        75.3                  49.52               Rural      \n",
       "4  3.42        74.8                  51.36               Rural      \n",
       "5  7.13        75.3                  49.47               Rural      \n",
       "6 14.25        69.8                  49.25               Urban      \n",
       "  employment_rate DataZone \n",
       "1 0.06            S01012126\n",
       "2 0.31            S01010055\n",
       "3 0.07            S01012014\n",
       "4 0.04            S01013014\n",
       "5 0.05            S01011052\n",
       "6 0.15            S01010386"
      ]
     },
     "metadata": {},
     "output_type": "display_data"
    }
   ],
   "source": [
    "regression_data <- read_csv('/Users/charlotte/Desktop/Report Development/Notebooks/data/regression_data.csv')\n",
    "\n",
    "regression_data <- regression_data %>%\n",
    "    mutate(urban_rural = as.factor(urban_rural) %>%\n",
    "               fct_recode(\"Urban\" = \"1\",\n",
    "                          \"Rural\" = \"0\"))\n",
    "\n",
    "dim(regression_data)\n",
    "head(regression_data)"
   ]
  },
  {
   "cell_type": "code",
   "execution_count": 4,
   "id": "e61f41be",
   "metadata": {
    "vscode": {
     "languageId": "r"
    }
   },
   "outputs": [],
   "source": [
    "# Create labels for tables\n",
    "label(regression_data$q1_positive) <- \"Positive Satisfaction Score\"\n",
    "label(regression_data$q2_positive) <- \"Positive Access Score\"\n",
    "label(regression_data$q3_positive) <- \"Positive Communication Score\"\n",
    "label(regression_data$income_quintile) <- \"Income Deprivation\"\n",
    "label(regression_data$age_distribution) <- \"Age Distribution: % Working Age\"\n",
    "label(regression_data$minority_pop) <- \"Ethnic Distribution: % Minority\"\n",
    "label(regression_data$gender_distribution) <- \"Gender Distribution: % Female\"\n",
    "label(regression_data$urban_rural) <- \"Urban/Rural Location\""
   ]
  },
  {
   "cell_type": "code",
   "execution_count": 6,
   "id": "c3090b0b",
   "metadata": {
    "vscode": {
     "languageId": "r"
    }
   },
   "outputs": [],
   "source": [
    "# Run Satisfaction Model\n",
    "mlr_satisfaction_fct <- \n",
    "    lm(q1_positive ~ income_quintile +\n",
    "       age_distribution +\n",
    "       employment_rate +\n",
    "       minority_pop +\n",
    "       gender_distribution +\n",
    "       urban_rural,\n",
    "       data = regression_data, \n",
    "       na.action = na.exclude)\n",
    "\n",
    "# Run Access Model\n",
    "mlr_access_fct <- \n",
    "    lm(q2_positive ~ income_quintile +\n",
    "       age_distribution +\n",
    "       employment_rate +\n",
    "       minority_pop +\n",
    "       gender_distribution +\n",
    "       urban_rural,\n",
    "       data = regression_data, \n",
    "       na.action = na.exclude)\n",
    "\n",
    "# Run Communication Model\n",
    "mlr_communication_fct <- \n",
    "    lm(q3_positive ~ income_quintile +\n",
    "       age_distribution +\n",
    "       employment_rate +\n",
    "       minority_pop +\n",
    "       gender_distribution +\n",
    "       urban_rural,\n",
    "       data = regression_data, \n",
    "       na.action = na.exclude)"
   ]
  },
  {
   "cell_type": "code",
   "execution_count": 7,
   "id": "07200ad7",
   "metadata": {
    "vscode": {
     "languageId": "r"
    }
   },
   "outputs": [
    {
     "data": {
      "text/html": [
       "<table class=\"dataframe\">\n",
       "<caption>A tibble: 0 × 11</caption>\n",
       "<thead>\n",
       "\t<tr><th scope=col>q1_positive</th><th scope=col>q2_positive</th><th scope=col>q3_positive</th><th scope=col>income_quintile</th><th scope=col>age_distribution</th><th scope=col>minority_pop</th><th scope=col>employment_percentage</th><th scope=col>gender_distribution</th><th scope=col>urban_rural</th><th scope=col>employment_rate</th><th scope=col>DataZone</th></tr>\n",
       "\t<tr><th scope=col>&lt;dbl&gt;</th><th scope=col>&lt;dbl&gt;</th><th scope=col>&lt;dbl&gt;</th><th scope=col>&lt;dbl&gt;</th><th scope=col>&lt;dbl&gt;</th><th scope=col>&lt;dbl&gt;</th><th scope=col>&lt;dbl&gt;</th><th scope=col>&lt;dbl&gt;</th><th scope=col>&lt;fct&gt;</th><th scope=col>&lt;dbl&gt;</th><th scope=col>&lt;chr&gt;</th></tr>\n",
       "</thead>\n",
       "<tbody>\n",
       "</tbody>\n",
       "</table>\n"
      ],
      "text/latex": [
       "A tibble: 0 × 11\n",
       "\\begin{tabular}{lllllllllll}\n",
       " q1\\_positive & q2\\_positive & q3\\_positive & income\\_quintile & age\\_distribution & minority\\_pop & employment\\_percentage & gender\\_distribution & urban\\_rural & employment\\_rate & DataZone\\\\\n",
       " <dbl> & <dbl> & <dbl> & <dbl> & <dbl> & <dbl> & <dbl> & <dbl> & <fct> & <dbl> & <chr>\\\\\n",
       "\\hline\n",
       "\\end{tabular}\n"
      ],
      "text/markdown": [
       "\n",
       "A tibble: 0 × 11\n",
       "\n",
       "| q1_positive &lt;dbl&gt; | q2_positive &lt;dbl&gt; | q3_positive &lt;dbl&gt; | income_quintile &lt;dbl&gt; | age_distribution &lt;dbl&gt; | minority_pop &lt;dbl&gt; | employment_percentage &lt;dbl&gt; | gender_distribution &lt;dbl&gt; | urban_rural &lt;fct&gt; | employment_rate &lt;dbl&gt; | DataZone &lt;chr&gt; |\n",
       "|---|---|---|---|---|---|---|---|---|---|---|\n",
       "\n"
      ],
      "text/plain": [
       "     q1_positive q2_positive q3_positive income_quintile age_distribution\n",
       "     minority_pop employment_percentage gender_distribution urban_rural\n",
       "     employment_rate DataZone"
      ]
     },
     "metadata": {},
     "output_type": "display_data"
    }
   ],
   "source": [
    "# Create a new dataframe NA_checker with rows containing NAs\n",
    "NA_checker <- regression_data[!complete.cases(regression_data), ]\n",
    "\n",
    "# View the new dataframe\n",
    "head(NA_checker)"
   ]
  },
  {
   "cell_type": "code",
   "execution_count": 8,
   "id": "07859481",
   "metadata": {
    "vscode": {
     "languageId": "r"
    }
   },
   "outputs": [
    {
     "data": {
      "text/html": [
       "<table class=\"Rtable1\">\n",
       "<thead>\n",
       "<tr>\n",
       "<th class='rowlabel firstrow lastrow'></th>\n",
       "<th class='firstrow lastrow'><span class='stratlabel'>Most deprived<br><span class='stratn'>(N=228)</span></span></th>\n",
       "<th class='firstrow lastrow'><span class='stratlabel'>Second<br><span class='stratn'>(N=207)</span></span></th>\n",
       "<th class='firstrow lastrow'><span class='stratlabel'>Third<br><span class='stratn'>(N=216)</span></span></th>\n",
       "<th class='firstrow lastrow'><span class='stratlabel'>Fourth<br><span class='stratn'>(N=168)</span></span></th>\n",
       "<th class='firstrow lastrow'><span class='stratlabel'>Least deprived<br><span class='stratn'>(N=74)</span></span></th>\n",
       "<th class='firstrow lastrow'><span class='stratlabel'>Total<br><span class='stratn'>(N=893)</span></span></th>\n",
       "</tr>\n",
       "</thead>\n",
       "<tbody>\n",
       "<tr>\n",
       "<td class='rowlabel firstrow'>Positive Satisfaction Score</td>\n",
       "<td class='firstrow'></td>\n",
       "<td class='firstrow'></td>\n",
       "<td class='firstrow'></td>\n",
       "<td class='firstrow'></td>\n",
       "<td class='firstrow'></td>\n",
       "<td class='firstrow'></td>\n",
       "</tr>\n",
       "<tr>\n",
       "<td class='rowlabel'>Mean (SD)</td>\n",
       "<td>65.9 (14.4)</td>\n",
       "<td>65.8 (15.6)</td>\n",
       "<td>72.1 (16.3)</td>\n",
       "<td>74.0 (16.1)</td>\n",
       "<td>73.9 (13.1)</td>\n",
       "<td>69.6 (15.8)</td>\n",
       "</tr>\n",
       "<tr>\n",
       "<td class='rowlabel lastrow'>Median [Min, Max]</td>\n",
       "<td class='lastrow'>67.5 [13.0, 98.9]</td>\n",
       "<td class='lastrow'>66.3 [14.6, 100]</td>\n",
       "<td class='lastrow'>74.3 [20.5, 100]</td>\n",
       "<td class='lastrow'>76.9 [21.0, 100]</td>\n",
       "<td class='lastrow'>73.0 [28.5, 98.5]</td>\n",
       "<td class='lastrow'>71.0 [13.0, 100]</td>\n",
       "</tr>\n",
       "<tr>\n",
       "<td class='rowlabel firstrow'>Positive Access Score</td>\n",
       "<td class='firstrow'></td>\n",
       "<td class='firstrow'></td>\n",
       "<td class='firstrow'></td>\n",
       "<td class='firstrow'></td>\n",
       "<td class='firstrow'></td>\n",
       "<td class='firstrow'></td>\n",
       "</tr>\n",
       "<tr>\n",
       "<td class='rowlabel'>Mean (SD)</td>\n",
       "<td>84.8 (10.1)</td>\n",
       "<td>85.1 (9.74)</td>\n",
       "<td>87.3 (10.2)</td>\n",
       "<td>86.6 (9.98)</td>\n",
       "<td>86.2 (8.76)</td>\n",
       "<td>85.9 (9.97)</td>\n",
       "</tr>\n",
       "<tr>\n",
       "<td class='rowlabel lastrow'>Median [Min, Max]</td>\n",
       "<td class='lastrow'>87.6 [40.7, 100]</td>\n",
       "<td class='lastrow'>87.3 [44.0, 100]</td>\n",
       "<td class='lastrow'>90.2 [47.9, 100]</td>\n",
       "<td class='lastrow'>88.0 [52.3, 100]</td>\n",
       "<td class='lastrow'>87.5 [62.1, 100]</td>\n",
       "<td class='lastrow'>88.1 [40.7, 100]</td>\n",
       "</tr>\n",
       "<tr>\n",
       "<td class='rowlabel firstrow'>Positive Communication Score</td>\n",
       "<td class='firstrow'></td>\n",
       "<td class='firstrow'></td>\n",
       "<td class='firstrow'></td>\n",
       "<td class='firstrow'></td>\n",
       "<td class='firstrow'></td>\n",
       "<td class='firstrow'></td>\n",
       "</tr>\n",
       "<tr>\n",
       "<td class='rowlabel'>Mean (SD)</td>\n",
       "<td>84.8 (7.46)</td>\n",
       "<td>85.6 (7.18)</td>\n",
       "<td>87.9 (7.26)</td>\n",
       "<td>89.1 (7.48)</td>\n",
       "<td>89.5 (5.70)</td>\n",
       "<td>86.9 (7.43)</td>\n",
       "</tr>\n",
       "<tr>\n",
       "<td class='rowlabel lastrow'>Median [Min, Max]</td>\n",
       "<td class='lastrow'>85.4 [53.2, 100]</td>\n",
       "<td class='lastrow'>86.8 [63.3, 100]</td>\n",
       "<td class='lastrow'>89.0 [59.9, 99.3]</td>\n",
       "<td class='lastrow'>90.5 [56.1, 100]</td>\n",
       "<td class='lastrow'>90.1 [73.3, 98.2]</td>\n",
       "<td class='lastrow'>87.9 [53.2, 100]</td>\n",
       "</tr>\n",
       "<tr>\n",
       "<td class='rowlabel firstrow'>Age Distribution: % Working Age</td>\n",
       "<td class='firstrow'></td>\n",
       "<td class='firstrow'></td>\n",
       "<td class='firstrow'></td>\n",
       "<td class='firstrow'></td>\n",
       "<td class='firstrow'></td>\n",
       "<td class='firstrow'></td>\n",
       "</tr>\n",
       "<tr>\n",
       "<td class='rowlabel'>Mean (SD)</td>\n",
       "<td>67.8 (4.63)</td>\n",
       "<td>64.7 (4.91)</td>\n",
       "<td>64.6 (6.87)</td>\n",
       "<td>64.7 (6.31)</td>\n",
       "<td>65.2 (6.01)</td>\n",
       "<td>65.5 (5.89)</td>\n",
       "</tr>\n",
       "<tr>\n",
       "<td class='rowlabel lastrow'>Median [Min, Max]</td>\n",
       "<td class='lastrow'>67.3 [55.7, 89.0]</td>\n",
       "<td class='lastrow'>64.6 [53.5, 85.7]</td>\n",
       "<td class='lastrow'>63.4 [46.6, 90.0]</td>\n",
       "<td class='lastrow'>63.5 [51.4, 92.6]</td>\n",
       "<td class='lastrow'>63.5 [57.1, 85.3]</td>\n",
       "<td class='lastrow'>64.8 [46.6, 92.6]</td>\n",
       "</tr>\n",
       "<tr>\n",
       "<td class='rowlabel firstrow'>Employment Status: % Unemployed</td>\n",
       "<td class='firstrow'></td>\n",
       "<td class='firstrow'></td>\n",
       "<td class='firstrow'></td>\n",
       "<td class='firstrow'></td>\n",
       "<td class='firstrow'></td>\n",
       "<td class='firstrow'></td>\n",
       "</tr>\n",
       "<tr>\n",
       "<td class='rowlabel'>Mean (SD)</td>\n",
       "<td>21.2 (5.46)</td>\n",
       "<td>12.4 (2.90)</td>\n",
       "<td>7.80 (2.25)</td>\n",
       "<td>4.73 (1.69)</td>\n",
       "<td>2.57 (1.03)</td>\n",
       "<td>11.3 (7.37)</td>\n",
       "</tr>\n",
       "<tr>\n",
       "<td class='rowlabel lastrow'>Median [Min, Max]</td>\n",
       "<td class='lastrow'>20.0 [11.0, 37.0]</td>\n",
       "<td class='lastrow'>12.0 [6.00, 24.0]</td>\n",
       "<td class='lastrow'>8.00 [2.00, 15.0]</td>\n",
       "<td class='lastrow'>4.00 [2.00, 10.0]</td>\n",
       "<td class='lastrow'>2.50 [1.00, 5.00]</td>\n",
       "<td class='lastrow'>9.00 [1.00, 37.0]</td>\n",
       "</tr>\n",
       "<tr>\n",
       "<td class='rowlabel firstrow'>Ethnic Distribution: % Minority</td>\n",
       "<td class='firstrow'></td>\n",
       "<td class='firstrow'></td>\n",
       "<td class='firstrow'></td>\n",
       "<td class='firstrow'></td>\n",
       "<td class='firstrow'></td>\n",
       "<td class='firstrow'></td>\n",
       "</tr>\n",
       "<tr>\n",
       "<td class='rowlabel'>Mean (SD)</td>\n",
       "<td>9.29 (9.38)</td>\n",
       "<td>6.14 (7.82)</td>\n",
       "<td>6.66 (7.16)</td>\n",
       "<td>6.78 (7.10)</td>\n",
       "<td>8.85 (7.65)</td>\n",
       "<td>7.41 (8.05)</td>\n",
       "</tr>\n",
       "<tr>\n",
       "<td class='rowlabel lastrow'>Median [Min, Max]</td>\n",
       "<td class='lastrow'>6.77 [0.140, 58.1]</td>\n",
       "<td class='lastrow'>3.42 [0.380, 66.4]</td>\n",
       "<td class='lastrow'>3.91 [0.760, 39.8]</td>\n",
       "<td class='lastrow'>3.99 [0.510, 32.7]</td>\n",
       "<td class='lastrow'>5.63 [1.04, 35.4]</td>\n",
       "<td class='lastrow'>4.27 [0.140, 66.4]</td>\n",
       "</tr>\n",
       "<tr>\n",
       "<td class='rowlabel firstrow'>Gender Distribution: % Female</td>\n",
       "<td class='firstrow'></td>\n",
       "<td class='firstrow'></td>\n",
       "<td class='firstrow'></td>\n",
       "<td class='firstrow'></td>\n",
       "<td class='firstrow'></td>\n",
       "<td class='firstrow'></td>\n",
       "</tr>\n",
       "<tr>\n",
       "<td class='rowlabel'>Mean (SD)</td>\n",
       "<td>49.6 (2.70)</td>\n",
       "<td>50.3 (1.64)</td>\n",
       "<td>50.3 (1.37)</td>\n",
       "<td>50.4 (1.68)</td>\n",
       "<td>50.8 (1.47)</td>\n",
       "<td>50.2 (1.94)</td>\n",
       "</tr>\n",
       "<tr>\n",
       "<td class='rowlabel lastrow'>Median [Min, Max]</td>\n",
       "<td class='lastrow'>50.2 [33.8, 55.4]</td>\n",
       "<td class='lastrow'>50.5 [40.3, 55.8]</td>\n",
       "<td class='lastrow'>50.4 [45.3, 55.3]</td>\n",
       "<td class='lastrow'>50.6 [40.5, 59.0]</td>\n",
       "<td class='lastrow'>51.0 [41.9, 53.3]</td>\n",
       "<td class='lastrow'>50.5 [33.8, 59.0]</td>\n",
       "</tr>\n",
       "<tr>\n",
       "<td class='rowlabel firstrow'>Urban/Rural Location: % Urban</td>\n",
       "<td class='firstrow'></td>\n",
       "<td class='firstrow'></td>\n",
       "<td class='firstrow'></td>\n",
       "<td class='firstrow'></td>\n",
       "<td class='firstrow'></td>\n",
       "<td class='firstrow'></td>\n",
       "</tr>\n",
       "<tr>\n",
       "<td class='rowlabel'>Rural</td>\n",
       "<td>14 (6.1%)</td>\n",
       "<td>39 (18.8%)</td>\n",
       "<td>85 (39.4%)</td>\n",
       "<td>68 (40.5%)</td>\n",
       "<td>18 (24.3%)</td>\n",
       "<td>224 (25.1%)</td>\n",
       "</tr>\n",
       "<tr>\n",
       "<td class='rowlabel lastrow'>Urban</td>\n",
       "<td class='lastrow'>214 (93.9%)</td>\n",
       "<td class='lastrow'>168 (81.2%)</td>\n",
       "<td class='lastrow'>131 (60.6%)</td>\n",
       "<td class='lastrow'>100 (59.5%)</td>\n",
       "<td class='lastrow'>56 (75.7%)</td>\n",
       "<td class='lastrow'>669 (74.9%)</td>\n",
       "</tr>\n",
       "</tbody>\n",
       "</table>\n"
      ]
     },
     "metadata": {},
     "output_type": "display_data"
    }
   ],
   "source": [
    "regression_data <- regression_data %>%\n",
    "  mutate(income_quintile = as.factor(income_quintile))\n",
    "\n",
    "regression_data <- regression_data%>%\n",
    "    mutate(income_quintile = fct_recode(income_quintile, \n",
    "                                        \"Most deprived\" = \"1\", \n",
    "                                        \"Second\" = \"2\", \n",
    "                                        \"Third\" = \"3\", \n",
    "                                        \"Fourth\" = \"4\",\n",
    "                                        \"Least deprived\" = \"5\"))\n",
    "\n",
    "# Multiply employment_rate by 100 to match other formats\n",
    "regression_data$employment_rate_percent <- regression_data$employment_rate * 100\n",
    "label(regression_data$employment_rate_percent) <- \"Employment Status: % Unemployed\"\n",
    "\n",
    "IRdisplay::display_html(table1(~ q1_positive +\n",
    "                               q2_positive +\n",
    "                               q3_positive +\n",
    "                               age_distribution +\n",
    "                               employment_rate_percent +\n",
    "                               minority_pop +\n",
    "                               gender_distribution +\n",
    "                               urban_rural |\n",
    "                               income_quintile,\n",
    "                               data = regression_data,\n",
    "                               overall = \"Total\"\n",
    "                              )\n",
    "                       )"
   ]
  },
  {
   "cell_type": "code",
   "execution_count": 9,
   "id": "c9e57f78",
   "metadata": {
    "vscode": {
     "languageId": "r"
    }
   },
   "outputs": [
    {
     "name": "stderr",
     "output_type": "stream",
     "text": [
      "Warning message:\n",
      "“\u001b[1m\u001b[22mattributes are not identical across measure variables; they will be dropped”\n"
     ]
    }
   ],
   "source": [
    "# New dataframe with boxplot data only\n",
    "boxplot_data <- regression_data %>%\n",
    "    select(q1_positive, q2_positive, q3_positive)\n",
    "\n",
    "# Reshape the data from wide to long format for boxplot plotting\n",
    "# by renaming columns and using gather from tidyr\n",
    "boxplot_data_long <- boxplot_data %>%\n",
    "  rename(\"Satisfaction\" = q1_positive,\n",
    "         \"Access\" = q2_positive,\n",
    "         \"Communication\" = q3_positive) %>%\n",
    "  gather(key = \"variable\", value = \"value\", Satisfaction, Access, Communication)\n",
    "\n",
    "# Specify order for boxplot plotting\n",
    "boxplot_data_long$variable <- factor(boxplot_data_long$variable,\n",
    "                                     levels = c(\"Satisfaction\",\n",
    "                                                \"Access\",\n",
    "                                                \"Communication\"\n",
    "                                               )\n",
    "                                    )"
   ]
  },
  {
   "cell_type": "code",
   "execution_count": 10,
   "id": "852ac2f4",
   "metadata": {
    "vscode": {
     "languageId": "r"
    }
   },
   "outputs": [
    {
     "data": {
      "text/html": [
       "<table class=\"dataframe\">\n",
       "<caption>A tibble: 6 × 2</caption>\n",
       "<thead>\n",
       "\t<tr><th scope=col>variable</th><th scope=col>value</th></tr>\n",
       "\t<tr><th scope=col>&lt;fct&gt;</th><th scope=col>&lt;dbl&gt;</th></tr>\n",
       "</thead>\n",
       "<tbody>\n",
       "\t<tr><td>Satisfaction</td><td>73.31</td></tr>\n",
       "\t<tr><td>Satisfaction</td><td>78.51</td></tr>\n",
       "\t<tr><td>Satisfaction</td><td>87.11</td></tr>\n",
       "\t<tr><td>Satisfaction</td><td>81.81</td></tr>\n",
       "\t<tr><td>Satisfaction</td><td>25.34</td></tr>\n",
       "\t<tr><td>Satisfaction</td><td>73.95</td></tr>\n",
       "</tbody>\n",
       "</table>\n"
      ],
      "text/latex": [
       "A tibble: 6 × 2\n",
       "\\begin{tabular}{ll}\n",
       " variable & value\\\\\n",
       " <fct> & <dbl>\\\\\n",
       "\\hline\n",
       "\t Satisfaction & 73.31\\\\\n",
       "\t Satisfaction & 78.51\\\\\n",
       "\t Satisfaction & 87.11\\\\\n",
       "\t Satisfaction & 81.81\\\\\n",
       "\t Satisfaction & 25.34\\\\\n",
       "\t Satisfaction & 73.95\\\\\n",
       "\\end{tabular}\n"
      ],
      "text/markdown": [
       "\n",
       "A tibble: 6 × 2\n",
       "\n",
       "| variable &lt;fct&gt; | value &lt;dbl&gt; |\n",
       "|---|---|\n",
       "| Satisfaction | 73.31 |\n",
       "| Satisfaction | 78.51 |\n",
       "| Satisfaction | 87.11 |\n",
       "| Satisfaction | 81.81 |\n",
       "| Satisfaction | 25.34 |\n",
       "| Satisfaction | 73.95 |\n",
       "\n"
      ],
      "text/plain": [
       "  variable     value\n",
       "1 Satisfaction 73.31\n",
       "2 Satisfaction 78.51\n",
       "3 Satisfaction 87.11\n",
       "4 Satisfaction 81.81\n",
       "5 Satisfaction 25.34\n",
       "6 Satisfaction 73.95"
      ]
     },
     "metadata": {},
     "output_type": "display_data"
    }
   ],
   "source": [
    "head(boxplot_data_long)"
   ]
  },
  {
   "cell_type": "code",
   "execution_count": 11,
   "id": "1ade4e24",
   "metadata": {
    "vscode": {
     "languageId": "r"
    }
   },
   "outputs": [
    {
     "data": {
      "image/png": "[encoded data removed]",
      "text/plain": [
       "plot without title"
      ]
     },
     "metadata": {
      "image/png": {
       "height": 420,
       "width": 420
      }
     },
     "output_type": "display_data"
    }
   ],
   "source": [
    "# Plot boxplot with all question themes\n",
    "ggplot(boxplot_data_long, aes(x = variable, y = value)) +\n",
    "    geom_boxplot() +\n",
    "    theme_minimal() +\n",
    "    labs(title = \"Boxplot of survey question positive answers\",\n",
    "             x = \"Question Theme\",\n",
    "             y = \"% Positive Response\")"
   ]
  },
  {
   "cell_type": "code",
   "execution_count": 12,
   "id": "14d8a230",
   "metadata": {
    "vscode": {
     "languageId": "r"
    }
   },
   "outputs": [
    {
     "name": "stderr",
     "output_type": "stream",
     "text": [
      "\u001b[1m\u001b[22mSaving 6.67 x 6.67 in image\n"
     ]
    }
   ],
   "source": [
    "# Save with ggsave\n",
    "triple_boxplot <- ggplot(boxplot_data_long, aes(x = variable, y = value)) +\n",
    "                    geom_boxplot() +\n",
    "                    theme_minimal() +\n",
    "                    labs(title = \"Boxplot of survey question positive answers\",\n",
    "                             x = \"Question Theme\",\n",
    "                             y = \"% Positive Response\")\n",
    "\n",
    "ggsave(plot = triple_boxplot, \n",
    "       \"/Users/charlotte/Desktop/Report Development/Notebooks/figures/combined_boxplot_final.jpg\") "
   ]
  },
  {
   "cell_type": "code",
   "execution_count": 13,
   "id": "4aaff839",
   "metadata": {
    "vscode": {
     "languageId": "r"
    }
   },
   "outputs": [],
   "source": [
    "table1_descriptive <- table1(~ q1_positive +\n",
    "                               q2_positive +\n",
    "                               q3_positive +\n",
    "                               age_distribution +\n",
    "                               employment_rate_percent +\n",
    "                               minority_pop +\n",
    "                               gender_distribution +\n",
    "                               urban_rural |\n",
    "                               income_quintile,\n",
    "                               data = regression_data,\n",
    "                               overall = \"Total\"\n",
    "                              )"
   ]
  },
  {
   "cell_type": "code",
   "execution_count": 14,
   "id": "18ecfefe",
   "metadata": {
    "vscode": {
     "languageId": "r"
    }
   },
   "outputs": [
    {
     "name": "stderr",
     "output_type": "stream",
     "text": [
      "Updating HTML index of packages in '.Library'\n",
      "\n",
      "Making 'packages.html' ...\n",
      " done\n",
      "\n",
      "\n",
      "Attaching package: ‘flextable’\n",
      "\n",
      "\n",
      "The following object is masked from ‘package:purrr’:\n",
      "\n",
      "    compose\n",
      "\n",
      "\n",
      "Warning message:\n",
      "“package ‘magrittr’ was built under R version 4.2.3”\n",
      "\n",
      "Attaching package: ‘magrittr’\n",
      "\n",
      "\n",
      "The following object is masked from ‘package:purrr’:\n",
      "\n",
      "    set_names\n",
      "\n",
      "\n",
      "The following object is masked from ‘package:tidyr’:\n",
      "\n",
      "    extract\n",
      "\n",
      "\n"
     ]
    }
   ],
   "source": [
    "install.packages(\"flextable\")\n",
    "library(flextable)\n",
    "library(magrittr)\n",
    "\n",
    "# Convert to flextable\n",
    "t1flex(table1_descriptive) %>% \n",
    "  save_as_docx(path=\"/Users/charlotte/Desktop/Report Development/Notebooks/figures/table1_descriptive_final.docx\")"
   ]
  }
 ],
 "metadata": {
  "kernelspec": {
   "display_name": "R with Stan",
   "language": "R",
   "name": "ir"
  },
  "language_info": {
   "codemirror_mode": "r",
   "file_extension": ".r",
   "mimetype": "text/x-r-source",
   "name": "R",
   "pygments_lexer": "r",
   "version": "4.2.2"
  }
 },
 "nbformat": 4,
 "nbformat_minor": 5
}
