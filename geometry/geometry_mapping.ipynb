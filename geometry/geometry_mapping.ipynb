{
 "cells": [
  {
   "cell_type": "code",
   "execution_count": 1,
   "id": "f2255a01",
   "metadata": {},
   "outputs": [
    {
     "name": "stderr",
     "output_type": "stream",
     "text": [
      "Warning message in system(\"timedatectl\", intern = TRUE):\n",
      "“running command 'timedatectl' had status 1”\n",
      "── \u001b[1mAttaching packages\u001b[22m ─────────────────────────────────────── tidyverse 1.3.2 ──\n",
      "\u001b[32m✔\u001b[39m \u001b[34mggplot2\u001b[39m 3.4.3      \u001b[32m✔\u001b[39m \u001b[34mpurrr  \u001b[39m 1.0.1 \n",
      "\u001b[32m✔\u001b[39m \u001b[34mtibble \u001b[39m 3.2.1      \u001b[32m✔\u001b[39m \u001b[34mdplyr  \u001b[39m 1.0.10\n",
      "\u001b[32m✔\u001b[39m \u001b[34mtidyr  \u001b[39m 1.3.0      \u001b[32m✔\u001b[39m \u001b[34mstringr\u001b[39m 1.5.0 \n",
      "\u001b[32m✔\u001b[39m \u001b[34mreadr  \u001b[39m 2.1.4      \u001b[32m✔\u001b[39m \u001b[34mforcats\u001b[39m 1.0.0 \n",
      "Warning message:\n",
      "“package ‘ggplot2’ was built under R version 4.2.3”\n",
      "Warning message:\n",
      "“package ‘tibble’ was built under R version 4.2.3”\n",
      "Warning message:\n",
      "“package ‘tidyr’ was built under R version 4.2.3”\n",
      "Warning message:\n",
      "“package ‘readr’ was built under R version 4.2.3”\n",
      "Warning message:\n",
      "“package ‘purrr’ was built under R version 4.2.3”\n",
      "Warning message:\n",
      "“package ‘stringr’ was built under R version 4.2.3”\n",
      "Warning message:\n",
      "“package ‘forcats’ was built under R version 4.2.3”\n",
      "── \u001b[1mConflicts\u001b[22m ────────────────────────────────────────── tidyverse_conflicts() ──\n",
      "\u001b[31m✖\u001b[39m \u001b[34mdplyr\u001b[39m::\u001b[32mfilter()\u001b[39m masks \u001b[34mstats\u001b[39m::filter()\n",
      "\u001b[31m✖\u001b[39m \u001b[34mdplyr\u001b[39m::\u001b[32mlag()\u001b[39m    masks \u001b[34mstats\u001b[39m::lag()\n",
      "Linking to GEOS 3.11.1, GDAL 3.6.2, PROJ 9.1.0; sf_use_s2() is TRUE\n",
      "\n",
      "Warning message:\n",
      "“package ‘sp’ was built under R version 4.2.3”\n",
      "The legacy packages maptools, rgdal, and rgeos, underpinning the sp package,\n",
      "which was just loaded, will retire in October 2023.\n",
      "Please refer to R-spatial evolution reports for details, especially\n",
      "https://r-spatial.org/r/2023/05/15/evolution4.html.\n",
      "It may be desirable to make the sf package available;\n",
      "package maintainers should consider adding sf to Suggests:.\n",
      "The sp package is now running under evolution status 2\n",
      "     (status 2 uses the sf package in place of rgdal)\n",
      "\n",
      "Warning message:\n",
      "“package ‘httr’ was built under R version 4.2.3”\n",
      "Warning message:\n",
      "“package ‘scales’ was built under R version 4.2.3”\n",
      "\n",
      "Attaching package: ‘scales’\n",
      "\n",
      "\n",
      "The following object is masked from ‘package:purrr’:\n",
      "\n",
      "    discard\n",
      "\n",
      "\n",
      "The following object is masked from ‘package:readr’:\n",
      "\n",
      "    col_factor\n",
      "\n",
      "\n",
      "Warning message:\n",
      "“package ‘remotes’ was built under R version 4.2.3”\n",
      "Data (c) OpenStreetMap contributors, ODbL 1.0. https://www.openstreetmap.org/copyright\n",
      "\n"
     ]
    }
   ],
   "source": [
    "# Install libraries\n",
    "libs <- c(\n",
    "        \"tidyverse\", \"stringr\", \"sf\", \"sp\",\n",
    "        \"dplyr\", \"httr\", \"giscoR\", \"scales\",\n",
    "        \"remotes\", \"osmdata\"\n",
    ")\n",
    "\n",
    "installed_libs <- libs %in% rownames(installed.packages())\n",
    "if (any(installed_libs == F)) {\n",
    "    install.packages(libs[!installed_libs])\n",
    "}\n",
    "\n",
    "# Install geojsonio using remotes if not installed\n",
    "if (!\"geojsonio\" %in% installed.packages()) {\n",
    "    remotes::install_github(\"ropensci/geojsonio\")\n",
    "}\n",
    "\n",
    "invisible(lapply(libs, library, character.only = T))"
   ]
  },
  {
   "cell_type": "code",
   "execution_count": 2,
   "id": "9e1d2ec8",
   "metadata": {},
   "outputs": [
    {
     "name": "stdout",
     "output_type": "stream",
     "text": [
      "[1] \"/home/jovyan/ReportNov-23/geometry\"\n"
     ]
    },
    {
     "data": {
      "text/html": [
       "<style>\n",
       ".list-inline {list-style: none; margin:0; padding: 0}\n",
       ".list-inline>li {display: inline-block}\n",
       ".list-inline>li:not(:last-child)::after {content: \"\\00b7\"; padding: 0 .5ex}\n",
       "</style>\n",
       "<ol class=list-inline><li>'ab.csv'</li><li>'code-point-column-headers.csv'</li><li>'dd.csv'</li><li>'dg.csv'</li><li>'eh.csv'</li><li>'fk.csv'</li><li>'g.csv'</li><li>'geometry_mapping.ipynb'</li><li>'hs.csv'</li><li>'iv.csv'</li><li>'ka.csv'</li><li>'kw.csv'</li><li>'ky.csv'</li><li>'ml.csv'</li><li>'output_map.png'</li><li>'output_plot.png'</li><li>'pa.csv'</li><li>'ph.csv'</li><li>'practice_locations_longlat.csv'</li><li>'practice_locations.csv'</li><li>'scotland_map.html'</li><li>'td.csv'</li><li>'ze.csv'</li></ol>\n"
      ],
      "text/latex": [
       "\\begin{enumerate*}\n",
       "\\item 'ab.csv'\n",
       "\\item 'code-point-column-headers.csv'\n",
       "\\item 'dd.csv'\n",
       "\\item 'dg.csv'\n",
       "\\item 'eh.csv'\n",
       "\\item 'fk.csv'\n",
       "\\item 'g.csv'\n",
       "\\item 'geometry\\_mapping.ipynb'\n",
       "\\item 'hs.csv'\n",
       "\\item 'iv.csv'\n",
       "\\item 'ka.csv'\n",
       "\\item 'kw.csv'\n",
       "\\item 'ky.csv'\n",
       "\\item 'ml.csv'\n",
       "\\item 'output\\_map.png'\n",
       "\\item 'output\\_plot.png'\n",
       "\\item 'pa.csv'\n",
       "\\item 'ph.csv'\n",
       "\\item 'practice\\_locations\\_longlat.csv'\n",
       "\\item 'practice\\_locations.csv'\n",
       "\\item 'scotland\\_map.html'\n",
       "\\item 'td.csv'\n",
       "\\item 'ze.csv'\n",
       "\\end{enumerate*}\n"
      ],
      "text/markdown": [
       "1. 'ab.csv'\n",
       "2. 'code-point-column-headers.csv'\n",
       "3. 'dd.csv'\n",
       "4. 'dg.csv'\n",
       "5. 'eh.csv'\n",
       "6. 'fk.csv'\n",
       "7. 'g.csv'\n",
       "8. 'geometry_mapping.ipynb'\n",
       "9. 'hs.csv'\n",
       "10. 'iv.csv'\n",
       "11. 'ka.csv'\n",
       "12. 'kw.csv'\n",
       "13. 'ky.csv'\n",
       "14. 'ml.csv'\n",
       "15. 'output_map.png'\n",
       "16. 'output_plot.png'\n",
       "17. 'pa.csv'\n",
       "18. 'ph.csv'\n",
       "19. 'practice_locations_longlat.csv'\n",
       "20. 'practice_locations.csv'\n",
       "21. 'scotland_map.html'\n",
       "22. 'td.csv'\n",
       "23. 'ze.csv'\n",
       "\n",
       "\n"
      ],
      "text/plain": [
       " [1] \"ab.csv\"                         \"code-point-column-headers.csv\" \n",
       " [3] \"dd.csv\"                         \"dg.csv\"                        \n",
       " [5] \"eh.csv\"                         \"fk.csv\"                        \n",
       " [7] \"g.csv\"                          \"geometry_mapping.ipynb\"        \n",
       " [9] \"hs.csv\"                         \"iv.csv\"                        \n",
       "[11] \"ka.csv\"                         \"kw.csv\"                        \n",
       "[13] \"ky.csv\"                         \"ml.csv\"                        \n",
       "[15] \"output_map.png\"                 \"output_plot.png\"               \n",
       "[17] \"pa.csv\"                         \"ph.csv\"                        \n",
       "[19] \"practice_locations_longlat.csv\" \"practice_locations.csv\"        \n",
       "[21] \"scotland_map.html\"              \"td.csv\"                        \n",
       "[23] \"ze.csv\"                        "
      ]
     },
     "metadata": {},
     "output_type": "display_data"
    }
   ],
   "source": [
    "# Print current working directory\n",
    "current_directory <- getwd()\n",
    "print(current_directory)\n",
    "\n",
    "list.files()"
   ]
  },
  {
   "cell_type": "code",
   "execution_count": 3,
   "id": "b7711786",
   "metadata": {},
   "outputs": [],
   "source": [
    "# Define postcode file names\n",
    "file_names <- c('ab.csv', 'dd.csv', 'dg.csv', 'eh.csv',\n",
    "                'fk.csv', 'g.csv', 'hs.csv', 'iv.csv',\n",
    "                'ka.csv', 'kw.csv', 'ky.csv', 'ml.csv',\n",
    "                'pa.csv', 'ph.csv', 'td.csv', 'ze.csv')\n",
    "\n",
    "# Read the header file\n",
    "header_file <- \"code-point-column-headers.csv\"\n",
    "\n",
    "# Define column names based on the first row of the CSV file\n",
    "column_names <- c(\"Postcode\", \"Positional_quality_indicator\", \"PO_Box_indicator\", \n",
    "                   \"Total_number_of_delivery_points\", \"Delivery_points_used_to_create_the_CPLC\",\n",
    "                   \"Domestic_delivery_points\", \"Non_domestic_delivery_points\", \n",
    "                   \"PO_Box_delivery_points\", \"Matched_address_premises\", \n",
    "                   \"Unmatched_delivery_points\", \"Eastings\", \"Northings\", \n",
    "                   \"Country_code\", \"NHS_regional_HA_code\", \"NHS_HA_code\", \n",
    "                   \"Admin_county_code\", \"Admin_district_code\", \"Admin_ward_code\", \n",
    "                   \"Postcode_type\")"
   ]
  },
  {
   "cell_type": "code",
   "execution_count": 4,
   "id": "6abbe9e8",
   "metadata": {},
   "outputs": [
    {
     "data": {
      "text/html": [
       "<table class=\"dataframe\">\n",
       "<caption>A data.frame: 6 × 3</caption>\n",
       "<thead>\n",
       "\t<tr><th></th><th scope=col>Postcode</th><th scope=col>Eastings</th><th scope=col>Northings</th></tr>\n",
       "\t<tr><th></th><th scope=col>&lt;chr&gt;</th><th scope=col>&lt;int&gt;</th><th scope=col>&lt;int&gt;</th></tr>\n",
       "</thead>\n",
       "<tbody>\n",
       "\t<tr><th scope=row>1</th><td>AB10 1AB</td><td>394235</td><td>806529</td></tr>\n",
       "\t<tr><th scope=row>2</th><td>AB10 1AF</td><td>394235</td><td>806529</td></tr>\n",
       "\t<tr><th scope=row>3</th><td>AB10 1AG</td><td>394230</td><td>806469</td></tr>\n",
       "\t<tr><th scope=row>4</th><td>AB10 1AH</td><td>394235</td><td>806529</td></tr>\n",
       "\t<tr><th scope=row>5</th><td>AB10 1AL</td><td>394296</td><td>806581</td></tr>\n",
       "\t<tr><th scope=row>6</th><td>AB10 1AN</td><td>394367</td><td>806541</td></tr>\n",
       "</tbody>\n",
       "</table>\n"
      ],
      "text/latex": [
       "A data.frame: 6 × 3\n",
       "\\begin{tabular}{r|lll}\n",
       "  & Postcode & Eastings & Northings\\\\\n",
       "  & <chr> & <int> & <int>\\\\\n",
       "\\hline\n",
       "\t1 & AB10 1AB & 394235 & 806529\\\\\n",
       "\t2 & AB10 1AF & 394235 & 806529\\\\\n",
       "\t3 & AB10 1AG & 394230 & 806469\\\\\n",
       "\t4 & AB10 1AH & 394235 & 806529\\\\\n",
       "\t5 & AB10 1AL & 394296 & 806581\\\\\n",
       "\t6 & AB10 1AN & 394367 & 806541\\\\\n",
       "\\end{tabular}\n"
      ],
      "text/markdown": [
       "\n",
       "A data.frame: 6 × 3\n",
       "\n",
       "| <!--/--> | Postcode &lt;chr&gt; | Eastings &lt;int&gt; | Northings &lt;int&gt; |\n",
       "|---|---|---|---|\n",
       "| 1 | AB10 1AB | 394235 | 806529 |\n",
       "| 2 | AB10 1AF | 394235 | 806529 |\n",
       "| 3 | AB10 1AG | 394230 | 806469 |\n",
       "| 4 | AB10 1AH | 394235 | 806529 |\n",
       "| 5 | AB10 1AL | 394296 | 806581 |\n",
       "| 6 | AB10 1AN | 394367 | 806541 |\n",
       "\n"
      ],
      "text/plain": [
       "  Postcode Eastings Northings\n",
       "1 AB10 1AB 394235   806529   \n",
       "2 AB10 1AF 394235   806529   \n",
       "3 AB10 1AG 394230   806469   \n",
       "4 AB10 1AH 394235   806529   \n",
       "5 AB10 1AL 394296   806581   \n",
       "6 AB10 1AN 394367   806541   "
      ]
     },
     "metadata": {},
     "output_type": "display_data"
    },
    {
     "data": {
      "text/html": [
       "<style>\n",
       ".list-inline {list-style: none; margin:0; padding: 0}\n",
       ".list-inline>li {display: inline-block}\n",
       ".list-inline>li:not(:last-child)::after {content: \"\\00b7\"; padding: 0 .5ex}\n",
       "</style>\n",
       "<ol class=list-inline><li>161012</li><li>3</li></ol>\n"
      ],
      "text/latex": [
       "\\begin{enumerate*}\n",
       "\\item 161012\n",
       "\\item 3\n",
       "\\end{enumerate*}\n"
      ],
      "text/markdown": [
       "1. 161012\n",
       "2. 3\n",
       "\n",
       "\n"
      ],
      "text/plain": [
       "[1] 161012      3"
      ]
     },
     "metadata": {},
     "output_type": "display_data"
    }
   ],
   "source": [
    "# Read the CSV files with specified column names\n",
    "postcode_data <- lapply(file_names, function(file) {\n",
    "  data <- read.csv(file.path(current_directory, file), header = FALSE, col.names = column_names)\n",
    "  return(data)\n",
    "})\n",
    "\n",
    "# Combine the data into one dataframe\n",
    "all_postcodes <- do.call(rbind, postcode_data) %>%\n",
    "  select(Postcode, Eastings, Northings)\n",
    "\n",
    "head(all_postcodes)\n",
    "dim(all_postcodes)"
   ]
  },
  {
   "cell_type": "code",
   "execution_count": 5,
   "id": "023e591d",
   "metadata": {},
   "outputs": [],
   "source": [
    "wgs84 <- \"+proj=longlat +datum=WGS84 +no_defs\"\n",
    "\n",
    "bng <- '+proj=tmerc +lat_0=49 +lon_0=-2 +k=0.9996012717 +x_0=400000 +y_0=-100000 +ellps=airy +datum=OSGB36 +units=m +no_defs'\n",
    "\n",
    "ConvertCoordinates <- function(easting, northing) {\n",
    "  out <- cbind(easting, northing)\n",
    "  mask <- !is.na(easting)\n",
    "  sp <- sp::spTransform(sp::SpatialPoints(list(easting[mask], northing[mask]), proj4string = sp::CRS(bng)), sp::CRS(wgs84))\n",
    "  out[mask,] <- sp@coords\n",
    "  out\n",
    "}\n",
    "\n",
    "# Creating new lat and long columns\n",
    "all_postcodes$latitude <- NA\n",
    "all_postcodes$longitude <- NA\n",
    "\n",
    "# Apply the conversion function to each row\n",
    "all_postcodes[, c(\"longitude\", \"latitude\")] <- ConvertCoordinates(all_postcodes$Eastings, all_postcodes$Northings)"
   ]
  },
  {
   "cell_type": "code",
   "execution_count": 6,
   "id": "088f070b",
   "metadata": {},
   "outputs": [
    {
     "data": {
      "text/html": [
       "<table class=\"dataframe\">\n",
       "<caption>A data.frame: 6 × 3</caption>\n",
       "<thead>\n",
       "\t<tr><th></th><th scope=col>Postcode</th><th scope=col>latitude</th><th scope=col>longitude</th></tr>\n",
       "\t<tr><th></th><th scope=col>&lt;chr&gt;</th><th scope=col>&lt;dbl&gt;</th><th scope=col>&lt;dbl&gt;</th></tr>\n",
       "</thead>\n",
       "<tbody>\n",
       "\t<tr><th scope=row>1</th><td>AB10 1AB</td><td>57.14979</td><td>-2.095293</td></tr>\n",
       "\t<tr><th scope=row>2</th><td>AB10 1AF</td><td>57.14979</td><td>-2.095293</td></tr>\n",
       "\t<tr><th scope=row>3</th><td>AB10 1AG</td><td>57.14925</td><td>-2.095374</td></tr>\n",
       "\t<tr><th scope=row>4</th><td>AB10 1AH</td><td>57.14979</td><td>-2.095293</td></tr>\n",
       "\t<tr><th scope=row>5</th><td>AB10 1AL</td><td>57.15026</td><td>-2.094286</td></tr>\n",
       "\t<tr><th scope=row>6</th><td>AB10 1AN</td><td>57.14990</td><td>-2.093111</td></tr>\n",
       "</tbody>\n",
       "</table>\n"
      ],
      "text/latex": [
       "A data.frame: 6 × 3\n",
       "\\begin{tabular}{r|lll}\n",
       "  & Postcode & latitude & longitude\\\\\n",
       "  & <chr> & <dbl> & <dbl>\\\\\n",
       "\\hline\n",
       "\t1 & AB10 1AB & 57.14979 & -2.095293\\\\\n",
       "\t2 & AB10 1AF & 57.14979 & -2.095293\\\\\n",
       "\t3 & AB10 1AG & 57.14925 & -2.095374\\\\\n",
       "\t4 & AB10 1AH & 57.14979 & -2.095293\\\\\n",
       "\t5 & AB10 1AL & 57.15026 & -2.094286\\\\\n",
       "\t6 & AB10 1AN & 57.14990 & -2.093111\\\\\n",
       "\\end{tabular}\n"
      ],
      "text/markdown": [
       "\n",
       "A data.frame: 6 × 3\n",
       "\n",
       "| <!--/--> | Postcode &lt;chr&gt; | latitude &lt;dbl&gt; | longitude &lt;dbl&gt; |\n",
       "|---|---|---|---|\n",
       "| 1 | AB10 1AB | 57.14979 | -2.095293 |\n",
       "| 2 | AB10 1AF | 57.14979 | -2.095293 |\n",
       "| 3 | AB10 1AG | 57.14925 | -2.095374 |\n",
       "| 4 | AB10 1AH | 57.14979 | -2.095293 |\n",
       "| 5 | AB10 1AL | 57.15026 | -2.094286 |\n",
       "| 6 | AB10 1AN | 57.14990 | -2.093111 |\n",
       "\n"
      ],
      "text/plain": [
       "  Postcode latitude longitude\n",
       "1 AB10 1AB 57.14979 -2.095293\n",
       "2 AB10 1AF 57.14979 -2.095293\n",
       "3 AB10 1AG 57.14925 -2.095374\n",
       "4 AB10 1AH 57.14979 -2.095293\n",
       "5 AB10 1AL 57.15026 -2.094286\n",
       "6 AB10 1AN 57.14990 -2.093111"
      ]
     },
     "metadata": {},
     "output_type": "display_data"
    }
   ],
   "source": [
    "# Remove unneeded columns\n",
    "all_postcodes <- all_postcodes %>%\n",
    "    select(Postcode, latitude, longitude)\n",
    "\n",
    "head(all_postcodes)"
   ]
  },
  {
   "cell_type": "code",
   "execution_count": 7,
   "id": "b9ab3cf6",
   "metadata": {},
   "outputs": [],
   "source": [
    "# datazone_data <- read_csv('/home/jovyan/ReportNov-23/postcodes_with_datazones.csv')\n",
    "# head(datazone_data)"
   ]
  },
  {
   "cell_type": "code",
   "execution_count": 8,
   "id": "ad420f0e",
   "metadata": {},
   "outputs": [
    {
     "name": "stderr",
     "output_type": "stream",
     "text": [
      "\u001b[1mRows: \u001b[22m\u001b[34m916\u001b[39m \u001b[1mColumns: \u001b[22m\u001b[34m16\u001b[39m\n",
      "\u001b[36m──\u001b[39m \u001b[1mColumn specification\u001b[22m \u001b[36m────────────────────────────────────────────────────────\u001b[39m\n",
      "\u001b[1mDelimiter:\u001b[22m \",\"\n",
      "\u001b[31mchr\u001b[39m (13): GPPracticeName, AddressLine1, AddressLine2, AddressLine3, AddressL...\n",
      "\u001b[32mdbl\u001b[39m  (3): _id, PracticeCode, PracticeListSize\n",
      "\n",
      "\u001b[36mℹ\u001b[39m Use `spec()` to retrieve the full column specification for this data.\n",
      "\u001b[36mℹ\u001b[39m Specify the column types or set `show_col_types = FALSE` to quiet this message.\n"
     ]
    },
    {
     "data": {
      "text/html": [
       "<table class=\"dataframe\">\n",
       "<caption>A tibble: 6 × 3</caption>\n",
       "<thead>\n",
       "\t<tr><th scope=col>GPPracticeName</th><th scope=col>Postcode</th><th scope=col>PracticeCode</th></tr>\n",
       "\t<tr><th scope=col>&lt;chr&gt;</th><th scope=col>&lt;chr&gt;</th><th scope=col>&lt;dbl&gt;</th></tr>\n",
       "</thead>\n",
       "<tbody>\n",
       "\t<tr><td>Muirhead Medical Centre                       </td><td>DD2 5NH </td><td>10002</td></tr>\n",
       "\t<tr><td>The Blue Practice                             </td><td>PH7 3SA </td><td>10017</td></tr>\n",
       "\t<tr><td>Aberfeldy And Kinloch Rannoch Medical Practice</td><td>PH15 2BL</td><td>10036</td></tr>\n",
       "\t<tr><td>Grove Health Centre                           </td><td>DD5 1DU </td><td>10106</td></tr>\n",
       "\t<tr><td>Alyth Health Centre                           </td><td>PH11 8EQ</td><td>10125</td></tr>\n",
       "\t<tr><td>Arbroath Medical Centre                       </td><td>DD11 1AD</td><td>10182</td></tr>\n",
       "</tbody>\n",
       "</table>\n"
      ],
      "text/latex": [
       "A tibble: 6 × 3\n",
       "\\begin{tabular}{lll}\n",
       " GPPracticeName & Postcode & PracticeCode\\\\\n",
       " <chr> & <chr> & <dbl>\\\\\n",
       "\\hline\n",
       "\t Muirhead Medical Centre                        & DD2 5NH  & 10002\\\\\n",
       "\t The Blue Practice                              & PH7 3SA  & 10017\\\\\n",
       "\t Aberfeldy And Kinloch Rannoch Medical Practice & PH15 2BL & 10036\\\\\n",
       "\t Grove Health Centre                            & DD5 1DU  & 10106\\\\\n",
       "\t Alyth Health Centre                            & PH11 8EQ & 10125\\\\\n",
       "\t Arbroath Medical Centre                        & DD11 1AD & 10182\\\\\n",
       "\\end{tabular}\n"
      ],
      "text/markdown": [
       "\n",
       "A tibble: 6 × 3\n",
       "\n",
       "| GPPracticeName &lt;chr&gt; | Postcode &lt;chr&gt; | PracticeCode &lt;dbl&gt; |\n",
       "|---|---|---|\n",
       "| Muirhead Medical Centre                        | DD2 5NH  | 10002 |\n",
       "| The Blue Practice                              | PH7 3SA  | 10017 |\n",
       "| Aberfeldy And Kinloch Rannoch Medical Practice | PH15 2BL | 10036 |\n",
       "| Grove Health Centre                            | DD5 1DU  | 10106 |\n",
       "| Alyth Health Centre                            | PH11 8EQ | 10125 |\n",
       "| Arbroath Medical Centre                        | DD11 1AD | 10182 |\n",
       "\n"
      ],
      "text/plain": [
       "  GPPracticeName                                 Postcode PracticeCode\n",
       "1 Muirhead Medical Centre                        DD2 5NH  10002       \n",
       "2 The Blue Practice                              PH7 3SA  10017       \n",
       "3 Aberfeldy And Kinloch Rannoch Medical Practice PH15 2BL 10036       \n",
       "4 Grove Health Centre                            DD5 1DU  10106       \n",
       "5 Alyth Health Centre                            PH11 8EQ 10125       \n",
       "6 Arbroath Medical Centre                        DD11 1AD 10182       "
      ]
     },
     "metadata": {},
     "output_type": "display_data"
    }
   ],
   "source": [
    "# Read in GP practice data\n",
    "practice_data <- read_csv('/home/jovyan/ReportNov-23/GP_extended_data.csv')\n",
    "\n",
    "practice_data <- practice_data %>%\n",
    "    select(GPPracticeName, Postcode, PracticeCode)\n",
    "\n",
    "head(practice_data)"
   ]
  },
  {
   "cell_type": "code",
   "execution_count": 9,
   "id": "27d40904",
   "metadata": {},
   "outputs": [
    {
     "data": {
      "text/html": [
       "<table class=\"dataframe\">\n",
       "<caption>A tibble: 6 × 5</caption>\n",
       "<thead>\n",
       "\t<tr><th scope=col>GPPracticeName</th><th scope=col>Postcode</th><th scope=col>PracticeCode</th><th scope=col>latitude</th><th scope=col>longitude</th></tr>\n",
       "\t<tr><th scope=col>&lt;chr&gt;</th><th scope=col>&lt;chr&gt;</th><th scope=col>&lt;dbl&gt;</th><th scope=col>&lt;dbl&gt;</th><th scope=col>&lt;dbl&gt;</th></tr>\n",
       "</thead>\n",
       "<tbody>\n",
       "\t<tr><td>Muirhead Medical Centre                       </td><td>DD2 5NH </td><td>10002</td><td>56.49572</td><td>-3.064575</td></tr>\n",
       "\t<tr><td>The Blue Practice                             </td><td>PH7 3SA </td><td>10017</td><td>56.37054</td><td>-3.841282</td></tr>\n",
       "\t<tr><td>Aberfeldy And Kinloch Rannoch Medical Practice</td><td>PH15 2BL</td><td>10036</td><td>56.61865</td><td>-3.869156</td></tr>\n",
       "\t<tr><td>Grove Health Centre                           </td><td>DD5 1DU </td><td>10106</td><td>56.46878</td><td>-2.881552</td></tr>\n",
       "\t<tr><td>Alyth Health Centre                           </td><td>PH11 8EQ</td><td>10125</td><td>56.61825</td><td>-3.227675</td></tr>\n",
       "\t<tr><td>Arbroath Medical Centre                       </td><td>DD11 1AD</td><td>10182</td><td>56.55912</td><td>-2.579306</td></tr>\n",
       "</tbody>\n",
       "</table>\n"
      ],
      "text/latex": [
       "A tibble: 6 × 5\n",
       "\\begin{tabular}{lllll}\n",
       " GPPracticeName & Postcode & PracticeCode & latitude & longitude\\\\\n",
       " <chr> & <chr> & <dbl> & <dbl> & <dbl>\\\\\n",
       "\\hline\n",
       "\t Muirhead Medical Centre                        & DD2 5NH  & 10002 & 56.49572 & -3.064575\\\\\n",
       "\t The Blue Practice                              & PH7 3SA  & 10017 & 56.37054 & -3.841282\\\\\n",
       "\t Aberfeldy And Kinloch Rannoch Medical Practice & PH15 2BL & 10036 & 56.61865 & -3.869156\\\\\n",
       "\t Grove Health Centre                            & DD5 1DU  & 10106 & 56.46878 & -2.881552\\\\\n",
       "\t Alyth Health Centre                            & PH11 8EQ & 10125 & 56.61825 & -3.227675\\\\\n",
       "\t Arbroath Medical Centre                        & DD11 1AD & 10182 & 56.55912 & -2.579306\\\\\n",
       "\\end{tabular}\n"
      ],
      "text/markdown": [
       "\n",
       "A tibble: 6 × 5\n",
       "\n",
       "| GPPracticeName &lt;chr&gt; | Postcode &lt;chr&gt; | PracticeCode &lt;dbl&gt; | latitude &lt;dbl&gt; | longitude &lt;dbl&gt; |\n",
       "|---|---|---|---|---|\n",
       "| Muirhead Medical Centre                        | DD2 5NH  | 10002 | 56.49572 | -3.064575 |\n",
       "| The Blue Practice                              | PH7 3SA  | 10017 | 56.37054 | -3.841282 |\n",
       "| Aberfeldy And Kinloch Rannoch Medical Practice | PH15 2BL | 10036 | 56.61865 | -3.869156 |\n",
       "| Grove Health Centre                            | DD5 1DU  | 10106 | 56.46878 | -2.881552 |\n",
       "| Alyth Health Centre                            | PH11 8EQ | 10125 | 56.61825 | -3.227675 |\n",
       "| Arbroath Medical Centre                        | DD11 1AD | 10182 | 56.55912 | -2.579306 |\n",
       "\n"
      ],
      "text/plain": [
       "  GPPracticeName                                 Postcode PracticeCode latitude\n",
       "1 Muirhead Medical Centre                        DD2 5NH  10002        56.49572\n",
       "2 The Blue Practice                              PH7 3SA  10017        56.37054\n",
       "3 Aberfeldy And Kinloch Rannoch Medical Practice PH15 2BL 10036        56.61865\n",
       "4 Grove Health Centre                            DD5 1DU  10106        56.46878\n",
       "5 Alyth Health Centre                            PH11 8EQ 10125        56.61825\n",
       "6 Arbroath Medical Centre                        DD11 1AD 10182        56.55912\n",
       "  longitude\n",
       "1 -3.064575\n",
       "2 -3.841282\n",
       "3 -3.869156\n",
       "4 -2.881552\n",
       "5 -3.227675\n",
       "6 -2.579306"
      ]
     },
     "metadata": {},
     "output_type": "display_data"
    }
   ],
   "source": [
    "# Merge location data and practice data\n",
    "point_data <- practice_data %>%\n",
    "    full_join(all_postcodes, by = c(\"Postcode\" = \"Postcode\")) %>%\n",
    "    filter(!is.na(GPPracticeName))\n",
    "\n",
    "head(point_data)"
   ]
  },
  {
   "cell_type": "code",
   "execution_count": 10,
   "id": "942d3a26",
   "metadata": {},
   "outputs": [
    {
     "name": "stderr",
     "output_type": "stream",
     "text": [
      "\u001b[1mRows: \u001b[22m\u001b[34m2748\u001b[39m \u001b[1mColumns: \u001b[22m\u001b[34m17\u001b[39m\n",
      "\u001b[36m──\u001b[39m \u001b[1mColumn specification\u001b[22m \u001b[36m────────────────────────────────────────────────────────\u001b[39m\n",
      "\u001b[1mDelimiter:\u001b[22m \",\"\n",
      "\u001b[31mchr\u001b[39m  (3): HB, HSCP, Sex\n",
      "\u001b[32mdbl\u001b[39m (14): Date, PracticeCode, AllAges, Ages0to4, Ages5to14, Ages15to24, Ages...\n",
      "\n",
      "\u001b[36mℹ\u001b[39m Use `spec()` to retrieve the full column specification for this data.\n",
      "\u001b[36mℹ\u001b[39m Specify the column types or set `show_col_types = FALSE` to quiet this message.\n"
     ]
    },
    {
     "data": {
      "text/html": [
       "<table class=\"dataframe\">\n",
       "<caption>A tibble: 6 × 2</caption>\n",
       "<thead>\n",
       "\t<tr><th scope=col>PracticeCode</th><th scope=col>AllAges</th></tr>\n",
       "\t<tr><th scope=col>&lt;dbl&gt;</th><th scope=col>&lt;dbl&gt;</th></tr>\n",
       "</thead>\n",
       "<tbody>\n",
       "\t<tr><td>10002</td><td>8102</td></tr>\n",
       "\t<tr><td>10017</td><td>6620</td></tr>\n",
       "\t<tr><td>10036</td><td>4758</td></tr>\n",
       "\t<tr><td>10106</td><td>6075</td></tr>\n",
       "\t<tr><td>10125</td><td>4385</td></tr>\n",
       "\t<tr><td>10182</td><td>9188</td></tr>\n",
       "</tbody>\n",
       "</table>\n"
      ],
      "text/latex": [
       "A tibble: 6 × 2\n",
       "\\begin{tabular}{ll}\n",
       " PracticeCode & AllAges\\\\\n",
       " <dbl> & <dbl>\\\\\n",
       "\\hline\n",
       "\t 10002 & 8102\\\\\n",
       "\t 10017 & 6620\\\\\n",
       "\t 10036 & 4758\\\\\n",
       "\t 10106 & 6075\\\\\n",
       "\t 10125 & 4385\\\\\n",
       "\t 10182 & 9188\\\\\n",
       "\\end{tabular}\n"
      ],
      "text/markdown": [
       "\n",
       "A tibble: 6 × 2\n",
       "\n",
       "| PracticeCode &lt;dbl&gt; | AllAges &lt;dbl&gt; |\n",
       "|---|---|\n",
       "| 10002 | 8102 |\n",
       "| 10017 | 6620 |\n",
       "| 10036 | 4758 |\n",
       "| 10106 | 6075 |\n",
       "| 10125 | 4385 |\n",
       "| 10182 | 9188 |\n",
       "\n"
      ],
      "text/plain": [
       "  PracticeCode AllAges\n",
       "1 10002        8102   \n",
       "2 10017        6620   \n",
       "3 10036        4758   \n",
       "4 10106        6075   \n",
       "5 10125        4385   \n",
       "6 10182        9188   "
      ]
     },
     "metadata": {},
     "output_type": "display_data"
    }
   ],
   "source": [
    "# Read in GP List size data\n",
    "practice_size_data <- read_csv('/home/jovyan/ReportNov-23/GP_practice_populations_apr22.csv')\n",
    "\n",
    "practice_size_data <- practice_size_data %>%\n",
    "    filter(Sex == \"All\") %>%\n",
    "    select(PracticeCode, AllAges) \n",
    "\n",
    "head(practice_size_data)"
   ]
  },
  {
   "cell_type": "code",
   "execution_count": 11,
   "id": "830f8d8a",
   "metadata": {},
   "outputs": [
    {
     "data": {
      "text/html": [
       "<table class=\"dataframe\">\n",
       "<caption>A tibble: 6 × 5</caption>\n",
       "<thead>\n",
       "\t<tr><th scope=col>GPPracticeName</th><th scope=col>PracticeCode</th><th scope=col>latitude</th><th scope=col>longitude</th><th scope=col>ListSize</th></tr>\n",
       "\t<tr><th scope=col>&lt;chr&gt;</th><th scope=col>&lt;dbl&gt;</th><th scope=col>&lt;dbl&gt;</th><th scope=col>&lt;dbl&gt;</th><th scope=col>&lt;dbl&gt;</th></tr>\n",
       "</thead>\n",
       "<tbody>\n",
       "\t<tr><td>Muirhead Medical Centre                       </td><td>10002</td><td>56.49572</td><td>-3.064575</td><td>8102</td></tr>\n",
       "\t<tr><td>The Blue Practice                             </td><td>10017</td><td>56.37054</td><td>-3.841282</td><td>6620</td></tr>\n",
       "\t<tr><td>Aberfeldy And Kinloch Rannoch Medical Practice</td><td>10036</td><td>56.61865</td><td>-3.869156</td><td>4758</td></tr>\n",
       "\t<tr><td>Grove Health Centre                           </td><td>10106</td><td>56.46878</td><td>-2.881552</td><td>6075</td></tr>\n",
       "\t<tr><td>Alyth Health Centre                           </td><td>10125</td><td>56.61825</td><td>-3.227675</td><td>4385</td></tr>\n",
       "\t<tr><td>Arbroath Medical Centre                       </td><td>10182</td><td>56.55912</td><td>-2.579306</td><td>9188</td></tr>\n",
       "</tbody>\n",
       "</table>\n"
      ],
      "text/latex": [
       "A tibble: 6 × 5\n",
       "\\begin{tabular}{lllll}\n",
       " GPPracticeName & PracticeCode & latitude & longitude & ListSize\\\\\n",
       " <chr> & <dbl> & <dbl> & <dbl> & <dbl>\\\\\n",
       "\\hline\n",
       "\t Muirhead Medical Centre                        & 10002 & 56.49572 & -3.064575 & 8102\\\\\n",
       "\t The Blue Practice                              & 10017 & 56.37054 & -3.841282 & 6620\\\\\n",
       "\t Aberfeldy And Kinloch Rannoch Medical Practice & 10036 & 56.61865 & -3.869156 & 4758\\\\\n",
       "\t Grove Health Centre                            & 10106 & 56.46878 & -2.881552 & 6075\\\\\n",
       "\t Alyth Health Centre                            & 10125 & 56.61825 & -3.227675 & 4385\\\\\n",
       "\t Arbroath Medical Centre                        & 10182 & 56.55912 & -2.579306 & 9188\\\\\n",
       "\\end{tabular}\n"
      ],
      "text/markdown": [
       "\n",
       "A tibble: 6 × 5\n",
       "\n",
       "| GPPracticeName &lt;chr&gt; | PracticeCode &lt;dbl&gt; | latitude &lt;dbl&gt; | longitude &lt;dbl&gt; | ListSize &lt;dbl&gt; |\n",
       "|---|---|---|---|---|\n",
       "| Muirhead Medical Centre                        | 10002 | 56.49572 | -3.064575 | 8102 |\n",
       "| The Blue Practice                              | 10017 | 56.37054 | -3.841282 | 6620 |\n",
       "| Aberfeldy And Kinloch Rannoch Medical Practice | 10036 | 56.61865 | -3.869156 | 4758 |\n",
       "| Grove Health Centre                            | 10106 | 56.46878 | -2.881552 | 6075 |\n",
       "| Alyth Health Centre                            | 10125 | 56.61825 | -3.227675 | 4385 |\n",
       "| Arbroath Medical Centre                        | 10182 | 56.55912 | -2.579306 | 9188 |\n",
       "\n"
      ],
      "text/plain": [
       "  GPPracticeName                                 PracticeCode latitude\n",
       "1 Muirhead Medical Centre                        10002        56.49572\n",
       "2 The Blue Practice                              10017        56.37054\n",
       "3 Aberfeldy And Kinloch Rannoch Medical Practice 10036        56.61865\n",
       "4 Grove Health Centre                            10106        56.46878\n",
       "5 Alyth Health Centre                            10125        56.61825\n",
       "6 Arbroath Medical Centre                        10182        56.55912\n",
       "  longitude ListSize\n",
       "1 -3.064575 8102    \n",
       "2 -3.841282 6620    \n",
       "3 -3.869156 4758    \n",
       "4 -2.881552 6075    \n",
       "5 -3.227675 4385    \n",
       "6 -2.579306 9188    "
      ]
     },
     "metadata": {},
     "output_type": "display_data"
    }
   ],
   "source": [
    "# Merge practice data and list size data\n",
    "point_size_data <- point_data %>%\n",
    "    full_join(practice_size_data, by = c(\"PracticeCode\" = \"PracticeCode\")) %>%\n",
    "    filter(!is.na(GPPracticeName)) %>%\n",
    "    rename(\"ListSize\" = \"AllAges\") %>%\n",
    "    select(-Postcode)\n",
    "\n",
    "head(point_size_data)"
   ]
  },
  {
   "cell_type": "code",
   "execution_count": 12,
   "id": "3684b353",
   "metadata": {},
   "outputs": [
    {
     "data": {
      "text/html": [
       "<style>\n",
       ".list-inline {list-style: none; margin:0; padding: 0}\n",
       ".list-inline>li {display: inline-block}\n",
       ".list-inline>li:not(:last-child)::after {content: \"\\00b7\"; padding: 0 .5ex}\n",
       "</style>\n",
       "<ol class=list-inline><li>4</li><li>5</li></ol>\n"
      ],
      "text/latex": [
       "\\begin{enumerate*}\n",
       "\\item 4\n",
       "\\item 5\n",
       "\\end{enumerate*}\n"
      ],
      "text/markdown": [
       "1. 4\n",
       "2. 5\n",
       "\n",
       "\n"
      ],
      "text/plain": [
       "[1] 4 5"
      ]
     },
     "metadata": {},
     "output_type": "display_data"
    },
    {
     "data": {
      "text/html": [
       "<table class=\"dataframe\">\n",
       "<caption>A tibble: 4 × 5</caption>\n",
       "<thead>\n",
       "\t<tr><th scope=col>GPPracticeName</th><th scope=col>PracticeCode</th><th scope=col>latitude</th><th scope=col>longitude</th><th scope=col>ListSize</th></tr>\n",
       "\t<tr><th scope=col>&lt;chr&gt;</th><th scope=col>&lt;dbl&gt;</th><th scope=col>&lt;dbl&gt;</th><th scope=col>&lt;dbl&gt;</th><th scope=col>&lt;dbl&gt;</th></tr>\n",
       "</thead>\n",
       "<tbody>\n",
       "\t<tr><td>Whitfield Surgery        </td><td>12901</td><td>NA</td><td>NA</td><td> 4204</td></tr>\n",
       "\t<tr><td>Dunblane Medical Practice</td><td>25243</td><td>NA</td><td>NA</td><td>10603</td></tr>\n",
       "\t<tr><td>Elmbank Group Practice   </td><td>30203</td><td>NA</td><td>NA</td><td>11442</td></tr>\n",
       "\t<tr><td>Ashgrove Group Practice  </td><td>78330</td><td>NA</td><td>NA</td><td> 7266</td></tr>\n",
       "</tbody>\n",
       "</table>\n"
      ],
      "text/latex": [
       "A tibble: 4 × 5\n",
       "\\begin{tabular}{lllll}\n",
       " GPPracticeName & PracticeCode & latitude & longitude & ListSize\\\\\n",
       " <chr> & <dbl> & <dbl> & <dbl> & <dbl>\\\\\n",
       "\\hline\n",
       "\t Whitfield Surgery         & 12901 & NA & NA &  4204\\\\\n",
       "\t Dunblane Medical Practice & 25243 & NA & NA & 10603\\\\\n",
       "\t Elmbank Group Practice    & 30203 & NA & NA & 11442\\\\\n",
       "\t Ashgrove Group Practice   & 78330 & NA & NA &  7266\\\\\n",
       "\\end{tabular}\n"
      ],
      "text/markdown": [
       "\n",
       "A tibble: 4 × 5\n",
       "\n",
       "| GPPracticeName &lt;chr&gt; | PracticeCode &lt;dbl&gt; | latitude &lt;dbl&gt; | longitude &lt;dbl&gt; | ListSize &lt;dbl&gt; |\n",
       "|---|---|---|---|---|\n",
       "| Whitfield Surgery         | 12901 | NA | NA |  4204 |\n",
       "| Dunblane Medical Practice | 25243 | NA | NA | 10603 |\n",
       "| Elmbank Group Practice    | 30203 | NA | NA | 11442 |\n",
       "| Ashgrove Group Practice   | 78330 | NA | NA |  7266 |\n",
       "\n"
      ],
      "text/plain": [
       "  GPPracticeName            PracticeCode latitude longitude ListSize\n",
       "1 Whitfield Surgery         12901        NA       NA         4204   \n",
       "2 Dunblane Medical Practice 25243        NA       NA        10603   \n",
       "3 Elmbank Group Practice    30203        NA       NA        11442   \n",
       "4 Ashgrove Group Practice   78330        NA       NA         7266   "
      ]
     },
     "metadata": {},
     "output_type": "display_data"
    }
   ],
   "source": [
    "na_coords <- point_size_data %>%\n",
    "    filter(is.na(longitude))\n",
    "\n",
    "dim(na_coords)\n",
    "head(na_coords)"
   ]
  },
  {
   "cell_type": "code",
   "execution_count": 13,
   "id": "d08f6b92",
   "metadata": {},
   "outputs": [],
   "source": [
    "# Manually replace missing values\n",
    "\n",
    "point_size_data$latitude[point_size_data$GPPracticeName == \"Whitfield Surgery\"] <- 56.48964\n",
    "point_size_data$longitude[point_size_data$GPPracticeName == \"Whitfield Surgery\"] <- -2.91704\n",
    "\n",
    "point_size_data$latitude[point_size_data$GPPracticeName == \"Dunblane Medical Practice\"] <- 56.18777\n",
    "point_size_data$longitude[point_size_data$GPPracticeName == \"Dunblane Medical Practice\"] <- -3.96845\n",
    "\n",
    "point_size_data$latitude[point_size_data$GPPracticeName == \"Elmbank Group Practice\"] <- 57.15281\n",
    "point_size_data$longitude[point_size_data$GPPracticeName == \"Elmbank Group Practice\"] <- -2.14419\n",
    "\n",
    "point_size_data$latitude[point_size_data$GPPracticeName == \"Ashgrove Group Practice\"] <- 55.87475\n",
    "point_size_data$longitude[point_size_data$GPPracticeName == \"Ashgrove Group Practice\"] <- -3.62148"
   ]
  },
  {
   "cell_type": "code",
   "execution_count": 14,
   "id": "ce766bc2",
   "metadata": {},
   "outputs": [
    {
     "data": {
      "text/html": [
       "<style>\n",
       ".list-inline {list-style: none; margin:0; padding: 0}\n",
       ".list-inline>li {display: inline-block}\n",
       ".list-inline>li:not(:last-child)::after {content: \"\\00b7\"; padding: 0 .5ex}\n",
       "</style>\n",
       "<ol class=list-inline><li>0</li><li>5</li></ol>\n"
      ],
      "text/latex": [
       "\\begin{enumerate*}\n",
       "\\item 0\n",
       "\\item 5\n",
       "\\end{enumerate*}\n"
      ],
      "text/markdown": [
       "1. 0\n",
       "2. 5\n",
       "\n",
       "\n"
      ],
      "text/plain": [
       "[1] 0 5"
      ]
     },
     "metadata": {},
     "output_type": "display_data"
    },
    {
     "data": {
      "text/html": [
       "<table class=\"dataframe\">\n",
       "<caption>A tibble: 0 × 5</caption>\n",
       "<thead>\n",
       "\t<tr><th scope=col>GPPracticeName</th><th scope=col>PracticeCode</th><th scope=col>latitude</th><th scope=col>longitude</th><th scope=col>ListSize</th></tr>\n",
       "\t<tr><th scope=col>&lt;chr&gt;</th><th scope=col>&lt;dbl&gt;</th><th scope=col>&lt;dbl&gt;</th><th scope=col>&lt;dbl&gt;</th><th scope=col>&lt;dbl&gt;</th></tr>\n",
       "</thead>\n",
       "<tbody>\n",
       "</tbody>\n",
       "</table>\n"
      ],
      "text/latex": [
       "A tibble: 0 × 5\n",
       "\\begin{tabular}{lllll}\n",
       " GPPracticeName & PracticeCode & latitude & longitude & ListSize\\\\\n",
       " <chr> & <dbl> & <dbl> & <dbl> & <dbl>\\\\\n",
       "\\hline\n",
       "\\end{tabular}\n"
      ],
      "text/markdown": [
       "\n",
       "A tibble: 0 × 5\n",
       "\n",
       "| GPPracticeName &lt;chr&gt; | PracticeCode &lt;dbl&gt; | latitude &lt;dbl&gt; | longitude &lt;dbl&gt; | ListSize &lt;dbl&gt; |\n",
       "|---|---|---|---|---|\n",
       "\n"
      ],
      "text/plain": [
       "     GPPracticeName PracticeCode latitude longitude ListSize"
      ]
     },
     "metadata": {},
     "output_type": "display_data"
    }
   ],
   "source": [
    "na_coords_check <- point_size_data %>%\n",
    "    filter(is.na(longitude))\n",
    "\n",
    "dim(na_coords_check)\n",
    "head(na_coords_check)"
   ]
  },
  {
   "cell_type": "code",
   "execution_count": 15,
   "id": "5ce25cc8",
   "metadata": {},
   "outputs": [
    {
     "data": {
      "text/html": [
       "<table class=\"dataframe\">\n",
       "<caption>A tibble: 6 × 5</caption>\n",
       "<thead>\n",
       "\t<tr><th scope=col>GPPracticeName</th><th scope=col>PracticeCode</th><th scope=col>latitude</th><th scope=col>longitude</th><th scope=col>ListSize</th></tr>\n",
       "\t<tr><th scope=col>&lt;chr&gt;</th><th scope=col>&lt;dbl&gt;</th><th scope=col>&lt;dbl&gt;</th><th scope=col>&lt;dbl&gt;</th><th scope=col>&lt;dbl&gt;</th></tr>\n",
       "</thead>\n",
       "<tbody>\n",
       "\t<tr><td>Muirhead Medical Centre                       </td><td>10002</td><td>56.49572</td><td>-3.064575</td><td>8102</td></tr>\n",
       "\t<tr><td>The Blue Practice                             </td><td>10017</td><td>56.37054</td><td>-3.841282</td><td>6620</td></tr>\n",
       "\t<tr><td>Aberfeldy And Kinloch Rannoch Medical Practice</td><td>10036</td><td>56.61865</td><td>-3.869156</td><td>4758</td></tr>\n",
       "\t<tr><td>Grove Health Centre                           </td><td>10106</td><td>56.46878</td><td>-2.881552</td><td>6075</td></tr>\n",
       "\t<tr><td>Alyth Health Centre                           </td><td>10125</td><td>56.61825</td><td>-3.227675</td><td>4385</td></tr>\n",
       "\t<tr><td>Arbroath Medical Centre                       </td><td>10182</td><td>56.55912</td><td>-2.579306</td><td>9188</td></tr>\n",
       "</tbody>\n",
       "</table>\n"
      ],
      "text/latex": [
       "A tibble: 6 × 5\n",
       "\\begin{tabular}{lllll}\n",
       " GPPracticeName & PracticeCode & latitude & longitude & ListSize\\\\\n",
       " <chr> & <dbl> & <dbl> & <dbl> & <dbl>\\\\\n",
       "\\hline\n",
       "\t Muirhead Medical Centre                        & 10002 & 56.49572 & -3.064575 & 8102\\\\\n",
       "\t The Blue Practice                              & 10017 & 56.37054 & -3.841282 & 6620\\\\\n",
       "\t Aberfeldy And Kinloch Rannoch Medical Practice & 10036 & 56.61865 & -3.869156 & 4758\\\\\n",
       "\t Grove Health Centre                            & 10106 & 56.46878 & -2.881552 & 6075\\\\\n",
       "\t Alyth Health Centre                            & 10125 & 56.61825 & -3.227675 & 4385\\\\\n",
       "\t Arbroath Medical Centre                        & 10182 & 56.55912 & -2.579306 & 9188\\\\\n",
       "\\end{tabular}\n"
      ],
      "text/markdown": [
       "\n",
       "A tibble: 6 × 5\n",
       "\n",
       "| GPPracticeName &lt;chr&gt; | PracticeCode &lt;dbl&gt; | latitude &lt;dbl&gt; | longitude &lt;dbl&gt; | ListSize &lt;dbl&gt; |\n",
       "|---|---|---|---|---|\n",
       "| Muirhead Medical Centre                        | 10002 | 56.49572 | -3.064575 | 8102 |\n",
       "| The Blue Practice                              | 10017 | 56.37054 | -3.841282 | 6620 |\n",
       "| Aberfeldy And Kinloch Rannoch Medical Practice | 10036 | 56.61865 | -3.869156 | 4758 |\n",
       "| Grove Health Centre                            | 10106 | 56.46878 | -2.881552 | 6075 |\n",
       "| Alyth Health Centre                            | 10125 | 56.61825 | -3.227675 | 4385 |\n",
       "| Arbroath Medical Centre                        | 10182 | 56.55912 | -2.579306 | 9188 |\n",
       "\n"
      ],
      "text/plain": [
       "  GPPracticeName                                 PracticeCode latitude\n",
       "1 Muirhead Medical Centre                        10002        56.49572\n",
       "2 The Blue Practice                              10017        56.37054\n",
       "3 Aberfeldy And Kinloch Rannoch Medical Practice 10036        56.61865\n",
       "4 Grove Health Centre                            10106        56.46878\n",
       "5 Alyth Health Centre                            10125        56.61825\n",
       "6 Arbroath Medical Centre                        10182        56.55912\n",
       "  longitude ListSize\n",
       "1 -3.064575 8102    \n",
       "2 -3.841282 6620    \n",
       "3 -3.869156 4758    \n",
       "4 -2.881552 6075    \n",
       "5 -3.227675 4385    \n",
       "6 -2.579306 9188    "
      ]
     },
     "metadata": {},
     "output_type": "display_data"
    }
   ],
   "source": [
    "head(point_size_data)"
   ]
  },
  {
   "cell_type": "code",
   "execution_count": 16,
   "id": "accaffab",
   "metadata": {},
   "outputs": [],
   "source": [
    "# Write dataset to file\n",
    "write_csv(point_size_data, \"practice_locations_longlat.csv\")"
   ]
  },
  {
   "cell_type": "code",
   "execution_count": 17,
   "id": "70f9369f",
   "metadata": {},
   "outputs": [],
   "source": [
    "CRSlonglat <- \n",
    "    \"+proj=longlat +datum=WGS84 +no_defs +ellps=WGS84 +towgs84=0,0,0\"\n",
    "\n",
    "locations_sf <- point_size_data |>\n",
    "    sf::st_as_sf(\n",
    "      coords = c(\"longitude\", \"latitude\"),\n",
    "      crs = CRSlonglat\n",
    "    )"
   ]
  },
  {
   "cell_type": "code",
   "execution_count": 18,
   "id": "e01a21fa",
   "metadata": {},
   "outputs": [
    {
     "name": "stderr",
     "output_type": "stream",
     "text": [
      "ERROR while rich displaying an object: Error in loadNamespace(x): there is no package called ‘geojsonio’\n",
      "\n",
      "Traceback:\n",
      "1. tryCatch(withCallingHandlers({\n",
      " .     if (!mime %in% names(repr::mime2repr)) \n",
      " .         stop(\"No repr_* for mimetype \", mime, \" in repr::mime2repr\")\n",
      " .     rpr <- repr::mime2repr[[mime]](obj)\n",
      " .     if (is.null(rpr)) \n",
      " .         return(NULL)\n",
      " .     prepare_content(is.raw(rpr), rpr)\n",
      " . }, error = error_handler), error = outer_handler)\n",
      "2. tryCatchList(expr, classes, parentenv, handlers)\n",
      "3. tryCatchOne(expr, names, parentenv, handlers[[1L]])\n",
      "4. doTryCatch(return(expr), name, parentenv, handler)\n",
      "5. withCallingHandlers({\n",
      " .     if (!mime %in% names(repr::mime2repr)) \n",
      " .         stop(\"No repr_* for mimetype \", mime, \" in repr::mime2repr\")\n",
      " .     rpr <- repr::mime2repr[[mime]](obj)\n",
      " .     if (is.null(rpr)) \n",
      " .         return(NULL)\n",
      " .     prepare_content(is.raw(rpr), rpr)\n",
      " . }, error = error_handler)\n",
      "6. repr::mime2repr[[mime]](obj)\n",
      "7. repr_geojson.sf(obj)\n",
      "8. repr_geojson(geojsonio::geojson_list(obj), ...)\n",
      "9. loadNamespace(x)\n",
      "10. withRestarts(stop(cond), retry_loadNamespace = function() NULL)\n",
      "11. withOneRestart(expr, restarts[[1L]])\n",
      "12. doWithOneRestart(return(expr), restart)\n"
     ]
    },
    {
     "data": {
      "text/html": [
       "<table class=\"dataframe\">\n",
       "<caption>A sf: 6 × 4</caption>\n",
       "<thead>\n",
       "\t<tr><th scope=col>GPPracticeName</th><th scope=col>PracticeCode</th><th scope=col>ListSize</th><th scope=col>geometry</th></tr>\n",
       "\t<tr><th scope=col>&lt;chr&gt;</th><th scope=col>&lt;dbl&gt;</th><th scope=col>&lt;dbl&gt;</th><th scope=col>&lt;POINT [°]&gt;</th></tr>\n",
       "</thead>\n",
       "<tbody>\n",
       "\t<tr><td>Muirhead Medical Centre                       </td><td>10002</td><td>8102</td><td>POINT (-3.064575 56.49572)</td></tr>\n",
       "\t<tr><td>The Blue Practice                             </td><td>10017</td><td>6620</td><td>POINT (-3.841282 56.37054)</td></tr>\n",
       "\t<tr><td>Aberfeldy And Kinloch Rannoch Medical Practice</td><td>10036</td><td>4758</td><td>POINT (-3.869156 56.61865)</td></tr>\n",
       "\t<tr><td>Grove Health Centre                           </td><td>10106</td><td>6075</td><td>POINT (-2.881552 56.46878)</td></tr>\n",
       "\t<tr><td>Alyth Health Centre                           </td><td>10125</td><td>4385</td><td>POINT (-3.227675 56.61825)</td></tr>\n",
       "\t<tr><td>Arbroath Medical Centre                       </td><td>10182</td><td>9188</td><td>POINT (-2.579306 56.55912)</td></tr>\n",
       "</tbody>\n",
       "</table>\n"
      ],
      "text/latex": [
       "A sf: 6 × 4\n",
       "\\begin{tabular}{llll}\n",
       " GPPracticeName & PracticeCode & ListSize & geometry\\\\\n",
       " <chr> & <dbl> & <dbl> & <POINT {[}°{]}>\\\\\n",
       "\\hline\n",
       "\t Muirhead Medical Centre                        & 10002 & 8102 & POINT (-3.064575 56.49572)\\\\\n",
       "\t The Blue Practice                              & 10017 & 6620 & POINT (-3.841282 56.37054)\\\\\n",
       "\t Aberfeldy And Kinloch Rannoch Medical Practice & 10036 & 4758 & POINT (-3.869156 56.61865)\\\\\n",
       "\t Grove Health Centre                            & 10106 & 6075 & POINT (-2.881552 56.46878)\\\\\n",
       "\t Alyth Health Centre                            & 10125 & 4385 & POINT (-3.227675 56.61825)\\\\\n",
       "\t Arbroath Medical Centre                        & 10182 & 9188 & POINT (-2.579306 56.55912)\\\\\n",
       "\\end{tabular}\n"
      ],
      "text/markdown": [
       "\n",
       "A sf: 6 × 4\n",
       "\n",
       "| GPPracticeName &lt;chr&gt; | PracticeCode &lt;dbl&gt; | ListSize &lt;dbl&gt; | geometry &lt;POINT [°]&gt; |\n",
       "|---|---|---|---|\n",
       "| Muirhead Medical Centre                        | 10002 | 8102 | POINT (-3.064575 56.49572) |\n",
       "| The Blue Practice                              | 10017 | 6620 | POINT (-3.841282 56.37054) |\n",
       "| Aberfeldy And Kinloch Rannoch Medical Practice | 10036 | 4758 | POINT (-3.869156 56.61865) |\n",
       "| Grove Health Centre                            | 10106 | 6075 | POINT (-2.881552 56.46878) |\n",
       "| Alyth Health Centre                            | 10125 | 4385 | POINT (-3.227675 56.61825) |\n",
       "| Arbroath Medical Centre                        | 10182 | 9188 | POINT (-2.579306 56.55912) |\n",
       "\n"
      ],
      "text/plain": [
       "  GPPracticeName                                 PracticeCode ListSize\n",
       "1 Muirhead Medical Centre                        10002        8102    \n",
       "2 The Blue Practice                              10017        6620    \n",
       "3 Aberfeldy And Kinloch Rannoch Medical Practice 10036        4758    \n",
       "4 Grove Health Centre                            10106        6075    \n",
       "5 Alyth Health Centre                            10125        4385    \n",
       "6 Arbroath Medical Centre                        10182        9188    \n",
       "  geometry                  \n",
       "1 POINT (-3.064575 56.49572)\n",
       "2 POINT (-3.841282 56.37054)\n",
       "3 POINT (-3.869156 56.61865)\n",
       "4 POINT (-2.881552 56.46878)\n",
       "5 POINT (-3.227675 56.61825)\n",
       "6 POINT (-2.579306 56.55912)"
      ]
     },
     "metadata": {},
     "output_type": "display_data"
    }
   ],
   "source": [
    "head(locations_sf)"
   ]
  },
  {
   "cell_type": "code",
   "execution_count": 19,
   "id": "d5f3bf89",
   "metadata": {},
   "outputs": [
    {
     "data": {
      "image/png": "[encoded data removed]",
      "text/plain": [
       "plot without title"
      ]
     },
     "metadata": {
      "image/png": {
       "height": 420,
       "width": 420
      }
     },
     "output_type": "display_data"
    }
   ],
   "source": [
    "plot(st_geometry(locations_sf), pch=16, col=\"navy\")"
   ]
  },
  {
   "cell_type": "code",
   "execution_count": 20,
   "id": "79f8979d",
   "metadata": {},
   "outputs": [
    {
     "data": {
      "image/png": "[encoded data removed]",
      "text/plain": [
       "plot without title"
      ]
     },
     "metadata": {
      "image/png": {
       "height": 420,
       "width": 420
      }
     },
     "output_type": "display_data"
    }
   ],
   "source": [
    "# Create quintiles based on ListSize\n",
    "locations_sf$ListSizeQuintile <- cut(locations_sf$ListSize, breaks = 3, labels = FALSE)\n",
    "\n",
    "# Plot with quintile-based sizes and 50% opacity\n",
    "plot(\n",
    "  st_geometry(locations_sf),\n",
    "  pch = 16,\n",
    "  col = \"navy\",\n",
    "  cex = locations_sf$ListSizeQuintile / 3,  # Divide by the number of categories (quintiles)\n",
    "  bg = adjustcolor(\"navy\", alpha.f = 0.7)  # Set opacity\n",
    ")\n",
    "\n",
    "# Add a legend\n",
    "legend(\"topright\", legend = levels(factor(locations_sf$ListSizeQuintile)),\n",
    "       title = \"List Size Tertiles\", pch = 16, col = \"navy\", bty = \"n\", cex = 0.8)"
   ]
  },
  {
   "cell_type": "code",
   "execution_count": 21,
   "id": "d6b59c6c",
   "metadata": {},
   "outputs": [
    {
     "data": {
      "image/png": "[encoded data removed]",
      "text/plain": [
       "plot without title"
      ]
     },
     "metadata": {
      "image/png": {
       "height": 420,
       "width": 420
      }
     },
     "output_type": "display_data"
    }
   ],
   "source": [
    "library(ggplot2)\n",
    "\n",
    "# Boxplot of ListSize\n",
    "ggplot(locations_sf, aes(y = ListSize)) +\n",
    "  geom_boxplot() +\n",
    "  labs(title = \"Boxplot of ListSize\")"
   ]
  },
  {
   "cell_type": "code",
   "execution_count": 22,
   "id": "f73aa7bd",
   "metadata": {},
   "outputs": [
    {
     "data": {
      "image/png": "[encoded data removed]",
      "text/plain": [
       "plot without title"
      ]
     },
     "metadata": {
      "image/png": {
       "height": 420,
       "width": 420
      }
     },
     "output_type": "display_data"
    }
   ],
   "source": [
    "# Calculate the lower and upper bounds using IQR\n",
    "lower_bound <- quantile(locations_sf$ListSize, 0.25) - 1.5 * IQR(locations_sf$ListSize)\n",
    "upper_bound <- quantile(locations_sf$ListSize, 0.75) + 1.5 * IQR(locations_sf$ListSize)\n",
    "\n",
    "# Cap values outside the bounds\n",
    "locations_sf$ListSize_capped_iqr <- pmin(pmax(locations_sf$ListSize, lower_bound), upper_bound)\n",
    "\n",
    "# Boxplot of ListSize_capped_iqr\n",
    "ggplot(locations_sf, aes(y = ListSize_capped_iqr)) +\n",
    "  geom_boxplot() +\n",
    "  labs(title = \"Boxplot of ListSize Capped within IQR\")"
   ]
  },
  {
   "cell_type": "code",
   "execution_count": 23,
   "id": "641f0cd5",
   "metadata": {},
   "outputs": [
    {
     "data": {
      "image/png": "[encoded data removed]",
      "text/plain": [
       "plot without title"
      ]
     },
     "metadata": {
      "image/png": {
       "height": 420,
       "width": 420
      }
     },
     "output_type": "display_data"
    }
   ],
   "source": [
    "# Create quintiles based on ListSize_capped\n",
    "locations_sf$ListSizeQuintile <- cut(locations_sf$ListSize_capped_iqr, breaks = 3, labels = FALSE)\n",
    "\n",
    "# Plot with quintile-based sizes and 50% opacity\n",
    "plot(\n",
    "  st_geometry(locations_sf),\n",
    "  pch = 16,\n",
    "  col = \"navy\",\n",
    "  cex = locations_sf$ListSizeQuintile / 3,  # Divide by the number of categories (quintiles)\n",
    "  bg = adjustcolor(\"navy\", alpha.f = 0.7)  # Set opacity\n",
    ")"
   ]
  },
  {
   "cell_type": "code",
   "execution_count": 24,
   "id": "c4ddef00",
   "metadata": {},
   "outputs": [
    {
     "name": "stderr",
     "output_type": "stream",
     "text": [
      "Updating HTML index of packages in '.Library'\n",
      "\n",
      "Making 'packages.html' ...\n",
      " done\n",
      "\n"
     ]
    },
    {
     "ename": "ERROR",
     "evalue": "Error in addProviderTiles(., \"OpenStreetMap.Mapnik\"): could not find function \"addProviderTiles\"\n",
     "output_type": "error",
     "traceback": [
      "Error in addProviderTiles(., \"OpenStreetMap.Mapnik\"): could not find function \"addProviderTiles\"\nTraceback:\n",
      "1. leaflet() %>% setView(lng = -4.2026, lat = 56.4907, zoom = 6) %>% \n .     addProviderTiles(\"OpenStreetMap.Mapnik\")"
     ]
    }
   ],
   "source": [
    "install.packages(\"htmlwidgets\")\n",
    "library(htmlwidgets)\n",
    "\n",
    "# Create the leaflet map\n",
    "map <- leaflet() %>%\n",
    "  setView(lng = -4.2026, lat = 56.4907, zoom = 6) %>%\n",
    "  addProviderTiles(\"OpenStreetMap.Mapnik\")\n",
    "\n",
    "# Save the map as an HTML file\n",
    "saveWidget(map, file = \"scotland_map.html\")"
   ]
  },
  {
   "cell_type": "code",
   "execution_count": null,
   "id": "2e9ea5cb",
   "metadata": {},
   "outputs": [],
   "source": [
    "head(locations_sf)"
   ]
  },
  {
   "cell_type": "code",
   "execution_count": null,
   "id": "addac7f6",
   "metadata": {},
   "outputs": [],
   "source": [
    "# Write dataset to file\n",
    "write_csv(locations_sf, \"practice_locations.csv\")"
   ]
  },
  {
   "cell_type": "code",
   "execution_count": null,
   "id": "58e88ec7",
   "metadata": {},
   "outputs": [],
   "source": []
  }
 ],
 "metadata": {
  "kernelspec": {
   "display_name": "R with Stan",
   "language": "R",
   "name": "ir"
  },
  "language_info": {
   "codemirror_mode": "r",
   "file_extension": ".r",
   "mimetype": "text/x-r-source",
   "name": "R",
   "pygments_lexer": "r",
   "version": "4.2.2"
  }
 },
 "nbformat": 4,
 "nbformat_minor": 5
}
