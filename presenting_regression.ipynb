{
 "cells": [
  {
   "cell_type": "code",
   "execution_count": 1,
   "id": "aa25b9f5",
   "metadata": {
    "vscode": {
     "languageId": "r"
    }
   },
   "outputs": [
    {
     "name": "stderr",
     "output_type": "stream",
     "text": [
      "Updating HTML index of packages in '.Library'\n",
      "\n",
      "Making 'packages.html' ...\n",
      " done\n",
      "\n",
      "Updating HTML index of packages in '.Library'\n",
      "\n",
      "Making 'packages.html' ...\n",
      " done\n",
      "\n",
      "Updating HTML index of packages in '.Library'\n",
      "\n",
      "Making 'packages.html' ...\n",
      " done\n",
      "\n",
      "Updating HTML index of packages in '.Library'\n",
      "\n",
      "Making 'packages.html' ...\n",
      " done\n",
      "\n",
      "Updating HTML index of packages in '.Library'\n",
      "\n",
      "Making 'packages.html' ...\n",
      " done\n",
      "\n",
      "Updating HTML index of packages in '.Library'\n",
      "\n",
      "Making 'packages.html' ...\n",
      " done\n",
      "\n",
      "Updating HTML index of packages in '.Library'\n",
      "\n",
      "Making 'packages.html' ...\n",
      " done\n",
      "\n"
     ]
    }
   ],
   "source": [
    "install.packages(\"jtools\")\n",
    "install.packages(\"huxtable\")\n",
    "install.packages(\"IRdisplay\")\n",
    "install.packages(\"flextable\")\n",
    "install.packages(\"dotwhisker\")\n",
    "install.packages(\"table1\")\n",
    "install.packages(\"modelsummary\")"
   ]
  },
  {
   "cell_type": "code",
   "execution_count": 2,
   "id": "0073230a",
   "metadata": {
    "vscode": {
     "languageId": "r"
    }
   },
   "outputs": [
    {
     "name": "stderr",
     "output_type": "stream",
     "text": [
      "Warning message in system(\"timedatectl\", intern = TRUE):\n",
      "“running command 'timedatectl' had status 1”\n",
      "── \u001b[1mAttaching packages\u001b[22m ─────────────────────────────────────── tidyverse 1.3.2 ──\n",
      "\u001b[32m✔\u001b[39m \u001b[34mggplot2\u001b[39m 3.4.3      \u001b[32m✔\u001b[39m \u001b[34mpurrr  \u001b[39m 1.0.1 \n",
      "\u001b[32m✔\u001b[39m \u001b[34mtibble \u001b[39m 3.2.1      \u001b[32m✔\u001b[39m \u001b[34mdplyr  \u001b[39m 1.0.10\n",
      "\u001b[32m✔\u001b[39m \u001b[34mtidyr  \u001b[39m 1.3.0      \u001b[32m✔\u001b[39m \u001b[34mstringr\u001b[39m 1.5.0 \n",
      "\u001b[32m✔\u001b[39m \u001b[34mreadr  \u001b[39m 2.1.4      \u001b[32m✔\u001b[39m \u001b[34mforcats\u001b[39m 1.0.0 \n",
      "Warning message:\n",
      "“package ‘ggplot2’ was built under R version 4.2.3”\n",
      "Warning message:\n",
      "“package ‘tibble’ was built under R version 4.2.3”\n",
      "Warning message:\n",
      "“package ‘tidyr’ was built under R version 4.2.3”\n",
      "Warning message:\n",
      "“package ‘readr’ was built under R version 4.2.3”\n",
      "Warning message:\n",
      "“package ‘purrr’ was built under R version 4.2.3”\n",
      "Warning message:\n",
      "“package ‘stringr’ was built under R version 4.2.3”\n",
      "Warning message:\n",
      "“package ‘forcats’ was built under R version 4.2.3”\n",
      "── \u001b[1mConflicts\u001b[22m ────────────────────────────────────────── tidyverse_conflicts() ──\n",
      "\u001b[31m✖\u001b[39m \u001b[34mdplyr\u001b[39m::\u001b[32mfilter()\u001b[39m masks \u001b[34mstats\u001b[39m::filter()\n",
      "\u001b[31m✖\u001b[39m \u001b[34mdplyr\u001b[39m::\u001b[32mlag()\u001b[39m    masks \u001b[34mstats\u001b[39m::lag()\n",
      "\n",
      "Attaching package: ‘huxtable’\n",
      "\n",
      "\n",
      "The following object is masked from ‘package:dplyr’:\n",
      "\n",
      "    add_rownames\n",
      "\n",
      "\n",
      "The following object is masked from ‘package:ggplot2’:\n",
      "\n",
      "    theme_grey\n",
      "\n",
      "\n",
      "\n",
      "Attaching package: ‘flextable’\n",
      "\n",
      "\n",
      "The following objects are masked from ‘package:huxtable’:\n",
      "\n",
      "    align, as_flextable, bold, font, height, italic, set_caption,\n",
      "    valign, width\n",
      "\n",
      "\n",
      "The following object is masked from ‘package:jtools’:\n",
      "\n",
      "    theme_apa\n",
      "\n",
      "\n",
      "The following object is masked from ‘package:purrr’:\n",
      "\n",
      "    compose\n",
      "\n",
      "\n",
      "\n",
      "Attaching package: ‘table1’\n",
      "\n",
      "\n",
      "The following objects are masked from ‘package:huxtable’:\n",
      "\n",
      "    label, label<-\n",
      "\n",
      "\n",
      "The following objects are masked from ‘package:base’:\n",
      "\n",
      "    units, units<-\n",
      "\n",
      "\n"
     ]
    }
   ],
   "source": [
    "library(tidyverse)\n",
    "library(jtools)\n",
    "library(huxtable)\n",
    "library(IRdisplay)\n",
    "library(flextable)\n",
    "library(dotwhisker)\n",
    "library(table1)\n",
    "library(modelsummary)"
   ]
  },
  {
   "cell_type": "code",
   "execution_count": 3,
   "id": "7ec5cc74",
   "metadata": {
    "vscode": {
     "languageId": "r"
    }
   },
   "outputs": [
    {
     "name": "stderr",
     "output_type": "stream",
     "text": [
      "\u001b[1mRows: \u001b[22m\u001b[34m893\u001b[39m \u001b[1mColumns: \u001b[22m\u001b[34m11\u001b[39m\n",
      "\u001b[36m──\u001b[39m \u001b[1mColumn specification\u001b[22m \u001b[36m────────────────────────────────────────────────────────\u001b[39m\n",
      "\u001b[1mDelimiter:\u001b[22m \",\"\n",
      "\u001b[31mchr\u001b[39m (2): urban_rural, DataZone\n",
      "\u001b[32mdbl\u001b[39m (9): q1_positive, q2_positive, q3_positive, income_quintile, age_distrib...\n",
      "\n",
      "\u001b[36mℹ\u001b[39m Use `spec()` to retrieve the full column specification for this data.\n",
      "\u001b[36mℹ\u001b[39m Specify the column types or set `show_col_types = FALSE` to quiet this message.\n"
     ]
    }
   ],
   "source": [
    "regression_data <- read_csv(\"../data/regression_data.csv\")"
   ]
  },
  {
   "cell_type": "code",
   "execution_count": 4,
   "id": "57b05337",
   "metadata": {
    "vscode": {
     "languageId": "r"
    }
   },
   "outputs": [
    {
     "data": {
      "text/html": [
       "<table class=\"dataframe\">\n",
       "<caption>A tibble: 6 × 11</caption>\n",
       "<thead>\n",
       "\t<tr><th scope=col>q1_positive</th><th scope=col>q2_positive</th><th scope=col>q3_positive</th><th scope=col>income_quintile</th><th scope=col>age_distribution</th><th scope=col>minority_pop</th><th scope=col>employment_percentage</th><th scope=col>gender_distribution</th><th scope=col>urban_rural</th><th scope=col>employment_rate</th><th scope=col>DataZone</th></tr>\n",
       "\t<tr><th scope=col>&lt;dbl&gt;</th><th scope=col>&lt;dbl&gt;</th><th scope=col>&lt;dbl&gt;</th><th scope=col>&lt;dbl&gt;</th><th scope=col>&lt;dbl&gt;</th><th scope=col>&lt;dbl&gt;</th><th scope=col>&lt;dbl&gt;</th><th scope=col>&lt;dbl&gt;</th><th scope=col>&lt;chr&gt;</th><th scope=col>&lt;dbl&gt;</th><th scope=col>&lt;chr&gt;</th></tr>\n",
       "</thead>\n",
       "<tbody>\n",
       "\t<tr><td>73.31</td><td>97.44</td><td>91.45</td><td>4</td><td>71.12</td><td> 8.46</td><td>77.1</td><td>50.11</td><td>Urban</td><td>0.06</td><td>S01012126</td></tr>\n",
       "\t<tr><td>78.51</td><td>93.93</td><td>87.44</td><td>1</td><td>69.95</td><td> 9.06</td><td>69.8</td><td>48.86</td><td>Urban</td><td>0.31</td><td>S01010055</td></tr>\n",
       "\t<tr><td>87.11</td><td>95.03</td><td>98.06</td><td>3</td><td>60.53</td><td> 9.93</td><td>75.3</td><td>49.52</td><td>Rural</td><td>0.07</td><td>S01012014</td></tr>\n",
       "\t<tr><td>81.81</td><td>92.53</td><td>94.82</td><td>4</td><td>64.95</td><td> 3.42</td><td>74.8</td><td>51.36</td><td>Rural</td><td>0.04</td><td>S01013014</td></tr>\n",
       "\t<tr><td>25.34</td><td>53.32</td><td>67.33</td><td>4</td><td>61.22</td><td> 7.13</td><td>75.3</td><td>49.47</td><td>Rural</td><td>0.05</td><td>S01011052</td></tr>\n",
       "\t<tr><td>73.95</td><td>70.04</td><td>88.54</td><td>1</td><td>82.37</td><td>14.25</td><td>69.8</td><td>49.25</td><td>Urban</td><td>0.15</td><td>S01010386</td></tr>\n",
       "</tbody>\n",
       "</table>\n"
      ],
      "text/latex": [
       "A tibble: 6 × 11\n",
       "\\begin{tabular}{lllllllllll}\n",
       " q1\\_positive & q2\\_positive & q3\\_positive & income\\_quintile & age\\_distribution & minority\\_pop & employment\\_percentage & gender\\_distribution & urban\\_rural & employment\\_rate & DataZone\\\\\n",
       " <dbl> & <dbl> & <dbl> & <dbl> & <dbl> & <dbl> & <dbl> & <dbl> & <chr> & <dbl> & <chr>\\\\\n",
       "\\hline\n",
       "\t 73.31 & 97.44 & 91.45 & 4 & 71.12 &  8.46 & 77.1 & 50.11 & Urban & 0.06 & S01012126\\\\\n",
       "\t 78.51 & 93.93 & 87.44 & 1 & 69.95 &  9.06 & 69.8 & 48.86 & Urban & 0.31 & S01010055\\\\\n",
       "\t 87.11 & 95.03 & 98.06 & 3 & 60.53 &  9.93 & 75.3 & 49.52 & Rural & 0.07 & S01012014\\\\\n",
       "\t 81.81 & 92.53 & 94.82 & 4 & 64.95 &  3.42 & 74.8 & 51.36 & Rural & 0.04 & S01013014\\\\\n",
       "\t 25.34 & 53.32 & 67.33 & 4 & 61.22 &  7.13 & 75.3 & 49.47 & Rural & 0.05 & S01011052\\\\\n",
       "\t 73.95 & 70.04 & 88.54 & 1 & 82.37 & 14.25 & 69.8 & 49.25 & Urban & 0.15 & S01010386\\\\\n",
       "\\end{tabular}\n"
      ],
      "text/markdown": [
       "\n",
       "A tibble: 6 × 11\n",
       "\n",
       "| q1_positive &lt;dbl&gt; | q2_positive &lt;dbl&gt; | q3_positive &lt;dbl&gt; | income_quintile &lt;dbl&gt; | age_distribution &lt;dbl&gt; | minority_pop &lt;dbl&gt; | employment_percentage &lt;dbl&gt; | gender_distribution &lt;dbl&gt; | urban_rural &lt;chr&gt; | employment_rate &lt;dbl&gt; | DataZone &lt;chr&gt; |\n",
       "|---|---|---|---|---|---|---|---|---|---|---|\n",
       "| 73.31 | 97.44 | 91.45 | 4 | 71.12 |  8.46 | 77.1 | 50.11 | Urban | 0.06 | S01012126 |\n",
       "| 78.51 | 93.93 | 87.44 | 1 | 69.95 |  9.06 | 69.8 | 48.86 | Urban | 0.31 | S01010055 |\n",
       "| 87.11 | 95.03 | 98.06 | 3 | 60.53 |  9.93 | 75.3 | 49.52 | Rural | 0.07 | S01012014 |\n",
       "| 81.81 | 92.53 | 94.82 | 4 | 64.95 |  3.42 | 74.8 | 51.36 | Rural | 0.04 | S01013014 |\n",
       "| 25.34 | 53.32 | 67.33 | 4 | 61.22 |  7.13 | 75.3 | 49.47 | Rural | 0.05 | S01011052 |\n",
       "| 73.95 | 70.04 | 88.54 | 1 | 82.37 | 14.25 | 69.8 | 49.25 | Urban | 0.15 | S01010386 |\n",
       "\n"
      ],
      "text/plain": [
       "  q1_positive q2_positive q3_positive income_quintile age_distribution\n",
       "1 73.31       97.44       91.45       4               71.12           \n",
       "2 78.51       93.93       87.44       1               69.95           \n",
       "3 87.11       95.03       98.06       3               60.53           \n",
       "4 81.81       92.53       94.82       4               64.95           \n",
       "5 25.34       53.32       67.33       4               61.22           \n",
       "6 73.95       70.04       88.54       1               82.37           \n",
       "  minority_pop employment_percentage gender_distribution urban_rural\n",
       "1  8.46        77.1                  50.11               Urban      \n",
       "2  9.06        69.8                  48.86               Urban      \n",
       "3  9.93        75.3                  49.52               Rural      \n",
       "4  3.42        74.8                  51.36               Rural      \n",
       "5  7.13        75.3                  49.47               Rural      \n",
       "6 14.25        69.8                  49.25               Urban      \n",
       "  employment_rate DataZone \n",
       "1 0.06            S01012126\n",
       "2 0.31            S01010055\n",
       "3 0.07            S01012014\n",
       "4 0.04            S01013014\n",
       "5 0.05            S01011052\n",
       "6 0.15            S01010386"
      ]
     },
     "metadata": {},
     "output_type": "display_data"
    }
   ],
   "source": [
    "head(regression_data)"
   ]
  },
  {
   "cell_type": "code",
   "execution_count": 5,
   "id": "f7ff8b9c",
   "metadata": {
    "vscode": {
     "languageId": "r"
    }
   },
   "outputs": [
    {
     "data": {
      "text/plain": [
       "\n",
       "Call:\n",
       "lm(formula = q1_positive ~ as.factor(income_quintile), data = regression_data, \n",
       "    na.action = na.exclude)\n",
       "\n",
       "Residuals:\n",
       "    Min      1Q  Median      3Q     Max \n",
       "-53.041  -9.491   1.549  10.919  34.200 \n",
       "\n",
       "Coefficients:\n",
       "                            Estimate Std. Error t value Pr(>|t|)    \n",
       "(Intercept)                 65.85614    1.01860  64.654  < 2e-16 ***\n",
       "as.factor(income_quintile)2 -0.05653    1.47660  -0.038 0.969472    \n",
       "as.factor(income_quintile)3  6.21988    1.46039   4.259 2.27e-05 ***\n",
       "as.factor(income_quintile)4  8.18535    1.56386   5.234 2.07e-07 ***\n",
       "as.factor(income_quintile)5  8.03332    2.05774   3.904 0.000102 ***\n",
       "---\n",
       "Signif. codes:  0 ‘***’ 0.001 ‘**’ 0.01 ‘*’ 0.05 ‘.’ 0.1 ‘ ’ 1\n",
       "\n",
       "Residual standard error: 15.38 on 888 degrees of freedom\n",
       "Multiple R-squared:  0.05482,\tAdjusted R-squared:  0.05056 \n",
       "F-statistic: 12.88 on 4 and 888 DF,  p-value: 3.408e-10\n"
      ]
     },
     "metadata": {},
     "output_type": "display_data"
    },
    {
     "data": {
      "text/plain": [
       "\n",
       "Call:\n",
       "lm(formula = q2_positive ~ as.factor(income_quintile), data = regression_data, \n",
       "    na.action = na.exclude)\n",
       "\n",
       "Residuals:\n",
       "    Min      1Q  Median      3Q     Max \n",
       "-44.118  -5.361   2.213   7.443  15.222 \n",
       "\n",
       "Coefficients:\n",
       "                            Estimate Std. Error t value Pr(>|t|)    \n",
       "(Intercept)                  84.7779     0.6582 128.809  < 2e-16 ***\n",
       "as.factor(income_quintile)2   0.3487     0.9541   0.365  0.71487    \n",
       "as.factor(income_quintile)3   2.4818     0.9436   2.630  0.00869 ** \n",
       "as.factor(income_quintile)4   1.8429     1.0105   1.824  0.06852 .  \n",
       "as.factor(income_quintile)5   1.4178     1.3296   1.066  0.28656    \n",
       "---\n",
       "Signif. codes:  0 ‘***’ 0.001 ‘**’ 0.01 ‘*’ 0.05 ‘.’ 0.1 ‘ ’ 1\n",
       "\n",
       "Residual standard error: 9.938 on 888 degrees of freedom\n",
       "Multiple R-squared:  0.0102,\tAdjusted R-squared:  0.005738 \n",
       "F-statistic: 2.287 on 4 and 888 DF,  p-value: 0.05837\n"
      ]
     },
     "metadata": {},
     "output_type": "display_data"
    },
    {
     "data": {
      "text/plain": [
       "\n",
       "Call:\n",
       "lm(formula = q3_positive ~ as.factor(income_quintile), data = regression_data, \n",
       "    na.action = na.exclude)\n",
       "\n",
       "Residuals:\n",
       "    Min      1Q  Median      3Q     Max \n",
       "-33.083  -3.789   1.114   4.874  15.221 \n",
       "\n",
       "Coefficients:\n",
       "                            Estimate Std. Error t value Pr(>|t|)    \n",
       "(Intercept)                  84.7789     0.4784 177.223  < 2e-16 ***\n",
       "as.factor(income_quintile)2   0.7960     0.6935   1.148    0.251    \n",
       "as.factor(income_quintile)3   3.0972     0.6859   4.516 7.16e-06 ***\n",
       "as.factor(income_quintile)4   4.3539     0.7344   5.928 4.38e-09 ***\n",
       "as.factor(income_quintile)5   4.6814     0.9664   4.844 1.50e-06 ***\n",
       "---\n",
       "Signif. codes:  0 ‘***’ 0.001 ‘**’ 0.01 ‘*’ 0.05 ‘.’ 0.1 ‘ ’ 1\n",
       "\n",
       "Residual standard error: 7.223 on 888 degrees of freedom\n",
       "Multiple R-squared:  0.05924,\tAdjusted R-squared:  0.055 \n",
       "F-statistic: 13.98 on 4 and 888 DF,  p-value: 4.588e-11\n"
      ]
     },
     "metadata": {},
     "output_type": "display_data"
    }
   ],
   "source": [
    "# Run simple linear regression\n",
    "\n",
    "# Satisfaction Linear Regression Data\n",
    "satisfaction_linear_regression <- lm(q1_positive ~ as.factor(income_quintile), data = regression_data, na.action = na.exclude)\n",
    "summary(satisfaction_linear_regression)\n",
    "\n",
    "# Access Linear Regression Data\n",
    "access_linear_regression <- lm(q2_positive ~ as.factor(income_quintile), data = regression_data, na.action = na.exclude)\n",
    "summary(access_linear_regression)\n",
    "\n",
    "# Communication Linear Regression Data\n",
    "communication_linear_regression <- lm(q3_positive ~ as.factor(income_quintile), data = regression_data, na.action = na.exclude)\n",
    "summary(communication_linear_regression)"
   ]
  },
  {
   "cell_type": "code",
   "execution_count": 6,
   "id": "d6d06573",
   "metadata": {
    "vscode": {
     "languageId": "r"
    }
   },
   "outputs": [
    {
     "data": {},
     "metadata": {},
     "output_type": "display_data"
    }
   ],
   "source": [
    "# Results table for Satisfaction Linear Regresion\n",
    "IRdisplay::display_html(export_summs( #Command to run\n",
    "             satisfaction_linear_regression, #Model object to include\n",
    "             model_info = TRUE, #Whether to add some additional model info, change to true if you want this additional info.\n",
    "             model_fit = TRUE, #Whether to add some additional model fit info, as above change to true if needed.\n",
    "             error_format = \"({conf.low}, {conf.high})\", #How to present the confidence intervals\n",
    "             coefs = c(\"SIMD Income Quintile 2\" = \"as.factor(income_quintile)2\",\n",
    "                       \"SIMD Income Quintile 3\" = \"as.factor(income_quintile)3\",\n",
    "                       \"SIMD Income Quintile 4\" = \"as.factor(income_quintile)4\",\n",
    "                       \"SIMD Income Quintile 5\" = \"as.factor(income_quintile)5\"), #What coefficients to include and the label to give it.\n",
    "             statistics = NULL, #Include all descriptive statistics\n",
    "             error_pos = \"same\", #Whether to include the confidence intervals on the 'same' row\n",
    "             number_format = 4, #how many decimal places to include decimal places \n",
    "             to.file = \"docx\", \n",
    "                 file.name = \"../figures/satisfaction_linear_regression_results.docx\")) #filename, location and file extension   "
   ]
  },
  {
   "cell_type": "code",
   "execution_count": 7,
   "id": "1327dbf4",
   "metadata": {
    "vscode": {
     "languageId": "r"
    }
   },
   "outputs": [
    {
     "data": {},
     "metadata": {},
     "output_type": "display_data"
    }
   ],
   "source": [
    "# Results table for Access Linear Regresion\n",
    "IRdisplay::display_html(export_summs( #Command to run\n",
    "             access_linear_regression, #Model object to include\n",
    "             model_info = TRUE, #Whether to add some additional model info, change to true if you want this additional info.\n",
    "             model_fit = TRUE, #Whether to add some additional model fit info, as above change to true if needed.\n",
    "             error_format = \"({conf.low}, {conf.high})\", #How to present the confidence intervals\n",
    "             coefs = c(\"SIMD Income Quintile 2\" = \"as.factor(income_quintile)2\",\n",
    "                       \"SIMD Income Quintile 3\" = \"as.factor(income_quintile)3\",\n",
    "                       \"SIMD Income Quintile 4\" = \"as.factor(income_quintile)4\",\n",
    "                       \"SIMD Income Quintile 5\" = \"as.factor(income_quintile)5\"), #What coefficients to include and the label to give it.\n",
    "             statistics = NULL, #Include all descriptive statistics\n",
    "             error_pos = \"same\", #Whether to include the confidence intervals on the 'same' row\n",
    "             number_format = 4, #how many decimal places to include decimal places \n",
    "             to.file = \"docx\", \n",
    "                 file.name = \"../figures/access_linear_regression_results.docx\")) #filename, location and file extension   "
   ]
  },
  {
   "cell_type": "code",
   "execution_count": 8,
   "id": "cdcbf623",
   "metadata": {
    "vscode": {
     "languageId": "r"
    }
   },
   "outputs": [
    {
     "data": {},
     "metadata": {},
     "output_type": "display_data"
    }
   ],
   "source": [
    "# Results table for Comminication Linear Regresion\n",
    "IRdisplay::display_html(export_summs( #Command to run\n",
    "             communication_linear_regression, #Model object to include\n",
    "             model_info = TRUE, #Whether to add some additional model info, change to true if you want this additional info.\n",
    "             model_fit = TRUE, #Whether to add some additional model fit info, as above change to true if needed.\n",
    "             error_format = \"({conf.low}, {conf.high})\", #How to present the confidence intervals\n",
    "             coefs = c(\"SIMD Income Quintile 2\" = \"as.factor(income_quintile)2\",\n",
    "                       \"SIMD Income Quintile 3\" = \"as.factor(income_quintile)3\",\n",
    "                       \"SIMD Income Quintile 4\" = \"as.factor(income_quintile)4\",\n",
    "                       \"SIMD Income Quintile 5\" = \"as.factor(income_quintile)5\"), #What coefficients to include and the label to give it.\n",
    "             statistics = NULL, #Include all descriptive statistics\n",
    "             error_pos = \"same\", #Whether to include the confidence intervals on the 'same' row\n",
    "             number_format = 4, #how many decimal places to include decimal places \n",
    "             to.file = \"docx\", \n",
    "                 file.name = \"../figures/comminication_linear_regression_results.docx\")) #filename, location and file extension   "
   ]
  },
  {
   "cell_type": "code",
   "execution_count": 9,
   "id": "6ae31a5a",
   "metadata": {
    "vscode": {
     "languageId": "r"
    }
   },
   "outputs": [
    {
     "data": {
      "text/plain": [
       "\n",
       "Call:\n",
       "lm(formula = q1_positive ~ as.factor(income_quintile) + age_distribution + \n",
       "    employment_rate + minority_pop + gender_distribution + as.factor(urban_rural), \n",
       "    data = regression_data, na.action = na.exclude)\n",
       "\n",
       "Residuals:\n",
       "    Min      1Q  Median      3Q     Max \n",
       "-57.786  -8.303   2.187  10.462  31.581 \n",
       "\n",
       "Coefficients:\n",
       "                             Estimate Std. Error t value Pr(>|t|)    \n",
       "(Intercept)                  60.04200   17.43583   3.444 0.000601 ***\n",
       "as.factor(income_quintile)2   0.56762    1.94057   0.293 0.769971    \n",
       "as.factor(income_quintile)3   4.86083    2.43214   1.999 0.045960 *  \n",
       "as.factor(income_quintile)4   7.08919    2.85608   2.482 0.013244 *  \n",
       "as.factor(income_quintile)5   8.59227    3.36948   2.550 0.010939 *  \n",
       "age_distribution              0.03191    0.12111   0.264 0.792209    \n",
       "employment_rate              15.24306   14.66831   1.039 0.299004    \n",
       "minority_pop                  0.27830    0.08019   3.471 0.000545 ***\n",
       "gender_distribution           0.19066    0.27959   0.682 0.495461    \n",
       "as.factor(urban_rural)Urban -12.38689    1.38974  -8.913  < 2e-16 ***\n",
       "---\n",
       "Signif. codes:  0 ‘***’ 0.001 ‘**’ 0.01 ‘*’ 0.05 ‘.’ 0.1 ‘ ’ 1\n",
       "\n",
       "Residual standard error: 14.64 on 883 degrees of freedom\n",
       "Multiple R-squared:  0.1486,\tAdjusted R-squared:  0.1399 \n",
       "F-statistic: 17.12 on 9 and 883 DF,  p-value: < 2.2e-16\n"
      ]
     },
     "metadata": {},
     "output_type": "display_data"
    },
    {
     "data": {
      "text/html": [
       "<table class=\"dataframe\">\n",
       "<caption>A matrix: 10 × 2 of type dbl</caption>\n",
       "<thead>\n",
       "\t<tr><th></th><th scope=col>2.5 %</th><th scope=col>97.5 %</th></tr>\n",
       "</thead>\n",
       "<tbody>\n",
       "\t<tr><th scope=row>(Intercept)</th><td> 25.82149988</td><td>94.2624952</td></tr>\n",
       "\t<tr><th scope=row>as.factor(income_quintile)2</th><td> -3.24104994</td><td> 4.3762940</td></tr>\n",
       "\t<tr><th scope=row>as.factor(income_quintile)3</th><td>  0.08737781</td><td> 9.6342850</td></tr>\n",
       "\t<tr><th scope=row>as.factor(income_quintile)4</th><td>  1.48370162</td><td>12.6946786</td></tr>\n",
       "\t<tr><th scope=row>as.factor(income_quintile)5</th><td>  1.97914532</td><td>15.2053959</td></tr>\n",
       "\t<tr><th scope=row>age_distribution</th><td> -0.20577525</td><td> 0.2696037</td></tr>\n",
       "\t<tr><th scope=row>employment_rate</th><td>-13.54576923</td><td>44.0318875</td></tr>\n",
       "\t<tr><th scope=row>minority_pop</th><td>  0.12091451</td><td> 0.4356849</td></tr>\n",
       "\t<tr><th scope=row>gender_distribution</th><td> -0.35807106</td><td> 0.7393870</td></tr>\n",
       "\t<tr><th scope=row>as.factor(urban_rural)Urban</th><td>-15.11446668</td><td>-9.6593066</td></tr>\n",
       "</tbody>\n",
       "</table>\n"
      ],
      "text/latex": [
       "A matrix: 10 × 2 of type dbl\n",
       "\\begin{tabular}{r|ll}\n",
       "  & 2.5 \\% & 97.5 \\%\\\\\n",
       "\\hline\n",
       "\t(Intercept) &  25.82149988 & 94.2624952\\\\\n",
       "\tas.factor(income\\_quintile)2 &  -3.24104994 &  4.3762940\\\\\n",
       "\tas.factor(income\\_quintile)3 &   0.08737781 &  9.6342850\\\\\n",
       "\tas.factor(income\\_quintile)4 &   1.48370162 & 12.6946786\\\\\n",
       "\tas.factor(income\\_quintile)5 &   1.97914532 & 15.2053959\\\\\n",
       "\tage\\_distribution &  -0.20577525 &  0.2696037\\\\\n",
       "\temployment\\_rate & -13.54576923 & 44.0318875\\\\\n",
       "\tminority\\_pop &   0.12091451 &  0.4356849\\\\\n",
       "\tgender\\_distribution &  -0.35807106 &  0.7393870\\\\\n",
       "\tas.factor(urban\\_rural)Urban & -15.11446668 & -9.6593066\\\\\n",
       "\\end{tabular}\n"
      ],
      "text/markdown": [
       "\n",
       "A matrix: 10 × 2 of type dbl\n",
       "\n",
       "| <!--/--> | 2.5 % | 97.5 % |\n",
       "|---|---|---|\n",
       "| (Intercept) |  25.82149988 | 94.2624952 |\n",
       "| as.factor(income_quintile)2 |  -3.24104994 |  4.3762940 |\n",
       "| as.factor(income_quintile)3 |   0.08737781 |  9.6342850 |\n",
       "| as.factor(income_quintile)4 |   1.48370162 | 12.6946786 |\n",
       "| as.factor(income_quintile)5 |   1.97914532 | 15.2053959 |\n",
       "| age_distribution |  -0.20577525 |  0.2696037 |\n",
       "| employment_rate | -13.54576923 | 44.0318875 |\n",
       "| minority_pop |   0.12091451 |  0.4356849 |\n",
       "| gender_distribution |  -0.35807106 |  0.7393870 |\n",
       "| as.factor(urban_rural)Urban | -15.11446668 | -9.6593066 |\n",
       "\n"
      ],
      "text/plain": [
       "                            2.5 %        97.5 %    \n",
       "(Intercept)                  25.82149988 94.2624952\n",
       "as.factor(income_quintile)2  -3.24104994  4.3762940\n",
       "as.factor(income_quintile)3   0.08737781  9.6342850\n",
       "as.factor(income_quintile)4   1.48370162 12.6946786\n",
       "as.factor(income_quintile)5   1.97914532 15.2053959\n",
       "age_distribution             -0.20577525  0.2696037\n",
       "employment_rate             -13.54576923 44.0318875\n",
       "minority_pop                  0.12091451  0.4356849\n",
       "gender_distribution          -0.35807106  0.7393870\n",
       "as.factor(urban_rural)Urban -15.11446668 -9.6593066"
      ]
     },
     "metadata": {},
     "output_type": "display_data"
    },
    {
     "data": {
      "text/html": [
       "7422.53077134381"
      ],
      "text/latex": [
       "7422.53077134381"
      ],
      "text/markdown": [
       "7422.53077134381"
      ],
      "text/plain": [
       "[1] 7422.531"
      ]
     },
     "metadata": {},
     "output_type": "display_data"
    },
    {
     "data": {
      "text/html": [
       "7339.25971377475"
      ],
      "text/latex": [
       "7339.25971377475"
      ],
      "text/markdown": [
       "7339.25971377475"
      ],
      "text/plain": [
       "[1] 7339.26"
      ]
     },
     "metadata": {},
     "output_type": "display_data"
    }
   ],
   "source": [
    "# Run multiple linear regression for q1\n",
    "mlr_satisfaction_fct <- \n",
    "    lm(q1_positive ~ as.factor(income_quintile) +\n",
    "       age_distribution +\n",
    "       employment_rate +\n",
    "       minority_pop +\n",
    "       gender_distribution +\n",
    "       as.factor(urban_rural),\n",
    "       data = regression_data, \n",
    "       na.action = na.exclude)\n",
    "\n",
    "# CIF removed as determined an insufficient proxy\n",
    "\n",
    "summary(mlr_satisfaction_fct)\n",
    "confint(mlr_satisfaction_fct)\n",
    "# Lower AIC is better model fit\n",
    "AIC(satisfaction_linear_regression)\n",
    "AIC(mlr_satisfaction_fct)"
   ]
  },
  {
   "cell_type": "code",
   "execution_count": 10,
   "id": "1461767b",
   "metadata": {
    "vscode": {
     "languageId": "r"
    }
   },
   "outputs": [
    {
     "data": {},
     "metadata": {},
     "output_type": "display_data"
    }
   ],
   "source": [
    "# Results table for Satisfaction Multiple Regresion\n",
    "IRdisplay::display_html(export_summs( #Command to run\n",
    "             mlr_satisfaction_fct, #Model object to include\n",
    "             model_info = TRUE, #Whether to add some additional model info, change to true if you want this additional info.\n",
    "             model_fit = TRUE, #Whether to add some additional model fit info, as above change to true if needed.\n",
    "             error_format = \"({conf.low}, {conf.high})\", #How to present the confidence intervals\n",
    "             coefs = c(\"SIMD Income Quintile 2\" = \"as.factor(income_quintile)2\",\n",
    "                       \"SIMD Income Quintile 3\" = \"as.factor(income_quintile)3\",\n",
    "                       \"SIMD Income Quintile 4\" = \"as.factor(income_quintile)4\",\n",
    "                       \"SIMD Income Quintile 5\" = \"as.factor(income_quintile)5\",\n",
    "                       \"Working Age Percentage\" = \"age_distribution\",\n",
    "                       \"Percentage Employed\" = \"employment_rate\",\n",
    "                       \"Minority Percentage\" = \"minority_pop\",\n",
    "                       \"Percentage Female\" = \"gender_distribution\",\n",
    "                       \"Urban Location\" = \"as.factor(urban_rural)Urban\"), #What coefficients to include and the label to give it.\n",
    "             statistics = NULL, #Include all descriptive statistics\n",
    "             error_pos = \"same\", #Whether to include the confidence intervals on the 'same' row\n",
    "             number_format = 4, #how many decimal places to include decimal places \n",
    "             to.file = \"docx\", \n",
    "                 file.name = \"../figures/satisfaction_multiple_regression_results.docx\")) #filename, location and file extension   "
   ]
  },
  {
   "cell_type": "code",
   "execution_count": 11,
   "id": "d21e2572",
   "metadata": {
    "vscode": {
     "languageId": "r"
    }
   },
   "outputs": [
    {
     "data": {
      "text/plain": [
       "\n",
       "Call:\n",
       "lm(formula = q2_positive ~ as.factor(income_quintile) + age_distribution + \n",
       "    employment_rate + minority_pop + gender_distribution + as.factor(urban_rural), \n",
       "    data = regression_data, na.action = na.exclude)\n",
       "\n",
       "Residuals:\n",
       "    Min      1Q  Median      3Q     Max \n",
       "-43.865  -5.040   2.042   6.948  17.843 \n",
       "\n",
       "Coefficients:\n",
       "                            Estimate Std. Error t value Pr(>|t|)    \n",
       "(Intercept)                 78.75053   11.50156   6.847 1.41e-11 ***\n",
       "as.factor(income_quintile)2 -0.14015    1.28010  -0.109    0.913    \n",
       "as.factor(income_quintile)3  1.10917    1.60436   0.691    0.490    \n",
       "as.factor(income_quintile)4  0.56058    1.88401   0.298    0.766    \n",
       "as.factor(income_quintile)5  0.98716    2.22268   0.444    0.657    \n",
       "age_distribution            -0.07379    0.07989  -0.924    0.356    \n",
       "employment_rate              6.01437    9.67597   0.622    0.534    \n",
       "minority_pop                 0.03304    0.05290   0.625    0.532    \n",
       "gender_distribution          0.29447    0.18443   1.597    0.111    \n",
       "as.factor(urban_rural)Urban -5.48925    0.91674  -5.988 3.09e-09 ***\n",
       "---\n",
       "Signif. codes:  0 ‘***’ 0.001 ‘**’ 0.01 ‘*’ 0.05 ‘.’ 0.1 ‘ ’ 1\n",
       "\n",
       "Residual standard error: 9.657 on 883 degrees of freedom\n",
       "Multiple R-squared:  0.07071,\tAdjusted R-squared:  0.06123 \n",
       "F-statistic: 7.465 on 9 and 883 DF,  p-value: 1.44e-10\n"
      ]
     },
     "metadata": {},
     "output_type": "display_data"
    },
    {
     "data": {
      "text/html": [
       "<table class=\"dataframe\">\n",
       "<caption>A matrix: 10 × 2 of type dbl</caption>\n",
       "<thead>\n",
       "\t<tr><th></th><th scope=col>2.5 %</th><th scope=col>97.5 %</th></tr>\n",
       "</thead>\n",
       "<tbody>\n",
       "\t<tr><th scope=row>(Intercept)</th><td> 56.17694942</td><td>101.32411622</td></tr>\n",
       "\t<tr><th scope=row>as.factor(income_quintile)2</th><td> -2.65254458</td><td>  2.37224353</td></tr>\n",
       "\t<tr><th scope=row>as.factor(income_quintile)3</th><td> -2.03964528</td><td>  4.25798100</td></tr>\n",
       "\t<tr><th scope=row>as.factor(income_quintile)4</th><td> -3.13708898</td><td>  4.25824249</td></tr>\n",
       "\t<tr><th scope=row>as.factor(income_quintile)5</th><td> -3.37519078</td><td>  5.34951783</td></tr>\n",
       "\t<tr><th scope=row>age_distribution</th><td> -0.23057823</td><td>  0.08300592</td></tr>\n",
       "\t<tr><th scope=row>employment_rate</th><td>-12.97620410</td><td> 25.00495122</td></tr>\n",
       "\t<tr><th scope=row>minority_pop</th><td> -0.07078168</td><td>  0.13685693</td></tr>\n",
       "\t<tr><th scope=row>gender_distribution</th><td> -0.06749745</td><td>  0.65644180</td></tr>\n",
       "\t<tr><th scope=row>as.factor(urban_rural)Urban</th><td> -7.28849697</td><td> -3.68999547</td></tr>\n",
       "</tbody>\n",
       "</table>\n"
      ],
      "text/latex": [
       "A matrix: 10 × 2 of type dbl\n",
       "\\begin{tabular}{r|ll}\n",
       "  & 2.5 \\% & 97.5 \\%\\\\\n",
       "\\hline\n",
       "\t(Intercept) &  56.17694942 & 101.32411622\\\\\n",
       "\tas.factor(income\\_quintile)2 &  -2.65254458 &   2.37224353\\\\\n",
       "\tas.factor(income\\_quintile)3 &  -2.03964528 &   4.25798100\\\\\n",
       "\tas.factor(income\\_quintile)4 &  -3.13708898 &   4.25824249\\\\\n",
       "\tas.factor(income\\_quintile)5 &  -3.37519078 &   5.34951783\\\\\n",
       "\tage\\_distribution &  -0.23057823 &   0.08300592\\\\\n",
       "\temployment\\_rate & -12.97620410 &  25.00495122\\\\\n",
       "\tminority\\_pop &  -0.07078168 &   0.13685693\\\\\n",
       "\tgender\\_distribution &  -0.06749745 &   0.65644180\\\\\n",
       "\tas.factor(urban\\_rural)Urban &  -7.28849697 &  -3.68999547\\\\\n",
       "\\end{tabular}\n"
      ],
      "text/markdown": [
       "\n",
       "A matrix: 10 × 2 of type dbl\n",
       "\n",
       "| <!--/--> | 2.5 % | 97.5 % |\n",
       "|---|---|---|\n",
       "| (Intercept) |  56.17694942 | 101.32411622 |\n",
       "| as.factor(income_quintile)2 |  -2.65254458 |   2.37224353 |\n",
       "| as.factor(income_quintile)3 |  -2.03964528 |   4.25798100 |\n",
       "| as.factor(income_quintile)4 |  -3.13708898 |   4.25824249 |\n",
       "| as.factor(income_quintile)5 |  -3.37519078 |   5.34951783 |\n",
       "| age_distribution |  -0.23057823 |   0.08300592 |\n",
       "| employment_rate | -12.97620410 |  25.00495122 |\n",
       "| minority_pop |  -0.07078168 |   0.13685693 |\n",
       "| gender_distribution |  -0.06749745 |   0.65644180 |\n",
       "| as.factor(urban_rural)Urban |  -7.28849697 |  -3.68999547 |\n",
       "\n"
      ],
      "text/plain": [
       "                            2.5 %        97.5 %      \n",
       "(Intercept)                  56.17694942 101.32411622\n",
       "as.factor(income_quintile)2  -2.65254458   2.37224353\n",
       "as.factor(income_quintile)3  -2.03964528   4.25798100\n",
       "as.factor(income_quintile)4  -3.13708898   4.25824249\n",
       "as.factor(income_quintile)5  -3.37519078   5.34951783\n",
       "age_distribution             -0.23057823   0.08300592\n",
       "employment_rate             -12.97620410  25.00495122\n",
       "minority_pop                 -0.07078168   0.13685693\n",
       "gender_distribution          -0.06749745   0.65644180\n",
       "as.factor(urban_rural)Urban  -7.28849697  -3.68999547"
      ]
     },
     "metadata": {},
     "output_type": "display_data"
    },
    {
     "data": {
      "text/html": [
       "6642.53522284342"
      ],
      "text/latex": [
       "6642.53522284342"
      ],
      "text/markdown": [
       "6642.53522284342"
      ],
      "text/plain": [
       "[1] 6642.535"
      ]
     },
     "metadata": {},
     "output_type": "display_data"
    },
    {
     "data": {
      "text/html": [
       "6596.20430071602"
      ],
      "text/latex": [
       "6596.20430071602"
      ],
      "text/markdown": [
       "6596.20430071602"
      ],
      "text/plain": [
       "[1] 6596.204"
      ]
     },
     "metadata": {},
     "output_type": "display_data"
    }
   ],
   "source": [
    "# Run multiple linear regression for q2\n",
    "mlr_access_fct <- \n",
    "    lm(q2_positive ~ as.factor(income_quintile) +\n",
    "       age_distribution +\n",
    "       employment_rate +\n",
    "       minority_pop +\n",
    "       gender_distribution +\n",
    "       as.factor(urban_rural),\n",
    "       data = regression_data, \n",
    "       na.action = na.exclude)\n",
    "\n",
    "# CIF removed as determined an insufficient proxy\n",
    "\n",
    "summary(mlr_access_fct)\n",
    "confint(mlr_access_fct)\n",
    "# Lower AIC is better model fit\n",
    "AIC(access_linear_regression)\n",
    "AIC(mlr_access_fct)"
   ]
  },
  {
   "cell_type": "code",
   "execution_count": 12,
   "id": "e6f7972d",
   "metadata": {
    "vscode": {
     "languageId": "r"
    }
   },
   "outputs": [
    {
     "data": {},
     "metadata": {},
     "output_type": "display_data"
    }
   ],
   "source": [
    "# Results table for Access Multiple Regresion\n",
    "IRdisplay::display_html(export_summs( #Command to run\n",
    "             mlr_access_fct, #Model object to include\n",
    "             model_info = TRUE, #Whether to add some additional model info, change to true if you want this additional info.\n",
    "             model_fit = TRUE, #Whether to add some additional model fit info, as above change to true if needed.\n",
    "             error_format = \"({conf.low}, {conf.high})\", #How to present the confidence intervals\n",
    "             coefs = c(\"SIMD Income Quintile 2\" = \"as.factor(income_quintile)2\",\n",
    "                       \"SIMD Income Quintile 3\" = \"as.factor(income_quintile)3\",\n",
    "                       \"SIMD Income Quintile 4\" = \"as.factor(income_quintile)4\",\n",
    "                       \"SIMD Income Quintile 5\" = \"as.factor(income_quintile)5\",\n",
    "                       \"Working Age Percentage\" = \"age_distribution\",\n",
    "                       \"Percentage Employed\" = \"employment_rate\",\n",
    "                       \"Minority Percentage\" = \"minority_pop\",\n",
    "                       \"Percentage Female\" = \"gender_distribution\",\n",
    "                       \"Urban Location\" = \"as.factor(urban_rural)Urban\"), #What coefficients to include and the label to give it.\n",
    "             statistics = NULL, #Include all descriptive statistics\n",
    "             error_pos = \"same\", #Whether to include the confidence intervals on the 'same' row\n",
    "             number_format = 4, #how many decimal places to include decimal places \n",
    "             to.file = \"docx\", \n",
    "                 file.name = \"../figures/access_multiple_regression_results.docx\")) #filename, location and file extension   "
   ]
  },
  {
   "cell_type": "code",
   "execution_count": 13,
   "id": "d432384c",
   "metadata": {
    "vscode": {
     "languageId": "r"
    }
   },
   "outputs": [
    {
     "data": {
      "text/plain": [
       "\n",
       "Call:\n",
       "lm(formula = q3_positive ~ as.factor(income_quintile) + age_distribution + \n",
       "    employment_rate + minority_pop + gender_distribution + as.factor(urban_rural), \n",
       "    data = regression_data, na.action = na.exclude)\n",
       "\n",
       "Residuals:\n",
       "    Min      1Q  Median      3Q     Max \n",
       "-30.788  -3.917   1.228   4.792  15.561 \n",
       "\n",
       "Coefficients:\n",
       "                            Estimate Std. Error t value Pr(>|t|)    \n",
       "(Intercept)                 78.40155    8.29628   9.450  < 2e-16 ***\n",
       "as.factor(income_quintile)2  0.72839    0.92336   0.789  0.43041    \n",
       "as.factor(income_quintile)3  2.27868    1.15726   1.969  0.04926 *  \n",
       "as.factor(income_quintile)4  3.61646    1.35897   2.661  0.00793 ** \n",
       "as.factor(income_quintile)5  4.38909    1.60326   2.738  0.00631 ** \n",
       "age_distribution            -0.09219    0.05762  -1.600  0.10999    \n",
       "employment_rate              5.68217    6.97944   0.814  0.41579    \n",
       "minority_pop                 0.15062    0.03816   3.947 8.53e-05 ***\n",
       "gender_distribution          0.28650    0.13303   2.154  0.03154 *  \n",
       "as.factor(urban_rural)Urban -4.45381    0.66126  -6.735 2.95e-11 ***\n",
       "---\n",
       "Signif. codes:  0 ‘***’ 0.001 ‘**’ 0.01 ‘*’ 0.05 ‘.’ 0.1 ‘ ’ 1\n",
       "\n",
       "Residual standard error: 6.966 on 883 degrees of freedom\n",
       "Multiple R-squared:  0.1301,\tAdjusted R-squared:  0.1212 \n",
       "F-statistic: 14.67 on 9 and 883 DF,  p-value: < 2.2e-16\n"
      ]
     },
     "metadata": {},
     "output_type": "display_data"
    },
    {
     "data": {
      "text/html": [
       "<table class=\"dataframe\">\n",
       "<caption>A matrix: 10 × 2 of type dbl</caption>\n",
       "<thead>\n",
       "\t<tr><th></th><th scope=col>2.5 %</th><th scope=col>97.5 %</th></tr>\n",
       "</thead>\n",
       "<tbody>\n",
       "\t<tr><th scope=row>(Intercept)</th><td>62.118825003</td><td>94.68426811</td></tr>\n",
       "\t<tr><th scope=row>as.factor(income_quintile)2</th><td>-1.083847346</td><td> 2.54062044</td></tr>\n",
       "\t<tr><th scope=row>as.factor(income_quintile)3</th><td> 0.007387283</td><td> 4.54997555</td></tr>\n",
       "\t<tr><th scope=row>as.factor(income_quintile)4</th><td> 0.949267611</td><td> 6.28364989</td></tr>\n",
       "\t<tr><th scope=row>as.factor(income_quintile)5</th><td> 1.242448071</td><td> 7.53573338</td></tr>\n",
       "\t<tr><th scope=row>age_distribution</th><td>-0.205286638</td><td> 0.02090711</td></tr>\n",
       "\t<tr><th scope=row>employment_rate</th><td>-8.016071055</td><td>19.38040231</td></tr>\n",
       "\t<tr><th scope=row>minority_pop</th><td> 0.075730575</td><td> 0.22550394</td></tr>\n",
       "\t<tr><th scope=row>gender_distribution</th><td> 0.025403876</td><td> 0.54759395</td></tr>\n",
       "\t<tr><th scope=row>as.factor(urban_rural)Urban</th><td>-5.751640451</td><td>-3.15597822</td></tr>\n",
       "</tbody>\n",
       "</table>\n"
      ],
      "text/latex": [
       "A matrix: 10 × 2 of type dbl\n",
       "\\begin{tabular}{r|ll}\n",
       "  & 2.5 \\% & 97.5 \\%\\\\\n",
       "\\hline\n",
       "\t(Intercept) & 62.118825003 & 94.68426811\\\\\n",
       "\tas.factor(income\\_quintile)2 & -1.083847346 &  2.54062044\\\\\n",
       "\tas.factor(income\\_quintile)3 &  0.007387283 &  4.54997555\\\\\n",
       "\tas.factor(income\\_quintile)4 &  0.949267611 &  6.28364989\\\\\n",
       "\tas.factor(income\\_quintile)5 &  1.242448071 &  7.53573338\\\\\n",
       "\tage\\_distribution & -0.205286638 &  0.02090711\\\\\n",
       "\temployment\\_rate & -8.016071055 & 19.38040231\\\\\n",
       "\tminority\\_pop &  0.075730575 &  0.22550394\\\\\n",
       "\tgender\\_distribution &  0.025403876 &  0.54759395\\\\\n",
       "\tas.factor(urban\\_rural)Urban & -5.751640451 & -3.15597822\\\\\n",
       "\\end{tabular}\n"
      ],
      "text/markdown": [
       "\n",
       "A matrix: 10 × 2 of type dbl\n",
       "\n",
       "| <!--/--> | 2.5 % | 97.5 % |\n",
       "|---|---|---|\n",
       "| (Intercept) | 62.118825003 | 94.68426811 |\n",
       "| as.factor(income_quintile)2 | -1.083847346 |  2.54062044 |\n",
       "| as.factor(income_quintile)3 |  0.007387283 |  4.54997555 |\n",
       "| as.factor(income_quintile)4 |  0.949267611 |  6.28364989 |\n",
       "| as.factor(income_quintile)5 |  1.242448071 |  7.53573338 |\n",
       "| age_distribution | -0.205286638 |  0.02090711 |\n",
       "| employment_rate | -8.016071055 | 19.38040231 |\n",
       "| minority_pop |  0.075730575 |  0.22550394 |\n",
       "| gender_distribution |  0.025403876 |  0.54759395 |\n",
       "| as.factor(urban_rural)Urban | -5.751640451 | -3.15597822 |\n",
       "\n"
      ],
      "text/plain": [
       "                            2.5 %        97.5 %     \n",
       "(Intercept)                 62.118825003 94.68426811\n",
       "as.factor(income_quintile)2 -1.083847346  2.54062044\n",
       "as.factor(income_quintile)3  0.007387283  4.54997555\n",
       "as.factor(income_quintile)4  0.949267611  6.28364989\n",
       "as.factor(income_quintile)5  1.242448071  7.53573338\n",
       "age_distribution            -0.205286638  0.02090711\n",
       "employment_rate             -8.016071055 19.38040231\n",
       "minority_pop                 0.075730575  0.22550394\n",
       "gender_distribution          0.025403876  0.54759395\n",
       "as.factor(urban_rural)Urban -5.751640451 -3.15597822"
      ]
     },
     "metadata": {},
     "output_type": "display_data"
    },
    {
     "data": {
      "text/html": [
       "6072.682385001"
      ],
      "text/latex": [
       "6072.682385001"
      ],
      "text/markdown": [
       "6072.682385001"
      ],
      "text/plain": [
       "[1] 6072.682"
      ]
     },
     "metadata": {},
     "output_type": "display_data"
    },
    {
     "data": {
      "text/html": [
       "6012.76127155317"
      ],
      "text/latex": [
       "6012.76127155317"
      ],
      "text/markdown": [
       "6012.76127155317"
      ],
      "text/plain": [
       "[1] 6012.761"
      ]
     },
     "metadata": {},
     "output_type": "display_data"
    }
   ],
   "source": [
    "# Run multiple linear regression for q3\n",
    "mlr_communication_fct <- \n",
    "    lm(q3_positive ~ as.factor(income_quintile) +\n",
    "       age_distribution +\n",
    "       employment_rate +\n",
    "       minority_pop +\n",
    "       gender_distribution +\n",
    "       as.factor(urban_rural),\n",
    "       data = regression_data, \n",
    "       na.action = na.exclude)\n",
    "\n",
    "# CIF removed as determined an insufficient proxy\n",
    "\n",
    "summary(mlr_communication_fct)\n",
    "confint(mlr_communication_fct)\n",
    "# Lower AIC is better model fit\n",
    "AIC(communication_linear_regression)\n",
    "AIC(mlr_communication_fct)"
   ]
  },
  {
   "cell_type": "code",
   "execution_count": 14,
   "id": "c6d84f18",
   "metadata": {
    "vscode": {
     "languageId": "r"
    }
   },
   "outputs": [
    {
     "data": {},
     "metadata": {},
     "output_type": "display_data"
    }
   ],
   "source": [
    "# Results table for Communication Multiple Regresion\n",
    "IRdisplay::display_html(export_summs( #Command to run\n",
    "             mlr_communication_fct, #Model object to include\n",
    "             model_info = TRUE, #Whether to add some additional model info, change to true if you want this additional info.\n",
    "             model_fit = TRUE, #Whether to add some additional model fit info, as above change to true if needed.\n",
    "             error_format = \"({conf.low}, {conf.high})\", #How to present the confidence intervals\n",
    "             coefs = c(\"SIMD Income Quintile 2\" = \"as.factor(income_quintile)2\",\n",
    "                       \"SIMD Income Quintile 3\" = \"as.factor(income_quintile)3\",\n",
    "                       \"SIMD Income Quintile 4\" = \"as.factor(income_quintile)4\",\n",
    "                       \"SIMD Income Quintile 5\" = \"as.factor(income_quintile)5\",\n",
    "                       \"Working Age Percentage\" = \"age_distribution\",\n",
    "                       \"Percentage Employed\" = \"employment_rate\",\n",
    "                       \"Minority Percentage\" = \"minority_pop\",\n",
    "                       \"Percentage Female\" = \"gender_distribution\",\n",
    "                       \"Urban Location\" = \"as.factor(urban_rural)Urban\"), #What coefficients to include and the label to give it.\n",
    "             statistics = NULL, #Include all descriptive statistics\n",
    "             error_pos = \"same\", #Whether to include the confidence intervals on the 'same' row\n",
    "             number_format = 4, #how many decimal places to include decimal places \n",
    "             to.file = \"docx\", \n",
    "                 file.name = \"../figures/communication_multiple_regression_results.docx\")) #filename, location and file extension   "
   ]
  },
  {
   "cell_type": "code",
   "execution_count": 15,
   "id": "f2985d40",
   "metadata": {
    "vscode": {
     "languageId": "r"
    }
   },
   "outputs": [
    {
     "data": {},
     "metadata": {},
     "output_type": "display_data"
    }
   ],
   "source": [
    "# Combining all 3 mlr models into one\n",
    "IRdisplay::display_html(export_summs(mlr_satisfaction_fct,\n",
    "                                     mlr_access_fct, \n",
    "                                     mlr_communication_fct, #\n",
    "             model_names = c(\"Satisfaction\", \"Access\", \"Communication\"),               \n",
    "             model_info = FALSE,\n",
    "             model_fit = FALSE, \n",
    "             error_format = \"[{conf.low}, {conf.high}]\",\n",
    "             coefs = c(\"SIMD Income Quintile 2\" = \"as.factor(income_quintile)2\",\n",
    "                       \"SIMD Income Quintile 3\" = \"as.factor(income_quintile)3\",\n",
    "                       \"SIMD Income Quintile 4\" = \"as.factor(income_quintile)4\",\n",
    "                       \"SIMD Income Quintile 5\" = \"as.factor(income_quintile)5\",\n",
    "                       \"Working Age Percentage\" = \"age_distribution\",\n",
    "                       \"Percentage Employed\" = \"employment_rate\",\n",
    "                       \"Minority Percentage\" = \"minority_pop\",\n",
    "                       \"Percentage Female\" = \"gender_distribution\",\n",
    "                       \"Urban Location\" = \"as.factor(urban_rural)Urban\"),\n",
    "             statistics = NULL,\n",
    "             error_pos = \"same\",\n",
    "             number_format = 2, #2 decimal places\n",
    "             to.file = \"docx\", file.name = \"../figures/combined_models.docx\"))    "
   ]
  },
  {
   "cell_type": "code",
   "execution_count": 16,
   "id": "efa4c7e2",
   "metadata": {
    "vscode": {
     "languageId": "r"
    }
   },
   "outputs": [
    {
     "data": {},
     "metadata": {},
     "output_type": "display_data"
    }
   ],
   "source": [
    "# Combining all 3 lr models into one\n",
    "IRdisplay::display_html(export_summs(satisfaction_linear_regression,\n",
    "                                     access_linear_regression, \n",
    "                                     communication_linear_regression, #\n",
    "             model_names = c(\"Satisfaction\", \"Access\", \"Communication\"),               \n",
    "             model_info = FALSE,\n",
    "             model_fit = FALSE, \n",
    "             error_format = \"[{conf.low}, {conf.high}]\",\n",
    "             coefs = c(\"SIMD Income Quintile 2\" = \"as.factor(income_quintile)2\",\n",
    "                       \"SIMD Income Quintile 3\" = \"as.factor(income_quintile)3\",\n",
    "                       \"SIMD Income Quintile 4\" = \"as.factor(income_quintile)4\",\n",
    "                       \"SIMD Income Quintile 5\" = \"as.factor(income_quintile)5\"),\n",
    "             statistics = NULL,\n",
    "             error_pos = \"same\",\n",
    "             number_format = 2, #2 decimal places\n",
    "             to.file = \"docx\", file.name = \"../figures/combined_models_linear.docx\"))    "
   ]
  },
  {
   "cell_type": "code",
   "execution_count": null,
   "id": "478e782d",
   "metadata": {
    "vscode": {
     "languageId": "r"
    }
   },
   "outputs": [],
   "source": []
  }
 ],
 "metadata": {
  "kernelspec": {
   "display_name": "R with Stan",
   "language": "R",
   "name": "ir"
  },
  "language_info": {
   "codemirror_mode": "r",
   "file_extension": ".r",
   "mimetype": "text/x-r-source",
   "name": "R",
   "pygments_lexer": "r",
   "version": "4.2.2"
  }
 },
 "nbformat": 4,
 "nbformat_minor": 5
}
